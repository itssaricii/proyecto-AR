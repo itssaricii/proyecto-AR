{
  "cells": [
    {
      "cell_type": "markdown",
      "metadata": {
        "id": "jUehXgCyIRdq"
      },
      "source": [
        "# Actividad - Proyecto práctico\n",
        "\n",
        "\n",
        "> La actividad se desarrollará en grupos pre-definidos de 2-3 alumnos. Se debe indicar los nombres en orden alfabético (de apellidos). Recordad que esta actividad se corresponde con un 30% de la nota final de la asignatura. Se debe entregar entregar el trabajo en la presente notebook.\n",
        "*   Alumno 1: de Antón Santiago, Sara\n",
        "*   Alumno 2: Sánchez La O, Benjamín C.\n",
        "*   Alumno 3:\n",
        "\n",
        "\n",
        "\n",
        "\n"
      ]
    },
    {
      "cell_type": "markdown",
      "metadata": {
        "id": "JwpYlnjWJhS9"
      },
      "source": [
        "---\n",
        "## **PARTE 1** - Instalación y requisitos previos\n",
        "\n",
        "> Las prácticas han sido preparadas para poder realizarse en el entorno de trabajo de Google Colab. Sin embargo, esta plataforma presenta ciertas incompatibilidades a la hora de visualizar la renderización en gym. Por ello, para obtener estas visualizaciones, se deberá trasladar el entorno de trabajo a local. Por ello, el presente dosier presenta instrucciones para poder trabajar en ambos entornos. Siga los siguientes pasos para un correcto funcionamiento:\n",
        "1.   **LOCAL:** Preparar el enviroment, siguiendo las intrucciones detalladas en la sección *1.1.Preparar enviroment*.\n",
        "2.  **AMBOS:** Modificar las variables \"mount\" y \"drive_mount\" a la carpeta de trabajo en drive en el caso de estar en Colab, y ejecturar la celda *1.2.Localizar entorno de trabajo*.\n",
        "3. **COLAB:** se deberá ejecutar las celdas correspondientes al montaje de la carpeta de trabajo en Drive. Esta corresponde a la sección *1.3.Montar carpeta de datos local*.\n",
        "4.  **AMBOS:** Instalar las librerías necesarias, siguiendo la sección *1.4.Instalar librerías necesarias*.\n"
      ]
    },
    {
      "cell_type": "markdown",
      "metadata": {
        "id": "RU2BPrK2JkP0"
      },
      "source": [
        "---\n",
        "### 1.1. Preparar enviroment (solo local)\n",
        "\n",
        "\n",
        "\n",
        "> Para preparar el entorno de trabajo en local, se han seguido los siguientes pasos:\n",
        "1. En Windows, puede ser necesario instalar las C++ Build Tools. Para ello, siga los siguientes pasos: https://towardsdatascience.com/how-to-install-openai-gym-in-a-windows-environment-338969e24d30.\n",
        "2. Instalar Anaconda\n",
        "3. Siguiendo el código que se presenta comentado en la próxima celda: Crear un enviroment, cambiar la ruta de trabajo, e instalar librerías básicas.\n",
        "\n",
        "\n",
        "```\n",
        "conda create --name miar_rl python=3.8\n",
        "conda activate miar_rl\n",
        "cd \"PATH_TO_FOLDER\"\n",
        "conda install git\n",
        "pip install jupyter\n",
        "```\n",
        "\n",
        "\n",
        "4. Abrir la notebook con *jupyter-notebook*.\n",
        "\n",
        "\n",
        "\n",
        "```\n",
        "jupyter-notebook\n",
        "```\n"
      ]
    },
    {
      "cell_type": "markdown",
      "metadata": {
        "id": "w-kixNPiJqTc"
      },
      "source": [
        "---\n",
        "### 1.2. Localizar entorno de trabajo: Google colab o local"
      ]
    },
    {
      "cell_type": "code",
      "execution_count": 1,
      "metadata": {
        "id": "S_YDFwZ-JscI",
        "tags": []
      },
      "outputs": [],
      "source": [
        "# ATENCIÓN!! Modificar ruta relativa a la práctica si es distinta (drive_root)\n",
        "mount='/content/gdrive'\n",
        "drive_root = mount + \"/My Drive/08_MIAR/actividades/proyecto practico\"\n",
        "\n",
        "try:\n",
        "  from google.colab import drive\n",
        "  IN_COLAB=True\n",
        "except:\n",
        "  IN_COLAB=False"
      ]
    },
    {
      "cell_type": "markdown",
      "metadata": {
        "id": "8Dp_a1iBJ0tf"
      },
      "source": [
        "---\n",
        "### 1.3. Montar carpeta de datos local (solo Colab)"
      ]
    },
    {
      "cell_type": "code",
      "execution_count": 2,
      "metadata": {
        "colab": {
          "base_uri": "https://localhost:8080/"
        },
        "id": "I6n7MIefJ21i",
        "outputId": "527ae52c-af34-4e67-ffa4-c9195657bd0c",
        "tags": []
      },
      "outputs": [
        {
          "output_type": "stream",
          "name": "stdout",
          "text": [
            "We're running Colab\n",
            "Colab: mounting Google drive on  /content/gdrive\n",
            "Mounted at /content/gdrive\n",
            "\n",
            "Colab: making sure  /content/gdrive/My Drive/08_MIAR/actividades/proyecto practico  exists.\n",
            "\n",
            "Colab: Changing directory to  /content/gdrive/My Drive/08_MIAR/actividades/proyecto practico\n",
            "/content/gdrive/My Drive/08_MIAR/actividades/proyecto practico\n",
            "Archivos en el directorio: \n",
            "['.ipynb_checkpoints', 'models']\n"
          ]
        }
      ],
      "source": [
        "# Switch to the directory on the Google Drive that you want to use\n",
        "import os\n",
        "if IN_COLAB:\n",
        "  print(\"We're running Colab\")\n",
        "\n",
        "  if IN_COLAB:\n",
        "    # Mount the Google Drive at mount\n",
        "    print(\"Colab: mounting Google drive on \", mount)\n",
        "\n",
        "    drive.mount(mount)\n",
        "\n",
        "    # Create drive_root if it doesn't exist\n",
        "    create_drive_root = True\n",
        "    if create_drive_root:\n",
        "      print(\"\\nColab: making sure \", drive_root, \" exists.\")\n",
        "      os.makedirs(drive_root, exist_ok=True)\n",
        "\n",
        "    # Change to the directory\n",
        "    print(\"\\nColab: Changing directory to \", drive_root)\n",
        "    %cd $drive_root\n",
        "# Verify we're in the correct working directory\n",
        "%pwd\n",
        "print(\"Archivos en el directorio: \")\n",
        "print(os.listdir())"
      ]
    },
    {
      "cell_type": "markdown",
      "metadata": {
        "id": "i1ZSL5bpJ560"
      },
      "source": [
        "---\n",
        "### 1.4. Instalar librerías necesarias"
      ]
    },
    {
      "cell_type": "code",
      "execution_count": null,
      "metadata": {
        "colab": {
          "base_uri": "https://localhost:8080/"
        },
        "id": "UbVRjvHCJ8UF",
        "outputId": "acac80c0-ce9f-41b3-af7d-159887d5ad20",
        "tags": []
      },
      "outputs": [
        {
          "output_type": "stream",
          "name": "stdout",
          "text": [
            "Collecting gym==0.17.3\n",
            "  Downloading gym-0.17.3.tar.gz (1.6 MB)\n",
            "\u001b[?25l     \u001b[90m━━━━━━━━━━━━━━━━━━━━━━━━━━━━━━━━━━━━━━━━\u001b[0m \u001b[32m0.0/1.6 MB\u001b[0m \u001b[31m?\u001b[0m eta \u001b[36m-:--:--\u001b[0m\r\u001b[2K     \u001b[91m━━━━\u001b[0m\u001b[90m╺\u001b[0m\u001b[90m━━━━━━━━━━━━━━━━━━━━━━━━━━━━━━━━━━━\u001b[0m \u001b[32m0.2/1.6 MB\u001b[0m \u001b[31m5.0 MB/s\u001b[0m eta \u001b[36m0:00:01\u001b[0m\r\u001b[2K     \u001b[91m━━━━━━━━━━━━━━━━━━━━━━━━━━━━━━━━━━━━━━\u001b[0m\u001b[90m╺\u001b[0m\u001b[90m━\u001b[0m \u001b[32m1.5/1.6 MB\u001b[0m \u001b[31m21.5 MB/s\u001b[0m eta \u001b[36m0:00:01\u001b[0m\r\u001b[2K     \u001b[90m━━━━━━━━━━━━━━━━━━━━━━━━━━━━━━━━━━━━━━━━\u001b[0m \u001b[32m1.6/1.6 MB\u001b[0m \u001b[31m17.7 MB/s\u001b[0m eta \u001b[36m0:00:00\u001b[0m\n",
            "\u001b[?25h  Preparing metadata (setup.py) ... \u001b[?25l\u001b[?25hdone\n",
            "Requirement already satisfied: scipy in /usr/local/lib/python3.11/dist-packages (from gym==0.17.3) (1.15.3)\n",
            "Requirement already satisfied: numpy>=1.10.4 in /usr/local/lib/python3.11/dist-packages (from gym==0.17.3) (2.0.2)\n",
            "Collecting pyglet<=1.5.0,>=1.4.0 (from gym==0.17.3)\n",
            "  Downloading pyglet-1.5.0-py2.py3-none-any.whl.metadata (7.6 kB)\n",
            "Collecting cloudpickle<1.7.0,>=1.2.0 (from gym==0.17.3)\n",
            "  Downloading cloudpickle-1.6.0-py3-none-any.whl.metadata (4.3 kB)\n",
            "Requirement already satisfied: future in /usr/local/lib/python3.11/dist-packages (from pyglet<=1.5.0,>=1.4.0->gym==0.17.3) (1.0.0)\n",
            "Downloading cloudpickle-1.6.0-py3-none-any.whl (23 kB)\n",
            "Downloading pyglet-1.5.0-py2.py3-none-any.whl (1.0 MB)\n",
            "\u001b[2K   \u001b[90m━━━━━━━━━━━━━━━━━━━━━━━━━━━━━━━━━━━━━━━━\u001b[0m \u001b[32m1.0/1.0 MB\u001b[0m \u001b[31m48.7 MB/s\u001b[0m eta \u001b[36m0:00:00\u001b[0m\n",
            "\u001b[?25hBuilding wheels for collected packages: gym\n",
            "  Building wheel for gym (setup.py) ... \u001b[?25l\u001b[?25hdone\n",
            "  Created wheel for gym: filename=gym-0.17.3-py3-none-any.whl size=1654617 sha256=1627b1d384022d9e1d1cb975a0d0e18e7cb34350da384b518b679fa29dc584c4\n",
            "  Stored in directory: /root/.cache/pip/wheels/07/8b/b7/570cb90b10f17e85ccb291ba1f04af41ec697745104a2263eb\n",
            "Successfully built gym\n",
            "Installing collected packages: pyglet, cloudpickle, gym\n",
            "  Attempting uninstall: cloudpickle\n",
            "    Found existing installation: cloudpickle 3.1.1\n",
            "    Uninstalling cloudpickle-3.1.1:\n",
            "      Successfully uninstalled cloudpickle-3.1.1\n",
            "  Attempting uninstall: gym\n",
            "    Found existing installation: gym 0.25.2\n",
            "    Uninstalling gym-0.25.2:\n",
            "      Successfully uninstalled gym-0.25.2\n",
            "\u001b[31mERROR: pip's dependency resolver does not currently take into account all the packages that are installed. This behaviour is the source of the following dependency conflicts.\n",
            "bigframes 2.6.0 requires cloudpickle>=2.0.0, but you have cloudpickle 1.6.0 which is incompatible.\n",
            "dask 2024.12.1 requires cloudpickle>=3.0.0, but you have cloudpickle 1.6.0 which is incompatible.\n",
            "distributed 2024.12.1 requires cloudpickle>=3.0.0, but you have cloudpickle 1.6.0 which is incompatible.\u001b[0m\u001b[31m\n",
            "\u001b[0mSuccessfully installed cloudpickle-1.6.0 gym-0.17.3 pyglet-1.5.0\n",
            "Collecting git+https://github.com/Kojoley/atari-py.git\n",
            "  Cloning https://github.com/Kojoley/atari-py.git to /tmp/pip-req-build-uroe0sfl\n",
            "  Running command git clone --filter=blob:none --quiet https://github.com/Kojoley/atari-py.git /tmp/pip-req-build-uroe0sfl\n",
            "  Resolved https://github.com/Kojoley/atari-py.git to commit 86a1e05c0a95e9e6233c3a413521fdb34ca8a089\n",
            "  Preparing metadata (setup.py) ... \u001b[?25l\u001b[?25hdone\n",
            "Requirement already satisfied: numpy in /usr/local/lib/python3.11/dist-packages (from atari-py==1.2.2) (2.0.2)\n",
            "Building wheels for collected packages: atari-py\n"
          ]
        }
      ],
      "source": [
        "# NO EJECUTAR EN SAGEMAKER (MIRAR EL README PARA CONFIGURAR EL ENTORNO)\n",
        "# AUNQUE DE FALLOS DE INSTALACIÓN LOS IMPORTS FUNCIONAN\n",
        "if IN_COLAB:\n",
        "  %pip install gym==0.17.3\n",
        "  %pip install git+https://github.com/Kojoley/atari-py.git\n",
        "  %pip install keras-rl2==1.0.5\n",
        "  %pip install tensorflow==2.12  #2.8\n",
        "else:\n",
        "  %pip install gym==0.17.3\n",
        "  %pip install git+https://github.com/Kojoley/atari-py.git\n",
        "  %pip install pyglet==1.5.0\n",
        "  %pip install h5py==3.1.0\n",
        "  %pip install Pillow==9.5.0\n",
        "  %pip install keras-rl2==1.0.5\n",
        "  %pip install Keras==2.2.4\n",
        "  %pip install tensorflow==2.5.3\n",
        "  %pip install torch==2.0.1\n",
        "  %pip install agents==1.4.0"
      ]
    },
    {
      "cell_type": "markdown",
      "metadata": {
        "id": "4hzP_5ZuGb2X"
      },
      "source": [
        "---\n",
        "## **PARTE 2**. Enunciado\n",
        "\n",
        "Consideraciones a tener en cuenta:\n",
        "\n",
        "- El entorno sobre el que trabajaremos será _SpaceInvaders-v0_ y el algoritmo que usaremos será _DQN_.\n",
        "\n",
        "- Para nuestro ejercicio, el requisito mínimo será alcanzado cuando el agente consiga una **media de recompensa por encima de 20 puntos en modo test**. Por ello, esta media de la recompensa se calculará a partir del código de test en la última celda del notebook.\n",
        "\n",
        "Este proyecto práctico consta de tres partes:\n",
        "\n",
        "1.   Implementar la red neuronal que se usará en la solución\n",
        "2.   Implementar las distintas piezas de la solución DQN\n",
        "3.   Justificar la respuesta en relación a los resultados obtenidos\n",
        "\n",
        "**Rúbrica**: Se valorará la originalidad en la solución aportada, así como la capacidad de discutir los resultados de forma detallada. El requisito mínimo servirá para aprobar la actividad, bajo premisa de que la discusión del resultado sera apropiada.\n",
        "\n",
        "IMPORTANTE:\n",
        "\n",
        "* Si no se consigue una puntuación óptima, responder sobre la mejor puntuación obtenida.\n",
        "* Para entrenamientos largos, recordad que podéis usar checkpoints de vuestros modelos para retomar los entrenamientos. En este caso, recordad cambiar los parámetros adecuadamente (sobre todo los relacionados con el proceso de exploración).\n",
        "* Se deberá entregar unicamente el notebook y los pesos del mejor modelo en un fichero .zip, de forma organizada.\n",
        "* Cada alumno deberá de subir la solución de forma individual."
      ]
    },
    {
      "cell_type": "markdown",
      "metadata": {
        "id": "6_b3mzw8IzJP"
      },
      "source": [
        "---\n",
        "## **PARTE 3**. Desarrollo y preguntas"
      ]
    },
    {
      "cell_type": "code",
      "execution_count": null,
      "metadata": {
        "tags": [],
        "id": "45BPUdIoB41o"
      },
      "outputs": [],
      "source": [
        "# DEFINIR AL PRINCIPIO\n",
        "try:\n",
        "  from google.colab import drive\n",
        "  IN_COLAB=True\n",
        "except:\n",
        "  IN_COLAB=False"
      ]
    },
    {
      "cell_type": "markdown",
      "metadata": {
        "id": "duPmUNOVGb2a"
      },
      "source": [
        "#### Importar librerías"
      ]
    },
    {
      "cell_type": "code",
      "execution_count": null,
      "metadata": {
        "id": "j3eRhgI-Gb2a",
        "tags": []
      },
      "outputs": [],
      "source": [
        "from __future__ import division\n",
        "\n",
        "from PIL import Image\n",
        "import numpy as np\n",
        "import gym\n",
        "import os\n",
        "import glob\n",
        "\n",
        "from tensorflow.keras.models import Sequential, Model\n",
        "from tensorflow.keras.layers import Dense, Activation, Flatten, Convolution2D, Permute, Input\n",
        "from tensorflow.keras.optimizers import Adam\n",
        "import tensorflow.keras.backend as K\n",
        "\n",
        "from rl.agents.dqn import DQNAgent\n",
        "from rl.policy import LinearAnnealedPolicy, BoltzmannQPolicy, EpsGreedyQPolicy\n",
        "from rl.memory import SequentialMemory\n",
        "from rl.core import Processor\n",
        "from rl.callbacks import FileLogger, ModelIntervalCheckpoint\n",
        "\n",
        "# AÑADIDO\n",
        "from tensorflow.keras.layers import Lambda, BatchNormalization\n",
        "from tensorflow.keras.callbacks import Callback\n",
        "import json\n",
        "import pandas as pd\n",
        "import matplotlib.pyplot as plt\n",
        "import csv"
      ]
    },
    {
      "cell_type": "markdown",
      "metadata": {
        "id": "f4jgQjzoGb2a"
      },
      "source": [
        "#### Configuración base"
      ]
    },
    {
      "cell_type": "code",
      "execution_count": null,
      "metadata": {
        "id": "jwOE6I_KGb2a",
        "tags": []
      },
      "outputs": [],
      "source": [
        "INPUT_SHAPE = (84, 84)\n",
        "WINDOW_LENGTH = 4\n",
        "\n",
        "env_name = 'SpaceInvaders-v0'\n",
        "env = gym.make(env_name)\n",
        "\n",
        "np.random.seed(123)\n",
        "env.seed(123)\n",
        "nb_actions = env.action_space.n"
      ]
    },
    {
      "cell_type": "code",
      "execution_count": null,
      "metadata": {
        "id": "9jGEZUcpGb2a",
        "tags": []
      },
      "outputs": [],
      "source": [
        "class AtariProcessor(Processor):\n",
        "    def process_observation(self, observation):\n",
        "        assert observation.ndim == 3  # (height, width, channel)\n",
        "        img = Image.fromarray(observation)\n",
        "        img = img.resize(INPUT_SHAPE).convert('L')\n",
        "        processed_observation = np.array(img)\n",
        "        assert processed_observation.shape == INPUT_SHAPE\n",
        "        return processed_observation.astype('uint8')\n",
        "\n",
        "    def process_state_batch(self, batch):\n",
        "        processed_batch = batch.astype('float32') / 255.\n",
        "        return processed_batch\n",
        "\n",
        "    def process_reward(self, reward):\n",
        "        return np.clip(reward, -1., 1.)"
      ]
    },
    {
      "cell_type": "code",
      "source": [
        "# HIPERPARÁMETROS POR DEFECTO\n",
        "hiperparametros = {\n",
        "    \"MEMORY_SIZE\": 1000000,\n",
        "    \"WARMUP_STEPS\": 50000,\n",
        "    \"SCHEDULER_STEPS\": 1000000,\n",
        "    \"GAMMA\": 0.99,\n",
        "    \"MODEL_UPDATE\": 10000,\n",
        "    \"LEARNING_RATE\": 0.00025,\n",
        "    \"MODEL_CHECKPOINT_STEPS\": 25000,\n",
        "    \"TRAIN_STEPS\": 1750000,\n",
        "    \"LOG_INTERVAL\": 10000,\n",
        "    \"DELTA_CLIP\": 1.0\n",
        "}"
      ],
      "metadata": {
        "id": "cZDLvSKdO-B3"
      },
      "execution_count": null,
      "outputs": []
    },
    {
      "cell_type": "code",
      "source": [
        "# ROOT PATH PARA LOS MODELOS Y SUS PESOS\n",
        "if IN_COLAB:\n",
        "  mount='/content/gdrive'\n",
        "  drive_root = mount + \"/My Drive/08_MIAR/actividades/proyecto practico\"\n",
        "  MODELS_DIR=drive_root+\"/models\"\n",
        "else:\n",
        "  MODELS_DIR=\"./models\"\n",
        "\n",
        "def get_dirs(model_name=\"modelo1\"):\n",
        "    WEIGHTS_DIR = os.path.join(MODELS_DIR, model_name, \"weights\")\n",
        "    CHECKPOINTS_DIR = os.path.join(MODELS_DIR, model_name, \"checkpoints\")\n",
        "    MODEL_DIR = os.path.join(MODELS_DIR, model_name)\n",
        "    os.makedirs(WEIGHTS_DIR, exist_ok=True)\n",
        "    os.makedirs(CHECKPOINTS_DIR, exist_ok=True)\n",
        "    return MODEL_DIR, WEIGHTS_DIR, CHECKPOINTS_DIR\n",
        "\n",
        "def save_hyperparams(modelo):\n",
        "    \"\"\"\n",
        "    Guarda los hiperparámetros actuales en el fichero JSON.\n",
        "    \"\"\"\n",
        "    hyper_file = os.path.join(MODELS_DIR, modelo, modelo + '.json')\n",
        "    with open(hyper_file, 'w') as f:\n",
        "        json.dump(hiperparametros, f, indent=4)\n",
        "    print(f\"[INFO] Hiperparámetros guardados en {hyper_file}\")\n",
        "\n",
        "\n",
        "def load_hyperparams(modelo):\n",
        "    \"\"\"\n",
        "    Actualiza los hiperparámetros definidos en memoria a los del fichero cargado.\n",
        "    Si el fichero no existe, lo crea con los valores por defecto (hiperparametros).\n",
        "    \"\"\"\n",
        "    hyper_file = os.path.join(MODELS_DIR, modelo, modelo + '.json')\n",
        "\n",
        "    # Crear el directorio del modelo si no existe\n",
        "    os.makedirs(os.path.dirname(hyper_file), exist_ok=True)\n",
        "\n",
        "    if not os.path.exists(hyper_file):\n",
        "        # Guardar el fichero con los hiperparámetros por defecto\n",
        "        with open(hyper_file, 'w') as f:\n",
        "            json.dump(hiperparametros, f, indent=4)\n",
        "\n",
        "        print(f\"[INFO] Fichero de hiperparámetros no encontrado. Creado por defecto en: {hyper_file}\")\n",
        "        params = hiperparametros\n",
        "    else:\n",
        "        # El fichero existe: lo leemos\n",
        "        with open(hyper_file, 'r') as f:\n",
        "            params = json.load(f)\n",
        "\n",
        "    # Asignar dinámicamente los valores\n",
        "    for key, value in params.items():\n",
        "        globals()[key] = value\n",
        "        hiperparametros[key] = value  # Actualiza el diccionario en memoria\n",
        "\n",
        "    print(f\"[INFO] Hiperparámetros cargados desde {hyper_file}\")"
      ],
      "metadata": {
        "id": "WRL-ixOyPIo7"
      },
      "execution_count": null,
      "outputs": []
    },
    {
      "cell_type": "code",
      "source": [
        "def graph_training(log_path, model_dir, model_name, variable='mean_q'):\n",
        "  with open(log_path) as f:\n",
        "    data = json.load(f)\n",
        "    print(len(data[variable]))\n",
        "    pd.DataFrame(data[variable]).plot(title=f\"{model_name}: Evolución - {variable}\", legend=False)\n",
        "    plt.xlabel('Steps')\n",
        "    plt.ylabel(str(variable))\n",
        "    plt.savefig(model_dir+\"/\"+ model_name + '_' + variable + '.png')\n",
        "\n",
        "def graph_training_csv(csv_path, model_dir, model_name, variable='episode_reward'):\n",
        "    df = pd.read_csv(csv_path)\n",
        "\n",
        "    if variable not in df.columns:\n",
        "        print(f\" La variable '{variable}' no está en el CSV. Columnas disponibles: {list(df.columns)}\")\n",
        "        return\n",
        "\n",
        "    df[variable].plot(title=f\"{model_name}: Evolución - {variable}\", legend=False)\n",
        "    plt.xlabel('Episodio')\n",
        "    plt.ylabel(variable)\n",
        "    plt.grid(True)\n",
        "    plt.savefig(os.path.join(model_dir, f\"{model_name}_{variable}.png\"))\n",
        "    plt.show()"
      ],
      "metadata": {
        "id": "c9KxgJ090eku"
      },
      "execution_count": null,
      "outputs": []
    },
    {
      "cell_type": "code",
      "source": [
        "# Clase para poder conservar el log antiguo que se sobreescribe cada vez que reinicia un nuevo training\n",
        "class EpisodeLoggerCSV(Callback):\n",
        "    def __init__(self, filepath):\n",
        "        super().__init__()\n",
        "        self.filepath = filepath\n",
        "        self.fields = ['episode', 'episode_reward', 'nb_steps', 'duration']\n",
        "        self.episode_count = 0\n",
        "        self.file = None\n",
        "        self.writer = None\n",
        "\n",
        "    def on_train_begin(self, logs=None):\n",
        "        # Abrir el archivo una vez al inicio del entrenamiento\n",
        "        file_exists = os.path.exists(self.filepath)\n",
        "        self.file = open(self.filepath, mode='a', newline='')\n",
        "        self.writer = csv.DictWriter(self.file, fieldnames=self.fields)\n",
        "        if not file_exists:\n",
        "            self.writer.writeheader()\n",
        "\n",
        "    def on_episode_end(self, episode, logs=None):\n",
        "        self.episode_count += 1\n",
        "        row = {\n",
        "            'episode': self.episode_count,\n",
        "            'episode_reward': logs.get('episode_reward'),\n",
        "            'nb_steps': logs.get('nb_steps'),\n",
        "            'duration': logs.get('duration')\n",
        "        }\n",
        "        self.writer.writerow(row)\n",
        "        self.file.flush()  # Asegura que se escriba en disco\n",
        "        #print(f\"[Log CSV] Episodio {self.episode_count} → Recompensa: {row['episode_reward']}\")\n",
        "\n",
        "    def on_train_end(self, logs=None):\n",
        "        # Cerrar el archivo al final\n",
        "        if self.file:\n",
        "            self.file.close()"
      ],
      "metadata": {
        "id": "qUOajl31fsW7"
      },
      "execution_count": null,
      "outputs": []
    },
    {
      "cell_type": "code",
      "execution_count": null,
      "metadata": {
        "tags": [],
        "id": "jqpjeC-6J9xP"
      },
      "outputs": [],
      "source": [
        "# ESTO ESTA DUPLICADO NECESARIO PONERLO COMO GENERAL?\n",
        "class AccumulatedCheckpoint(Callback):\n",
        "    def __init__(self, base_path, interval, initial_step=0):\n",
        "        super().__init__()\n",
        "        self.base_path = base_path\n",
        "        self.interval = interval\n",
        "        self.total_steps = initial_step\n",
        "        print(f\"Callback iniciado desde paso {self.total_steps}\")\n",
        "\n",
        "    def on_step_end(self, step, logs={}):\n",
        "        self.total_steps += 1\n",
        "        if self.total_steps % self.interval == 0:\n",
        "            filename = self.base_path.format(step=self.total_steps)\n",
        "            self.model.save_weights(filename, overwrite=True)\n",
        "            print(f\"\\n[Checkpoint] Guardado en paso {self.total_steps}: {filename}\")"
      ]
    },
    {
      "cell_type": "code",
      "execution_count": null,
      "metadata": {
        "tags": [],
        "id": "QEeBZCr1J9xP"
      },
      "outputs": [],
      "source": [
        "# ESTO DEBERIA SER UNA FUNCION PARA UTILIDADES\n",
        "def load_last_checkpoint():\n",
        "  # Buscar todos los checkpoints por su archivo .index\n",
        "  pattern = os.path.join(CHECKPOINTS_DIR, f'dqn_{env_name}_weights_*.h5f.index')\n",
        "  checkpoints = glob.glob(pattern)\n",
        "\n",
        "  # Valor por defecto si no se encuentra checkpoint\n",
        "  last_checkpoint_steps = 0\n",
        "\n",
        "  if checkpoints:\n",
        "      # Extraer el número de paso del nombre\n",
        "      def extract_step(filename):\n",
        "          try:\n",
        "              name = os.path.basename(filename)\n",
        "              step_part = name.split('_weights_')[1].replace('.h5f.index', '')\n",
        "              return int(step_part)\n",
        "          except:\n",
        "              return -1\n",
        "\n",
        "      # Seleccionar el checkpoint con mayor número de pasos\n",
        "      latest_index = max(checkpoints, key=extract_step)\n",
        "\n",
        "      # Quitar la extensión .index para obtener el nombre base\n",
        "      latest_checkpoint = latest_index.replace('.index', '')\n",
        "\n",
        "      print(f\"[DQN] Cargando último checkpoint: {latest_checkpoint}\")\n",
        "      dqn.load_weights(latest_checkpoint)\n",
        "\n",
        "      # Aquí extraemos los pasos acumulados\n",
        "      last_checkpoint_steps = extract_step(latest_index)\n",
        "  else:\n",
        "      print(\"[DQN] No se encontró ningún checkpoint, entrenamiento desde cero.\")\n",
        "  return last_checkpoint_steps"
      ]
    },
    {
      "cell_type": "markdown",
      "metadata": {
        "tags": [],
        "id": "RpVqx7bnJLKg"
      },
      "source": [
        "# MODELO 1"
      ]
    },
    {
      "cell_type": "markdown",
      "metadata": {
        "tags": [],
        "id": "8LLw2c6rJao8"
      },
      "source": [
        "### Red neuronal basada en el paper: https://arxiv.org/pdf/1312.5602"
      ]
    },
    {
      "cell_type": "markdown",
      "metadata": {
        "id": "8uEMcNQ45ISB"
      },
      "source": [
        "En el paper se implementa una red neuronal convolucional que tiene de entrada una pila de cuatro imágenes en escala de grises de 84×84. La red tiene de tres capas convolucionales: la 1ª con 32 filtros de 8×8 y un stride 4, la 2ª con 64 filtros de 4×4 y un stride 2, y la 3ª con 64 filtros de 3×3 y stride 1, todas con activación ReLU. Depués, las salidas se aplanan y se pasan por una una capa densa de 512 neuronas con activación ReLU, seguida de una capa de salida lineal con una neurona por cada acción posible, que son los valores Q predichos."
      ]
    },
    {
      "cell_type": "markdown",
      "metadata": {
        "id": "lD1zn2JI5ISB"
      },
      "source": [
        "#### Con las siguientes modificaciones:\n",
        "Se ha incorporado la normalización de las imágenes al rango 0-1, que como se ha visto en redes neuronales puede estabilizar mejor el entrenamiento. También, se han añadido capas de BatchNormalization porque también se ha estudiado en la misma asgnatura que acelera la convergencia y reduce el riesgo de que exploten los gradientes."
      ]
    },
    {
      "cell_type": "markdown",
      "metadata": {
        "id": "HT45Y6y25ISB"
      },
      "source": [
        "## DQN\n",
        "DQN implementado basándose en el github oficial de keras rl2: https://github.com/inarikami/keras-rl2/tree/master"
      ]
    },
    {
      "cell_type": "markdown",
      "metadata": {
        "id": "7yitXTADGb2b"
      },
      "source": [
        "1. Implementación de la red neuronal"
      ]
    },
    {
      "cell_type": "code",
      "execution_count": null,
      "metadata": {
        "id": "O4GKrfWSGb2b",
        "outputId": "c4e3ff66-4ad8-42eb-d3cd-9f39c8e54043",
        "tags": [],
        "colab": {
          "base_uri": "https://localhost:8080/"
        }
      },
      "outputs": [
        {
          "output_type": "stream",
          "name": "stdout",
          "text": [
            "Model: \"sequential_2\"\n",
            "_________________________________________________________________\n",
            " Layer (type)                Output Shape              Param #   \n",
            "=================================================================\n",
            " permute_2 (Permute)         (None, 84, 84, 4)         0         \n",
            "                                                                 \n",
            " lambda_2 (Lambda)           (None, 84, 84, 4)         0         \n",
            "                                                                 \n",
            " conv2d_6 (Conv2D)           (None, 20, 20, 32)        8224      \n",
            "                                                                 \n",
            " batch_normalization_6 (Batc  (None, 20, 20, 32)       128       \n",
            " hNormalization)                                                 \n",
            "                                                                 \n",
            " activation_10 (Activation)  (None, 20, 20, 32)        0         \n",
            "                                                                 \n",
            " conv2d_7 (Conv2D)           (None, 9, 9, 64)          32832     \n",
            "                                                                 \n",
            " batch_normalization_7 (Batc  (None, 9, 9, 64)         256       \n",
            " hNormalization)                                                 \n",
            "                                                                 \n",
            " activation_11 (Activation)  (None, 9, 9, 64)          0         \n",
            "                                                                 \n",
            " conv2d_8 (Conv2D)           (None, 7, 7, 64)          36928     \n",
            "                                                                 \n",
            " batch_normalization_8 (Batc  (None, 7, 7, 64)         256       \n",
            " hNormalization)                                                 \n",
            "                                                                 \n",
            " activation_12 (Activation)  (None, 7, 7, 64)          0         \n",
            "                                                                 \n",
            " flatten_2 (Flatten)         (None, 3136)              0         \n",
            "                                                                 \n",
            " dense_4 (Dense)             (None, 512)               1606144   \n",
            "                                                                 \n",
            " activation_13 (Activation)  (None, 512)               0         \n",
            "                                                                 \n",
            " dense_5 (Dense)             (None, 6)                 3078      \n",
            "                                                                 \n",
            " activation_14 (Activation)  (None, 6)                 0         \n",
            "                                                                 \n",
            "=================================================================\n",
            "Total params: 1,687,846\n",
            "Trainable params: 1,687,526\n",
            "Non-trainable params: 320\n",
            "_________________________________________________________________\n"
          ]
        }
      ],
      "source": [
        "model_name=\"modelo1\"\n",
        "\n",
        "model = Sequential()\n",
        "\n",
        "input_shape = (WINDOW_LENGTH,) + INPUT_SHAPE\n",
        "\n",
        "# Rorganizar las imágenes para que el window length quede en la dimensión de los canales\n",
        "if K.image_data_format() == 'channels_last':\n",
        "    model.add(Permute((2, 3, 1), input_shape=input_shape))  # (4, H, W) → (H, W, 4)\n",
        "elif K.image_data_format() == 'channels_first':\n",
        "    model.add(Permute((1, 2, 3), input_shape=input_shape))\n",
        "else:\n",
        "    raise RuntimeError('Unknown image_dim_ordering.')\n",
        "\n",
        "# Normalizar los valores de píxeles\n",
        "model.add(Lambda(lambda x: x / 255.0))\n",
        "\n",
        "# Primera capa convolucional\n",
        "model.add(Convolution2D(32, (8, 8), strides=(4, 4)))\n",
        "model.add(BatchNormalization())\n",
        "model.add(Activation('relu'))\n",
        "\n",
        "# Segunda\n",
        "model.add(Convolution2D(64, (4, 4), strides=(2, 2)))\n",
        "model.add(BatchNormalization())\n",
        "model.add(Activation('relu'))\n",
        "\n",
        "# Tercera\n",
        "model.add(Convolution2D(64, (3, 3), strides=(1, 1)))\n",
        "model.add(BatchNormalization())\n",
        "model.add(Activation('relu'))\n",
        "\n",
        "# Densas\n",
        "model.add(Flatten())\n",
        "model.add(Dense(512))\n",
        "model.add(Activation('relu'))\n",
        "\n",
        "# Salida con el número de acciones\n",
        "model.add(Dense(nb_actions))\n",
        "model.add(Activation('linear'))\n",
        "\n",
        "model.summary()"
      ]
    },
    {
      "cell_type": "markdown",
      "metadata": {
        "id": "OB9-_5HPGb2b"
      },
      "source": [
        "2. Implementación de la solución DQN"
      ]
    },
    {
      "cell_type": "code",
      "source": [
        "# GENERACIÓN O CARGA MODELO\n",
        "MODEL_DIR, WEIGHTS_DIR, CHECKPOINTS_DIR = get_dirs(model_name)\n",
        "# save_hyperparams(HYPERPARAMETERS_DIR, filename=model_name+\".json\")\n",
        "load_hyperparams(model_name)"
      ],
      "metadata": {
        "colab": {
          "base_uri": "https://localhost:8080/"
        },
        "id": "JxBLemXQQam3",
        "outputId": "b47f9f01-88fc-49de-ae5e-bced38d3b66e"
      },
      "execution_count": null,
      "outputs": [
        {
          "output_type": "stream",
          "name": "stdout",
          "text": [
            "Hiperparámetros cargados desde /content/gdrive/My Drive/08_MIAR/actividades/proyecto practico/models/modelo1/modelo1.json\n"
          ]
        }
      ]
    },
    {
      "cell_type": "code",
      "execution_count": null,
      "metadata": {
        "id": "foSlxWH1Gb2b",
        "tags": []
      },
      "outputs": [],
      "source": [
        "memory = SequentialMemory(limit=MEMORY_SIZE, window_length=WINDOW_LENGTH)\n",
        "processor = AtariProcessor()\n",
        "policy = LinearAnnealedPolicy(EpsGreedyQPolicy(), attr='eps',\n",
        "                              value_max=1., value_min=.1,\n",
        "                              value_test=.05,\n",
        "                              nb_steps=SCHEDULER_STEPS)"
      ]
    },
    {
      "cell_type": "code",
      "execution_count": null,
      "metadata": {
        "id": "G6mWUNNi5ISE",
        "tags": []
      },
      "outputs": [],
      "source": [
        "dqn = DQNAgent(model=model,\n",
        "               nb_actions=nb_actions,\n",
        "               policy=policy,\n",
        "               memory=memory,\n",
        "               processor=processor,\n",
        "               nb_steps_warmup=WARMUP_STEPS,\n",
        "               gamma=GAMMA,\n",
        "               target_model_update=MODEL_UPDATE,\n",
        "               train_interval=4,\n",
        "               delta_clip=DELTA_CLIP)\n",
        "\n",
        "if IN_COLAB:\n",
        "    # Parche para evitar el error 'get_updates' que ya no existe\n",
        "    def patched_get_updates(self, loss, params):\n",
        "        return []\n",
        "    Adam.get_updates = patched_get_updates\n",
        "\n",
        "dqn.compile(Adam(learning_rate=LEARNING_RATE), metrics=['mae'])"
      ]
    },
    {
      "cell_type": "code",
      "execution_count": null,
      "metadata": {
        "tags": [],
        "id": "SimAGVrKB41q"
      },
      "outputs": [],
      "source": [
        "class AccumulatedCheckpoint(Callback):\n",
        "    def __init__(self, base_path, interval, initial_step=0):\n",
        "        super().__init__()\n",
        "        self.base_path = base_path\n",
        "        self.interval = interval\n",
        "        self.total_steps = initial_step\n",
        "        print(f\"Callback iniciado desde paso {self.total_steps}\")\n",
        "\n",
        "    def on_step_end(self, step, logs={}):\n",
        "        self.total_steps += 1\n",
        "        if self.total_steps % self.interval == 0:\n",
        "            filename = self.base_path.format(step=self.total_steps)\n",
        "            self.model.save_weights(filename, overwrite=True)\n",
        "            print(f\"\\n[Checkpoint] Guardado en paso {self.total_steps}: {filename}\")"
      ]
    },
    {
      "cell_type": "code",
      "source": [
        "weights_filename = os.path.join(WEIGHTS_DIR, 'dqn_{}_weights_{}.h5f'.format(env_name, model_name))\n",
        "checkpoint_weights_filename = os.path.join(CHECKPOINTS_DIR, 'dqn_' + env_name + '_weights_{step}.h5f')\n",
        "log_filename =os.path.join(MODEL_DIR, 'dqn_{}_log_{}.json'.format(env_name, model_name))\n",
        "log_csv_path = os.path.join(MODEL_DIR, f'{model_name}_training_log.csv')\n"
      ],
      "metadata": {
        "id": "TxfFDyGzS3_K"
      },
      "execution_count": null,
      "outputs": []
    },
    {
      "cell_type": "code",
      "execution_count": null,
      "metadata": {
        "outputId": "145d6c44-fadc-4128-b06b-11b31f74ae1e",
        "tags": [],
        "colab": {
          "base_uri": "https://localhost:8080/"
        },
        "id": "yeYQx8WMTUcY"
      },
      "outputs": [
        {
          "output_type": "stream",
          "name": "stdout",
          "text": [
            "[DQN] Cargando último checkpoint: /content/gdrive/My Drive/08_MIAR/actividades/proyecto practico/models/modelo1/checkpoints/dqn_SpaceInvaders-v0_weights_1600000.h5f\n"
          ]
        }
      ],
      "source": [
        "# Buscar todos los checkpoints por su archivo .index\n",
        "pattern = os.path.join(CHECKPOINTS_DIR, f'dqn_{env_name}_weights_*.h5f.index')\n",
        "checkpoints = glob.glob(pattern)\n",
        "\n",
        "# Valor por defecto si no se encuentra checkpoint\n",
        "last_checkpoint_steps = 0\n",
        "\n",
        "if checkpoints:\n",
        "    # Extraer el número de paso del nombre\n",
        "    def extract_step(filename):\n",
        "        try:\n",
        "            name = os.path.basename(filename)\n",
        "            step_part = name.split('_weights_')[1].replace('.h5f.index', '')\n",
        "            return int(step_part)\n",
        "        except:\n",
        "            return -1\n",
        "\n",
        "    # Seleccionar el checkpoint con mayor número de pasos\n",
        "    latest_index = max(checkpoints, key=extract_step)\n",
        "\n",
        "    # Quitar la extensión .index para obtener el nombre base\n",
        "    latest_checkpoint = latest_index.replace('.index', '')\n",
        "\n",
        "    print(f\"[DQN] Cargando último checkpoint: {latest_checkpoint}\")\n",
        "    dqn.load_weights(latest_checkpoint)\n",
        "\n",
        "    # Aquí extraemos los pasos acumulados\n",
        "    last_checkpoint_steps = extract_step(latest_index)\n",
        "else:\n",
        "    print(\"[DQN] No se encontró ningún checkpoint, entrenamiento desde cero.\")"
      ]
    },
    {
      "cell_type": "code",
      "execution_count": null,
      "metadata": {
        "tags": [],
        "colab": {
          "base_uri": "https://localhost:8080/"
        },
        "id": "OgEZ4q9OB41r",
        "outputId": "d2c2faff-fdb4-4b70-8fa5-bde3d0ada887"
      },
      "outputs": [
        {
          "output_type": "stream",
          "name": "stdout",
          "text": [
            "Callback iniciado desde paso 1600000\n",
            "Stps que llevaba el modelo entrenado: 1600000\n"
          ]
        }
      ],
      "source": [
        "# Custom callback for checkpoints to restart from the last one\n",
        "checkpoint_callback = AccumulatedCheckpoint(\n",
        "      base_path=checkpoint_weights_filename,\n",
        "      interval=MODEL_CHECKPOINT_STEPS,\n",
        "      initial_step=last_checkpoint_steps\n",
        "  )\n",
        "callbacks = [checkpoint_callback]\n",
        "dqn.step = last_checkpoint_steps\n",
        "print(\"Stps que llevaba el modelo entrenado:\", dqn.step)\n",
        "#callbacks =  [ModelIntervalCheckpoint(checkpoint_weights_filename, interval=MODEL_CHECKPOINT_STEPS)]\n",
        "callbacks += [EpisodeLoggerCSV(log_csv_path)]\n",
        "#callbacks += [FileLogger(log_filename, interval=100)] # Gives some errors"
      ]
    },
    {
      "cell_type": "code",
      "execution_count": null,
      "metadata": {
        "id": "-BSoqLO65ISF",
        "outputId": "68bbf8ce-f7d6-4c87-8518-82c5c87a5f77",
        "tags": [],
        "colab": {
          "base_uri": "https://localhost:8080/"
        }
      },
      "outputs": [
        {
          "output_type": "stream",
          "name": "stdout",
          "text": [
            "Training for 1675000 steps ...\n",
            "Interval 1 (0 steps performed)\n",
            "10000/10000 [==============================] - 86s 9ms/step - reward: 0.0138\n",
            "13 episodes - episode_reward: 10.615 [3.000, 20.000] - ale.lives: 2.060\n",
            "\n",
            "Interval 2 (10000 steps performed)\n",
            "10000/10000 [==============================] - 83s 8ms/step - reward: 0.0130\n",
            "14 episodes - episode_reward: 9.143 [3.000, 19.000] - ale.lives: 2.174\n",
            "\n",
            "Interval 3 (20000 steps performed)\n",
            " 4995/10000 [=============>................] - ETA: 41s - reward: 0.0130[Checkpoint] Guardado en paso 100000: /content/gdrive/My Drive/08_MIAR/actividades/proyecto practico/models/modelo1/checkpoints/dqn_SpaceInvaders-v0_weights_100000.h5f\n",
            "10000/10000 [==============================] - 82s 8ms/step - reward: 0.0124\n",
            "17 episodes - episode_reward: 7.353 [3.000, 15.000] - ale.lives: 2.171\n",
            "\n",
            "Interval 4 (30000 steps performed)\n",
            "10000/10000 [==============================] - 82s 8ms/step - reward: 0.0139\n",
            "15 episodes - episode_reward: 9.333 [4.000, 16.000] - ale.lives: 2.161\n",
            "\n",
            "Interval 5 (40000 steps performed)\n",
            " 9997/10000 [============================>.] - ETA: 0s - reward: 0.0139[Checkpoint] Guardado en paso 125000: /content/gdrive/My Drive/08_MIAR/actividades/proyecto practico/models/modelo1/checkpoints/dqn_SpaceInvaders-v0_weights_125000.h5f\n",
            "10000/10000 [==============================] - 83s 8ms/step - reward: 0.0139\n",
            "12 episodes - episode_reward: 11.333 [5.000, 21.000] - ale.lives: 2.171\n",
            "\n",
            "Interval 6 (50000 steps performed)\n",
            " 5801/10000 [================>.............] - ETA: 3:30 - reward: 0.0121"
          ]
        }
      ],
      "source": [
        "# ENTRENAR DQN\n",
        "if TRAIN_STEPS>0:\n",
        "  dqn.fit(env, callbacks=callbacks, nb_steps=TRAIN_STEPS-last_checkpoint_steps, log_interval=LOG_INTERVAL, visualize=False)\n",
        "  dqn.save_weights(weights_filename, overwrite=True)"
      ]
    },
    {
      "cell_type": "code",
      "execution_count": null,
      "metadata": {
        "id": "OHYryKd1Gb2b",
        "outputId": "9c101f8a-6995-44aa-941e-b10b4eb1ca69",
        "tags": [],
        "colab": {
          "base_uri": "https://localhost:8080/"
        }
      },
      "outputs": [
        {
          "output_type": "stream",
          "name": "stdout",
          "text": [
            "/content/gdrive/My Drive/08_MIAR/actividades/proyecto practico/models/modelo1/checkpoints/dqn_SpaceInvaders-v0_weights_275000.h5f\n",
            "Testing for 10 episodes ...\n",
            "Episode 1: reward: 16.000, steps: 1010\n",
            "Episode 2: reward: 11.000, steps: 881\n",
            "Episode 3: reward: 11.000, steps: 805\n",
            "Episode 4: reward: 23.000, steps: 1452\n",
            "Episode 5: reward: 17.000, steps: 974\n",
            "Episode 6: reward: 15.000, steps: 1015\n",
            "Episode 7: reward: 17.000, steps: 955\n",
            "Episode 8: reward: 23.000, steps: 1492\n",
            "Episode 9: reward: 17.000, steps: 962\n",
            "Episode 10: reward: 12.000, steps: 856\n"
          ]
        },
        {
          "output_type": "execute_result",
          "data": {
            "text/plain": [
              "<keras.callbacks.History at 0x7dcdf2748390>"
            ]
          },
          "metadata": {},
          "execution_count": 19
        }
      ],
      "source": [
        "# Testing part to calculate the mean reward\n",
        "weights_filename =os.path.join(WEIGHTS_DIR, 'dqn_{}_weights_{}.h5f'.format(env_name, model_name))\n",
        "#weights_filename=latest_checkpoint\n",
        "#print(weights_filename)\n",
        "dqn.load_weights(latest_checkpoint)\n",
        "dqn.test(env, nb_episodes=10, visualize=False)"
      ]
    },
    {
      "cell_type": "code",
      "execution_count": null,
      "metadata": {
        "id": "m1ne1WCO5ISG"
      },
      "outputs": [],
      "source": [
        " graph_training_csv(log_csv_path, MODEL_DIR, model_name, 'mean_q')"
      ]
    },
    {
      "cell_type": "markdown",
      "metadata": {
        "id": "73g2U2Ik5ISA",
        "tags": []
      },
      "source": [
        "# MODELO 2"
      ]
    },
    {
      "cell_type": "markdown",
      "metadata": {
        "id": "lXkQ9km05ISB",
        "tags": []
      },
      "source": [
        "### Red neuronal basada en el paper: [https://arxiv.org/abs/1511.06581](https://arxiv.org/abs/1511.06581)\n",
        "\n",
        "**Dueling Network Architectures for Deep Reinforcement Learning**\n",
        "**Autores:** Ziyu Wang, Tom Schaul, Matteo Hessel, Hado van Hasselt, Marc Lanctot, Nando de Freitas.\n",
        "**Año de publicación:** 2015"
      ]
    },
    {
      "cell_type": "markdown",
      "source": [
        "El término \"Duel DQN\" o \"Dueling DQN\" (DQN con redes en duelo) se refiere a una arquitectura específica de la red neuronal dentro del marco de DQN (o Double DQN, como estamos discutiendo). No son \"redes separadas\" en el sentido de la red online y la red target, sino una **modificación a la capa de salida de una única red Q** que luego se duplica para formar la red online y la red target.\n",
        "\n",
        "La idea principal de Dueling DQN es que la función Q se puede descomponer en dos componentes:\n",
        "\n",
        "1.  **Valor del estado (V(s))**: Cuánto de bueno es estar en un estado dado, independientemente de la acción.\n",
        "2.  **Ventaja de la acción (A(s, a))**: Cuánto mejor (o peor) es tomar una acción específica en ese estado en comparación con el promedio de las acciones.\n",
        "\n",
        "Así, la función Q se estima como:\n",
        "\n",
        "$Q(s, a; \\theta, \\alpha, \\beta) = V(s; \\theta, \\beta) + (A(s, a; \\theta, \\alpha) - \\frac{1}{|\\mathcal{A}|} \\sum_{a'} A(s, a'; \\theta, \\alpha))$\n",
        "\n",
        "Donde:\n",
        "* $\\theta$: Parámetros de las capas convolucionales (comunes a ambos flujos).\n",
        "* $\\alpha$: Parámetros de la capa densa de ventaja.\n",
        "* $\\beta$: Parámetros de la capa densa de valor.\n",
        "* $|\\mathcal{A}|$: Número de acciones.\n",
        "\n",
        "Esto permite que la red aprenda la importancia de los estados por separado de la importancia de cada acción."
      ],
      "metadata": {
        "id": "_xmRuF8ndGcs"
      }
    },
    {
      "cell_type": "markdown",
      "source": [
        "El paper original donde se introdujo la arquitectura Dueling Network (la base de Dueling DQN) es:\n",
        "\n",
        "**Título:** **Dueling Network Architectures for Deep Reinforcement Learning**\n",
        "**Autores:** Ziyu Wang, Tom Schaul, Matteo Hessel, Hado van Hasselt, Marc Lanctot, Nando de Freitas.\n",
        "**Año de publicación:** 2015\n",
        "**Enlace (arXiv):** [https://arxiv.org/abs/1511.06581](https://arxiv.org/abs/1511.06581)\n",
        "\n",
        "Este es el documento fundamental que describe la idea de descomponer la función de valor Q en un valor de estado ($V(s)$) y una función de ventaja de acción ($A(s,a)$), y cómo combinarlos en una única arquitectura de red neuronal. Es un paper de Google DeepMind y ha sido muy influyente en el campo del Aprendizaje por Refuerzo Profundo.\n",
        "\n",
        "Te recomiendo leerlo para entender a fondo la intuición detrás de la arquitectura y sus beneficios."
      ],
      "metadata": {
        "id": "OhVkW025ccnY"
      }
    },
    {
      "cell_type": "markdown",
      "metadata": {
        "id": "Ibl40JjrJgAV"
      },
      "source": [
        "Describir la NN"
      ]
    },
    {
      "cell_type": "markdown",
      "metadata": {
        "id": "EnKB7Ku-J9xN"
      },
      "source": [
        "#### Con las siguientes modificaciones:\n",
        "\n",
        "Modificaciones..."
      ]
    },
    {
      "cell_type": "markdown",
      "metadata": {
        "id": "9haPoA8_J9xN"
      },
      "source": [
        "## DQN\n",
        "DQN implementado basándose en ..."
      ]
    },
    {
      "cell_type": "markdown",
      "metadata": {
        "id": "np4nwhGdJ9xO"
      },
      "source": [
        "1. Implementación de la red neuronal"
      ]
    },
    {
      "cell_type": "code",
      "execution_count": 22,
      "metadata": {
        "outputId": "0c7bd71c-4b90-4729-a1c6-d3c22dc454f2",
        "tags": [],
        "colab": {
          "base_uri": "https://localhost:8080/"
        },
        "id": "3jU5kpR5J9xO"
      },
      "outputs": [
        {
          "output_type": "stream",
          "name": "stdout",
          "text": [
            "\n",
            "Resumen de la Red Dueling DQN: modelo2\n",
            "Model: \"modelo2\"\n",
            "__________________________________________________________________________________________________\n",
            " Layer (type)                   Output Shape         Param #     Connected to                     \n",
            "==================================================================================================\n",
            " Input_Frames (InputLayer)      [(None, 4, 84, 84)]  0           []                               \n",
            "                                                                                                  \n",
            " Permute_Channels (Permute)     (None, 84, 84, 4)    0           ['Input_Frames[0][0]']           \n",
            "                                                                                                  \n",
            " Normalize_Pixels (Lambda)      (None, 84, 84, 4)    0           ['Permute_Channels[0][0]']       \n",
            "                                                                                                  \n",
            " Conv1 (Conv2D)                 (None, 20, 20, 32)   8224        ['Normalize_Pixels[0][0]']       \n",
            "                                                                                                  \n",
            " BN1 (BatchNormalization)       (None, 20, 20, 32)   128         ['Conv1[0][0]']                  \n",
            "                                                                                                  \n",
            " ReLU1 (Activation)             (None, 20, 20, 32)   0           ['BN1[0][0]']                    \n",
            "                                                                                                  \n",
            " Conv2 (Conv2D)                 (None, 9, 9, 64)     32832       ['ReLU1[0][0]']                  \n",
            "                                                                                                  \n",
            " BN2 (BatchNormalization)       (None, 9, 9, 64)     256         ['Conv2[0][0]']                  \n",
            "                                                                                                  \n",
            " ReLU2 (Activation)             (None, 9, 9, 64)     0           ['BN2[0][0]']                    \n",
            "                                                                                                  \n",
            " Conv3 (Conv2D)                 (None, 7, 7, 64)     36928       ['ReLU2[0][0]']                  \n",
            "                                                                                                  \n",
            " BN3 (BatchNormalization)       (None, 7, 7, 64)     256         ['Conv3[0][0]']                  \n",
            "                                                                                                  \n",
            " ReLU3 (Activation)             (None, 7, 7, 64)     0           ['BN3[0][0]']                    \n",
            "                                                                                                  \n",
            " Flatten_Layer (Flatten)        (None, 3136)         0           ['ReLU3[0][0]']                  \n",
            "                                                                                                  \n",
            " Value_Dense (Dense)            (None, 512)          1606144     ['Flatten_Layer[0][0]']          \n",
            "                                                                                                  \n",
            " Advantage_Dense (Dense)        (None, 512)          1606144     ['Flatten_Layer[0][0]']          \n",
            "                                                                                                  \n",
            " Value_ReLU (Activation)        (None, 512)          0           ['Value_Dense[0][0]']            \n",
            "                                                                                                  \n",
            " Advantage_ReLU (Activation)    (None, 512)          0           ['Advantage_Dense[0][0]']        \n",
            "                                                                                                  \n",
            " Value_Output (Dense)           (None, 1)            513         ['Value_ReLU[0][0]']             \n",
            "                                                                                                  \n",
            " Advantage_Output (Dense)       (None, 6)            3078        ['Advantage_ReLU[0][0]']         \n",
            "                                                                                                  \n",
            " Q_Value_Combined (Lambda)      (None, 6)            0           ['Value_Output[0][0]',           \n",
            "                                                                  'Advantage_Output[0][0]']       \n",
            "                                                                                                  \n",
            "==================================================================================================\n",
            "Total params: 3,294,503\n",
            "Trainable params: 3,294,183\n",
            "Non-trainable params: 320\n",
            "__________________________________________________________________________________________________\n"
          ]
        }
      ],
      "source": [
        "model_name = \"modelo2\"\n",
        "\n",
        "# --- 2. Construcción del Modelo Dueling DQN con API Funcional ---\n",
        "\n",
        "# Define la forma de entrada para el modelo\n",
        "input_layer_shape = (WINDOW_LENGTH,) + INPUT_SHAPE\n",
        "\n",
        "# Definimos la capa de entrada del modelo\n",
        "inputs = Input(shape=input_layer_shape, name='Input_Frames')\n",
        "\n",
        "# Reorganizar las imágenes para que el window length quede en la dimensión de los canales\n",
        "if K.image_data_format() == 'channels_last':\n",
        "    x = Permute((2, 3, 1), name='Permute_Channels')(inputs)\n",
        "elif K.image_data_format() == 'channels_first':\n",
        "    # Si ya es (BATCH, CHANNELS, H, W), no necesitamos permutar si INPUT_SHAPE ya incluye el canal.\n",
        "    # Pero si INPUT_SHAPE es solo (H,W) y WINDOW_LENGTH es el canal, Permute es correcto.\n",
        "    # Si la entrada es (WINDOW_LENGTH, H, W) y queremos (WINDOW_LENGTH, H, W), esta línea es redundante\n",
        "    # o puede causar problemas si Keras espera (CHANNELS, H, W)\n",
        "    # Sin embargo, para consistencia con tu original:\n",
        "    x = Permute((1, 2, 3), name='Permute_Channels')(inputs) # Asumiendo que WINDOW_LENGTH es el primer \"canal\"\n",
        "else:\n",
        "    raise RuntimeError('Unknown image_data_format.')\n",
        "\n",
        "# Normalizar los valores de píxeles\n",
        "x = Lambda(lambda x: x / 255.0, name='Normalize_Pixels')(x)\n",
        "\n",
        "# Capas convolucionales\n",
        "# Conv1\n",
        "x = Convolution2D(32, (8, 8), strides=(4, 4), name='Conv1')(x)\n",
        "x = BatchNormalization(name='BN1')(x)\n",
        "x = Activation('relu', name='ReLU1')(x)\n",
        "\n",
        "# Conv2\n",
        "x = Convolution2D(64, (4, 4), strides=(2, 2), name='Conv2')(x)\n",
        "x = BatchNormalization(name='BN2')(x)\n",
        "x = Activation('relu', name='ReLU2')(x)\n",
        "\n",
        "# Conv3\n",
        "x = Convolution2D(64, (3, 3), strides=(1, 1), name='Conv3')(x)\n",
        "x = BatchNormalization(name='BN3')(x)\n",
        "x = Activation('relu', name='ReLU3')(x)\n",
        "\n",
        "# Aplanar la salida de las capas convolucionales antes de las capas densas\n",
        "flattened_output = Flatten(name='Flatten_Layer')(x)\n",
        "\n",
        "# --- Ramificación Dueling DQN ---\n",
        "\n",
        "# 1. Stream para la estimación del Valor (V(s))\n",
        "# Una capa densa seguida de una salida de un solo valor para el estado\n",
        "value_stream = Dense(512, name='Value_Dense')(flattened_output)\n",
        "value_stream = Activation('relu', name='Value_ReLU')(value_stream)\n",
        "value = Dense(1, activation='linear', name='Value_Output')(value_stream) # Salida de valor escalar\n",
        "\n",
        "# 2. Stream para la estimación de la Ventaja (A(s,a))\n",
        "# Una capa densa seguida de salidas para cada acción\n",
        "advantage_stream = Dense(512, name='Advantage_Dense')(flattened_output)\n",
        "advantage_stream = Activation('relu', name='Advantage_ReLU')(advantage_stream)\n",
        "advantage = Dense(nb_actions, activation='linear', name='Advantage_Output')(advantage_stream) # Salida de ventaja para cada acción\n",
        "\n",
        "# Combinación de Valor y Ventaja para obtener Q(s,a)\n",
        "# Q(s,a) = V(s) + (A(s,a) - mean(A(s,a')))\n",
        "# Utilizamos una capa Lambda para esta operación.\n",
        "# K.mean(a[1], axis=1, keepdims=True) calcula el promedio de las ventajas para todas las acciones\n",
        "# `keepdims=True` asegura que la forma se mantenga compatible para la resta\n",
        "output_q_values = Lambda(lambda a: a[0] + (a[1] - K.mean(a[1], axis=1, keepdims=True)),\n",
        "                         output_shape=(nb_actions,), name='Q_Value_Combined')([value, advantage])\n",
        "\n",
        "# Crea el modelo final con las entradas y salidas definidas\n",
        "model = Model(inputs=inputs, outputs=output_q_values, name=model_name)\n",
        "\n",
        "# Muestra un resumen de la arquitectura de la red\n",
        "print(f\"\\nResumen de la Red Dueling DQN: {model_name}\")\n",
        "model.summary()"
      ]
    },
    {
      "cell_type": "markdown",
      "metadata": {
        "id": "wTIIRs1bJ9xO"
      },
      "source": [
        "2. Implementación de la solución DQN"
      ]
    },
    {
      "cell_type": "code",
      "source": [
        "# GENERACIÓN O CARGA MODELO\n",
        "MODEL_DIR, WEIGHTS_DIR, CHECKPOINTS_DIR = get_dirs(model_name)\n",
        "load_hyperparams(model_name)\n",
        "\n",
        "# Añado los hiperparametros para el modelo dueling\n",
        "hiperparametros[\"ENABLE_DOUBLE_DQN\"] = True\n",
        "hiperparametros[\"ENABLE_DUELING_NETWORK\"] = False\n",
        "\n",
        "# Guardar cambios\n",
        "save_hyperparams(model_name)\n",
        "\n",
        "# Volver a cargar para crear las variables globales nuevas\n",
        "load_hyperparams(model_name)"
      ],
      "metadata": {
        "id": "8aYOJ-MCYy_X",
        "outputId": "eedfee92-ac86-4358-d46f-09e57191fc01",
        "colab": {
          "base_uri": "https://localhost:8080/"
        }
      },
      "execution_count": 41,
      "outputs": [
        {
          "output_type": "stream",
          "name": "stdout",
          "text": [
            "[INFO] Hiperparámetros cargados desde /content/gdrive/My Drive/08_MIAR/actividades/proyecto practico/models/modelo2/modelo2.json\n",
            "[INFO] Hiperparámetros guardados en /content/gdrive/My Drive/08_MIAR/actividades/proyecto practico/models/modelo2/modelo2.json\n",
            "[INFO] Hiperparámetros cargados desde /content/gdrive/My Drive/08_MIAR/actividades/proyecto practico/models/modelo2/modelo2.json\n"
          ]
        }
      ]
    },
    {
      "cell_type": "code",
      "execution_count": 42,
      "metadata": {
        "tags": [],
        "id": "Xjm2NtxkJ9xP"
      },
      "outputs": [],
      "source": [
        "memory = SequentialMemory(limit=MEMORY_SIZE, window_length=WINDOW_LENGTH)\n",
        "processor = AtariProcessor()\n",
        "policy = LinearAnnealedPolicy(EpsGreedyQPolicy(), attr='eps',\n",
        "                              value_max=1., value_min=.1,\n",
        "                              value_test=.05,\n",
        "                              nb_steps=SCHEDULER_STEPS)"
      ]
    },
    {
      "cell_type": "code",
      "execution_count": 43,
      "metadata": {
        "tags": [],
        "id": "E9mNDvVvJ9xP"
      },
      "outputs": [],
      "source": [
        "dqn = DQNAgent(model=model,\n",
        "                     nb_actions=nb_actions,\n",
        "                     policy=policy,\n",
        "                     memory=memory,\n",
        "                     processor=processor,\n",
        "                     nb_steps_warmup=WARMUP_STEPS,\n",
        "                     gamma=GAMMA,\n",
        "                     target_model_update=MODEL_UPDATE,\n",
        "                     train_interval=4,          # Entrena cada 4 pasos de entorno\n",
        "                     delta_clip=DELTA_CLIP,            # Clipping del error para mejorar la estabilidad\n",
        "                     enable_double_dqn=True,    # Activa Double DQN\n",
        "                     enable_dueling_network=False) # Deja esto en False porque ya la construimos manualmente\n",
        "\n",
        "if IN_COLAB:\n",
        "    # Parche para evitar el error 'get_updates' que ya no existe\n",
        "    def patched_get_updates(self, loss, params):\n",
        "        return []\n",
        "    Adam.get_updates = patched_get_updates\n",
        "\n",
        "# Compilo con el agente el modelo\n",
        "dqn.compile(Adam(learning_rate=LEARNING_RATE), metrics=['mae'])"
      ]
    },
    {
      "cell_type": "code",
      "source": [
        "weights_filename = os.path.join(WEIGHTS_DIR, 'dqn_{}_weights_{}.h5f'.format(env_name, model_name))\n",
        "checkpoint_weights_filename = os.path.join(CHECKPOINTS_DIR, 'dqn_' + env_name + '_weights_{step}.h5f')\n",
        "log_filename =os.path.join(MODEL_DIR, 'dqn_{}_log_{}.json'.format(env_name, model_name))\n",
        "log_csv_path = os.path.join(MODEL_DIR, f'{model_name}_training_log.csv')\n"
      ],
      "metadata": {
        "id": "vY5KFvrgJ9xP"
      },
      "execution_count": 44,
      "outputs": []
    },
    {
      "cell_type": "code",
      "execution_count": 51,
      "metadata": {
        "tags": [],
        "colab": {
          "base_uri": "https://localhost:8080/"
        },
        "outputId": "3562ca53-af7f-4030-97a5-d9ce50923be5",
        "id": "uQe1Y5n5J9xP"
      },
      "outputs": [
        {
          "output_type": "stream",
          "name": "stdout",
          "text": [
            "[DQN] Cargando último checkpoint: /content/gdrive/My Drive/08_MIAR/actividades/proyecto practico/models/modelo2/checkpoints/dqn_SpaceInvaders-v0_weights_50000.h5f\n",
            "Callback iniciado desde paso 50000\n",
            "Steps que llevaba el modelo entrenado: 50000\n"
          ]
        }
      ],
      "source": [
        "last_checkpoint_steps = load_last_checkpoint()\n",
        "\n",
        "# Custom callback for checkpoints to restart from the last one\n",
        "checkpoint_callback = AccumulatedCheckpoint(\n",
        "      base_path=checkpoint_weights_filename,\n",
        "      interval=MODEL_CHECKPOINT_STEPS,\n",
        "      initial_step=last_checkpoint_steps\n",
        "  )\n",
        "callbacks = [checkpoint_callback]\n",
        "dqn.step = last_checkpoint_steps\n",
        "print(\"Steps que llevaba el modelo entrenado:\", dqn.step)\n",
        "callbacks += [EpisodeLoggerCSV(log_csv_path)]"
      ]
    },
    {
      "cell_type": "code",
      "execution_count": null,
      "metadata": {
        "outputId": "75a86243-7a4b-4f39-e6b9-b3523010e7d2",
        "tags": [],
        "colab": {
          "base_uri": "https://localhost:8080/"
        },
        "id": "A4dLJryCJ9xP"
      },
      "outputs": [
        {
          "output_type": "stream",
          "name": "stdout",
          "text": [
            "Training for 1700000 steps ...\n",
            "Interval 1 (0 steps performed)\n",
            "10000/10000 [==============================] - 71s 7ms/step - reward: 0.0141\n",
            "14 episodes - episode_reward: 9.500 [6.000, 15.000] - ale.lives: 2.090\n",
            "\n",
            "Interval 2 (10000 steps performed)\n",
            "10000/10000 [==============================] - 70s 7ms/step - reward: 0.0130\n",
            "15 episodes - episode_reward: 8.600 [4.000, 17.000] - ale.lives: 2.098\n",
            "\n",
            "Interval 3 (20000 steps performed)\n",
            " 4999/10000 [=============>................] - ETA: 27s - reward: 0.0120\n",
            "[Checkpoint] Guardado en paso 75000: /content/gdrive/My Drive/08_MIAR/actividades/proyecto practico/models/modelo2/checkpoints/dqn_SpaceInvaders-v0_weights_75000.h5f\n",
            "10000/10000 [==============================] - 56s 6ms/step - reward: 0.0138\n",
            "14 episodes - episode_reward: 10.000 [5.000, 16.000] - ale.lives: 2.037\n",
            "\n",
            "Interval 4 (30000 steps performed)\n",
            "10000/10000 [==============================] - 59s 6ms/step - reward: 0.0142\n",
            "14 episodes - episode_reward: 10.643 [3.000, 27.000] - ale.lives: 2.117\n",
            "\n",
            "Interval 5 (40000 steps performed)\n",
            " 9989/10000 [============================>.] - ETA: 0s - reward: 0.0134\n",
            "[Checkpoint] Guardado en paso 100000: /content/gdrive/My Drive/08_MIAR/actividades/proyecto practico/models/modelo2/checkpoints/dqn_SpaceInvaders-v0_weights_100000.h5f\n",
            "10000/10000 [==============================] - 64s 6ms/step - reward: 0.0134\n",
            "16 episodes - episode_reward: 8.062 [4.000, 12.000] - ale.lives: 2.103\n",
            "\n",
            "Interval 6 (50000 steps performed)\n",
            "10000/10000 [==============================] - 485s 49ms/step - reward: 0.0131\n",
            "15 episodes - episode_reward: 8.933 [2.000, 19.000] - loss: 0.316 - mae: 0.670 - mean_q: 1.080 - mean_eps: 0.951 - ale.lives: 2.218\n",
            "\n",
            "Interval 7 (60000 steps performed)\n",
            "10000/10000 [==============================] - 491s 49ms/step - reward: 0.0148\n",
            "14 episodes - episode_reward: 10.500 [4.000, 19.000] - loss: 0.502 - mae: 0.701 - mean_q: 1.078 - mean_eps: 0.942 - ale.lives: 2.264\n",
            "\n",
            "Interval 8 (70000 steps performed)\n",
            " 4901/10000 [=============>................] - ETA: 4:10 - reward: 0.0131"
          ]
        }
      ],
      "source": [
        "# ENTRENAR DUEL DQN\n",
        "if TRAIN_STEPS>0:\n",
        "  dqn.fit(env, callbacks=callbacks, nb_steps=TRAIN_STEPS-last_checkpoint_steps, log_interval=LOG_INTERVAL, visualize=False)\n",
        "  dqn.save_weights(weights_filename, overwrite=True)"
      ]
    },
    {
      "cell_type": "code",
      "execution_count": null,
      "metadata": {
        "outputId": "9c101f8a-6995-44aa-941e-b10b4eb1ca69",
        "tags": [],
        "colab": {
          "base_uri": "https://localhost:8080/"
        },
        "id": "jUqvHLz6J9xP"
      },
      "outputs": [
        {
          "output_type": "stream",
          "name": "stdout",
          "text": [
            "/content/gdrive/My Drive/08_MIAR/actividades/proyecto practico/models/modelo1/checkpoints/dqn_SpaceInvaders-v0_weights_275000.h5f\n",
            "Testing for 10 episodes ...\n",
            "Episode 1: reward: 16.000, steps: 1010\n",
            "Episode 2: reward: 11.000, steps: 881\n",
            "Episode 3: reward: 11.000, steps: 805\n",
            "Episode 4: reward: 23.000, steps: 1452\n",
            "Episode 5: reward: 17.000, steps: 974\n",
            "Episode 6: reward: 15.000, steps: 1015\n",
            "Episode 7: reward: 17.000, steps: 955\n",
            "Episode 8: reward: 23.000, steps: 1492\n",
            "Episode 9: reward: 17.000, steps: 962\n",
            "Episode 10: reward: 12.000, steps: 856\n"
          ]
        },
        {
          "output_type": "execute_result",
          "data": {
            "text/plain": [
              "<keras.callbacks.History at 0x7dcdf2748390>"
            ]
          },
          "metadata": {},
          "execution_count": 19
        }
      ],
      "source": [
        "# Testing part to calculate the mean reward\n",
        "weights_filename =os.path.join(WEIGHTS_DIR, 'dqn_{}_weights_{}.h5f'.format(env_name, model_name))\n",
        "dqn.load_weights(latest_checkpoint)\n",
        "dqn.test(env, nb_episodes=10, visualize=False)"
      ]
    },
    {
      "cell_type": "code",
      "execution_count": null,
      "metadata": {
        "id": "XKN06jPeJ9xP"
      },
      "outputs": [],
      "source": [
        " graph_training_csv(log_csv_path, MODEL_DIR, model_name, 'mean_q')"
      ]
    },
    {
      "cell_type": "code",
      "source": [],
      "metadata": {
        "id": "zx74265OJpy0"
      },
      "execution_count": null,
      "outputs": []
    },
    {
      "cell_type": "markdown",
      "metadata": {
        "id": "-NAlu8b1Gb2b"
      },
      "source": [
        "3. Justificación de los parámetros seleccionados y de los resultados obtenidos"
      ]
    },
    {
      "cell_type": "markdown",
      "metadata": {
        "id": "ANFQiicXK3sO"
      },
      "source": [
        "---"
      ]
    }
  ],
  "metadata": {
    "accelerator": "GPU",
    "colab": {
      "gpuType": "T4",
      "provenance": [],
      "toc_visible": true
    },
    "kernelspec": {
      "display_name": ".conda-rl-env:Python",
      "language": "python",
      "name": "conda-env-.conda-rl-env-py"
    },
    "language_info": {
      "codemirror_mode": {
        "name": "ipython",
        "version": 3
      },
      "file_extension": ".py",
      "mimetype": "text/x-python",
      "name": "python",
      "nbconvert_exporter": "python",
      "pygments_lexer": "ipython3",
      "version": "3.8.20"
    }
  },
  "nbformat": 4,
  "nbformat_minor": 0
}