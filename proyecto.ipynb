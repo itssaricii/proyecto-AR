{
  "cells": [
    {
      "cell_type": "markdown",
      "metadata": {
        "id": "jUehXgCyIRdq"
      },
      "source": [
        "# Actividad - Proyecto práctico\n",
        "\n",
        "\n",
        "> La actividad se desarrollará en grupos pre-definidos de 2-3 alumnos. Se debe indicar los nombres en orden alfabético (de apellidos). Recordad que esta actividad se corresponde con un 30% de la nota final de la asignatura. Se debe entregar entregar el trabajo en la presente notebook.\n",
        "*   Alumno 1: de Antón Santiago, Sara\n",
        "*   Alumno 2: Sánchez La O, Benjamín C.\n",
        "*   Alumno 3:\n",
        "\n",
        "\n",
        "\n",
        "\n"
      ]
    },
    {
      "cell_type": "markdown",
      "metadata": {
        "id": "JwpYlnjWJhS9"
      },
      "source": [
        "---\n",
        "## **PARTE 1** - Instalación y requisitos previos\n",
        "\n",
        "> Las prácticas han sido preparadas para poder realizarse en el entorno de trabajo de Google Colab. Sin embargo, esta plataforma presenta ciertas incompatibilidades a la hora de visualizar la renderización en gym. Por ello, para obtener estas visualizaciones, se deberá trasladar el entorno de trabajo a local. Por ello, el presente dosier presenta instrucciones para poder trabajar en ambos entornos. Siga los siguientes pasos para un correcto funcionamiento:\n",
        "1.   **LOCAL:** Preparar el enviroment, siguiendo las intrucciones detalladas en la sección *1.1.Preparar enviroment*.\n",
        "2.  **AMBOS:** Modificar las variables \"mount\" y \"drive_mount\" a la carpeta de trabajo en drive en el caso de estar en Colab, y ejecturar la celda *1.2.Localizar entorno de trabajo*.\n",
        "3. **COLAB:** se deberá ejecutar las celdas correspondientes al montaje de la carpeta de trabajo en Drive. Esta corresponde a la sección *1.3.Montar carpeta de datos local*.\n",
        "4.  **AMBOS:** Instalar las librerías necesarias, siguiendo la sección *1.4.Instalar librerías necesarias*.\n"
      ]
    },
    {
      "cell_type": "markdown",
      "metadata": {
        "id": "RU2BPrK2JkP0"
      },
      "source": [
        "---\n",
        "### 1.1. Preparar enviroment (solo local)\n",
        "\n",
        "\n",
        "\n",
        "> Para preparar el entorno de trabajo en local, se han seguido los siguientes pasos:\n",
        "1. En Windows, puede ser necesario instalar las C++ Build Tools. Para ello, siga los siguientes pasos: https://towardsdatascience.com/how-to-install-openai-gym-in-a-windows-environment-338969e24d30.\n",
        "2. Instalar Anaconda\n",
        "3. Siguiendo el código que se presenta comentado en la próxima celda: Crear un enviroment, cambiar la ruta de trabajo, e instalar librerías básicas.\n",
        "\n",
        "\n",
        "```\n",
        "conda create --name miar_rl python=3.8\n",
        "conda activate miar_rl\n",
        "cd \"PATH_TO_FOLDER\"\n",
        "conda install git\n",
        "pip install jupyter\n",
        "```\n",
        "\n",
        "\n",
        "4. Abrir la notebook con *jupyter-notebook*.\n",
        "\n",
        "\n",
        "\n",
        "```\n",
        "jupyter-notebook\n",
        "```\n"
      ]
    },
    {
      "cell_type": "markdown",
      "metadata": {
        "id": "w-kixNPiJqTc"
      },
      "source": [
        "---\n",
        "### 1.2. Localizar entorno de trabajo: Google colab o local"
      ]
    },
    {
      "cell_type": "code",
      "execution_count": null,
      "metadata": {
        "id": "S_YDFwZ-JscI",
        "tags": []
      },
      "outputs": [],
      "source": [
        "# ATENCIÓN!! Modificar ruta relativa a la práctica si es distinta (drive_root)\n",
        "mount='/content/gdrive'\n",
        "drive_root = mount + \"/My Drive/08_MIAR/actividades/proyecto practico\"\n",
        "\n",
        "try:\n",
        "  from google.colab import drive\n",
        "  IN_COLAB=True\n",
        "except:\n",
        "  IN_COLAB=False"
      ]
    },
    {
      "cell_type": "markdown",
      "metadata": {
        "id": "8Dp_a1iBJ0tf"
      },
      "source": [
        "---\n",
        "### 1.3. Montar carpeta de datos local (solo Colab)"
      ]
    },
    {
      "cell_type": "code",
      "execution_count": null,
      "metadata": {
        "colab": {
          "base_uri": "https://localhost:8080/"
        },
        "id": "I6n7MIefJ21i",
        "outputId": "965bd3b7-9cb0-41db-a5d4-232a5b6c7767",
        "tags": []
      },
      "outputs": [
        {
          "output_type": "stream",
          "name": "stdout",
          "text": [
            "We're running Colab\n",
            "Colab: mounting Google drive on  /content/gdrive\n",
            "Mounted at /content/gdrive\n",
            "\n",
            "Colab: making sure  /content/gdrive/My Drive/08_MIAR/actividades/proyecto practico  exists.\n",
            "\n",
            "Colab: Changing directory to  /content/gdrive/My Drive/08_MIAR/actividades/proyecto practico\n",
            "/content/gdrive/My Drive/08_MIAR/actividades/proyecto practico\n",
            "Archivos en el directorio: \n",
            "['models']\n"
          ]
        }
      ],
      "source": [
        "# Switch to the directory on the Google Drive that you want to use\n",
        "import os\n",
        "if IN_COLAB:\n",
        "  print(\"We're running Colab\")\n",
        "\n",
        "  if IN_COLAB:\n",
        "    # Mount the Google Drive at mount\n",
        "    print(\"Colab: mounting Google drive on \", mount)\n",
        "\n",
        "    drive.mount(mount)\n",
        "\n",
        "    # Create drive_root if it doesn't exist\n",
        "    create_drive_root = True\n",
        "    if create_drive_root:\n",
        "      print(\"\\nColab: making sure \", drive_root, \" exists.\")\n",
        "      os.makedirs(drive_root, exist_ok=True)\n",
        "\n",
        "    # Change to the directory\n",
        "    print(\"\\nColab: Changing directory to \", drive_root)\n",
        "    %cd $drive_root\n",
        "# Verify we're in the correct working directory\n",
        "%pwd\n",
        "print(\"Archivos en el directorio: \")\n",
        "print(os.listdir())"
      ]
    },
    {
      "cell_type": "markdown",
      "metadata": {
        "id": "i1ZSL5bpJ560"
      },
      "source": [
        "---\n",
        "### 1.4. Instalar librerías necesarias"
      ]
    },
    {
      "cell_type": "code",
      "execution_count": null,
      "metadata": {
        "colab": {
          "base_uri": "https://localhost:8080/",
          "height": 1000
        },
        "id": "UbVRjvHCJ8UF",
        "outputId": "855350c7-5470-487d-f9bb-6812b336ba46",
        "tags": []
      },
      "outputs": [
        {
          "output_type": "stream",
          "name": "stdout",
          "text": [
            "Collecting gym==0.17.3\n",
            "  Downloading gym-0.17.3.tar.gz (1.6 MB)\n",
            "\u001b[?25l     \u001b[90m━━━━━━━━━━━━━━━━━━━━━━━━━━━━━━━━━━━━━━━━\u001b[0m \u001b[32m0.0/1.6 MB\u001b[0m \u001b[31m?\u001b[0m eta \u001b[36m-:--:--\u001b[0m\r\u001b[2K     \u001b[91m━━━━━━━━━━━━━━━━━━━━━━━━━━━━━━━━━━━━━━━\u001b[0m\u001b[91m╸\u001b[0m \u001b[32m1.6/1.6 MB\u001b[0m \u001b[31m113.2 MB/s\u001b[0m eta \u001b[36m0:00:01\u001b[0m\r\u001b[2K     \u001b[90m━━━━━━━━━━━━━━━━━━━━━━━━━━━━━━━━━━━━━━━━\u001b[0m \u001b[32m1.6/1.6 MB\u001b[0m \u001b[31m42.7 MB/s\u001b[0m eta \u001b[36m0:00:00\u001b[0m\n",
            "\u001b[?25h  Preparing metadata (setup.py) ... \u001b[?25l\u001b[?25hdone\n",
            "Requirement already satisfied: scipy in /usr/local/lib/python3.11/dist-packages (from gym==0.17.3) (1.15.3)\n",
            "Requirement already satisfied: numpy>=1.10.4 in /usr/local/lib/python3.11/dist-packages (from gym==0.17.3) (2.0.2)\n",
            "Collecting pyglet<=1.5.0,>=1.4.0 (from gym==0.17.3)\n",
            "  Downloading pyglet-1.5.0-py2.py3-none-any.whl.metadata (7.6 kB)\n",
            "Collecting cloudpickle<1.7.0,>=1.2.0 (from gym==0.17.3)\n",
            "  Downloading cloudpickle-1.6.0-py3-none-any.whl.metadata (4.3 kB)\n",
            "Requirement already satisfied: future in /usr/local/lib/python3.11/dist-packages (from pyglet<=1.5.0,>=1.4.0->gym==0.17.3) (1.0.0)\n",
            "Downloading cloudpickle-1.6.0-py3-none-any.whl (23 kB)\n",
            "Downloading pyglet-1.5.0-py2.py3-none-any.whl (1.0 MB)\n",
            "\u001b[2K   \u001b[90m━━━━━━━━━━━━━━━━━━━━━━━━━━━━━━━━━━━━━━━━\u001b[0m \u001b[32m1.0/1.0 MB\u001b[0m \u001b[31m44.0 MB/s\u001b[0m eta \u001b[36m0:00:00\u001b[0m\n",
            "\u001b[?25hBuilding wheels for collected packages: gym\n",
            "  Building wheel for gym (setup.py) ... \u001b[?25l\u001b[?25hdone\n",
            "  Created wheel for gym: filename=gym-0.17.3-py3-none-any.whl size=1654617 sha256=6530055c242083da6099be23b7af4c9827b8ebb237556b1710f6d881a8378479\n",
            "  Stored in directory: /root/.cache/pip/wheels/07/8b/b7/570cb90b10f17e85ccb291ba1f04af41ec697745104a2263eb\n",
            "Successfully built gym\n",
            "Installing collected packages: pyglet, cloudpickle, gym\n",
            "  Attempting uninstall: cloudpickle\n",
            "    Found existing installation: cloudpickle 3.1.1\n",
            "    Uninstalling cloudpickle-3.1.1:\n",
            "      Successfully uninstalled cloudpickle-3.1.1\n",
            "  Attempting uninstall: gym\n",
            "    Found existing installation: gym 0.25.2\n",
            "    Uninstalling gym-0.25.2:\n",
            "      Successfully uninstalled gym-0.25.2\n",
            "\u001b[31mERROR: pip's dependency resolver does not currently take into account all the packages that are installed. This behaviour is the source of the following dependency conflicts.\n",
            "distributed 2024.12.1 requires cloudpickle>=3.0.0, but you have cloudpickle 1.6.0 which is incompatible.\n",
            "dask 2024.12.1 requires cloudpickle>=3.0.0, but you have cloudpickle 1.6.0 which is incompatible.\n",
            "bigframes 2.6.0 requires cloudpickle>=2.0.0, but you have cloudpickle 1.6.0 which is incompatible.\u001b[0m\u001b[31m\n",
            "\u001b[0mSuccessfully installed cloudpickle-1.6.0 gym-0.17.3 pyglet-1.5.0\n",
            "Collecting git+https://github.com/Kojoley/atari-py.git\n",
            "  Cloning https://github.com/Kojoley/atari-py.git to /tmp/pip-req-build-6h75j2qh\n",
            "  Running command git clone --filter=blob:none --quiet https://github.com/Kojoley/atari-py.git /tmp/pip-req-build-6h75j2qh\n",
            "  Resolved https://github.com/Kojoley/atari-py.git to commit 86a1e05c0a95e9e6233c3a413521fdb34ca8a089\n",
            "  Preparing metadata (setup.py) ... \u001b[?25l\u001b[?25hdone\n",
            "Requirement already satisfied: numpy in /usr/local/lib/python3.11/dist-packages (from atari-py==1.2.2) (2.0.2)\n",
            "Building wheels for collected packages: atari-py\n",
            "  Building wheel for atari-py (setup.py) ... \u001b[?25l\u001b[?25hdone\n",
            "  Created wheel for atari-py: filename=atari_py-1.2.2-cp311-cp311-linux_x86_64.whl size=4738732 sha256=233d5ac726d9e8aa790193d978c7ab89f844f5fcf00019887c249c4d45405b63\n",
            "  Stored in directory: /tmp/pip-ephem-wheel-cache-4zd7sks2/wheels/1a/58/b3/3baab9d1509939ecce2dfd9ca349c222b7ee6590f4bd6097a1\n",
            "Successfully built atari-py\n",
            "Installing collected packages: atari-py\n",
            "Successfully installed atari-py-1.2.2\n",
            "Collecting keras-rl2==1.0.5\n",
            "  Downloading keras_rl2-1.0.5-py3-none-any.whl.metadata (304 bytes)\n",
            "Requirement already satisfied: tensorflow in /usr/local/lib/python3.11/dist-packages (from keras-rl2==1.0.5) (2.18.0)\n",
            "Requirement already satisfied: absl-py>=1.0.0 in /usr/local/lib/python3.11/dist-packages (from tensorflow->keras-rl2==1.0.5) (1.4.0)\n",
            "Requirement already satisfied: astunparse>=1.6.0 in /usr/local/lib/python3.11/dist-packages (from tensorflow->keras-rl2==1.0.5) (1.6.3)\n",
            "Requirement already satisfied: flatbuffers>=24.3.25 in /usr/local/lib/python3.11/dist-packages (from tensorflow->keras-rl2==1.0.5) (25.2.10)\n",
            "Requirement already satisfied: gast!=0.5.0,!=0.5.1,!=0.5.2,>=0.2.1 in /usr/local/lib/python3.11/dist-packages (from tensorflow->keras-rl2==1.0.5) (0.6.0)\n",
            "Requirement already satisfied: google-pasta>=0.1.1 in /usr/local/lib/python3.11/dist-packages (from tensorflow->keras-rl2==1.0.5) (0.2.0)\n",
            "Requirement already satisfied: libclang>=13.0.0 in /usr/local/lib/python3.11/dist-packages (from tensorflow->keras-rl2==1.0.5) (18.1.1)\n",
            "Requirement already satisfied: opt-einsum>=2.3.2 in /usr/local/lib/python3.11/dist-packages (from tensorflow->keras-rl2==1.0.5) (3.4.0)\n",
            "Requirement already satisfied: packaging in /usr/local/lib/python3.11/dist-packages (from tensorflow->keras-rl2==1.0.5) (24.2)\n",
            "Requirement already satisfied: protobuf!=4.21.0,!=4.21.1,!=4.21.2,!=4.21.3,!=4.21.4,!=4.21.5,<6.0.0dev,>=3.20.3 in /usr/local/lib/python3.11/dist-packages (from tensorflow->keras-rl2==1.0.5) (5.29.5)\n",
            "Requirement already satisfied: requests<3,>=2.21.0 in /usr/local/lib/python3.11/dist-packages (from tensorflow->keras-rl2==1.0.5) (2.32.3)\n",
            "Requirement already satisfied: setuptools in /usr/local/lib/python3.11/dist-packages (from tensorflow->keras-rl2==1.0.5) (75.2.0)\n",
            "Requirement already satisfied: six>=1.12.0 in /usr/local/lib/python3.11/dist-packages (from tensorflow->keras-rl2==1.0.5) (1.17.0)\n",
            "Requirement already satisfied: termcolor>=1.1.0 in /usr/local/lib/python3.11/dist-packages (from tensorflow->keras-rl2==1.0.5) (3.1.0)\n",
            "Requirement already satisfied: typing-extensions>=3.6.6 in /usr/local/lib/python3.11/dist-packages (from tensorflow->keras-rl2==1.0.5) (4.14.0)\n",
            "Requirement already satisfied: wrapt>=1.11.0 in /usr/local/lib/python3.11/dist-packages (from tensorflow->keras-rl2==1.0.5) (1.17.2)\n",
            "Requirement already satisfied: grpcio<2.0,>=1.24.3 in /usr/local/lib/python3.11/dist-packages (from tensorflow->keras-rl2==1.0.5) (1.73.0)\n",
            "Requirement already satisfied: tensorboard<2.19,>=2.18 in /usr/local/lib/python3.11/dist-packages (from tensorflow->keras-rl2==1.0.5) (2.18.0)\n",
            "Requirement already satisfied: keras>=3.5.0 in /usr/local/lib/python3.11/dist-packages (from tensorflow->keras-rl2==1.0.5) (3.8.0)\n",
            "Requirement already satisfied: numpy<2.1.0,>=1.26.0 in /usr/local/lib/python3.11/dist-packages (from tensorflow->keras-rl2==1.0.5) (2.0.2)\n",
            "Requirement already satisfied: h5py>=3.11.0 in /usr/local/lib/python3.11/dist-packages (from tensorflow->keras-rl2==1.0.5) (3.14.0)\n",
            "Requirement already satisfied: ml-dtypes<0.5.0,>=0.4.0 in /usr/local/lib/python3.11/dist-packages (from tensorflow->keras-rl2==1.0.5) (0.4.1)\n",
            "Requirement already satisfied: tensorflow-io-gcs-filesystem>=0.23.1 in /usr/local/lib/python3.11/dist-packages (from tensorflow->keras-rl2==1.0.5) (0.37.1)\n",
            "Requirement already satisfied: wheel<1.0,>=0.23.0 in /usr/local/lib/python3.11/dist-packages (from astunparse>=1.6.0->tensorflow->keras-rl2==1.0.5) (0.45.1)\n",
            "Requirement already satisfied: rich in /usr/local/lib/python3.11/dist-packages (from keras>=3.5.0->tensorflow->keras-rl2==1.0.5) (13.9.4)\n",
            "Requirement already satisfied: namex in /usr/local/lib/python3.11/dist-packages (from keras>=3.5.0->tensorflow->keras-rl2==1.0.5) (0.1.0)\n",
            "Requirement already satisfied: optree in /usr/local/lib/python3.11/dist-packages (from keras>=3.5.0->tensorflow->keras-rl2==1.0.5) (0.16.0)\n",
            "Requirement already satisfied: charset-normalizer<4,>=2 in /usr/local/lib/python3.11/dist-packages (from requests<3,>=2.21.0->tensorflow->keras-rl2==1.0.5) (3.4.2)\n",
            "Requirement already satisfied: idna<4,>=2.5 in /usr/local/lib/python3.11/dist-packages (from requests<3,>=2.21.0->tensorflow->keras-rl2==1.0.5) (3.10)\n",
            "Requirement already satisfied: urllib3<3,>=1.21.1 in /usr/local/lib/python3.11/dist-packages (from requests<3,>=2.21.0->tensorflow->keras-rl2==1.0.5) (2.4.0)\n",
            "Requirement already satisfied: certifi>=2017.4.17 in /usr/local/lib/python3.11/dist-packages (from requests<3,>=2.21.0->tensorflow->keras-rl2==1.0.5) (2025.6.15)\n",
            "Requirement already satisfied: markdown>=2.6.8 in /usr/local/lib/python3.11/dist-packages (from tensorboard<2.19,>=2.18->tensorflow->keras-rl2==1.0.5) (3.8)\n",
            "Requirement already satisfied: tensorboard-data-server<0.8.0,>=0.7.0 in /usr/local/lib/python3.11/dist-packages (from tensorboard<2.19,>=2.18->tensorflow->keras-rl2==1.0.5) (0.7.2)\n",
            "Requirement already satisfied: werkzeug>=1.0.1 in /usr/local/lib/python3.11/dist-packages (from tensorboard<2.19,>=2.18->tensorflow->keras-rl2==1.0.5) (3.1.3)\n",
            "Requirement already satisfied: MarkupSafe>=2.1.1 in /usr/local/lib/python3.11/dist-packages (from werkzeug>=1.0.1->tensorboard<2.19,>=2.18->tensorflow->keras-rl2==1.0.5) (3.0.2)\n",
            "Requirement already satisfied: markdown-it-py>=2.2.0 in /usr/local/lib/python3.11/dist-packages (from rich->keras>=3.5.0->tensorflow->keras-rl2==1.0.5) (3.0.0)\n",
            "Requirement already satisfied: pygments<3.0.0,>=2.13.0 in /usr/local/lib/python3.11/dist-packages (from rich->keras>=3.5.0->tensorflow->keras-rl2==1.0.5) (2.19.1)\n",
            "Requirement already satisfied: mdurl~=0.1 in /usr/local/lib/python3.11/dist-packages (from markdown-it-py>=2.2.0->rich->keras>=3.5.0->tensorflow->keras-rl2==1.0.5) (0.1.2)\n",
            "Downloading keras_rl2-1.0.5-py3-none-any.whl (52 kB)\n",
            "\u001b[2K   \u001b[90m━━━━━━━━━━━━━━━━━━━━━━━━━━━━━━━━━━━━━━━━\u001b[0m \u001b[32m52.1/52.1 kB\u001b[0m \u001b[31m2.9 MB/s\u001b[0m eta \u001b[36m0:00:00\u001b[0m\n",
            "\u001b[?25hInstalling collected packages: keras-rl2\n",
            "Successfully installed keras-rl2-1.0.5\n",
            "Collecting tensorflow==2.12\n",
            "  Downloading tensorflow-2.12.0-cp311-cp311-manylinux_2_17_x86_64.manylinux2014_x86_64.whl.metadata (3.4 kB)\n",
            "Requirement already satisfied: absl-py>=1.0.0 in /usr/local/lib/python3.11/dist-packages (from tensorflow==2.12) (1.4.0)\n",
            "Requirement already satisfied: astunparse>=1.6.0 in /usr/local/lib/python3.11/dist-packages (from tensorflow==2.12) (1.6.3)\n",
            "Requirement already satisfied: flatbuffers>=2.0 in /usr/local/lib/python3.11/dist-packages (from tensorflow==2.12) (25.2.10)\n",
            "Collecting gast<=0.4.0,>=0.2.1 (from tensorflow==2.12)\n",
            "  Downloading gast-0.4.0-py3-none-any.whl.metadata (1.1 kB)\n",
            "Requirement already satisfied: google-pasta>=0.1.1 in /usr/local/lib/python3.11/dist-packages (from tensorflow==2.12) (0.2.0)\n",
            "Requirement already satisfied: grpcio<2.0,>=1.24.3 in /usr/local/lib/python3.11/dist-packages (from tensorflow==2.12) (1.73.0)\n",
            "Requirement already satisfied: h5py>=2.9.0 in /usr/local/lib/python3.11/dist-packages (from tensorflow==2.12) (3.14.0)\n",
            "Requirement already satisfied: jax>=0.3.15 in /usr/local/lib/python3.11/dist-packages (from tensorflow==2.12) (0.5.2)\n",
            "Collecting keras<2.13,>=2.12.0 (from tensorflow==2.12)\n",
            "  Downloading keras-2.12.0-py2.py3-none-any.whl.metadata (1.4 kB)\n",
            "Requirement already satisfied: libclang>=13.0.0 in /usr/local/lib/python3.11/dist-packages (from tensorflow==2.12) (18.1.1)\n",
            "Collecting numpy<1.24,>=1.22 (from tensorflow==2.12)\n",
            "  Downloading numpy-1.23.5-cp311-cp311-manylinux_2_17_x86_64.manylinux2014_x86_64.whl.metadata (2.3 kB)\n",
            "Requirement already satisfied: opt-einsum>=2.3.2 in /usr/local/lib/python3.11/dist-packages (from tensorflow==2.12) (3.4.0)\n",
            "Requirement already satisfied: packaging in /usr/local/lib/python3.11/dist-packages (from tensorflow==2.12) (24.2)\n",
            "Collecting protobuf!=4.21.0,!=4.21.1,!=4.21.2,!=4.21.3,!=4.21.4,!=4.21.5,<5.0.0dev,>=3.20.3 (from tensorflow==2.12)\n",
            "  Downloading protobuf-4.25.8-cp37-abi3-manylinux2014_x86_64.whl.metadata (541 bytes)\n",
            "Requirement already satisfied: setuptools in /usr/local/lib/python3.11/dist-packages (from tensorflow==2.12) (75.2.0)\n",
            "Requirement already satisfied: six>=1.12.0 in /usr/local/lib/python3.11/dist-packages (from tensorflow==2.12) (1.17.0)\n",
            "Collecting tensorboard<2.13,>=2.12 (from tensorflow==2.12)\n",
            "  Downloading tensorboard-2.12.3-py3-none-any.whl.metadata (1.8 kB)\n",
            "Collecting tensorflow-estimator<2.13,>=2.12.0 (from tensorflow==2.12)\n",
            "  Downloading tensorflow_estimator-2.12.0-py2.py3-none-any.whl.metadata (1.3 kB)\n",
            "Requirement already satisfied: termcolor>=1.1.0 in /usr/local/lib/python3.11/dist-packages (from tensorflow==2.12) (3.1.0)\n",
            "Requirement already satisfied: typing-extensions>=3.6.6 in /usr/local/lib/python3.11/dist-packages (from tensorflow==2.12) (4.14.0)\n",
            "Collecting wrapt<1.15,>=1.11.0 (from tensorflow==2.12)\n",
            "  Downloading wrapt-1.14.1-cp311-cp311-manylinux_2_5_x86_64.manylinux1_x86_64.manylinux_2_17_x86_64.manylinux2014_x86_64.whl.metadata (6.7 kB)\n",
            "Requirement already satisfied: tensorflow-io-gcs-filesystem>=0.23.1 in /usr/local/lib/python3.11/dist-packages (from tensorflow==2.12) (0.37.1)\n",
            "Requirement already satisfied: wheel<1.0,>=0.23.0 in /usr/local/lib/python3.11/dist-packages (from astunparse>=1.6.0->tensorflow==2.12) (0.45.1)\n",
            "Requirement already satisfied: jaxlib<=0.5.2,>=0.5.1 in /usr/local/lib/python3.11/dist-packages (from jax>=0.3.15->tensorflow==2.12) (0.5.1)\n",
            "Requirement already satisfied: ml_dtypes>=0.4.0 in /usr/local/lib/python3.11/dist-packages (from jax>=0.3.15->tensorflow==2.12) (0.4.1)\n",
            "INFO: pip is looking at multiple versions of jax to determine which version is compatible with other requirements. This could take a while.\n",
            "Collecting jax>=0.3.15 (from tensorflow==2.12)\n",
            "  Downloading jax-0.6.2-py3-none-any.whl.metadata (13 kB)\n",
            "Collecting jaxlib<=0.6.2,>=0.6.2 (from jax>=0.3.15->tensorflow==2.12)\n",
            "  Downloading jaxlib-0.6.2-cp311-cp311-manylinux2014_x86_64.whl.metadata (1.3 kB)\n",
            "Collecting ml_dtypes>=0.5.0 (from jax>=0.3.15->tensorflow==2.12)\n",
            "  Downloading ml_dtypes-0.5.1-cp311-cp311-manylinux_2_17_x86_64.manylinux2014_x86_64.whl.metadata (21 kB)\n",
            "Collecting jax>=0.3.15 (from tensorflow==2.12)\n",
            "  Downloading jax-0.6.1-py3-none-any.whl.metadata (13 kB)\n",
            "Collecting jaxlib<=0.6.1,>=0.6.1 (from jax>=0.3.15->tensorflow==2.12)\n",
            "  Downloading jaxlib-0.6.1-cp311-cp311-manylinux2014_x86_64.whl.metadata (1.2 kB)\n",
            "Collecting jax>=0.3.15 (from tensorflow==2.12)\n",
            "  Downloading jax-0.6.0-py3-none-any.whl.metadata (22 kB)\n",
            "Collecting jaxlib<=0.6.0,>=0.6.0 (from jax>=0.3.15->tensorflow==2.12)\n",
            "  Downloading jaxlib-0.6.0-cp311-cp311-manylinux2014_x86_64.whl.metadata (1.2 kB)\n",
            "Collecting jax>=0.3.15 (from tensorflow==2.12)\n",
            "  Downloading jax-0.5.3-py3-none-any.whl.metadata (22 kB)\n",
            "Collecting jaxlib<=0.5.3,>=0.5.3 (from jax>=0.3.15->tensorflow==2.12)\n",
            "  Downloading jaxlib-0.5.3-cp311-cp311-manylinux2014_x86_64.whl.metadata (1.2 kB)\n",
            "Collecting jax>=0.3.15 (from tensorflow==2.12)\n",
            "  Downloading jax-0.5.1-py3-none-any.whl.metadata (22 kB)\n",
            "  Downloading jax-0.5.0-py3-none-any.whl.metadata (22 kB)\n",
            "Collecting jaxlib<=0.5.0,>=0.5.0 (from jax>=0.3.15->tensorflow==2.12)\n",
            "  Downloading jaxlib-0.5.0-cp311-cp311-manylinux2014_x86_64.whl.metadata (978 bytes)\n",
            "Collecting jax>=0.3.15 (from tensorflow==2.12)\n",
            "  Downloading jax-0.4.38-py3-none-any.whl.metadata (22 kB)\n",
            "Collecting jaxlib<=0.4.38,>=0.4.38 (from jax>=0.3.15->tensorflow==2.12)\n",
            "  Downloading jaxlib-0.4.38-cp311-cp311-manylinux2014_x86_64.whl.metadata (1.0 kB)\n",
            "INFO: pip is still looking at multiple versions of jax to determine which version is compatible with other requirements. This could take a while.\n",
            "Collecting jax>=0.3.15 (from tensorflow==2.12)\n",
            "  Downloading jax-0.4.37-py3-none-any.whl.metadata (22 kB)\n",
            "Collecting jaxlib<=0.4.37,>=0.4.36 (from jax>=0.3.15->tensorflow==2.12)\n",
            "  Downloading jaxlib-0.4.36-cp311-cp311-manylinux2014_x86_64.whl.metadata (1.0 kB)\n",
            "Collecting jax>=0.3.15 (from tensorflow==2.12)\n",
            "  Downloading jax-0.4.36-py3-none-any.whl.metadata (22 kB)\n",
            "  Downloading jax-0.4.35-py3-none-any.whl.metadata (22 kB)\n",
            "Collecting jaxlib<=0.4.35,>=0.4.34 (from jax>=0.3.15->tensorflow==2.12)\n",
            "  Downloading jaxlib-0.4.35-cp311-cp311-manylinux2014_x86_64.whl.metadata (983 bytes)\n",
            "Collecting jax>=0.3.15 (from tensorflow==2.12)\n",
            "  Downloading jax-0.4.34-py3-none-any.whl.metadata (22 kB)\n",
            "Collecting jaxlib<=0.4.34,>=0.4.34 (from jax>=0.3.15->tensorflow==2.12)\n",
            "  Downloading jaxlib-0.4.34-cp311-cp311-manylinux2014_x86_64.whl.metadata (983 bytes)\n",
            "Collecting jax>=0.3.15 (from tensorflow==2.12)\n",
            "  Downloading jax-0.4.33-py3-none-any.whl.metadata (22 kB)\n",
            "Collecting jaxlib<=0.4.33,>=0.4.33 (from jax>=0.3.15->tensorflow==2.12)\n",
            "  Downloading jaxlib-0.4.33-cp311-cp311-manylinux2014_x86_64.whl.metadata (983 bytes)\n",
            "INFO: This is taking longer than usual. You might need to provide the dependency resolver with stricter constraints to reduce runtime. See https://pip.pypa.io/warnings/backtracking for guidance. If you want to abort this run, press Ctrl + C.\n",
            "Collecting jax>=0.3.15 (from tensorflow==2.12)\n",
            "  Downloading jax-0.4.31-py3-none-any.whl.metadata (22 kB)\n",
            "Collecting jaxlib<=0.4.31,>=0.4.30 (from jax>=0.3.15->tensorflow==2.12)\n",
            "  Downloading jaxlib-0.4.31-cp311-cp311-manylinux2014_x86_64.whl.metadata (983 bytes)\n",
            "Collecting jax>=0.3.15 (from tensorflow==2.12)\n",
            "  Downloading jax-0.4.30-py3-none-any.whl.metadata (22 kB)\n",
            "Collecting jaxlib<=0.4.30,>=0.4.27 (from jax>=0.3.15->tensorflow==2.12)\n",
            "  Downloading jaxlib-0.4.30-cp311-cp311-manylinux2014_x86_64.whl.metadata (1.0 kB)\n",
            "Requirement already satisfied: scipy>=1.9 in /usr/local/lib/python3.11/dist-packages (from jax>=0.3.15->tensorflow==2.12) (1.15.3)\n",
            "Requirement already satisfied: google-auth<3,>=1.6.3 in /usr/local/lib/python3.11/dist-packages (from tensorboard<2.13,>=2.12->tensorflow==2.12) (2.38.0)\n",
            "Collecting google-auth-oauthlib<1.1,>=0.5 (from tensorboard<2.13,>=2.12->tensorflow==2.12)\n",
            "  Downloading google_auth_oauthlib-1.0.0-py2.py3-none-any.whl.metadata (2.7 kB)\n",
            "Requirement already satisfied: markdown>=2.6.8 in /usr/local/lib/python3.11/dist-packages (from tensorboard<2.13,>=2.12->tensorflow==2.12) (3.8)\n",
            "Requirement already satisfied: requests<3,>=2.21.0 in /usr/local/lib/python3.11/dist-packages (from tensorboard<2.13,>=2.12->tensorflow==2.12) (2.32.3)\n",
            "Requirement already satisfied: tensorboard-data-server<0.8.0,>=0.7.0 in /usr/local/lib/python3.11/dist-packages (from tensorboard<2.13,>=2.12->tensorflow==2.12) (0.7.2)\n",
            "Requirement already satisfied: werkzeug>=1.0.1 in /usr/local/lib/python3.11/dist-packages (from tensorboard<2.13,>=2.12->tensorflow==2.12) (3.1.3)\n",
            "Requirement already satisfied: cachetools<6.0,>=2.0.0 in /usr/local/lib/python3.11/dist-packages (from google-auth<3,>=1.6.3->tensorboard<2.13,>=2.12->tensorflow==2.12) (5.5.2)\n",
            "Requirement already satisfied: pyasn1-modules>=0.2.1 in /usr/local/lib/python3.11/dist-packages (from google-auth<3,>=1.6.3->tensorboard<2.13,>=2.12->tensorflow==2.12) (0.4.2)\n",
            "Requirement already satisfied: rsa<5,>=3.1.4 in /usr/local/lib/python3.11/dist-packages (from google-auth<3,>=1.6.3->tensorboard<2.13,>=2.12->tensorflow==2.12) (4.9.1)\n",
            "Requirement already satisfied: requests-oauthlib>=0.7.0 in /usr/local/lib/python3.11/dist-packages (from google-auth-oauthlib<1.1,>=0.5->tensorboard<2.13,>=2.12->tensorflow==2.12) (2.0.0)\n",
            "Requirement already satisfied: charset-normalizer<4,>=2 in /usr/local/lib/python3.11/dist-packages (from requests<3,>=2.21.0->tensorboard<2.13,>=2.12->tensorflow==2.12) (3.4.2)\n",
            "Requirement already satisfied: idna<4,>=2.5 in /usr/local/lib/python3.11/dist-packages (from requests<3,>=2.21.0->tensorboard<2.13,>=2.12->tensorflow==2.12) (3.10)\n",
            "Requirement already satisfied: urllib3<3,>=1.21.1 in /usr/local/lib/python3.11/dist-packages (from requests<3,>=2.21.0->tensorboard<2.13,>=2.12->tensorflow==2.12) (2.4.0)\n",
            "Requirement already satisfied: certifi>=2017.4.17 in /usr/local/lib/python3.11/dist-packages (from requests<3,>=2.21.0->tensorboard<2.13,>=2.12->tensorflow==2.12) (2025.6.15)\n",
            "Requirement already satisfied: MarkupSafe>=2.1.1 in /usr/local/lib/python3.11/dist-packages (from werkzeug>=1.0.1->tensorboard<2.13,>=2.12->tensorflow==2.12) (3.0.2)\n",
            "Requirement already satisfied: pyasn1<0.7.0,>=0.6.1 in /usr/local/lib/python3.11/dist-packages (from pyasn1-modules>=0.2.1->google-auth<3,>=1.6.3->tensorboard<2.13,>=2.12->tensorflow==2.12) (0.6.1)\n",
            "Requirement already satisfied: oauthlib>=3.0.0 in /usr/local/lib/python3.11/dist-packages (from requests-oauthlib>=0.7.0->google-auth-oauthlib<1.1,>=0.5->tensorboard<2.13,>=2.12->tensorflow==2.12) (3.2.2)\n",
            "Downloading tensorflow-2.12.0-cp311-cp311-manylinux_2_17_x86_64.manylinux2014_x86_64.whl (586.0 MB)\n",
            "\u001b[2K   \u001b[90m━━━━━━━━━━━━━━━━━━━━━━━━━━━━━━━━━━━━━━━━\u001b[0m \u001b[32m586.0/586.0 MB\u001b[0m \u001b[31m2.3 MB/s\u001b[0m eta \u001b[36m0:00:00\u001b[0m\n",
            "\u001b[?25hDownloading gast-0.4.0-py3-none-any.whl (9.8 kB)\n",
            "Downloading jax-0.4.30-py3-none-any.whl (2.0 MB)\n",
            "\u001b[2K   \u001b[90m━━━━━━━━━━━━━━━━━━━━━━━━━━━━━━━━━━━━━━━━\u001b[0m \u001b[32m2.0/2.0 MB\u001b[0m \u001b[31m70.5 MB/s\u001b[0m eta \u001b[36m0:00:00\u001b[0m\n",
            "\u001b[?25hDownloading keras-2.12.0-py2.py3-none-any.whl (1.7 MB)\n",
            "\u001b[2K   \u001b[90m━━━━━━━━━━━━━━━━━━━━━━━━━━━━━━━━━━━━━━━━\u001b[0m \u001b[32m1.7/1.7 MB\u001b[0m \u001b[31m62.9 MB/s\u001b[0m eta \u001b[36m0:00:00\u001b[0m\n",
            "\u001b[?25hDownloading numpy-1.23.5-cp311-cp311-manylinux_2_17_x86_64.manylinux2014_x86_64.whl (17.1 MB)\n",
            "\u001b[2K   \u001b[90m━━━━━━━━━━━━━━━━━━━━━━━━━━━━━━━━━━━━━━━━\u001b[0m \u001b[32m17.1/17.1 MB\u001b[0m \u001b[31m100.3 MB/s\u001b[0m eta \u001b[36m0:00:00\u001b[0m\n",
            "\u001b[?25hDownloading protobuf-4.25.8-cp37-abi3-manylinux2014_x86_64.whl (294 kB)\n",
            "\u001b[2K   \u001b[90m━━━━━━━━━━━━━━━━━━━━━━━━━━━━━━━━━━━━━━━━\u001b[0m \u001b[32m294.9/294.9 kB\u001b[0m \u001b[31m17.4 MB/s\u001b[0m eta \u001b[36m0:00:00\u001b[0m\n",
            "\u001b[?25hDownloading tensorboard-2.12.3-py3-none-any.whl (5.6 MB)\n",
            "\u001b[2K   \u001b[90m━━━━━━━━━━━━━━━━━━━━━━━━━━━━━━━━━━━━━━━━\u001b[0m \u001b[32m5.6/5.6 MB\u001b[0m \u001b[31m110.0 MB/s\u001b[0m eta \u001b[36m0:00:00\u001b[0m\n",
            "\u001b[?25hDownloading tensorflow_estimator-2.12.0-py2.py3-none-any.whl (440 kB)\n",
            "\u001b[2K   \u001b[90m━━━━━━━━━━━━━━━━━━━━━━━━━━━━━━━━━━━━━━━━\u001b[0m \u001b[32m440.7/440.7 kB\u001b[0m \u001b[31m25.0 MB/s\u001b[0m eta \u001b[36m0:00:00\u001b[0m\n",
            "\u001b[?25hDownloading wrapt-1.14.1-cp311-cp311-manylinux_2_5_x86_64.manylinux1_x86_64.manylinux_2_17_x86_64.manylinux2014_x86_64.whl (78 kB)\n",
            "\u001b[2K   \u001b[90m━━━━━━━━━━━━━━━━━━━━━━━━━━━━━━━━━━━━━━━━\u001b[0m \u001b[32m78.4/78.4 kB\u001b[0m \u001b[31m4.8 MB/s\u001b[0m eta \u001b[36m0:00:00\u001b[0m\n",
            "\u001b[?25hDownloading google_auth_oauthlib-1.0.0-py2.py3-none-any.whl (18 kB)\n",
            "Downloading jaxlib-0.4.30-cp311-cp311-manylinux2014_x86_64.whl (79.6 MB)\n",
            "\u001b[2K   \u001b[90m━━━━━━━━━━━━━━━━━━━━━━━━━━━━━━━━━━━━━━━━\u001b[0m \u001b[32m79.6/79.6 MB\u001b[0m \u001b[31m28.4 MB/s\u001b[0m eta \u001b[36m0:00:00\u001b[0m\n",
            "\u001b[?25hInstalling collected packages: wrapt, tensorflow-estimator, protobuf, numpy, keras, gast, jaxlib, google-auth-oauthlib, tensorboard, jax, tensorflow\n",
            "  Attempting uninstall: wrapt\n",
            "    Found existing installation: wrapt 1.17.2\n",
            "    Uninstalling wrapt-1.17.2:\n",
            "      Successfully uninstalled wrapt-1.17.2\n",
            "  Attempting uninstall: protobuf\n",
            "    Found existing installation: protobuf 5.29.5\n",
            "    Uninstalling protobuf-5.29.5:\n",
            "      Successfully uninstalled protobuf-5.29.5\n",
            "  Attempting uninstall: numpy\n",
            "    Found existing installation: numpy 2.0.2\n",
            "    Uninstalling numpy-2.0.2:\n",
            "      Successfully uninstalled numpy-2.0.2\n",
            "  Attempting uninstall: keras\n",
            "    Found existing installation: keras 3.8.0\n",
            "    Uninstalling keras-3.8.0:\n",
            "      Successfully uninstalled keras-3.8.0\n",
            "  Attempting uninstall: gast\n",
            "    Found existing installation: gast 0.6.0\n",
            "    Uninstalling gast-0.6.0:\n",
            "      Successfully uninstalled gast-0.6.0\n",
            "  Attempting uninstall: jaxlib\n",
            "    Found existing installation: jaxlib 0.5.1\n",
            "    Uninstalling jaxlib-0.5.1:\n",
            "      Successfully uninstalled jaxlib-0.5.1\n",
            "  Attempting uninstall: google-auth-oauthlib\n",
            "    Found existing installation: google-auth-oauthlib 1.2.2\n",
            "    Uninstalling google-auth-oauthlib-1.2.2:\n",
            "      Successfully uninstalled google-auth-oauthlib-1.2.2\n",
            "  Attempting uninstall: tensorboard\n",
            "    Found existing installation: tensorboard 2.18.0\n",
            "    Uninstalling tensorboard-2.18.0:\n",
            "      Successfully uninstalled tensorboard-2.18.0\n",
            "  Attempting uninstall: jax\n",
            "    Found existing installation: jax 0.5.2\n",
            "    Uninstalling jax-0.5.2:\n",
            "      Successfully uninstalled jax-0.5.2\n",
            "  Attempting uninstall: tensorflow\n",
            "    Found existing installation: tensorflow 2.18.0\n",
            "    Uninstalling tensorflow-2.18.0:\n",
            "      Successfully uninstalled tensorflow-2.18.0\n",
            "\u001b[31mERROR: pip's dependency resolver does not currently take into account all the packages that are installed. This behaviour is the source of the following dependency conflicts.\n",
            "ydf 0.12.0 requires protobuf<6.0.0,>=5.29.1, but you have protobuf 4.25.8 which is incompatible.\n",
            "tensorflow-decision-forests 1.11.0 requires tensorflow==2.18.0, but you have tensorflow 2.12.0 which is incompatible.\n",
            "imbalanced-learn 0.13.0 requires numpy<3,>=1.24.3, but you have numpy 1.23.5 which is incompatible.\n",
            "thinc 8.3.6 requires numpy<3.0.0,>=2.0.0, but you have numpy 1.23.5 which is incompatible.\n",
            "chex 0.1.89 requires numpy>=1.24.1, but you have numpy 1.23.5 which is incompatible.\n",
            "db-dtypes 1.4.3 requires numpy>=1.24.0, but you have numpy 1.23.5 which is incompatible.\n",
            "pymc 5.23.0 requires numpy>=1.25.0, but you have numpy 1.23.5 which is incompatible.\n",
            "flax 0.10.6 requires jax>=0.5.1, but you have jax 0.4.30 which is incompatible.\n",
            "scikit-image 0.25.2 requires numpy>=1.24, but you have numpy 1.23.5 which is incompatible.\n",
            "blosc2 3.4.0 requires numpy>=1.26, but you have numpy 1.23.5 which is incompatible.\n",
            "xarray-einstats 0.9.0 requires numpy>=1.25, but you have numpy 1.23.5 which is incompatible.\n",
            "grpcio-status 1.71.0 requires protobuf<6.0dev,>=5.26.1, but you have protobuf 4.25.8 which is incompatible.\n",
            "orbax-checkpoint 0.11.15 requires jax>=0.5.0, but you have jax 0.4.30 which is incompatible.\n",
            "treescope 0.1.9 requires numpy>=1.25.2, but you have numpy 1.23.5 which is incompatible.\n",
            "tensorflow-text 2.18.1 requires tensorflow<2.19,>=2.18.0, but you have tensorflow 2.12.0 which is incompatible.\n",
            "tf-keras 2.18.0 requires tensorflow<2.19,>=2.18, but you have tensorflow 2.12.0 which is incompatible.\n",
            "xarray 2025.3.1 requires numpy>=1.24, but you have numpy 1.23.5 which is incompatible.\n",
            "albucore 0.0.24 requires numpy>=1.24.4, but you have numpy 1.23.5 which is incompatible.\n",
            "bigframes 2.6.0 requires cloudpickle>=2.0.0, but you have cloudpickle 1.6.0 which is incompatible.\n",
            "bigframes 2.6.0 requires numpy>=1.24.0, but you have numpy 1.23.5 which is incompatible.\n",
            "albumentations 2.0.8 requires numpy>=1.24.4, but you have numpy 1.23.5 which is incompatible.\u001b[0m\u001b[31m\n",
            "\u001b[0mSuccessfully installed gast-0.4.0 google-auth-oauthlib-1.0.0 jax-0.4.30 jaxlib-0.4.30 keras-2.12.0 numpy-1.23.5 protobuf-4.25.8 tensorboard-2.12.3 tensorflow-2.12.0 tensorflow-estimator-2.12.0 wrapt-1.14.1\n"
          ]
        },
        {
          "output_type": "display_data",
          "data": {
            "application/vnd.colab-display-data+json": {
              "pip_warning": {
                "packages": [
                  "google",
                  "numpy"
                ]
              },
              "id": "d6e1e045174c41d4b0346e18ee261649"
            }
          },
          "metadata": {}
        }
      ],
      "source": [
        "# NO EJECUTAR EN SAGEMAKER (MIRAR EL README PARA CONFIGURAR EL ENTORNO)\n",
        "# AUNQUE DE FALLOS DE INSTALACIÓN LOS IMPORTS FUNCIONAN\n",
        "if IN_COLAB:\n",
        "  %pip install gym==0.17.3\n",
        "  %pip install git+https://github.com/Kojoley/atari-py.git\n",
        "  %pip install keras-rl2==1.0.5\n",
        "  %pip install tensorflow==2.12  #2.8\n",
        "else:\n",
        "  %pip install gym==0.17.3\n",
        "  %pip install git+https://github.com/Kojoley/atari-py.git\n",
        "  %pip install pyglet==1.5.0\n",
        "  %pip install h5py==3.1.0\n",
        "  %pip install Pillow==9.5.0\n",
        "  %pip install keras-rl2==1.0.5\n",
        "  %pip install Keras==2.2.4\n",
        "  %pip install tensorflow==2.5.3\n",
        "  %pip install torch==2.0.1\n",
        "  %pip install agents==1.4.0"
      ]
    },
    {
      "cell_type": "markdown",
      "metadata": {
        "id": "4hzP_5ZuGb2X"
      },
      "source": [
        "---\n",
        "## **PARTE 2**. Enunciado\n",
        "\n",
        "Consideraciones a tener en cuenta:\n",
        "\n",
        "- El entorno sobre el que trabajaremos será _SpaceInvaders-v0_ y el algoritmo que usaremos será _DQN_.\n",
        "\n",
        "- Para nuestro ejercicio, el requisito mínimo será alcanzado cuando el agente consiga una **media de recompensa por encima de 20 puntos en modo test**. Por ello, esta media de la recompensa se calculará a partir del código de test en la última celda del notebook.\n",
        "\n",
        "Este proyecto práctico consta de tres partes:\n",
        "\n",
        "1.   Implementar la red neuronal que se usará en la solución\n",
        "2.   Implementar las distintas piezas de la solución DQN\n",
        "3.   Justificar la respuesta en relación a los resultados obtenidos\n",
        "\n",
        "**Rúbrica**: Se valorará la originalidad en la solución aportada, así como la capacidad de discutir los resultados de forma detallada. El requisito mínimo servirá para aprobar la actividad, bajo premisa de que la discusión del resultado sera apropiada.\n",
        "\n",
        "IMPORTANTE:\n",
        "\n",
        "* Si no se consigue una puntuación óptima, responder sobre la mejor puntuación obtenida.\n",
        "* Para entrenamientos largos, recordad que podéis usar checkpoints de vuestros modelos para retomar los entrenamientos. En este caso, recordad cambiar los parámetros adecuadamente (sobre todo los relacionados con el proceso de exploración).\n",
        "* Se deberá entregar unicamente el notebook y los pesos del mejor modelo en un fichero .zip, de forma organizada.\n",
        "* Cada alumno deberá de subir la solución de forma individual."
      ]
    },
    {
      "cell_type": "markdown",
      "metadata": {
        "id": "6_b3mzw8IzJP"
      },
      "source": [
        "---\n",
        "## **PARTE 3**. Desarrollo y preguntas"
      ]
    },
    {
      "cell_type": "code",
      "execution_count": null,
      "metadata": {
        "tags": [],
        "id": "45BPUdIoB41o"
      },
      "outputs": [],
      "source": [
        "# DEFINIR AL PRINCIPIO\n",
        "try:\n",
        "  from google.colab import drive\n",
        "  IN_COLAB=True\n",
        "except:\n",
        "  IN_COLAB=False"
      ]
    },
    {
      "cell_type": "markdown",
      "metadata": {
        "id": "duPmUNOVGb2a"
      },
      "source": [
        "#### Importar librerías"
      ]
    },
    {
      "cell_type": "code",
      "execution_count": null,
      "metadata": {
        "id": "j3eRhgI-Gb2a",
        "tags": []
      },
      "outputs": [],
      "source": [
        "from __future__ import division\n",
        "\n",
        "from PIL import Image\n",
        "import numpy as np\n",
        "import gym\n",
        "import os\n",
        "import glob\n",
        "\n",
        "from tensorflow.keras.models import Sequential, Model\n",
        "from tensorflow.keras.layers import Dense, Activation, Flatten, Convolution2D, Permute, Input\n",
        "from tensorflow.keras.optimizers import Adam\n",
        "import tensorflow.keras.backend as K\n",
        "\n",
        "from rl.agents.dqn import DQNAgent\n",
        "from rl.policy import LinearAnnealedPolicy, BoltzmannQPolicy, EpsGreedyQPolicy\n",
        "from rl.memory import SequentialMemory\n",
        "from rl.core import Processor\n",
        "from rl.callbacks import FileLogger, ModelIntervalCheckpoint\n",
        "\n",
        "# AÑADIDO\n",
        "from tensorflow.keras.layers import Lambda, BatchNormalization\n",
        "from tensorflow.keras.callbacks import Callback\n",
        "import json\n",
        "import pandas as pd\n",
        "import matplotlib.pyplot as plt\n",
        "import csv\n",
        "import pickle\n",
        "import seaborn as sns"
      ]
    },
    {
      "cell_type": "markdown",
      "metadata": {
        "id": "f4jgQjzoGb2a"
      },
      "source": [
        "#### Configuración base"
      ]
    },
    {
      "cell_type": "code",
      "execution_count": null,
      "metadata": {
        "id": "jwOE6I_KGb2a",
        "tags": []
      },
      "outputs": [],
      "source": [
        "INPUT_SHAPE = (84, 84)\n",
        "WINDOW_LENGTH = 4\n",
        "\n",
        "env_name = 'SpaceInvaders-v0'\n",
        "env = gym.make(env_name)\n",
        "\n",
        "np.random.seed(123)\n",
        "env.seed(123)\n",
        "nb_actions = env.action_space.n"
      ]
    },
    {
      "cell_type": "code",
      "execution_count": null,
      "metadata": {
        "id": "9jGEZUcpGb2a",
        "tags": []
      },
      "outputs": [],
      "source": [
        "class AtariProcessor(Processor):\n",
        "    def process_observation(self, observation):\n",
        "        assert observation.ndim == 3  # (height, width, channel)\n",
        "        img = Image.fromarray(observation)\n",
        "        img = img.resize(INPUT_SHAPE).convert('L')\n",
        "        processed_observation = np.array(img)\n",
        "        assert processed_observation.shape == INPUT_SHAPE\n",
        "        return processed_observation.astype('uint8')\n",
        "\n",
        "    def process_state_batch(self, batch):\n",
        "        processed_batch = batch.astype('float32') / 255.\n",
        "        return processed_batch\n",
        "\n",
        "    def process_reward(self, reward):\n",
        "        return np.clip(reward, -1., 1.)"
      ]
    },
    {
      "cell_type": "code",
      "source": [
        "# HIPERPARÁMETROS POR DEFECTO\n",
        "hiperparametros = {\n",
        "    \"MEMORY_SIZE\": 1000000,\n",
        "    \"WARMUP_STEPS\": 50000,\n",
        "    \"SCHEDULER_STEPS\": 1000000,\n",
        "    \"GAMMA\": 0.99,\n",
        "    \"MODEL_UPDATE\": 10000,\n",
        "    \"LEARNING_RATE\": 0.00025,\n",
        "    \"MODEL_CHECKPOINT_STEPS\": 25000,\n",
        "    \"TRAIN_STEPS\": 1750000,\n",
        "    \"LOG_INTERVAL\": 10000,\n",
        "    \"DELTA_CLIP\": 1.0\n",
        "}"
      ],
      "metadata": {
        "id": "cZDLvSKdO-B3"
      },
      "execution_count": null,
      "outputs": []
    },
    {
      "cell_type": "code",
      "source": [
        "# ROOT PATH PARA LOS MODELOS Y SUS PESOS\n",
        "if IN_COLAB:\n",
        "  mount='/content/gdrive'\n",
        "  drive_root = mount + \"/My Drive/08_MIAR/actividades/proyecto practico\"\n",
        "  MODELS_DIR=drive_root+\"/models\"\n",
        "else:\n",
        "  MODELS_DIR=\"./models\"\n",
        "\n",
        "def get_dirs(model_name=\"modelo1\"):\n",
        "    WEIGHTS_DIR = os.path.join(MODELS_DIR, model_name, \"weights\")\n",
        "    CHECKPOINTS_DIR = os.path.join(MODELS_DIR, model_name, \"checkpoints\")\n",
        "    MODEL_DIR = os.path.join(MODELS_DIR, model_name)\n",
        "    os.makedirs(WEIGHTS_DIR, exist_ok=True)\n",
        "    os.makedirs(CHECKPOINTS_DIR, exist_ok=True)\n",
        "    return MODEL_DIR, WEIGHTS_DIR, CHECKPOINTS_DIR\n",
        "\n",
        "def save_hyperparams(modelo):\n",
        "    \"\"\"\n",
        "    Guarda los hiperparámetros actuales en el fichero JSON.\n",
        "    \"\"\"\n",
        "    hyper_file = os.path.join(MODELS_DIR, modelo, modelo + '.json')\n",
        "    with open(hyper_file, 'w') as f:\n",
        "        json.dump(hiperparametros, f, indent=4)\n",
        "    print(f\"[INFO] Hiperparámetros guardados en {hyper_file}\")\n",
        "\n",
        "\n",
        "def load_hyperparams(modelo):\n",
        "    \"\"\"\n",
        "    Actualiza los hiperparámetros definidos en memoria a los del fichero cargado.\n",
        "    Si el fichero no existe, lo crea con los valores por defecto (hiperparametros).\n",
        "    \"\"\"\n",
        "    hyper_file = os.path.join(MODELS_DIR, modelo, modelo + '.json')\n",
        "\n",
        "    # Crear el directorio del modelo si no existe\n",
        "    os.makedirs(os.path.dirname(hyper_file), exist_ok=True)\n",
        "\n",
        "    if not os.path.exists(hyper_file):\n",
        "        # Guardar el fichero con los hiperparámetros por defecto\n",
        "        with open(hyper_file, 'w') as f:\n",
        "            json.dump(hiperparametros, f, indent=4)\n",
        "\n",
        "        print(f\"[INFO] Fichero de hiperparámetros no encontrado. Creado por defecto en: {hyper_file}\")\n",
        "        params = hiperparametros\n",
        "    else:\n",
        "        # El fichero existe: lo leemos\n",
        "        with open(hyper_file, 'r') as f:\n",
        "            params = json.load(f)\n",
        "\n",
        "    # Asignar dinámicamente los valores\n",
        "    for key, value in params.items():\n",
        "        globals()[key] = value\n",
        "        hiperparametros[key] = value  # Actualiza el diccionario en memoria\n",
        "\n",
        "    print(f\"[INFO] Hiperparámetros cargados desde {hyper_file}\")"
      ],
      "metadata": {
        "id": "WRL-ixOyPIo7"
      },
      "execution_count": null,
      "outputs": []
    },
    {
      "cell_type": "code",
      "source": [
        "# FUNCIÓN PARA PLOTEAR LOGS DEL TRAINING *** SARA ***\n",
        "'''\n",
        "def graph_training_csv(csv_path, model_dir, model_name, save_clean_csv=False):\n",
        "    if not os.path.isfile(csv_path):\n",
        "        print(f\"[ERROR] El archivo '{csv_path}' no existe.\")\n",
        "        return\n",
        "\n",
        "    try:\n",
        "        df = pd.read_csv(csv_path, usecols=[0, 1, 2])  # Usa encabezados del archivo\n",
        "        df.columns = ['episode_jump', 'episode_reward', 'nb_steps']\n",
        "    except Exception as e:\n",
        "        print(f\"[ERROR] No se pudo leer el CSV: {e}\")\n",
        "        return\n",
        "\n",
        "    # Ignorar la primera fila de datos (por ejemplo, episodio 1)\n",
        "    df = df.iloc[1:].reset_index(drop=True)\n",
        "\n",
        "    # Convertir nb_steps a entero seguro\n",
        "    df['nb_steps'] = pd.to_numeric(df['nb_steps'], errors='coerce')\n",
        "    df = df.dropna(subset=['nb_steps'])\n",
        "    df['nb_steps'] = df['nb_steps'].astype(int)\n",
        "\n",
        "    fixed_steps = []\n",
        "    accumulated_steps = 0\n",
        "    previous_step = df['nb_steps'].iloc[0]\n",
        "\n",
        "    for s in df['nb_steps']:\n",
        "      if s < previous_step:\n",
        "          accumulated_steps += previous_step\n",
        "          value= s + accumulated_steps\n",
        "      else:\n",
        "          if accumulated_steps == 0:\n",
        "              value = s\n",
        "          else:\n",
        "              value = s+ accumulated_steps\n",
        "      previous_step = s\n",
        "      fixed_steps.append(value)\n",
        "\n",
        "\n",
        "    df['fixed_steps'] = fixed_steps\n",
        "    print(f\"[INFO] Último valor en 'fixed_steps': {fixed_steps[-1]}\")\n",
        "\n",
        "    # Graficar\n",
        "    plt.figure(figsize=(10, 5))\n",
        "    plt.plot(df['fixed_steps'], df['episode_reward'])\n",
        "    plt.title(f\"{model_name}: Episode Reward vs Steps\")\n",
        "    plt.xlabel(\"Steps\")\n",
        "    plt.ylabel(\"Episode Reward\")\n",
        "    plt.grid(True)\n",
        "\n",
        "    output_path = os.path.join(model_dir, f\"{model_name}_episode_reward_fixed_steps.png\")\n",
        "    plt.savefig(output_path)\n",
        "    print(f\"[INFO] Gráfica guardada en: {output_path}\")\n",
        "    plt.show()\n",
        "\n",
        "    if save_clean_csv:\n",
        "        clean_csv_path = os.path.join(model_dir, f\"{model_name}_cleaned_log_fixed.csv\")\n",
        "        df.to_csv(clean_csv_path, index=False)\n",
        "        print(f\"[INFO] CSV corregido guardado en: {clean_csv_path}\")\n",
        "  '''"
      ],
      "metadata": {
        "id": "c9KxgJ090eku",
        "outputId": "a610b711-f7e1-436a-de38-2e3970116211",
        "colab": {
          "base_uri": "https://localhost:8080/",
          "height": 162
        }
      },
      "execution_count": null,
      "outputs": [
        {
          "output_type": "execute_result",
          "data": {
            "text/plain": [
              "'\\ndef graph_training_csv(csv_path, model_dir, model_name, save_clean_csv=False):\\n    if not os.path.isfile(csv_path):\\n        print(f\"[ERROR] El archivo \\'{csv_path}\\' no existe.\")\\n        return\\n\\n    try:\\n        df = pd.read_csv(csv_path, usecols=[0, 1, 2])  # Usa encabezados del archivo\\n        df.columns = [\\'episode_jump\\', \\'episode_reward\\', \\'nb_steps\\']\\n    except Exception as e:\\n        print(f\"[ERROR] No se pudo leer el CSV: {e}\")\\n        return\\n\\n    # Ignorar la primera fila de datos (por ejemplo, episodio 1)\\n    df = df.iloc[1:].reset_index(drop=True)\\n\\n    # Convertir nb_steps a entero seguro\\n    df[\\'nb_steps\\'] = pd.to_numeric(df[\\'nb_steps\\'], errors=\\'coerce\\')\\n    df = df.dropna(subset=[\\'nb_steps\\'])\\n    df[\\'nb_steps\\'] = df[\\'nb_steps\\'].astype(int)\\n\\n    fixed_steps = []\\n    accumulated_steps = 0\\n    previous_step = df[\\'nb_steps\\'].iloc[0]\\n\\n    for s in df[\\'nb_steps\\']:\\n      if s < previous_step:\\n          accumulated_steps += previous_step\\n          value= s + accumulated_steps\\n      else:\\n          if accumulated_steps == 0:\\n              value = s\\n          else:\\n              value = s+ accumulated_steps\\n      previous_step = s\\n      fixed_steps.append(value)\\n\\n\\n    df[\\'fixed_steps\\'] = fixed_steps\\n    print(f\"[INFO] Último valor en \\'fixed_steps\\': {fixed_steps[-1]}\")\\n\\n    # Graficar\\n    plt.figure(figsize=(10, 5))\\n    plt.plot(df[\\'fixed_steps\\'], df[\\'episode_reward\\'])\\n    plt.title(f\"{model_name}: Episode Reward vs Steps\")\\n    plt.xlabel(\"Steps\")\\n    plt.ylabel(\"Episode Reward\")\\n    plt.grid(True)\\n\\n    output_path = os.path.join(model_dir, f\"{model_name}_episode_reward_fixed_steps.png\")\\n    plt.savefig(output_path)\\n    print(f\"[INFO] Gráfica guardada en: {output_path}\")\\n    plt.show()\\n\\n    if save_clean_csv:\\n        clean_csv_path = os.path.join(model_dir, f\"{model_name}_cleaned_log_fixed.csv\")\\n        df.to_csv(clean_csv_path, index=False)\\n        print(f\"[INFO] CSV corregido guardado en: {clean_csv_path}\")\\n  '"
            ],
            "application/vnd.google.colaboratory.intrinsic+json": {
              "type": "string"
            }
          },
          "metadata": {},
          "execution_count": 55
        }
      ]
    },
    {
      "cell_type": "code",
      "source": [
        "# FUNCIÓN PARA PLOTEAR LOGS DEL TRAINING *** BENJAMIN ***\n",
        "def analyze_training(model_name, window_size):\n",
        "    \"\"\"\n",
        "    Analiza el log de entrenamiento de un modelo de RL, genera gráficos de evolución\n",
        "    de métricas y un informe textual. Incluye un informe de métricas globales y otro\n",
        "    centrado en las métricas después de los window_size ultimos episodios.\n",
        "    Los graficos y datos son guardados en MODEL_DIR/graphs por fecha.\n",
        "\n",
        "    Args:\n",
        "        model_name (str): El nombre del modelo.\n",
        "        window_size (int): Tamaño de la ventana para la media móvil.\n",
        "    \"\"\"\n",
        "    MODEL_DIR = os.path.join(\"./models\", model_name)\n",
        "    log_csv_path = os.path.join(MODEL_DIR, f'{model_name}_training_log.csv')\n",
        "\n",
        "    if not os.path.exists(log_csv_path):\n",
        "        print(f\"Error: El archivo de log '{log_csv_path}' no se encontró.\")\n",
        "        return\n",
        "\n",
        "    df = pd.read_csv(log_csv_path)\n",
        "\n",
        "    if df.empty:\n",
        "        print(\"El DataFrame está vacío, no se puede continuar.\")\n",
        "        return\n",
        "\n",
        "    # Calcular medias móviles\n",
        "    df['reward_smooth'] = df['episode_reward'].rolling(window=window_size).mean()\n",
        "    df['loss_smooth'] = df['loss'].rolling(window=window_size).mean()\n",
        "    df['q_smooth'] = df['mean_q'].rolling(window=window_size).mean()\n",
        "    df['eps_smooth'] = df['mean_eps'].rolling(window=window_size).mean()\n",
        "\n",
        "    # Generar gráficos\n",
        "    _plot_metrics(df, model_name, window_size, MODEL_DIR)\n",
        "\n",
        "    # Informe global\n",
        "    print(\"\\nINFORME DEL TRAINING (Todas las métricas)\\n\" + \"-\" * 40)\n",
        "    _print_report(df)\n",
        "\n",
        "    # Informe últimos episodios\n",
        "    _analyze_training_last(df, model_name, window_size, MODEL_DIR)\n",
        "\n",
        "def _plot_metrics(df, model_name, window_size, model_dir):\n",
        "    sns.set(style=\"darkgrid\", font_scale=1.2)\n",
        "    fig, axes = plt.subplots(2, 2, figsize=(16, 10))\n",
        "\n",
        "    plots_info = [\n",
        "        ('episode_reward', 'reward_smooth', 'Recompensa por episodio', 'Recompensa', axes[0, 0]),\n",
        "        ('loss', 'loss_smooth', 'Pérdida (loss) por episodio', 'Loss', axes[0, 1]),\n",
        "        ('mean_q', 'q_smooth', 'Q medio por episodio', 'Mean Q', axes[1, 0]),\n",
        "        ('mean_eps', 'eps_smooth', 'Epsilon medio por episodio', 'Mean Eps', axes[1, 1]),\n",
        "    ]\n",
        "\n",
        "    for orig_col, smooth_col, title, ylabel, ax in plots_info:\n",
        "        sns.lineplot(x='episode', y=orig_col, data=df, marker='o', markersize=4, label='Original', ax=ax)\n",
        "        sns.lineplot(x='episode', y=smooth_col, data=df, color='red', linewidth=2, label=f'Media móvil ({window_size})', ax=ax)\n",
        "        ax.set_title(title)\n",
        "        ax.set_xlabel('Episodio')\n",
        "        ax.set_ylabel(ylabel)\n",
        "        ax.grid(True, linestyle='--', alpha=0.7)\n",
        "\n",
        "        handles, labels = ax.get_legend_handles_labels()\n",
        "        unique = dict(zip(labels, handles))\n",
        "        ax.legend(unique.values(), unique.keys(), loc='best')\n",
        "\n",
        "    plt.tight_layout()\n",
        "    graphs_dir = os.path.join(model_dir, \"graphs\")\n",
        "    os.makedirs(graphs_dir, exist_ok=True)\n",
        "\n",
        "    datetime_stamp = pd.to_datetime('today').strftime('%Y%m%d%H%M%S')\n",
        "    graph_path = os.path.join(graphs_dir, f'{datetime_stamp}_{model_name}_training_analyze_graph.png')\n",
        "    csv_path = os.path.join(graphs_dir, f'{datetime_stamp}_{model_name}_training_analyze_log.csv')\n",
        "\n",
        "    plt.savefig(graph_path, dpi=300)\n",
        "    df.to_csv(csv_path, index=False)\n",
        "    plt.show()\n",
        "\n",
        "    print(f\"Gráfico guardado en: {graph_path}\")\n",
        "    print(f\"CSV de informe guardado en: {csv_path}\")\n",
        "\n",
        "def _print_report(df):\n",
        "    print(f\"Episodios totales: {df['episode'].max()}\")\n",
        "    print(f\"Recompensa media: {df['episode_reward'].mean():.2f}\")\n",
        "    print(f\"Recompensa máxima: {df['episode_reward'].max()}\")\n",
        "    print(f\"Recompensa mínima: {df['episode_reward'].min()}\")\n",
        "    print(f\"Loss medio: {df['loss'].mean(skipna=True):.6f}\")\n",
        "    print(f\"Mean Q medio: {df['mean_q'].mean(skipna=True):.6f}\")\n",
        "    print(f\"Epsilon medio: {df['mean_eps'].mean(skipna=True):.6f}\")\n",
        "    print(f\"Pasos medios por episodio: {df['nb_steps'].mean():.2f}\")\n",
        "\n",
        "    if len(df) > 1:\n",
        "        reward_diff = df['episode_reward'].iloc[-1] - df['episode_reward'].iloc[0]\n",
        "        if reward_diff > 0:\n",
        "            print(f\"La recompensa final ({df['episode_reward'].iloc[-1]:.2f}) es mayor que la inicial ({df['episode_reward'].iloc[0]:.2f}), indicando una mejora.\")\n",
        "        else:\n",
        "            print(f\"La recompensa final ({df['episode_reward'].iloc[-1]:.2f}) no ha mejorado significativamente respecto a la inicial ({df['episode_reward'].iloc[0]:.2f}).\")\n",
        "    else:\n",
        "        print(\"No hay suficientes episodios para evaluar la evolución de la recompensa global.\")\n",
        "\n",
        "def _analyze_training_last(df_full, model_name, window_size, model_dir):\n",
        "    latest_log_path = _get_latest_log_file(model_dir, model_name)\n",
        "    if not latest_log_path:\n",
        "        print(\"No se encontró un CSV de análisis previo para los últimos episodios.\")\n",
        "        return\n",
        "\n",
        "    df = pd.read_csv(latest_log_path)\n",
        "    if df.empty:\n",
        "        print(\"El DataFrame de los últimos episodios está vacío.\")\n",
        "        return\n",
        "\n",
        "    df = df.tail(window_size + 1).iloc[:-1]\n",
        "\n",
        "    print(f\"\\nINFORME DEL TRAINING (últimos {window_size} episodios completados {df['episode'].min()} al {df['episode'].max()})\\n\" + \"-\" * 40)\n",
        "    _print_report(df)\n",
        "\n",
        "def _get_latest_log_file(model_dir, model_name):\n",
        "    pattern = os.path.join(model_dir, \"graphs\", f'*_{model_name}_training_analyze_log.csv')\n",
        "    files = glob.glob(pattern)\n",
        "    if not files:\n",
        "        return None\n",
        "    return max(files, key=os.path.basename)"
      ],
      "metadata": {
        "id": "Gd1JuAi9rCqr"
      },
      "execution_count": null,
      "outputs": []
    },
    {
      "cell_type": "code",
      "source": [
        "# CALLBACK CUSTOM DEL LOGGER PARA PODER GUARDAR TODA LA INFO EN UN MISMO FICHERO YA QUE ANTES SE SOBREESCRIBÍA\n",
        "# BSL: AÑADIDAS NUEVAS MÉTRICAS AL LOGGER\n",
        "\n",
        "class EpisodeLoggerCSV(Callback):\n",
        "    def __init__(self, filepath, verbose=False):\n",
        "        super().__init__()\n",
        "        self.filepath = filepath\n",
        "        self.verbose = verbose\n",
        "        self.fields = [\n",
        "            'episode', 'episode_reward', 'nb_steps', 'duration',\n",
        "            'loss', 'mae', 'mean_q', 'mean_eps', 'ale.lives',\n",
        "            'reward_min', 'reward_max'\n",
        "        ]\n",
        "        self.episode_count = 0\n",
        "        self.file = None\n",
        "        self.writer = None\n",
        "        self._reset_episode_stats()\n",
        "\n",
        "    def _reset_episode_stats(self):\n",
        "        self.losses = []\n",
        "        self.q_values = []\n",
        "        self.maes = []\n",
        "        self.epsilons = []\n",
        "        self.lives = []\n",
        "        self.reward_values = []\n",
        "\n",
        "    def on_train_begin(self, logs=None):\n",
        "        file_exists = os.path.exists(self.filepath)\n",
        "\n",
        "        # Read the last episode number if the file exists\n",
        "        if file_exists:\n",
        "            with open(self.filepath, mode='r', newline='') as f:\n",
        "                reader = csv.DictReader(f)\n",
        "                try:\n",
        "                    # Go to the last row and get the episode number\n",
        "                    for row in reader:\n",
        "                        pass # Iterate to the last row\n",
        "                    if 'episode' in row:\n",
        "                        self.episode_count = int(row['episode'])\n",
        "                        print(f\"Resuming from episode: {self.episode_count}\")\n",
        "                except Exception as e:\n",
        "                    print(f\"Error reading last episode from CSV: {e}. Starting episode count from 0.\")\n",
        "                    self.episode_count = 0 # Fallback in case of empty or malformed file\n",
        "\n",
        "        self.file = open(self.filepath, mode='a', newline='')\n",
        "        self.writer = csv.DictWriter(self.file, fieldnames=self.fields)\n",
        "\n",
        "        if not file_exists:\n",
        "            self.writer.writeheader()\n",
        "\n",
        "    def on_step_end(self, step, logs=None):\n",
        "        logs = logs or {}\n",
        "        if 'metrics' in logs and logs['metrics'] is not None:\n",
        "            metrics = logs['metrics']\n",
        "            if len(metrics) >= 4:\n",
        "                loss, mae, mean_q, mean_eps = metrics\n",
        "                if not np.isnan(loss):\n",
        "                    self.losses.append(loss)\n",
        "                if not np.isnan(mae):\n",
        "                    self.maes.append(mae)\n",
        "                if not np.isnan(mean_q):\n",
        "                    self.q_values.append(mean_q)\n",
        "                if not np.isnan(mean_eps):\n",
        "                    self.epsilons.append(mean_eps)\n",
        "        if 'reward' in logs:\n",
        "            self.reward_values.append(logs['reward'])\n",
        "        if 'info' in logs and 'ale.lives' in logs['info']:\n",
        "            self.lives.append(float(logs['info']['ale.lives']))\n",
        "\n",
        "    def on_episode_end(self, episode, logs=None):\n",
        "        self.episode_count += 1\n",
        "        logs = logs or {}\n",
        "\n",
        "        row = {\n",
        "            'episode': self.episode_count,\n",
        "            'episode_reward': logs.get('episode_reward'),\n",
        "            'nb_steps': logs.get('nb_steps'),\n",
        "            'duration': logs.get('duration'),\n",
        "            'loss': np.mean(self.losses) if self.losses else None,\n",
        "            'mae': np.mean(self.maes) if self.maes else None,\n",
        "            'mean_q': np.mean(self.q_values) if self.q_values else None,\n",
        "            'mean_eps': np.mean(self.epsilons) if self.epsilons else None,\n",
        "            'ale.lives': np.mean(self.lives) if self.lives else None,\n",
        "            'reward_min': np.min(self.reward_values) if self.reward_values else None,\n",
        "            'reward_max': np.max(self.reward_values) if self.reward_values else None\n",
        "        }\n",
        "\n",
        "        self.writer.writerow(row)\n",
        "        self.file.flush()\n",
        "\n",
        "        if self.verbose:\n",
        "            print(f\"[Log CSV] Episodio {row['episode']} - Recompensa: {row['episode_reward']} - \"\n",
        "                  f\"Loss: {row['loss']}, MAE: {row['mae']}, Mean Q: {row['mean_q']}\")\n",
        "\n",
        "        self._reset_episode_stats()\n",
        "\n",
        "    def on_train_end(self, logs=None):\n",
        "        if self.file:\n",
        "            self.file.close()"
      ],
      "metadata": {
        "id": "qUOajl31fsW7"
      },
      "execution_count": null,
      "outputs": []
    },
    {
      "cell_type": "code",
      "execution_count": null,
      "metadata": {
        "tags": [],
        "id": "jqpjeC-6J9xP"
      },
      "outputs": [],
      "source": [
        "# CALLBACK CUSTOM PARA GUARDAR LOS CHECKPOINTS CON EL NOMBRE BIEN CUANDO SE REINICIA EL ENTRENAMIENTO Y LA MEMORIA\n",
        "class AccumulatedCheckpoint(Callback):\n",
        "    def __init__(self, base_path, env_name, interval, initial_step=0):\n",
        "        super().__init__()\n",
        "        self.base_path = base_path\n",
        "        self.weights_path = os.path.join(base_path, f'dqn_{env_name}_weights_{{step}}.h5f')\n",
        "        self.memory_path= os.path.join(base_path,'memory.pkl')\n",
        "        self.policy_state_path = os.path.join(base_path, 'policy.json')\n",
        "        self.interval = interval\n",
        "        self.total_steps = initial_step\n",
        "        print(f\"Callback iniciado desde paso {self.total_steps}\")\n",
        "\n",
        "    def on_step_end(self, step, logs={}):\n",
        "        self.total_steps += 1\n",
        "        if self.total_steps % self.interval == 0:\n",
        "            base = self.base_path.format(step=self.total_steps)\n",
        "\n",
        "            # Guardar pesos del modelo\n",
        "            weights_path = self.weights_path\n",
        "            weights_path = self.weights_path.format(step=self.total_steps)\n",
        "            self.model.save_weights(weights_path, overwrite=True)\n",
        "            print(f\"\\n[Checkpoint] Pesos guardados en: {weights_path}\")\n",
        "\n",
        "            # Guardar memoria de repetición\n",
        "            memory_path = self.memory_path\n",
        "            temp_path = memory_path + \".tmp\"\n",
        "\n",
        "            with open(temp_path, \"wb\") as f:\n",
        "                pickle.dump(self.model.memory, f)\n",
        "\n",
        "            # Solo si guardar ha ido bien\n",
        "            os.replace(temp_path, memory_path)\n",
        "            print(f\"\\n[Checkpoint] Memoria guardada de forma segura en: {memory_path}\")"
      ]
    },
    {
      "cell_type": "code",
      "execution_count": null,
      "metadata": {
        "tags": [],
        "id": "QEeBZCr1J9xP"
      },
      "outputs": [],
      "source": [
        "# FUNCIÓN PARA CARGAR EL ÚLTMO CHECKPOINT DETECTADO\n",
        "def load_last_checkpoint(dqn):\n",
        "  latest_checkpoint=None\n",
        "  # Buscar todos los checkpoints por su archivo .index\n",
        "  pattern = os.path.join(CHECKPOINTS_DIR, f'dqn_{env_name}_weights_*.h5f.index')\n",
        "  checkpoints = glob.glob(pattern)\n",
        "\n",
        "  # Valor por defecto si no se encuentra checkpoint\n",
        "  last_checkpoint_steps = 0\n",
        "\n",
        "  if checkpoints:\n",
        "      # Extraer el número de paso del nombre\n",
        "      def extract_step(filename):\n",
        "          try:\n",
        "              name = os.path.basename(filename)\n",
        "              step_part = name.split('_weights_')[1].replace('.h5f.index', '')\n",
        "              return int(step_part)\n",
        "          except:\n",
        "              return -1\n",
        "\n",
        "      # Seleccionar el checkpoint con mayor número de pasos\n",
        "      latest_index = max(checkpoints, key=extract_step)\n",
        "\n",
        "      # Quitar la extensión .index para obtener el nombre base\n",
        "      latest_checkpoint = latest_index.replace('.index', '')\n",
        "\n",
        "      print(f\"[DQN] Cargando último checkpoint: {latest_checkpoint}\")\n",
        "      dqn.load_weights(latest_checkpoint)\n",
        "\n",
        "      # Aquí extraemos los pasos acumulados\n",
        "      last_checkpoint_steps = extract_step(latest_index)\n",
        "  else:\n",
        "      print(\"[DQN] No se encontró ningún checkpoint, entrenamiento desde cero.\")\n",
        "  return dqn, last_checkpoint_steps,latest_checkpoint"
      ]
    },
    {
      "cell_type": "code",
      "source": [
        "# FUNCIÓN QUE PERMITE AJUSTAR LOS PARÁMETROS DE LA POLICY PARA QUE EL ENTRENAMIENTO SE REAUNDE POR DONDE TOCA\n",
        "# SI NO POR DEFECTO COMENZARÍA EN EL VALOR MÁXIMO DE EPSILON\n",
        "def adjust_policy_params(scheduler_steps, train_steps, current_step, value_max=1.0, value_min=0.1):\n",
        "    \"\"\"\n",
        "    Ajusta dinámicamente los parámetros de LinearAnnealedPolicy para reanudar la exploración desde el punto correcto.\n",
        "\n",
        "    Args:\n",
        "        scheduler_steps (int): Número de pasos que define la duración del decaimiento de eps.\n",
        "        train_steps (int): Número total de pasos planeados para el entrenamiento.\n",
        "        current_step (int): Paso actual o recuperado del checkpoint.\n",
        "        value_max (float): Valor inicial deseado de eps.\n",
        "        value_min (float): Valor mínimo deseado de eps.\n",
        "\n",
        "    Returns:\n",
        "        tuple: (value_max_ajustado, value_min, scheduler_steps_restantes)\n",
        "    \"\"\"\n",
        "    if current_step >= scheduler_steps:\n",
        "        # Ya se alcanzó el mínimo, mantenerlo constante\n",
        "        return value_min, value_min, 1  # eps se queda fijo\n",
        "\n",
        "    # Calcular epsilon actual desde el punto alcanzado\n",
        "    frac = current_step / scheduler_steps\n",
        "    current_eps = value_max - (value_max - value_min) * frac\n",
        "\n",
        "    # Pasos restantes para completar el scheduler\n",
        "    steps_remaining = scheduler_steps - current_step\n",
        "    return current_eps, value_min, steps_remaining"
      ],
      "metadata": {
        "id": "o2PywN6Wsef_"
      },
      "execution_count": null,
      "outputs": []
    },
    {
      "cell_type": "code",
      "source": [
        "# FUNCIÓN PARA CARGAR LA MEMORIA Y EL NÚMERO DE PASOS DEL MODELO\n",
        "def get_memory_and_last_steps():\n",
        "  pattern = os.path.join(CHECKPOINTS_DIR, f'dqn_{env_name}_weights_*.h5f.index')\n",
        "  checkpoints = glob.glob(pattern)\n",
        "  last_checkpoint_steps = 0\n",
        "  memory = None\n",
        "\n",
        "  if checkpoints:\n",
        "      def extract_step(filename):\n",
        "          try:\n",
        "              name = os.path.basename(filename)\n",
        "              step_part = name.split('_weights_')[1].replace('.h5f.index', '')\n",
        "              return int(step_part)\n",
        "          except:\n",
        "              return -1\n",
        "\n",
        "      # Encontrar el último checkpoint\n",
        "      latest_index = max(checkpoints, key=extract_step)\n",
        "      latest_checkpoint = latest_index.replace('.index', '')\n",
        "      last_checkpoint_steps = extract_step(latest_index)\n",
        "      print(f\"Último step de checkpoint: {last_checkpoint_steps}\")\n",
        "\n",
        "      # Cargar memoria\n",
        "      memory_path = os.path.join(CHECKPOINTS_DIR, \"memory.pkl\")\n",
        "      if os.path.exists(memory_path):\n",
        "          with open(memory_path, \"rb\") as f:\n",
        "              memory = pickle.load(f)\n",
        "          print(f\"Memoria cargada desde: {memory_path}\")\n",
        "      else:\n",
        "          print(\"No se encontró memoria para este checkpoint.\")\n",
        "\n",
        "  else:\n",
        "      print(\"No se encontró ningún checkpoint, entrenamiento desde cero.\")\n",
        "  return memory, last_checkpoint_steps"
      ],
      "metadata": {
        "id": "88T-Q17-t1cw"
      },
      "execution_count": null,
      "outputs": []
    },
    {
      "cell_type": "markdown",
      "metadata": {
        "tags": [],
        "id": "RpVqx7bnJLKg"
      },
      "source": [
        "# MODELO 1"
      ]
    },
    {
      "cell_type": "markdown",
      "metadata": {
        "tags": [],
        "id": "8LLw2c6rJao8"
      },
      "source": [
        "### Red neuronal basada en el paper: https://arxiv.org/pdf/1312.5602"
      ]
    },
    {
      "cell_type": "markdown",
      "metadata": {
        "id": "8uEMcNQ45ISB"
      },
      "source": [
        "En el paper se implementa una red neuronal convolucional que tiene de entrada una pila de cuatro imágenes en escala de grises de 84×84. La red tiene de tres capas convolucionales: la 1ª con 32 filtros de 8×8 y un stride 4, la 2ª con 64 filtros de 4×4 y un stride 2, y la 3ª con 64 filtros de 3×3 y stride 1, todas con activación ReLU. Depués, las salidas se aplanan y se pasan por una una capa densa de 512 neuronas con activación ReLU, seguida de una capa de salida lineal con una neurona por cada acción posible, que son los valores Q predichos."
      ]
    },
    {
      "cell_type": "markdown",
      "metadata": {
        "id": "lD1zn2JI5ISB"
      },
      "source": [
        "#### Con las siguientes modificaciones:\n",
        "Se ha incorporado la normalización de las imágenes al rango 0-1, que como se ha visto en redes neuronales puede estabilizar mejor el entrenamiento. También, se han añadido capas de BatchNormalization porque también se ha estudiado en la misma asgnatura que acelera la convergencia y reduce el riesgo de que exploten los gradientes."
      ]
    },
    {
      "cell_type": "markdown",
      "metadata": {
        "id": "HT45Y6y25ISB"
      },
      "source": [
        "## DQN\n",
        "DQN implementado basándose en el github oficial de keras rl2: https://github.com/inarikami/keras-rl2/tree/master"
      ]
    },
    {
      "cell_type": "markdown",
      "metadata": {
        "id": "7yitXTADGb2b"
      },
      "source": [
        "1. Implementación de la red neuronal"
      ]
    },
    {
      "cell_type": "code",
      "execution_count": null,
      "metadata": {
        "id": "O4GKrfWSGb2b",
        "outputId": "27f8fb6d-f77b-4793-8d94-c88c7bdb284f",
        "tags": [],
        "colab": {
          "base_uri": "https://localhost:8080/"
        }
      },
      "outputs": [
        {
          "output_type": "stream",
          "name": "stdout",
          "text": [
            "Model: \"sequential_4\"\n",
            "_________________________________________________________________\n",
            " Layer (type)                Output Shape              Param #   \n",
            "=================================================================\n",
            " permute_4 (Permute)         (None, 84, 84, 4)         0         \n",
            "                                                                 \n",
            " lambda_4 (Lambda)           (None, 84, 84, 4)         0         \n",
            "                                                                 \n",
            " conv2d_12 (Conv2D)          (None, 20, 20, 32)        8224      \n",
            "                                                                 \n",
            " batch_normalization_12 (Bat  (None, 20, 20, 32)       128       \n",
            " chNormalization)                                                \n",
            "                                                                 \n",
            " activation_20 (Activation)  (None, 20, 20, 32)        0         \n",
            "                                                                 \n",
            " conv2d_13 (Conv2D)          (None, 9, 9, 64)          32832     \n",
            "                                                                 \n",
            " batch_normalization_13 (Bat  (None, 9, 9, 64)         256       \n",
            " chNormalization)                                                \n",
            "                                                                 \n",
            " activation_21 (Activation)  (None, 9, 9, 64)          0         \n",
            "                                                                 \n",
            " conv2d_14 (Conv2D)          (None, 7, 7, 64)          36928     \n",
            "                                                                 \n",
            " batch_normalization_14 (Bat  (None, 7, 7, 64)         256       \n",
            " chNormalization)                                                \n",
            "                                                                 \n",
            " activation_22 (Activation)  (None, 7, 7, 64)          0         \n",
            "                                                                 \n",
            " flatten_4 (Flatten)         (None, 3136)              0         \n",
            "                                                                 \n",
            " dense_8 (Dense)             (None, 512)               1606144   \n",
            "                                                                 \n",
            " activation_23 (Activation)  (None, 512)               0         \n",
            "                                                                 \n",
            " dense_9 (Dense)             (None, 6)                 3078      \n",
            "                                                                 \n",
            " activation_24 (Activation)  (None, 6)                 0         \n",
            "                                                                 \n",
            "=================================================================\n",
            "Total params: 1,687,846\n",
            "Trainable params: 1,687,526\n",
            "Non-trainable params: 320\n",
            "_________________________________________________________________\n"
          ]
        }
      ],
      "source": [
        "# CREACIÓN DEL MODELO\n",
        "model_name=\"modelo6\"\n",
        "\n",
        "model = Sequential()\n",
        "\n",
        "input_shape = (WINDOW_LENGTH,) + INPUT_SHAPE\n",
        "\n",
        "# Rorganizar las imágenes para que el window length quede en la dimensión de los canales\n",
        "if K.image_data_format() == 'channels_last':\n",
        "    model.add(Permute((2, 3, 1), input_shape=input_shape))  # (4, H, W) → (H, W, 4)\n",
        "elif K.image_data_format() == 'channels_first':\n",
        "    model.add(Permute((1, 2, 3), input_shape=input_shape))\n",
        "else:\n",
        "    raise RuntimeError('Unknown image_dim_ordering.')\n",
        "\n",
        "# Normalizar los valores de píxeles\n",
        "model.add(Lambda(lambda x: x / 255.0))\n",
        "\n",
        "# Primera capa convolucional\n",
        "model.add(Convolution2D(32, (8, 8), strides=(4, 4)))\n",
        "model.add(BatchNormalization())\n",
        "model.add(Activation('relu'))\n",
        "\n",
        "# Segunda\n",
        "model.add(Convolution2D(64, (4, 4), strides=(2, 2)))\n",
        "model.add(BatchNormalization())\n",
        "model.add(Activation('relu'))\n",
        "\n",
        "# Tercera\n",
        "model.add(Convolution2D(64, (3, 3), strides=(1, 1)))\n",
        "model.add(BatchNormalization())\n",
        "model.add(Activation('relu'))\n",
        "\n",
        "# Densas\n",
        "model.add(Flatten())\n",
        "model.add(Dense(512))\n",
        "model.add(Activation('relu'))\n",
        "\n",
        "# Salida con el número de acciones\n",
        "model.add(Dense(nb_actions))\n",
        "model.add(Activation('linear'))\n",
        "\n",
        "model.summary()"
      ]
    },
    {
      "cell_type": "markdown",
      "metadata": {
        "id": "OB9-_5HPGb2b"
      },
      "source": [
        "2. Implementación de la solución DQN"
      ]
    },
    {
      "cell_type": "code",
      "source": [
        "# GENERACIÓN O CARGA MODELO\n",
        "MODEL_DIR, WEIGHTS_DIR, CHECKPOINTS_DIR = get_dirs(model_name)\n",
        "# save_hyperparams(HYPERPARAMETERS_DIR, filename=model_name+\".json\")\n",
        "load_hyperparams(model_name)"
      ],
      "metadata": {
        "colab": {
          "base_uri": "https://localhost:8080/"
        },
        "id": "JxBLemXQQam3",
        "outputId": "aab26a30-e28c-4536-ab29-74cff7379d90"
      },
      "execution_count": null,
      "outputs": [
        {
          "output_type": "stream",
          "name": "stdout",
          "text": [
            "[INFO] Fichero de hiperparámetros no encontrado. Creado por defecto en: /content/gdrive/My Drive/08_MIAR/actividades/proyecto practico/models/modelo6/modelo6.json\n",
            "[INFO] Hiperparámetros cargados desde /content/gdrive/My Drive/08_MIAR/actividades/proyecto practico/models/modelo6/modelo6.json\n"
          ]
        }
      ]
    },
    {
      "cell_type": "code",
      "execution_count": null,
      "metadata": {
        "id": "foSlxWH1Gb2b",
        "tags": [],
        "colab": {
          "base_uri": "https://localhost:8080/"
        },
        "outputId": "e992549e-5719-49e9-e434-00cf3d9c4631"
      },
      "outputs": [
        {
          "output_type": "stream",
          "name": "stdout",
          "text": [
            "No se encontró ningún checkpoint, entrenamiento desde cero.\n",
            "Memoria inicializada de 0\n",
            "Valores de la policy: value_min=0.1, value_max=1.0, scheduler_steps=1000000\n"
          ]
        }
      ],
      "source": [
        "# DEFINICIÓN DE LA POLICY\n",
        "\n",
        "memory, last_checkpoint_steps=get_memory_and_last_steps()\n",
        "\n",
        "value_max, value_min, new_scheduler_steps = adjust_policy_params(\n",
        "    scheduler_steps=SCHEDULER_STEPS,\n",
        "    train_steps=TRAIN_STEPS,\n",
        "    current_step=last_checkpoint_steps\n",
        ")\n",
        "if not memory:\n",
        "  memory = SequentialMemory(limit=MEMORY_SIZE, window_length=WINDOW_LENGTH)\n",
        "  print(\"Memoria inicializada de 0\")\n",
        "\n",
        "print(f\"Valores de la policy: value_min={value_min}, value_max={value_max}, scheduler_steps={new_scheduler_steps}\")\n",
        "\n",
        "processor = AtariProcessor()\n",
        "\n",
        "policy = LinearAnnealedPolicy(EpsGreedyQPolicy(), attr='eps',\n",
        "                              value_max=value_max, value_min=value_min,\n",
        "                              value_test=.05,\n",
        "                              nb_steps=new_scheduler_steps)\n",
        "#policy = LinearAnnealedPolicy(EpsGreedyQPolicy(), attr='eps',\n",
        "#                              value_max=1., value_min=.1,\n",
        "#                              value_test=.05,\n",
        "#                              nb_steps=SCHEDULER_STEPS)"
      ]
    },
    {
      "cell_type": "code",
      "execution_count": null,
      "metadata": {
        "id": "G6mWUNNi5ISE",
        "tags": [],
        "outputId": "69dda3ec-a310-40aa-d001-ad330d4c9c31",
        "colab": {
          "base_uri": "https://localhost:8080/"
        }
      },
      "outputs": [
        {
          "output_type": "stream",
          "name": "stdout",
          "text": [
            "Se usarán 50000 warmup steps\n"
          ]
        }
      ],
      "source": [
        "# CREACIÓN DEL AGENTE DQN\n",
        "if WARMUP_STEPS-last_checkpoint_steps>0:\n",
        "  WARMUP_STEPS=WARMUP_STEPS-last_checkpoint_steps\n",
        "else:\n",
        "  WARMUP_STEPS=0\n",
        "print(f\"Se usarán {WARMUP_STEPS} warmup steps\")\n",
        "dqn = DQNAgent(model=model,\n",
        "               nb_actions=nb_actions,\n",
        "               policy=policy,\n",
        "               memory=memory,\n",
        "               processor=processor,\n",
        "               nb_steps_warmup=WARMUP_STEPS,\n",
        "               gamma=GAMMA,\n",
        "               target_model_update=MODEL_UPDATE,\n",
        "               train_interval=4,\n",
        "               delta_clip=DELTA_CLIP)\n",
        "\n",
        "if IN_COLAB:\n",
        "    # Parche para evitar el error 'get_updates' que ya no existe\n",
        "    def patched_get_updates(self, loss, params):\n",
        "        return []\n",
        "    Adam.get_updates = patched_get_updates\n",
        "\n",
        "dqn.compile(Adam(learning_rate=LEARNING_RATE), metrics=['mae'])"
      ]
    },
    {
      "cell_type": "code",
      "source": [
        "# DEFINICIÓN DE LOS NOMBRES DE FICHEROS DE SALIDA\n",
        "weights_filename = os.path.join(WEIGHTS_DIR, 'dqn_{}_weights_{}.h5f'.format(env_name, model_name))\n",
        "checkpoint_weights_filename = os.path.join(CHECKPOINTS_DIR, 'dqn_' + env_name + '_weights_{step}.h5f')\n",
        "log_filename =os.path.join(MODEL_DIR, 'dqn_{}_log_{}.json'.format(env_name, model_name))\n",
        "log_csv_path = os.path.join(MODEL_DIR, f'{model_name}_training_log.csv')\n"
      ],
      "metadata": {
        "id": "TxfFDyGzS3_K"
      },
      "execution_count": null,
      "outputs": []
    },
    {
      "cell_type": "code",
      "execution_count": null,
      "metadata": {
        "tags": [],
        "id": "OgEZ4q9OB41r",
        "outputId": "de3230a0-b1eb-4299-9698-455dfc2c44f6",
        "colab": {
          "base_uri": "https://localhost:8080/"
        }
      },
      "outputs": [
        {
          "output_type": "stream",
          "name": "stdout",
          "text": [
            "[DQN] No se encontró ningún checkpoint, entrenamiento desde cero.\n",
            "Callback iniciado desde paso 0\n"
          ]
        }
      ],
      "source": [
        "# CARGAR PESOS DEL ÚLTIMO CHECKPOINT SI EXISTE\n",
        "dqn, last_checkpoint_steps,latest_checkpoint= load_last_checkpoint(dqn)\n",
        "# CREAR CALLBACKS CUSTOMIZADOS QUE GUARDAN BIEN LOS CHECKPOINTS Y LOGS DEL TRAINING\n",
        "checkpoint_callback = AccumulatedCheckpoint(\n",
        "      base_path=CHECKPOINTS_DIR,\n",
        "      env_name=env_name,\n",
        "      interval=MODEL_CHECKPOINT_STEPS,\n",
        "      initial_step=last_checkpoint_steps\n",
        "  )\n",
        "callbacks = [checkpoint_callback]\n",
        "dqn.step = last_checkpoint_steps\n",
        "callbacks += [EpisodeLoggerCSV(log_csv_path)]\n",
        "#callbacks =  [ModelIntervalCheckpoint(checkpoint_weights_filename, interval=MODEL_CHECKPOINT_STEPS)]\n",
        "#callbacks += [FileLogger(log_filename, interval=100)] # Gives some errors"
      ]
    },
    {
      "cell_type": "code",
      "execution_count": null,
      "metadata": {
        "id": "-BSoqLO65ISF",
        "tags": [],
        "outputId": "b3095ca9-1b0f-43f3-a0e8-7169a705468f",
        "colab": {
          "base_uri": "https://localhost:8080/"
        }
      },
      "outputs": [
        {
          "output_type": "stream",
          "name": "stdout",
          "text": [
            "Training for 5000000 steps ...\n",
            "Interval 1 (0 steps performed)\n"
          ]
        },
        {
          "output_type": "stream",
          "name": "stderr",
          "text": [
            "/usr/local/lib/python3.11/dist-packages/keras/engine/training_v1.py:2359: UserWarning: `Model.state_updates` will be removed in a future version. This property should not be used in TensorFlow 2.0, as `updates` are applied automatically.\n",
            "  updates=self.state_updates,\n"
          ]
        },
        {
          "output_type": "stream",
          "name": "stdout",
          "text": [
            "10000/10000 [==============================] - 69s 7ms/step - reward: 0.0132\n",
            "13 episodes - episode_reward: 9.769 [4.000, 25.000] - ale.lives: 2.169\n",
            "\n",
            "Interval 2 (10000 steps performed)\n",
            " 5717/10000 [================>.............] - ETA: 29s - reward: 0.0129"
          ]
        }
      ],
      "source": [
        "# ENTRENAR DQN\n",
        "if TRAIN_STEPS>0:\n",
        "  dqn.fit(env, callbacks=callbacks, nb_steps=TRAIN_STEPS-last_checkpoint_steps, log_interval=LOG_INTERVAL, visualize=False)\n",
        "  dqn.save_weights(weights_filename, overwrite=True)"
      ]
    },
    {
      "cell_type": "code",
      "execution_count": null,
      "metadata": {
        "id": "OHYryKd1Gb2b",
        "outputId": "885a3aa8-92bb-4f82-d9b8-42c2f07f475e",
        "tags": [],
        "colab": {
          "base_uri": "https://localhost:8080/"
        }
      },
      "outputs": [
        {
          "output_type": "stream",
          "name": "stdout",
          "text": [
            "Testing for 10 episodes ...\n",
            "Episode 1: reward: 5.000, steps: 950\n",
            "Episode 2: reward: 5.000, steps: 953\n",
            "Episode 3: reward: 2.000, steps: 619\n",
            "Episode 4: reward: 5.000, steps: 929\n",
            "Episode 5: reward: 5.000, steps: 942\n",
            "Episode 6: reward: 3.000, steps: 642\n",
            "Episode 7: reward: 5.000, steps: 962\n",
            "Episode 8: reward: 5.000, steps: 637\n",
            "Episode 9: reward: 1.000, steps: 617\n",
            "Episode 10: reward: 7.000, steps: 959\n"
          ]
        },
        {
          "output_type": "execute_result",
          "data": {
            "text/plain": [
              "<keras.callbacks.History at 0x783e828d2a10>"
            ]
          },
          "metadata": {},
          "execution_count": 49
        }
      ],
      "source": [
        "# Testing part to calculate the mean reward\n",
        "weights_filename =os.path.join(WEIGHTS_DIR, 'dqn_{}_weights_{}.h5f'.format(env_name, model_name))\n",
        "#weights_filename=latest_checkpoint\n",
        "#print(weights_filename)\n",
        "dqn.load_weights(weights_filename)\n",
        "dqn.test(env, nb_episodes=10, visualize=False)"
      ]
    },
    {
      "cell_type": "code",
      "execution_count": null,
      "metadata": {
        "id": "m1ne1WCO5ISG",
        "colab": {
          "base_uri": "https://localhost:8080/"
        },
        "outputId": "c1d17228-f208-4ada-add5-137d180ebb38"
      },
      "outputs": [
        {
          "output_type": "stream",
          "name": "stdout",
          "text": [
            "Error: El archivo de log './models/modelo5/modelo5_training_log.csv' no se encontró.\n"
          ]
        }
      ],
      "source": [
        "analyze_training(model_name,5)"
      ]
    },
    {
      "cell_type": "markdown",
      "metadata": {
        "id": "73g2U2Ik5ISA",
        "tags": []
      },
      "source": [
        "# MODELO 2"
      ]
    },
    {
      "cell_type": "markdown",
      "metadata": {
        "id": "lXkQ9km05ISB",
        "tags": []
      },
      "source": [
        "### Red neuronal basada en el paper: [https://arxiv.org/abs/1511.06581](https://arxiv.org/abs/1511.06581)\n",
        "\n",
        "**Dueling Network Architectures for Deep Reinforcement Learning**\n",
        "**Autores:** Ziyu Wang, Tom Schaul, Matteo Hessel, Hado van Hasselt, Marc Lanctot, Nando de Freitas.\n",
        "**Año de publicación:** 2015"
      ]
    },
    {
      "cell_type": "markdown",
      "source": [
        "El término \"Duel DQN\" o \"Dueling DQN\" (DQN con redes en duelo) se refiere a una arquitectura específica de la red neuronal dentro del marco de DQN (o Double DQN, como estamos discutiendo). No son \"redes separadas\" en el sentido de la red online y la red target, sino una **modificación a la capa de salida de una única red Q** que luego se duplica para formar la red online y la red target.\n",
        "\n",
        "La idea principal de Dueling DQN es que la función Q se puede descomponer en dos componentes:\n",
        "\n",
        "1.  **Valor del estado (V(s))**: Cuánto de bueno es estar en un estado dado, independientemente de la acción.\n",
        "2.  **Ventaja de la acción (A(s, a))**: Cuánto mejor (o peor) es tomar una acción específica en ese estado en comparación con el promedio de las acciones.\n",
        "\n",
        "Así, la función Q se estima como:\n",
        "\n",
        "$Q(s, a; \\theta, \\alpha, \\beta) = V(s; \\theta, \\beta) + (A(s, a; \\theta, \\alpha) - \\frac{1}{|\\mathcal{A}|} \\sum_{a'} A(s, a'; \\theta, \\alpha))$\n",
        "\n",
        "Donde:\n",
        "* $\\theta$: Parámetros de las capas convolucionales (comunes a ambos flujos).\n",
        "* $\\alpha$: Parámetros de la capa densa de ventaja.\n",
        "* $\\beta$: Parámetros de la capa densa de valor.\n",
        "* $|\\mathcal{A}|$: Número de acciones.\n",
        "\n",
        "Esto permite que la red aprenda la importancia de los estados por separado de la importancia de cada acción."
      ],
      "metadata": {
        "id": "_xmRuF8ndGcs"
      }
    },
    {
      "cell_type": "markdown",
      "source": [
        "El paper original donde se introdujo la arquitectura Dueling Network (la base de Dueling DQN) es:\n",
        "\n",
        "**Título:** **Dueling Network Architectures for Deep Reinforcement Learning**\n",
        "**Autores:** Ziyu Wang, Tom Schaul, Matteo Hessel, Hado van Hasselt, Marc Lanctot, Nando de Freitas.\n",
        "**Año de publicación:** 2015\n",
        "**Enlace (arXiv):** [https://arxiv.org/abs/1511.06581](https://arxiv.org/abs/1511.06581)\n",
        "\n",
        "Este es el documento fundamental que describe la idea de descomponer la función de valor Q en un valor de estado ($V(s)$) y una función de ventaja de acción ($A(s,a)$), y cómo combinarlos en una única arquitectura de red neuronal. Es un paper de Google DeepMind y ha sido muy influyente en el campo del Aprendizaje por Refuerzo Profundo.\n",
        "\n",
        "Te recomiendo leerlo para entender a fondo la intuición detrás de la arquitectura y sus beneficios."
      ],
      "metadata": {
        "id": "OhVkW025ccnY"
      }
    },
    {
      "cell_type": "markdown",
      "metadata": {
        "id": "Ibl40JjrJgAV"
      },
      "source": [
        "Describir la NN"
      ]
    },
    {
      "cell_type": "markdown",
      "metadata": {
        "id": "EnKB7Ku-J9xN"
      },
      "source": [
        "#### Con las siguientes modificaciones:\n",
        "\n",
        "Modificaciones..."
      ]
    },
    {
      "cell_type": "markdown",
      "metadata": {
        "id": "9haPoA8_J9xN"
      },
      "source": [
        "## DQN\n",
        "DQN implementado basándose en ..."
      ]
    },
    {
      "cell_type": "markdown",
      "metadata": {
        "id": "np4nwhGdJ9xO"
      },
      "source": [
        "1. Implementación de la red neuronal"
      ]
    },
    {
      "cell_type": "code",
      "execution_count": null,
      "metadata": {
        "outputId": "0c7bd71c-4b90-4729-a1c6-d3c22dc454f2",
        "tags": [],
        "colab": {
          "base_uri": "https://localhost:8080/"
        },
        "id": "3jU5kpR5J9xO"
      },
      "outputs": [
        {
          "output_type": "stream",
          "name": "stdout",
          "text": [
            "\n",
            "Resumen de la Red Dueling DQN: modelo2\n",
            "Model: \"modelo2\"\n",
            "__________________________________________________________________________________________________\n",
            " Layer (type)                   Output Shape         Param #     Connected to                     \n",
            "==================================================================================================\n",
            " Input_Frames (InputLayer)      [(None, 4, 84, 84)]  0           []                               \n",
            "                                                                                                  \n",
            " Permute_Channels (Permute)     (None, 84, 84, 4)    0           ['Input_Frames[0][0]']           \n",
            "                                                                                                  \n",
            " Normalize_Pixels (Lambda)      (None, 84, 84, 4)    0           ['Permute_Channels[0][0]']       \n",
            "                                                                                                  \n",
            " Conv1 (Conv2D)                 (None, 20, 20, 32)   8224        ['Normalize_Pixels[0][0]']       \n",
            "                                                                                                  \n",
            " BN1 (BatchNormalization)       (None, 20, 20, 32)   128         ['Conv1[0][0]']                  \n",
            "                                                                                                  \n",
            " ReLU1 (Activation)             (None, 20, 20, 32)   0           ['BN1[0][0]']                    \n",
            "                                                                                                  \n",
            " Conv2 (Conv2D)                 (None, 9, 9, 64)     32832       ['ReLU1[0][0]']                  \n",
            "                                                                                                  \n",
            " BN2 (BatchNormalization)       (None, 9, 9, 64)     256         ['Conv2[0][0]']                  \n",
            "                                                                                                  \n",
            " ReLU2 (Activation)             (None, 9, 9, 64)     0           ['BN2[0][0]']                    \n",
            "                                                                                                  \n",
            " Conv3 (Conv2D)                 (None, 7, 7, 64)     36928       ['ReLU2[0][0]']                  \n",
            "                                                                                                  \n",
            " BN3 (BatchNormalization)       (None, 7, 7, 64)     256         ['Conv3[0][0]']                  \n",
            "                                                                                                  \n",
            " ReLU3 (Activation)             (None, 7, 7, 64)     0           ['BN3[0][0]']                    \n",
            "                                                                                                  \n",
            " Flatten_Layer (Flatten)        (None, 3136)         0           ['ReLU3[0][0]']                  \n",
            "                                                                                                  \n",
            " Value_Dense (Dense)            (None, 512)          1606144     ['Flatten_Layer[0][0]']          \n",
            "                                                                                                  \n",
            " Advantage_Dense (Dense)        (None, 512)          1606144     ['Flatten_Layer[0][0]']          \n",
            "                                                                                                  \n",
            " Value_ReLU (Activation)        (None, 512)          0           ['Value_Dense[0][0]']            \n",
            "                                                                                                  \n",
            " Advantage_ReLU (Activation)    (None, 512)          0           ['Advantage_Dense[0][0]']        \n",
            "                                                                                                  \n",
            " Value_Output (Dense)           (None, 1)            513         ['Value_ReLU[0][0]']             \n",
            "                                                                                                  \n",
            " Advantage_Output (Dense)       (None, 6)            3078        ['Advantage_ReLU[0][0]']         \n",
            "                                                                                                  \n",
            " Q_Value_Combined (Lambda)      (None, 6)            0           ['Value_Output[0][0]',           \n",
            "                                                                  'Advantage_Output[0][0]']       \n",
            "                                                                                                  \n",
            "==================================================================================================\n",
            "Total params: 3,294,503\n",
            "Trainable params: 3,294,183\n",
            "Non-trainable params: 320\n",
            "__________________________________________________________________________________________________\n"
          ]
        }
      ],
      "source": [
        "model_name = \"modelo2\"\n",
        "\n",
        "# --- 2. Construcción del Modelo Dueling DQN con API Funcional ---\n",
        "\n",
        "# Define la forma de entrada para el modelo\n",
        "input_layer_shape = (WINDOW_LENGTH,) + INPUT_SHAPE\n",
        "\n",
        "# Definimos la capa de entrada del modelo\n",
        "inputs = Input(shape=input_layer_shape, name='Input_Frames')\n",
        "\n",
        "# Reorganizar las imágenes para que el window length quede en la dimensión de los canales\n",
        "if K.image_data_format() == 'channels_last':\n",
        "    x = Permute((2, 3, 1), name='Permute_Channels')(inputs)\n",
        "elif K.image_data_format() == 'channels_first':\n",
        "    # Si ya es (BATCH, CHANNELS, H, W), no necesitamos permutar si INPUT_SHAPE ya incluye el canal.\n",
        "    # Pero si INPUT_SHAPE es solo (H,W) y WINDOW_LENGTH es el canal, Permute es correcto.\n",
        "    # Si la entrada es (WINDOW_LENGTH, H, W) y queremos (WINDOW_LENGTH, H, W), esta línea es redundante\n",
        "    # o puede causar problemas si Keras espera (CHANNELS, H, W)\n",
        "    # Sin embargo, para consistencia con tu original:\n",
        "    x = Permute((1, 2, 3), name='Permute_Channels')(inputs) # Asumiendo que WINDOW_LENGTH es el primer \"canal\"\n",
        "else:\n",
        "    raise RuntimeError('Unknown image_data_format.')\n",
        "\n",
        "# Normalizar los valores de píxeles\n",
        "x = Lambda(lambda x: x / 255.0, name='Normalize_Pixels')(x)\n",
        "\n",
        "# Capas convolucionales\n",
        "# Conv1\n",
        "x = Convolution2D(32, (8, 8), strides=(4, 4), name='Conv1')(x)\n",
        "x = BatchNormalization(name='BN1')(x)\n",
        "x = Activation('relu', name='ReLU1')(x)\n",
        "\n",
        "# Conv2\n",
        "x = Convolution2D(64, (4, 4), strides=(2, 2), name='Conv2')(x)\n",
        "x = BatchNormalization(name='BN2')(x)\n",
        "x = Activation('relu', name='ReLU2')(x)\n",
        "\n",
        "# Conv3\n",
        "x = Convolution2D(64, (3, 3), strides=(1, 1), name='Conv3')(x)\n",
        "x = BatchNormalization(name='BN3')(x)\n",
        "x = Activation('relu', name='ReLU3')(x)\n",
        "\n",
        "# Aplanar la salida de las capas convolucionales antes de las capas densas\n",
        "flattened_output = Flatten(name='Flatten_Layer')(x)\n",
        "\n",
        "# --- Ramificación Dueling DQN ---\n",
        "\n",
        "# 1. Stream para la estimación del Valor (V(s))\n",
        "# Una capa densa seguida de una salida de un solo valor para el estado\n",
        "value_stream = Dense(512, name='Value_Dense')(flattened_output)\n",
        "value_stream = Activation('relu', name='Value_ReLU')(value_stream)\n",
        "value = Dense(1, activation='linear', name='Value_Output')(value_stream) # Salida de valor escalar\n",
        "\n",
        "# 2. Stream para la estimación de la Ventaja (A(s,a))\n",
        "# Una capa densa seguida de salidas para cada acción\n",
        "advantage_stream = Dense(512, name='Advantage_Dense')(flattened_output)\n",
        "advantage_stream = Activation('relu', name='Advantage_ReLU')(advantage_stream)\n",
        "advantage = Dense(nb_actions, activation='linear', name='Advantage_Output')(advantage_stream) # Salida de ventaja para cada acción\n",
        "\n",
        "# Combinación de Valor y Ventaja para obtener Q(s,a)\n",
        "# Q(s,a) = V(s) + (A(s,a) - mean(A(s,a')))\n",
        "# Utilizamos una capa Lambda para esta operación.\n",
        "# K.mean(a[1], axis=1, keepdims=True) calcula el promedio de las ventajas para todas las acciones\n",
        "# `keepdims=True` asegura que la forma se mantenga compatible para la resta\n",
        "output_q_values = Lambda(lambda a: a[0] + (a[1] - K.mean(a[1], axis=1, keepdims=True)),\n",
        "                         output_shape=(nb_actions,), name='Q_Value_Combined')([value, advantage])\n",
        "\n",
        "# Crea el modelo final con las entradas y salidas definidas\n",
        "model = Model(inputs=inputs, outputs=output_q_values, name=model_name)\n",
        "\n",
        "# Muestra un resumen de la arquitectura de la red\n",
        "print(f\"\\nResumen de la Red Dueling DQN: {model_name}\")\n",
        "model.summary()"
      ]
    },
    {
      "cell_type": "markdown",
      "metadata": {
        "id": "wTIIRs1bJ9xO"
      },
      "source": [
        "2. Implementación de la solución DQN"
      ]
    },
    {
      "cell_type": "code",
      "source": [
        "# GENERACIÓN O CARGA MODELO\n",
        "MODEL_DIR, WEIGHTS_DIR, CHECKPOINTS_DIR = get_dirs(model_name)\n",
        "load_hyperparams(model_name)\n",
        "\n",
        "# Añado los hiperparametros para el modelo dueling\n",
        "hiperparametros = {\n",
        "    \"MEMORY_SIZE\": 40000,             # Mucha más memoria para diversidad\n",
        "    \"WARMUP_STEPS\": 10000,             # Más pasos iniciales aleatorios para llenar bien la memoria\n",
        "    \"SCHEDULER_STEPS\": 250000,         # Decaimiento más lento para epsilon\n",
        "    \"GAMMA\": 0.99,                      # Valorar más el largo plazo (mejor para Atari)\n",
        "    \"MODEL_UPDATE\": 5000,               # Target network se actualiza más frecuentemente\n",
        "    \"LEARNING_RATE\": 0.00001,           # Más estable (valor típico en Atari DQN)\n",
        "    \"MODEL_CHECKPOINT_STEPS\": 20000,    # Guardar modelo con menos frecuencia\n",
        "    \"TRAIN_STEPS\": 3000000,             # Aumenta los pasos totales de entrenamiento\n",
        "    \"TRAIN_INTERVAL\": 3,                # Entrena cada 4 pasos de entorno\n",
        "    \"LOG_INTERVAL\": 10000,              # Intervalo logs\n",
        "    \"DELTA_CLIP\": 1.0,                  # Clip de gradiente más amplio (0.5 podría ser muy restrictivo)\n",
        "    \"ENABLE_DOUBLE_DQN\": True,          # Mantener Double DQN\n",
        "    \"ENABLE_DUELING_NETWORK\": True,     # Mantener Dueling\n",
        "    \"EPSILON_START\": 1.0,               # Máxima exploracion al inicio\n",
        "    \"EPSILON_MIN\": 0.1,                 # Que continúe explorando\n",
        "    \"BATCH_SIZE\": 64                    # Batch mayor para gradientes más estables\n",
        "}\n",
        "\n",
        "# Guardar cambios\n",
        "save_hyperparams(model_name)\n",
        "\n",
        "# Volver a cargar para crear las variables globales nuevas\n",
        "load_hyperparams(model_name)\n"
      ],
      "metadata": {
        "id": "8aYOJ-MCYy_X",
        "outputId": "eedfee92-ac86-4358-d46f-09e57191fc01",
        "colab": {
          "base_uri": "https://localhost:8080/"
        }
      },
      "execution_count": null,
      "outputs": [
        {
          "output_type": "stream",
          "name": "stdout",
          "text": [
            "[INFO] Hiperparámetros cargados desde /content/gdrive/My Drive/08_MIAR/actividades/proyecto practico/models/modelo2/modelo2.json\n",
            "[INFO] Hiperparámetros guardados en /content/gdrive/My Drive/08_MIAR/actividades/proyecto practico/models/modelo2/modelo2.json\n",
            "[INFO] Hiperparámetros cargados desde /content/gdrive/My Drive/08_MIAR/actividades/proyecto practico/models/modelo2/modelo2.json\n"
          ]
        }
      ]
    },
    {
      "cell_type": "code",
      "execution_count": null,
      "metadata": {
        "tags": [],
        "id": "Xjm2NtxkJ9xP"
      },
      "outputs": [],
      "source": [
        "# DEFINICIÓN DE LA POLICY\n",
        "memory, last_checkpoint_steps=get_memory_and_last_steps()\n",
        "\n",
        "value_max, value_min, new_scheduler_steps = adjust_policy_params(\n",
        "    scheduler_steps=SCHEDULER_STEPS,\n",
        "    train_steps=TRAIN_STEPS,\n",
        "    current_step=last_checkpoint_steps\n",
        ")\n",
        "if not memory:\n",
        "  memory = SequentialMemory(limit=MEMORY_SIZE, window_length=WINDOW_LENGTH)\n",
        "  print(\"Memoria inicializada de 0\")\n",
        "\n",
        "print(f\"Valores de la policy: value_min={value_min}, value_max={value_max}, scheduler_steps={new_scheduler_steps}\")\n",
        "\n",
        "processor = AtariProcessor()\n",
        "\n",
        "policy = LinearAnnealedPolicy(EpsGreedyQPolicy(), attr='eps',\n",
        "                              value_max=EPSILON_START,\n",
        "                              value_min=EPSILON_MIN,\n",
        "                              value_test=.05,\n",
        "                              nb_steps=new_scheduler_steps)\n"
      ]
    },
    {
      "cell_type": "code",
      "execution_count": null,
      "metadata": {
        "tags": [],
        "id": "E9mNDvVvJ9xP"
      },
      "outputs": [],
      "source": [
        "dqn = DQNAgent(model=model,\n",
        "                     nb_actions=nb_actions,\n",
        "                     policy=policy,\n",
        "                     memory=memory,\n",
        "                     processor=processor,\n",
        "                     nb_steps_warmup=WARMUP_STEPS,\n",
        "                     gamma=GAMMA,\n",
        "                     target_model_update=MODEL_UPDATE,\n",
        "                     batch_size=BATCH_SIZE,\n",
        "                     train_interval=4,\n",
        "                     delta_clip=DELTA_CLIP,\n",
        "                     enable_double_dqn=ENABLE_DOUBLE_DQN,\n",
        "                     enable_dueling_network=ENABLE_DUELING_NETWORK)\n",
        "\n",
        "if IN_COLAB:\n",
        "    # Parche para evitar el error 'get_updates' que ya no existe\n",
        "    def patched_get_updates(self, loss, params):\n",
        "        return []\n",
        "    Adam.get_updates = patched_get_updates\n",
        "\n",
        "# Compilo con el agente el modelo\n",
        "dqn.compile(\n",
        "    Adam(learning_rate=hiperparametros[\"LEARNING_RATE\"]),\n",
        "    metrics=['mae']\n",
        ")"
      ]
    },
    {
      "cell_type": "code",
      "source": [
        "weights_filename = os.path.join(WEIGHTS_DIR, 'dqn_{}_weights_{}.h5f'.format(env_name, model_name))\n",
        "checkpoint_weights_filename = os.path.join(CHECKPOINTS_DIR, 'dqn_' + env_name + '_weights_{step}.h5f')\n",
        "log_filename =os.path.join(MODEL_DIR, 'dqn_{}_log_{}.json'.format(env_name, model_name))\n",
        "log_csv_path = os.path.join(MODEL_DIR, f'{model_name}_training_log.csv')"
      ],
      "metadata": {
        "id": "vY5KFvrgJ9xP"
      },
      "execution_count": null,
      "outputs": []
    },
    {
      "cell_type": "code",
      "execution_count": null,
      "metadata": {
        "tags": [],
        "colab": {
          "base_uri": "https://localhost:8080/"
        },
        "outputId": "3562ca53-af7f-4030-97a5-d9ce50923be5",
        "id": "uQe1Y5n5J9xP"
      },
      "outputs": [
        {
          "output_type": "stream",
          "name": "stdout",
          "text": [
            "[DQN] Cargando último checkpoint: /content/gdrive/My Drive/08_MIAR/actividades/proyecto practico/models/modelo2/checkpoints/dqn_SpaceInvaders-v0_weights_50000.h5f\n",
            "Callback iniciado desde paso 50000\n",
            "Steps que llevaba el modelo entrenado: 50000\n"
          ]
        }
      ],
      "source": [
        "# CARGAR PESOS DEL ÚLTIMO CHECKPOINT SI EXISTE\n",
        "dqn, last_checkpoint_steps = load_last_checkpoint(dqn)\n",
        "# CREAR CALLBACKS CUSTOMIZADOS QUE GUARDAN BIEN LOS CHECKPOINTS Y LOGS DEL TRAINING\n",
        "checkpoint_callback = AccumulatedCheckpoint(\n",
        "      base_path=CHECKPOINTS_DIR,\n",
        "      env_name=env_name,\n",
        "      interval=MODEL_CHECKPOINT_STEPS,\n",
        "      initial_step=last_checkpoint_steps\n",
        "  )\n",
        "callbacks = [checkpoint_callback]\n",
        "dqn.step = last_checkpoint_steps\n",
        "callbacks += [EpisodeLoggerCSV(log_csv_path)]"
      ]
    },
    {
      "cell_type": "code",
      "execution_count": null,
      "metadata": {
        "outputId": "75a86243-7a4b-4f39-e6b9-b3523010e7d2",
        "tags": [],
        "colab": {
          "base_uri": "https://localhost:8080/"
        },
        "id": "A4dLJryCJ9xP"
      },
      "outputs": [
        {
          "output_type": "stream",
          "name": "stdout",
          "text": [
            "Training for 1700000 steps ...\n",
            "Interval 1 (0 steps performed)\n",
            "10000/10000 [==============================] - 71s 7ms/step - reward: 0.0141\n",
            "14 episodes - episode_reward: 9.500 [6.000, 15.000] - ale.lives: 2.090\n",
            "\n",
            "Interval 2 (10000 steps performed)\n",
            "10000/10000 [==============================] - 70s 7ms/step - reward: 0.0130\n",
            "15 episodes - episode_reward: 8.600 [4.000, 17.000] - ale.lives: 2.098\n",
            "\n",
            "Interval 3 (20000 steps performed)\n",
            " 4999/10000 [=============>................] - ETA: 27s - reward: 0.0120\n",
            "[Checkpoint] Guardado en paso 75000: /content/gdrive/My Drive/08_MIAR/actividades/proyecto practico/models/modelo2/checkpoints/dqn_SpaceInvaders-v0_weights_75000.h5f\n",
            "10000/10000 [==============================] - 56s 6ms/step - reward: 0.0138\n",
            "14 episodes - episode_reward: 10.000 [5.000, 16.000] - ale.lives: 2.037\n",
            "\n",
            "Interval 4 (30000 steps performed)\n",
            "10000/10000 [==============================] - 59s 6ms/step - reward: 0.0142\n",
            "14 episodes - episode_reward: 10.643 [3.000, 27.000] - ale.lives: 2.117\n",
            "\n",
            "Interval 5 (40000 steps performed)\n",
            " 9989/10000 [============================>.] - ETA: 0s - reward: 0.0134\n",
            "[Checkpoint] Guardado en paso 100000: /content/gdrive/My Drive/08_MIAR/actividades/proyecto practico/models/modelo2/checkpoints/dqn_SpaceInvaders-v0_weights_100000.h5f\n",
            "10000/10000 [==============================] - 64s 6ms/step - reward: 0.0134\n",
            "16 episodes - episode_reward: 8.062 [4.000, 12.000] - ale.lives: 2.103\n",
            "\n",
            "Interval 6 (50000 steps performed)\n",
            "10000/10000 [==============================] - 485s 49ms/step - reward: 0.0131\n",
            "15 episodes - episode_reward: 8.933 [2.000, 19.000] - loss: 0.316 - mae: 0.670 - mean_q: 1.080 - mean_eps: 0.951 - ale.lives: 2.218\n",
            "\n",
            "Interval 7 (60000 steps performed)\n",
            "10000/10000 [==============================] - 491s 49ms/step - reward: 0.0148\n",
            "14 episodes - episode_reward: 10.500 [4.000, 19.000] - loss: 0.502 - mae: 0.701 - mean_q: 1.078 - mean_eps: 0.942 - ale.lives: 2.264\n",
            "\n",
            "Interval 8 (70000 steps performed)\n",
            " 4901/10000 [=============>................] - ETA: 4:10 - reward: 0.0131"
          ]
        }
      ],
      "source": [
        "# ENTRENAR EL DQN\n",
        "print(json.dumps(hiperparametros, indent=4))\n",
        "\n",
        "if TRAIN_STEPS>0:\n",
        "  dqn.fit(env, callbacks=callbacks, nb_steps=TRAIN_STEPS-last_checkpoint_steps, log_interval=LOG_INTERVAL, visualize=False)\n",
        "  dqn.save_weights(weights_filename, overwrite=True)"
      ]
    },
    {
      "cell_type": "markdown",
      "source": [],
      "metadata": {
        "id": "P15Bcuggr8o5"
      }
    },
    {
      "cell_type": "markdown",
      "source": [
        "## Nueva versión DDDQN con mas experiencia y exploracion"
      ],
      "metadata": {
        "id": "mJ99jw3yktPw"
      }
    },
    {
      "cell_type": "code",
      "source": [
        "model_name = \"ddqn.v3.1\""
      ],
      "metadata": {
        "id": "pO2i7M9fknNp"
      },
      "execution_count": null,
      "outputs": []
    },
    {
      "cell_type": "code",
      "source": [
        "# GENERACIÓN O CARGA MODELO\n",
        "MODEL_DIR, WEIGHTS_DIR, CHECKPOINTS_DIR = get_dirs(model_name)\n",
        "load_hyperparams(model_name)\n",
        "\n",
        "# Añado los hiperparametros para el modelo dueling\n",
        "hiperparametros[\"MEMORY_SIZE\"] = 100000              # Mucha más memoria para diversidad\n",
        "hiperparametros[\"SCHEDULER_STEPS\"] = 500000           # Decaimiento más lento para epsilon (mayor exploracion)\n",
        "\n",
        "# Guardar cambios\n",
        "save_hyperparams(model_name)\n",
        "\n",
        "# Volver a cargar para crear las variables globales nuevas\n",
        "load_hyperparams(model_name)"
      ],
      "metadata": {
        "colab": {
          "base_uri": "https://localhost:8080/"
        },
        "id": "ROI-mt2jk5za",
        "outputId": "1bcb5d10-58a3-4ac3-9790-1777e6401035"
      },
      "execution_count": null,
      "outputs": [
        {
          "output_type": "stream",
          "name": "stdout",
          "text": [
            "[INFO] Hiperparámetros cargados desde /content/gdrive/My Drive/08_MIAR/actividades/proyecto practico/models/ddqn.v3.1/ddqn.v3.1.json\n",
            "[INFO] Hiperparámetros guardados en /content/gdrive/My Drive/08_MIAR/actividades/proyecto practico/models/ddqn.v3.1/ddqn.v3.1.json\n",
            "[INFO] Hiperparámetros cargados desde /content/gdrive/My Drive/08_MIAR/actividades/proyecto practico/models/ddqn.v3.1/ddqn.v3.1.json\n"
          ]
        }
      ]
    },
    {
      "cell_type": "code",
      "source": [
        "# DEFINICIÓN DE LA POLICY\n",
        "memory, last_checkpoint_steps=get_memory_and_last_steps()\n",
        "\n",
        "value_max, value_min, new_scheduler_steps = adjust_policy_params(\n",
        "    scheduler_steps=SCHEDULER_STEPS,\n",
        "    train_steps=TRAIN_STEPS,\n",
        "    current_step=last_checkpoint_steps\n",
        ")\n",
        "if not memory:\n",
        "  memory = SequentialMemory(limit=MEMORY_SIZE, window_length=WINDOW_LENGTH)\n",
        "  print(\"Memoria inicializada de 0\")\n",
        "\n",
        "print(f\"Valores de la policy: value_min={value_min}, value_max={value_max}, scheduler_steps={new_scheduler_steps}\")\n",
        "\n",
        "processor = AtariProcessor()\n",
        "\n",
        "policy = LinearAnnealedPolicy(EpsGreedyQPolicy(), attr='eps',\n",
        "                              value_max=EPSILON_START,\n",
        "                              value_min=EPSILON_MIN,\n",
        "                              value_test=.05,\n",
        "                              nb_steps=new_scheduler_steps)\n"
      ],
      "metadata": {
        "colab": {
          "base_uri": "https://localhost:8080/"
        },
        "id": "oCXRFjA6pcgr",
        "outputId": "b5290c0c-3eff-442c-99e4-3c4366c6ef9a"
      },
      "execution_count": null,
      "outputs": [
        {
          "output_type": "stream",
          "name": "stdout",
          "text": [
            "No se encontró ningún checkpoint, entrenamiento desde cero.\n",
            "Memoria inicializada de 0\n",
            "Valores de la policy: value_min=0.1, value_max=1.0, scheduler_steps=500000\n"
          ]
        }
      ]
    },
    {
      "cell_type": "code",
      "source": [
        "dqn = DQNAgent(model=model,\n",
        "                     nb_actions=nb_actions,\n",
        "                     policy=policy,\n",
        "                     memory=memory,\n",
        "                     processor=processor,\n",
        "                     nb_steps_warmup=WARMUP_STEPS,\n",
        "                     gamma=GAMMA,\n",
        "                     target_model_update=MODEL_UPDATE,\n",
        "                     batch_size=BATCH_SIZE,\n",
        "                     train_interval=4,\n",
        "                     delta_clip=DELTA_CLIP,\n",
        "                     enable_double_dqn=ENABLE_DOUBLE_DQN,\n",
        "                     enable_dueling_network=ENABLE_DUELING_NETWORK)\n",
        "\n",
        "if IN_COLAB:\n",
        "    # Parche para evitar el error 'get_updates' que ya no existe\n",
        "    def patched_get_updates(self, loss, params):\n",
        "        return []\n",
        "    Adam.get_updates = patched_get_updates\n",
        "\n",
        "# Compilo con el agente el modelo\n",
        "dqn.compile(\n",
        "    Adam(learning_rate=hiperparametros[\"LEARNING_RATE\"]),\n",
        "    metrics=['mae']\n",
        ")"
      ],
      "metadata": {
        "id": "bWEJijiophgL"
      },
      "execution_count": null,
      "outputs": []
    },
    {
      "cell_type": "code",
      "source": [
        "weights_filename = os.path.join(WEIGHTS_DIR, 'dqn_{}_weights_{}.h5f'.format(env_name, model_name))\n",
        "checkpoint_weights_filename = os.path.join(CHECKPOINTS_DIR, 'dqn_' + env_name + '_weights_{step}.h5f')\n",
        "log_filename =os.path.join(MODEL_DIR, 'dqn_{}_log_{}.json'.format(env_name, model_name))\n",
        "log_csv_path = os.path.join(MODEL_DIR, f'{model_name}_training_log.csv')"
      ],
      "metadata": {
        "id": "uhuKAF1UqLV1"
      },
      "execution_count": null,
      "outputs": []
    },
    {
      "cell_type": "code",
      "source": [
        "# CARGAR PESOS DEL ÚLTIMO CHECKPOINT SI EXISTE\n",
        "dqn, last_checkpoint_steps = load_last_checkpoint(dqn)\n",
        "# CREAR CALLBACKS CUSTOMIZADOS QUE GUARDAN BIEN LOS CHECKPOINTS Y LOGS DEL TRAINING\n",
        "checkpoint_callback = AccumulatedCheckpoint(\n",
        "      base_path=CHECKPOINTS_DIR,\n",
        "      env_name=env_name,\n",
        "      interval=MODEL_CHECKPOINT_STEPS,\n",
        "      initial_step=last_checkpoint_steps\n",
        "  )\n",
        "callbacks = [checkpoint_callback]\n",
        "dqn.step = last_checkpoint_steps\n",
        "callbacks += [EpisodeLoggerCSV(log_csv_path)]"
      ],
      "metadata": {
        "colab": {
          "base_uri": "https://localhost:8080/"
        },
        "id": "__oCtP27qOwR",
        "outputId": "ab3f7f20-9d64-48b0-e15d-80a7c71bb0b6"
      },
      "execution_count": null,
      "outputs": [
        {
          "output_type": "stream",
          "name": "stdout",
          "text": [
            "[DQN] No se encontró ningún checkpoint, entrenamiento desde cero.\n",
            "Callback iniciado desde paso 0\n"
          ]
        }
      ]
    },
    {
      "cell_type": "code",
      "source": [
        "# ENTRENAR DQN\n",
        "print(json.dumps(hiperparametros, indent=4))\n",
        "\n",
        "if TRAIN_STEPS>0:\n",
        "  dqn.fit(env, callbacks=callbacks, nb_steps=TRAIN_STEPS-last_checkpoint_steps, log_interval=LOG_INTERVAL, visualize=False)\n",
        "  dqn.save_weights(weights_filename, overwrite=True)"
      ],
      "metadata": {
        "colab": {
          "base_uri": "https://localhost:8080/"
        },
        "id": "QkbL3l1dqShn",
        "outputId": "2268777e-b173-4e9a-f72b-ffab3ff21b96"
      },
      "execution_count": null,
      "outputs": [
        {
          "output_type": "stream",
          "name": "stdout",
          "text": [
            "{\n",
            "    \"MEMORY_SIZE\": 100000,\n",
            "    \"WARMUP_STEPS\": 10000,\n",
            "    \"SCHEDULER_STEPS\": 500000,\n",
            "    \"GAMMA\": 0.99,\n",
            "    \"MODEL_UPDATE\": 5000,\n",
            "    \"LEARNING_RATE\": 1e-05,\n",
            "    \"MODEL_CHECKPOINT_STEPS\": 20000,\n",
            "    \"TRAIN_STEPS\": 3000000,\n",
            "    \"TRAIN_INTERVAL\": 3,\n",
            "    \"LOG_INTERVAL\": 10000,\n",
            "    \"DELTA_CLIP\": 1.0,\n",
            "    \"ENABLE_DOUBLE_DQN\": true,\n",
            "    \"ENABLE_DUELING_NETWORK\": true,\n",
            "    \"EPSILON_START\": 1.0,\n",
            "    \"EPSILON_MIN\": 0.1,\n",
            "    \"BATCH_SIZE\": 64\n",
            "}\n",
            "Training for 3000000 steps ...\n",
            "Interval 1 (0 steps performed)\n",
            "    1/10000 [..............................] - ETA: 32:56 - reward: 0.0000e+00"
          ]
        },
        {
          "output_type": "stream",
          "name": "stderr",
          "text": [
            "/usr/local/lib/python3.11/dist-packages/keras/engine/training_v1.py:2359: UserWarning: `Model.state_updates` will be removed in a future version. This property should not be used in TensorFlow 2.0, as `updates` are applied automatically.\n",
            "  updates=self.state_updates,\n"
          ]
        },
        {
          "output_type": "stream",
          "name": "stdout",
          "text": [
            "10000/10000 [==============================] - 50s 5ms/step - reward: 0.0131\n",
            "15 episodes - episode_reward: 8.400 [4.000, 17.000] - ale.lives: 2.094\n",
            "\n",
            "Interval 2 (10000 steps performed)\n",
            " 5173/10000 [==============>...............] - ETA: 5:51 - reward: 0.0147"
          ]
        }
      ]
    },
    {
      "cell_type": "markdown",
      "metadata": {
        "id": "-NAlu8b1Gb2b"
      },
      "source": [
        "3. Justificación de los parámetros seleccionados y de los resultados obtenidos"
      ]
    },
    {
      "cell_type": "markdown",
      "metadata": {
        "id": "ANFQiicXK3sO"
      },
      "source": [
        "---"
      ]
    }
  ],
  "metadata": {
    "accelerator": "GPU",
    "colab": {
      "gpuType": "T4",
      "provenance": [],
      "machine_shape": "hm"
    },
    "kernelspec": {
      "display_name": ".conda-rl-env:Python",
      "language": "python",
      "name": "conda-env-.conda-rl-env-py"
    },
    "language_info": {
      "codemirror_mode": {
        "name": "ipython",
        "version": 3
      },
      "file_extension": ".py",
      "mimetype": "text/x-python",
      "name": "python",
      "nbconvert_exporter": "python",
      "pygments_lexer": "ipython3",
      "version": "3.8.20"
    }
  },
  "nbformat": 4,
  "nbformat_minor": 0
}