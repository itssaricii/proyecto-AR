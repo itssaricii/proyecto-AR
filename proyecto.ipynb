{
  "cells": [
    {
      "cell_type": "markdown",
      "metadata": {
        "id": "jUehXgCyIRdq"
      },
      "source": [
        "# Actividad - Proyecto práctico\n",
        "\n",
        "\n",
        "> La actividad se desarrollará en grupos pre-definidos de 2-3 alumnos. Se debe indicar los nombres en orden alfabético (de apellidos). Recordad que esta actividad se corresponde con un 30% de la nota final de la asignatura. Se debe entregar entregar el trabajo en la presente notebook.\n",
        "*   Alumno 1: de Antón Santiago, Sara\n",
        "*   Alumno 2: Sánchez La O, Benjamín C.\n",
        "*   Alumno 3:\n",
        "\n",
        "\n",
        "\n",
        "\n"
      ]
    },
    {
      "cell_type": "markdown",
      "metadata": {
        "id": "JwpYlnjWJhS9"
      },
      "source": [
        "---\n",
        "## **PARTE 1** - Instalación y requisitos previos\n",
        "\n",
        "> Las prácticas han sido preparadas para poder realizarse en el entorno de trabajo de Google Colab. Sin embargo, esta plataforma presenta ciertas incompatibilidades a la hora de visualizar la renderización en gym. Por ello, para obtener estas visualizaciones, se deberá trasladar el entorno de trabajo a local. Por ello, el presente dosier presenta instrucciones para poder trabajar en ambos entornos. Siga los siguientes pasos para un correcto funcionamiento:\n",
        "1.   **LOCAL:** Preparar el enviroment, siguiendo las intrucciones detalladas en la sección *1.1.Preparar enviroment*.\n",
        "2.  **AMBOS:** Modificar las variables \"mount\" y \"drive_mount\" a la carpeta de trabajo en drive en el caso de estar en Colab, y ejecturar la celda *1.2.Localizar entorno de trabajo*.\n",
        "3. **COLAB:** se deberá ejecutar las celdas correspondientes al montaje de la carpeta de trabajo en Drive. Esta corresponde a la sección *1.3.Montar carpeta de datos local*.\n",
        "4.  **AMBOS:** Instalar las librerías necesarias, siguiendo la sección *1.4.Instalar librerías necesarias*.\n"
      ]
    },
    {
      "cell_type": "markdown",
      "metadata": {
        "id": "RU2BPrK2JkP0"
      },
      "source": [
        "---\n",
        "### 1.1. Preparar enviroment (solo local)\n",
        "\n",
        "\n",
        "\n",
        "> Para preparar el entorno de trabajo en local, se han seguido los siguientes pasos:\n",
        "1. En Windows, puede ser necesario instalar las C++ Build Tools. Para ello, siga los siguientes pasos: https://towardsdatascience.com/how-to-install-openai-gym-in-a-windows-environment-338969e24d30.\n",
        "2. Instalar Anaconda\n",
        "3. Siguiendo el código que se presenta comentado en la próxima celda: Crear un enviroment, cambiar la ruta de trabajo, e instalar librerías básicas.\n",
        "\n",
        "\n",
        "```\n",
        "conda create --name miar_rl python=3.8\n",
        "conda activate miar_rl\n",
        "cd \"PATH_TO_FOLDER\"\n",
        "conda install git\n",
        "pip install jupyter\n",
        "```\n",
        "\n",
        "\n",
        "4. Abrir la notebook con *jupyter-notebook*.\n",
        "\n",
        "\n",
        "\n",
        "```\n",
        "jupyter-notebook\n",
        "```\n"
      ]
    },
    {
      "cell_type": "markdown",
      "metadata": {
        "id": "w-kixNPiJqTc"
      },
      "source": [
        "---\n",
        "### 1.2. Localizar entorno de trabajo: Google colab o local"
      ]
    },
    {
      "cell_type": "code",
      "execution_count": 91,
      "metadata": {
        "id": "S_YDFwZ-JscI",
        "tags": []
      },
      "outputs": [],
      "source": [
        "# ATENCIÓN!! Modificar ruta relativa a la práctica si es distinta (drive_root)\n",
        "mount='/content/gdrive'\n",
        "drive_root = mount + \"/My Drive/08_MIAR/actividades/proyecto practico\"\n",
        "\n",
        "try:\n",
        "  from google.colab import drive\n",
        "  IN_COLAB=True\n",
        "except:\n",
        "  IN_COLAB=False"
      ]
    },
    {
      "cell_type": "markdown",
      "metadata": {
        "id": "8Dp_a1iBJ0tf"
      },
      "source": [
        "---\n",
        "### 1.3. Montar carpeta de datos local (solo Colab)"
      ]
    },
    {
      "cell_type": "code",
      "execution_count": 92,
      "metadata": {
        "colab": {
          "base_uri": "https://localhost:8080/"
        },
        "id": "I6n7MIefJ21i",
        "outputId": "e123a706-29df-4000-8957-5a1153c55f3a",
        "tags": []
      },
      "outputs": [
        {
          "output_type": "stream",
          "name": "stdout",
          "text": [
            "We're running Colab\n",
            "Colab: mounting Google drive on  /content/gdrive\n",
            "Drive already mounted at /content/gdrive; to attempt to forcibly remount, call drive.mount(\"/content/gdrive\", force_remount=True).\n",
            "\n",
            "Colab: making sure  /content/gdrive/My Drive/08_MIAR/actividades/proyecto practico  exists.\n",
            "\n",
            "Colab: Changing directory to  /content/gdrive/My Drive/08_MIAR/actividades/proyecto practico\n",
            "/content/gdrive/My Drive/08_MIAR/actividades/proyecto practico\n",
            "Archivos en el directorio: \n",
            "['.ipynb_checkpoints', 'models']\n"
          ]
        }
      ],
      "source": [
        "# Switch to the directory on the Google Drive that you want to use\n",
        "import os\n",
        "if IN_COLAB:\n",
        "  print(\"We're running Colab\")\n",
        "\n",
        "  if IN_COLAB:\n",
        "    # Mount the Google Drive at mount\n",
        "    print(\"Colab: mounting Google drive on \", mount)\n",
        "\n",
        "    drive.mount(mount)\n",
        "\n",
        "    # Create drive_root if it doesn't exist\n",
        "    create_drive_root = True\n",
        "    if create_drive_root:\n",
        "      print(\"\\nColab: making sure \", drive_root, \" exists.\")\n",
        "      os.makedirs(drive_root, exist_ok=True)\n",
        "\n",
        "    # Change to the directory\n",
        "    print(\"\\nColab: Changing directory to \", drive_root)\n",
        "    %cd $drive_root\n",
        "# Verify we're in the correct working directory\n",
        "%pwd\n",
        "print(\"Archivos en el directorio: \")\n",
        "print(os.listdir())"
      ]
    },
    {
      "cell_type": "markdown",
      "metadata": {
        "id": "i1ZSL5bpJ560"
      },
      "source": [
        "---\n",
        "### 1.4. Instalar librerías necesarias"
      ]
    },
    {
      "cell_type": "code",
      "execution_count": 93,
      "metadata": {
        "colab": {
          "base_uri": "https://localhost:8080/"
        },
        "id": "UbVRjvHCJ8UF",
        "outputId": "4a860d67-d0f2-443c-b5cd-855af4c12bbe",
        "tags": []
      },
      "outputs": [
        {
          "output_type": "stream",
          "name": "stdout",
          "text": [
            "Requirement already satisfied: gym==0.17.3 in /usr/local/lib/python3.11/dist-packages (0.17.3)\n",
            "Requirement already satisfied: scipy in /usr/local/lib/python3.11/dist-packages (from gym==0.17.3) (1.15.3)\n",
            "Requirement already satisfied: numpy>=1.10.4 in /usr/local/lib/python3.11/dist-packages (from gym==0.17.3) (1.23.5)\n",
            "Requirement already satisfied: pyglet<=1.5.0,>=1.4.0 in /usr/local/lib/python3.11/dist-packages (from gym==0.17.3) (1.5.0)\n",
            "Requirement already satisfied: cloudpickle<1.7.0,>=1.2.0 in /usr/local/lib/python3.11/dist-packages (from gym==0.17.3) (1.6.0)\n",
            "Requirement already satisfied: future in /usr/local/lib/python3.11/dist-packages (from pyglet<=1.5.0,>=1.4.0->gym==0.17.3) (1.0.0)\n",
            "Collecting git+https://github.com/Kojoley/atari-py.git\n",
            "  Cloning https://github.com/Kojoley/atari-py.git to /tmp/pip-req-build-t4jwaga3\n",
            "  Running command git clone --filter=blob:none --quiet https://github.com/Kojoley/atari-py.git /tmp/pip-req-build-t4jwaga3\n",
            "  Resolved https://github.com/Kojoley/atari-py.git to commit 86a1e05c0a95e9e6233c3a413521fdb34ca8a089\n",
            "  Preparing metadata (setup.py) ... \u001b[?25l\u001b[?25hdone\n",
            "Requirement already satisfied: numpy in /usr/local/lib/python3.11/dist-packages (from atari-py==1.2.2) (1.23.5)\n",
            "Requirement already satisfied: keras-rl2==1.0.5 in /usr/local/lib/python3.11/dist-packages (1.0.5)\n",
            "Requirement already satisfied: tensorflow in /usr/local/lib/python3.11/dist-packages (from keras-rl2==1.0.5) (2.12.0)\n",
            "Requirement already satisfied: absl-py>=1.0.0 in /usr/local/lib/python3.11/dist-packages (from tensorflow->keras-rl2==1.0.5) (1.4.0)\n",
            "Requirement already satisfied: astunparse>=1.6.0 in /usr/local/lib/python3.11/dist-packages (from tensorflow->keras-rl2==1.0.5) (1.6.3)\n",
            "Requirement already satisfied: flatbuffers>=2.0 in /usr/local/lib/python3.11/dist-packages (from tensorflow->keras-rl2==1.0.5) (25.2.10)\n",
            "Requirement already satisfied: gast<=0.4.0,>=0.2.1 in /usr/local/lib/python3.11/dist-packages (from tensorflow->keras-rl2==1.0.5) (0.4.0)\n",
            "Requirement already satisfied: google-pasta>=0.1.1 in /usr/local/lib/python3.11/dist-packages (from tensorflow->keras-rl2==1.0.5) (0.2.0)\n",
            "Requirement already satisfied: grpcio<2.0,>=1.24.3 in /usr/local/lib/python3.11/dist-packages (from tensorflow->keras-rl2==1.0.5) (1.73.0)\n",
            "Requirement already satisfied: h5py>=2.9.0 in /usr/local/lib/python3.11/dist-packages (from tensorflow->keras-rl2==1.0.5) (3.14.0)\n",
            "Requirement already satisfied: jax>=0.3.15 in /usr/local/lib/python3.11/dist-packages (from tensorflow->keras-rl2==1.0.5) (0.4.30)\n",
            "Requirement already satisfied: keras<2.13,>=2.12.0 in /usr/local/lib/python3.11/dist-packages (from tensorflow->keras-rl2==1.0.5) (2.12.0)\n",
            "Requirement already satisfied: libclang>=13.0.0 in /usr/local/lib/python3.11/dist-packages (from tensorflow->keras-rl2==1.0.5) (18.1.1)\n",
            "Requirement already satisfied: numpy<1.24,>=1.22 in /usr/local/lib/python3.11/dist-packages (from tensorflow->keras-rl2==1.0.5) (1.23.5)\n",
            "Requirement already satisfied: opt-einsum>=2.3.2 in /usr/local/lib/python3.11/dist-packages (from tensorflow->keras-rl2==1.0.5) (3.4.0)\n",
            "Requirement already satisfied: packaging in /usr/local/lib/python3.11/dist-packages (from tensorflow->keras-rl2==1.0.5) (24.2)\n",
            "Requirement already satisfied: protobuf!=4.21.0,!=4.21.1,!=4.21.2,!=4.21.3,!=4.21.4,!=4.21.5,<5.0.0dev,>=3.20.3 in /usr/local/lib/python3.11/dist-packages (from tensorflow->keras-rl2==1.0.5) (4.25.8)\n",
            "Requirement already satisfied: setuptools in /usr/local/lib/python3.11/dist-packages (from tensorflow->keras-rl2==1.0.5) (75.2.0)\n",
            "Requirement already satisfied: six>=1.12.0 in /usr/local/lib/python3.11/dist-packages (from tensorflow->keras-rl2==1.0.5) (1.17.0)\n",
            "Requirement already satisfied: tensorboard<2.13,>=2.12 in /usr/local/lib/python3.11/dist-packages (from tensorflow->keras-rl2==1.0.5) (2.12.3)\n",
            "Requirement already satisfied: tensorflow-estimator<2.13,>=2.12.0 in /usr/local/lib/python3.11/dist-packages (from tensorflow->keras-rl2==1.0.5) (2.12.0)\n",
            "Requirement already satisfied: termcolor>=1.1.0 in /usr/local/lib/python3.11/dist-packages (from tensorflow->keras-rl2==1.0.5) (3.1.0)\n",
            "Requirement already satisfied: typing-extensions>=3.6.6 in /usr/local/lib/python3.11/dist-packages (from tensorflow->keras-rl2==1.0.5) (4.14.0)\n",
            "Requirement already satisfied: wrapt<1.15,>=1.11.0 in /usr/local/lib/python3.11/dist-packages (from tensorflow->keras-rl2==1.0.5) (1.14.1)\n",
            "Requirement already satisfied: tensorflow-io-gcs-filesystem>=0.23.1 in /usr/local/lib/python3.11/dist-packages (from tensorflow->keras-rl2==1.0.5) (0.37.1)\n",
            "Requirement already satisfied: wheel<1.0,>=0.23.0 in /usr/local/lib/python3.11/dist-packages (from astunparse>=1.6.0->tensorflow->keras-rl2==1.0.5) (0.45.1)\n",
            "Requirement already satisfied: jaxlib<=0.4.30,>=0.4.27 in /usr/local/lib/python3.11/dist-packages (from jax>=0.3.15->tensorflow->keras-rl2==1.0.5) (0.4.30)\n",
            "Requirement already satisfied: ml-dtypes>=0.2.0 in /usr/local/lib/python3.11/dist-packages (from jax>=0.3.15->tensorflow->keras-rl2==1.0.5) (0.4.1)\n",
            "Requirement already satisfied: scipy>=1.9 in /usr/local/lib/python3.11/dist-packages (from jax>=0.3.15->tensorflow->keras-rl2==1.0.5) (1.15.3)\n",
            "Requirement already satisfied: google-auth<3,>=1.6.3 in /usr/local/lib/python3.11/dist-packages (from tensorboard<2.13,>=2.12->tensorflow->keras-rl2==1.0.5) (2.38.0)\n",
            "Requirement already satisfied: google-auth-oauthlib<1.1,>=0.5 in /usr/local/lib/python3.11/dist-packages (from tensorboard<2.13,>=2.12->tensorflow->keras-rl2==1.0.5) (1.0.0)\n",
            "Requirement already satisfied: markdown>=2.6.8 in /usr/local/lib/python3.11/dist-packages (from tensorboard<2.13,>=2.12->tensorflow->keras-rl2==1.0.5) (3.8)\n",
            "Requirement already satisfied: requests<3,>=2.21.0 in /usr/local/lib/python3.11/dist-packages (from tensorboard<2.13,>=2.12->tensorflow->keras-rl2==1.0.5) (2.32.3)\n",
            "Requirement already satisfied: tensorboard-data-server<0.8.0,>=0.7.0 in /usr/local/lib/python3.11/dist-packages (from tensorboard<2.13,>=2.12->tensorflow->keras-rl2==1.0.5) (0.7.2)\n",
            "Requirement already satisfied: werkzeug>=1.0.1 in /usr/local/lib/python3.11/dist-packages (from tensorboard<2.13,>=2.12->tensorflow->keras-rl2==1.0.5) (3.1.3)\n",
            "Requirement already satisfied: cachetools<6.0,>=2.0.0 in /usr/local/lib/python3.11/dist-packages (from google-auth<3,>=1.6.3->tensorboard<2.13,>=2.12->tensorflow->keras-rl2==1.0.5) (5.5.2)\n",
            "Requirement already satisfied: pyasn1-modules>=0.2.1 in /usr/local/lib/python3.11/dist-packages (from google-auth<3,>=1.6.3->tensorboard<2.13,>=2.12->tensorflow->keras-rl2==1.0.5) (0.4.2)\n",
            "Requirement already satisfied: rsa<5,>=3.1.4 in /usr/local/lib/python3.11/dist-packages (from google-auth<3,>=1.6.3->tensorboard<2.13,>=2.12->tensorflow->keras-rl2==1.0.5) (4.9.1)\n",
            "Requirement already satisfied: requests-oauthlib>=0.7.0 in /usr/local/lib/python3.11/dist-packages (from google-auth-oauthlib<1.1,>=0.5->tensorboard<2.13,>=2.12->tensorflow->keras-rl2==1.0.5) (2.0.0)\n",
            "Requirement already satisfied: charset-normalizer<4,>=2 in /usr/local/lib/python3.11/dist-packages (from requests<3,>=2.21.0->tensorboard<2.13,>=2.12->tensorflow->keras-rl2==1.0.5) (3.4.2)\n",
            "Requirement already satisfied: idna<4,>=2.5 in /usr/local/lib/python3.11/dist-packages (from requests<3,>=2.21.0->tensorboard<2.13,>=2.12->tensorflow->keras-rl2==1.0.5) (3.10)\n",
            "Requirement already satisfied: urllib3<3,>=1.21.1 in /usr/local/lib/python3.11/dist-packages (from requests<3,>=2.21.0->tensorboard<2.13,>=2.12->tensorflow->keras-rl2==1.0.5) (2.4.0)\n",
            "Requirement already satisfied: certifi>=2017.4.17 in /usr/local/lib/python3.11/dist-packages (from requests<3,>=2.21.0->tensorboard<2.13,>=2.12->tensorflow->keras-rl2==1.0.5) (2025.4.26)\n",
            "Requirement already satisfied: MarkupSafe>=2.1.1 in /usr/local/lib/python3.11/dist-packages (from werkzeug>=1.0.1->tensorboard<2.13,>=2.12->tensorflow->keras-rl2==1.0.5) (3.0.2)\n",
            "Requirement already satisfied: pyasn1<0.7.0,>=0.6.1 in /usr/local/lib/python3.11/dist-packages (from pyasn1-modules>=0.2.1->google-auth<3,>=1.6.3->tensorboard<2.13,>=2.12->tensorflow->keras-rl2==1.0.5) (0.6.1)\n",
            "Requirement already satisfied: oauthlib>=3.0.0 in /usr/local/lib/python3.11/dist-packages (from requests-oauthlib>=0.7.0->google-auth-oauthlib<1.1,>=0.5->tensorboard<2.13,>=2.12->tensorflow->keras-rl2==1.0.5) (3.2.2)\n",
            "Requirement already satisfied: tensorflow==2.12 in /usr/local/lib/python3.11/dist-packages (2.12.0)\n",
            "Requirement already satisfied: absl-py>=1.0.0 in /usr/local/lib/python3.11/dist-packages (from tensorflow==2.12) (1.4.0)\n",
            "Requirement already satisfied: astunparse>=1.6.0 in /usr/local/lib/python3.11/dist-packages (from tensorflow==2.12) (1.6.3)\n",
            "Requirement already satisfied: flatbuffers>=2.0 in /usr/local/lib/python3.11/dist-packages (from tensorflow==2.12) (25.2.10)\n",
            "Requirement already satisfied: gast<=0.4.0,>=0.2.1 in /usr/local/lib/python3.11/dist-packages (from tensorflow==2.12) (0.4.0)\n",
            "Requirement already satisfied: google-pasta>=0.1.1 in /usr/local/lib/python3.11/dist-packages (from tensorflow==2.12) (0.2.0)\n",
            "Requirement already satisfied: grpcio<2.0,>=1.24.3 in /usr/local/lib/python3.11/dist-packages (from tensorflow==2.12) (1.73.0)\n",
            "Requirement already satisfied: h5py>=2.9.0 in /usr/local/lib/python3.11/dist-packages (from tensorflow==2.12) (3.14.0)\n",
            "Requirement already satisfied: jax>=0.3.15 in /usr/local/lib/python3.11/dist-packages (from tensorflow==2.12) (0.4.30)\n",
            "Requirement already satisfied: keras<2.13,>=2.12.0 in /usr/local/lib/python3.11/dist-packages (from tensorflow==2.12) (2.12.0)\n",
            "Requirement already satisfied: libclang>=13.0.0 in /usr/local/lib/python3.11/dist-packages (from tensorflow==2.12) (18.1.1)\n",
            "Requirement already satisfied: numpy<1.24,>=1.22 in /usr/local/lib/python3.11/dist-packages (from tensorflow==2.12) (1.23.5)\n",
            "Requirement already satisfied: opt-einsum>=2.3.2 in /usr/local/lib/python3.11/dist-packages (from tensorflow==2.12) (3.4.0)\n",
            "Requirement already satisfied: packaging in /usr/local/lib/python3.11/dist-packages (from tensorflow==2.12) (24.2)\n",
            "Requirement already satisfied: protobuf!=4.21.0,!=4.21.1,!=4.21.2,!=4.21.3,!=4.21.4,!=4.21.5,<5.0.0dev,>=3.20.3 in /usr/local/lib/python3.11/dist-packages (from tensorflow==2.12) (4.25.8)\n",
            "Requirement already satisfied: setuptools in /usr/local/lib/python3.11/dist-packages (from tensorflow==2.12) (75.2.0)\n",
            "Requirement already satisfied: six>=1.12.0 in /usr/local/lib/python3.11/dist-packages (from tensorflow==2.12) (1.17.0)\n",
            "Requirement already satisfied: tensorboard<2.13,>=2.12 in /usr/local/lib/python3.11/dist-packages (from tensorflow==2.12) (2.12.3)\n",
            "Requirement already satisfied: tensorflow-estimator<2.13,>=2.12.0 in /usr/local/lib/python3.11/dist-packages (from tensorflow==2.12) (2.12.0)\n",
            "Requirement already satisfied: termcolor>=1.1.0 in /usr/local/lib/python3.11/dist-packages (from tensorflow==2.12) (3.1.0)\n",
            "Requirement already satisfied: typing-extensions>=3.6.6 in /usr/local/lib/python3.11/dist-packages (from tensorflow==2.12) (4.14.0)\n",
            "Requirement already satisfied: wrapt<1.15,>=1.11.0 in /usr/local/lib/python3.11/dist-packages (from tensorflow==2.12) (1.14.1)\n",
            "Requirement already satisfied: tensorflow-io-gcs-filesystem>=0.23.1 in /usr/local/lib/python3.11/dist-packages (from tensorflow==2.12) (0.37.1)\n",
            "Requirement already satisfied: wheel<1.0,>=0.23.0 in /usr/local/lib/python3.11/dist-packages (from astunparse>=1.6.0->tensorflow==2.12) (0.45.1)\n",
            "Requirement already satisfied: jaxlib<=0.4.30,>=0.4.27 in /usr/local/lib/python3.11/dist-packages (from jax>=0.3.15->tensorflow==2.12) (0.4.30)\n",
            "Requirement already satisfied: ml-dtypes>=0.2.0 in /usr/local/lib/python3.11/dist-packages (from jax>=0.3.15->tensorflow==2.12) (0.4.1)\n",
            "Requirement already satisfied: scipy>=1.9 in /usr/local/lib/python3.11/dist-packages (from jax>=0.3.15->tensorflow==2.12) (1.15.3)\n",
            "Requirement already satisfied: google-auth<3,>=1.6.3 in /usr/local/lib/python3.11/dist-packages (from tensorboard<2.13,>=2.12->tensorflow==2.12) (2.38.0)\n",
            "Requirement already satisfied: google-auth-oauthlib<1.1,>=0.5 in /usr/local/lib/python3.11/dist-packages (from tensorboard<2.13,>=2.12->tensorflow==2.12) (1.0.0)\n",
            "Requirement already satisfied: markdown>=2.6.8 in /usr/local/lib/python3.11/dist-packages (from tensorboard<2.13,>=2.12->tensorflow==2.12) (3.8)\n",
            "Requirement already satisfied: requests<3,>=2.21.0 in /usr/local/lib/python3.11/dist-packages (from tensorboard<2.13,>=2.12->tensorflow==2.12) (2.32.3)\n",
            "Requirement already satisfied: tensorboard-data-server<0.8.0,>=0.7.0 in /usr/local/lib/python3.11/dist-packages (from tensorboard<2.13,>=2.12->tensorflow==2.12) (0.7.2)\n",
            "Requirement already satisfied: werkzeug>=1.0.1 in /usr/local/lib/python3.11/dist-packages (from tensorboard<2.13,>=2.12->tensorflow==2.12) (3.1.3)\n",
            "Requirement already satisfied: cachetools<6.0,>=2.0.0 in /usr/local/lib/python3.11/dist-packages (from google-auth<3,>=1.6.3->tensorboard<2.13,>=2.12->tensorflow==2.12) (5.5.2)\n",
            "Requirement already satisfied: pyasn1-modules>=0.2.1 in /usr/local/lib/python3.11/dist-packages (from google-auth<3,>=1.6.3->tensorboard<2.13,>=2.12->tensorflow==2.12) (0.4.2)\n",
            "Requirement already satisfied: rsa<5,>=3.1.4 in /usr/local/lib/python3.11/dist-packages (from google-auth<3,>=1.6.3->tensorboard<2.13,>=2.12->tensorflow==2.12) (4.9.1)\n",
            "Requirement already satisfied: requests-oauthlib>=0.7.0 in /usr/local/lib/python3.11/dist-packages (from google-auth-oauthlib<1.1,>=0.5->tensorboard<2.13,>=2.12->tensorflow==2.12) (2.0.0)\n",
            "Requirement already satisfied: charset-normalizer<4,>=2 in /usr/local/lib/python3.11/dist-packages (from requests<3,>=2.21.0->tensorboard<2.13,>=2.12->tensorflow==2.12) (3.4.2)\n",
            "Requirement already satisfied: idna<4,>=2.5 in /usr/local/lib/python3.11/dist-packages (from requests<3,>=2.21.0->tensorboard<2.13,>=2.12->tensorflow==2.12) (3.10)\n",
            "Requirement already satisfied: urllib3<3,>=1.21.1 in /usr/local/lib/python3.11/dist-packages (from requests<3,>=2.21.0->tensorboard<2.13,>=2.12->tensorflow==2.12) (2.4.0)\n",
            "Requirement already satisfied: certifi>=2017.4.17 in /usr/local/lib/python3.11/dist-packages (from requests<3,>=2.21.0->tensorboard<2.13,>=2.12->tensorflow==2.12) (2025.4.26)\n",
            "Requirement already satisfied: MarkupSafe>=2.1.1 in /usr/local/lib/python3.11/dist-packages (from werkzeug>=1.0.1->tensorboard<2.13,>=2.12->tensorflow==2.12) (3.0.2)\n",
            "Requirement already satisfied: pyasn1<0.7.0,>=0.6.1 in /usr/local/lib/python3.11/dist-packages (from pyasn1-modules>=0.2.1->google-auth<3,>=1.6.3->tensorboard<2.13,>=2.12->tensorflow==2.12) (0.6.1)\n",
            "Requirement already satisfied: oauthlib>=3.0.0 in /usr/local/lib/python3.11/dist-packages (from requests-oauthlib>=0.7.0->google-auth-oauthlib<1.1,>=0.5->tensorboard<2.13,>=2.12->tensorflow==2.12) (3.2.2)\n"
          ]
        }
      ],
      "source": [
        "# NO EJECUTAR EN SAGEMAKER (MIRAR EL README PARA CONFIGURAR EL ENTORNO)\n",
        "# AUNQUE DE FALLOS DE INSTALACIÓN LOS IMPORTS FUNCIONAN\n",
        "if IN_COLAB:\n",
        "  %pip install gym==0.17.3\n",
        "  %pip install git+https://github.com/Kojoley/atari-py.git\n",
        "  %pip install keras-rl2==1.0.5\n",
        "  %pip install tensorflow==2.12  #2.8\n",
        "else:\n",
        "  %pip install gym==0.17.3\n",
        "  %pip install git+https://github.com/Kojoley/atari-py.git\n",
        "  %pip install pyglet==1.5.0\n",
        "  %pip install h5py==3.1.0\n",
        "  %pip install Pillow==9.5.0\n",
        "  %pip install keras-rl2==1.0.5\n",
        "  %pip install Keras==2.2.4\n",
        "  %pip install tensorflow==2.5.3\n",
        "  %pip install torch==2.0.1\n",
        "  %pip install agents==1.4.0"
      ]
    },
    {
      "cell_type": "markdown",
      "metadata": {
        "id": "4hzP_5ZuGb2X"
      },
      "source": [
        "---\n",
        "## **PARTE 2**. Enunciado\n",
        "\n",
        "Consideraciones a tener en cuenta:\n",
        "\n",
        "- El entorno sobre el que trabajaremos será _SpaceInvaders-v0_ y el algoritmo que usaremos será _DQN_.\n",
        "\n",
        "- Para nuestro ejercicio, el requisito mínimo será alcanzado cuando el agente consiga una **media de recompensa por encima de 20 puntos en modo test**. Por ello, esta media de la recompensa se calculará a partir del código de test en la última celda del notebook.\n",
        "\n",
        "Este proyecto práctico consta de tres partes:\n",
        "\n",
        "1.   Implementar la red neuronal que se usará en la solución\n",
        "2.   Implementar las distintas piezas de la solución DQN\n",
        "3.   Justificar la respuesta en relación a los resultados obtenidos\n",
        "\n",
        "**Rúbrica**: Se valorará la originalidad en la solución aportada, así como la capacidad de discutir los resultados de forma detallada. El requisito mínimo servirá para aprobar la actividad, bajo premisa de que la discusión del resultado sera apropiada.\n",
        "\n",
        "IMPORTANTE:\n",
        "\n",
        "* Si no se consigue una puntuación óptima, responder sobre la mejor puntuación obtenida.\n",
        "* Para entrenamientos largos, recordad que podéis usar checkpoints de vuestros modelos para retomar los entrenamientos. En este caso, recordad cambiar los parámetros adecuadamente (sobre todo los relacionados con el proceso de exploración).\n",
        "* Se deberá entregar unicamente el notebook y los pesos del mejor modelo en un fichero .zip, de forma organizada.\n",
        "* Cada alumno deberá de subir la solución de forma individual."
      ]
    },
    {
      "cell_type": "markdown",
      "metadata": {
        "id": "6_b3mzw8IzJP"
      },
      "source": [
        "---\n",
        "## **PARTE 3**. Desarrollo y preguntas"
      ]
    },
    {
      "cell_type": "code",
      "execution_count": 94,
      "metadata": {
        "tags": [],
        "id": "45BPUdIoB41o"
      },
      "outputs": [],
      "source": [
        "# DEFINIR AL PRINCIPIO\n",
        "try:\n",
        "  from google.colab import drive\n",
        "  IN_COLAB=True\n",
        "except:\n",
        "  IN_COLAB=False"
      ]
    },
    {
      "cell_type": "markdown",
      "metadata": {
        "id": "duPmUNOVGb2a"
      },
      "source": [
        "#### Importar librerías"
      ]
    },
    {
      "cell_type": "code",
      "execution_count": 95,
      "metadata": {
        "id": "j3eRhgI-Gb2a",
        "tags": []
      },
      "outputs": [],
      "source": [
        "from __future__ import division\n",
        "\n",
        "from PIL import Image\n",
        "import numpy as np\n",
        "import gym\n",
        "import os\n",
        "import glob\n",
        "\n",
        "from tensorflow.keras.models import Sequential\n",
        "from tensorflow.keras.layers import Dense, Activation, Flatten, Convolution2D, Permute\n",
        "from tensorflow.keras.optimizers import Adam\n",
        "import tensorflow.keras.backend as K\n",
        "\n",
        "from rl.agents.dqn import DQNAgent\n",
        "from rl.policy import LinearAnnealedPolicy, BoltzmannQPolicy, EpsGreedyQPolicy\n",
        "from rl.memory import SequentialMemory\n",
        "from rl.core import Processor\n",
        "from rl.callbacks import FileLogger, ModelIntervalCheckpoint\n",
        "\n",
        "# AÑADIDO\n",
        "from tensorflow.keras.layers import Lambda, BatchNormalization\n",
        "from tensorflow.keras.callbacks import Callback\n",
        "import json\n",
        "import pandas as pd\n",
        "import matplotlib.pyplot as plt\n",
        "import csv"
      ]
    },
    {
      "cell_type": "markdown",
      "metadata": {
        "id": "f4jgQjzoGb2a"
      },
      "source": [
        "#### Configuración base"
      ]
    },
    {
      "cell_type": "code",
      "execution_count": 96,
      "metadata": {
        "id": "jwOE6I_KGb2a",
        "tags": []
      },
      "outputs": [],
      "source": [
        "INPUT_SHAPE = (84, 84)\n",
        "WINDOW_LENGTH = 4\n",
        "\n",
        "env_name = 'SpaceInvaders-v0'\n",
        "env = gym.make(env_name)\n",
        "\n",
        "np.random.seed(123)\n",
        "env.seed(123)\n",
        "nb_actions = env.action_space.n"
      ]
    },
    {
      "cell_type": "code",
      "execution_count": 97,
      "metadata": {
        "id": "9jGEZUcpGb2a",
        "tags": []
      },
      "outputs": [],
      "source": [
        "class AtariProcessor(Processor):\n",
        "    def process_observation(self, observation):\n",
        "        assert observation.ndim == 3  # (height, width, channel)\n",
        "        img = Image.fromarray(observation)\n",
        "        img = img.resize(INPUT_SHAPE).convert('L')\n",
        "        processed_observation = np.array(img)\n",
        "        assert processed_observation.shape == INPUT_SHAPE\n",
        "        return processed_observation.astype('uint8')\n",
        "\n",
        "    def process_state_batch(self, batch):\n",
        "        processed_batch = batch.astype('float32') / 255.\n",
        "        return processed_batch\n",
        "\n",
        "    def process_reward(self, reward):\n",
        "        return np.clip(reward, -1., 1.)"
      ]
    },
    {
      "cell_type": "code",
      "source": [
        "# HIPERPARÁMETROS POR DEFECTO\n",
        "hiperparametros = {\n",
        "    \"MEMORY_SIZE\": 1000000,\n",
        "    \"WARMUP_STEPS\": 50000,\n",
        "    \"SCHEDULER_STEPS\": 1000000,\n",
        "    \"GAMMA\": 0.99,\n",
        "    \"MODEL_UPDATE\": 10000,\n",
        "    \"LEARNING_RATE\": 0.00025,\n",
        "    \"MODEL_CHECKPOINT_STEPS\": 25000,\n",
        "    \"TRAIN_STEPS\": 1750000,\n",
        "    \"LOG_INTERVAL\": 10000,\n",
        "    \"DELTA_CLIP\": 1.0\n",
        "}"
      ],
      "metadata": {
        "id": "cZDLvSKdO-B3"
      },
      "execution_count": 98,
      "outputs": []
    },
    {
      "cell_type": "code",
      "source": [
        "# ROOT PATH PARA LOS MODELOS Y SUS PESOS\n",
        "if IN_COLAB:\n",
        "  mount='/content/gdrive'\n",
        "  drive_root = mount + \"/My Drive/08_MIAR/actividades/proyecto practico\"\n",
        "  MODELS_DIR=drive_root+\"/models\"\n",
        "else:\n",
        "  MODELS_DIR=\"./models\"\n",
        "\n",
        "def get_dirs(model_name=\"modelo1\"):\n",
        "    WEIGHTS_DIR = os.path.join(MODELS_DIR, model_name, \"weights\")\n",
        "    CHECKPOINTS_DIR = os.path.join(MODELS_DIR, model_name, \"checkpoints\")\n",
        "    MODEL_DIR = os.path.join(MODELS_DIR, model_name)\n",
        "    os.makedirs(WEIGHTS_DIR, exist_ok=True)\n",
        "    os.makedirs(CHECKPOINTS_DIR, exist_ok=True)\n",
        "    return MODEL_DIR, WEIGHTS_DIR, CHECKPOINTS_DIR\n",
        "\n",
        "def save_hyperparams(model_name=\"modelo1\"):\n",
        "    '''\n",
        "    Guarda los hiperparametros en memoria a fichero, si no los hay guarda los definidos por defecto.\n",
        "    '''\n",
        "    model_dir, _, _ = get_dirs(model_name)\n",
        "    hiperparametros = {\n",
        "        \"MEMORY_SIZE\": MEMORY_SIZE,\n",
        "        \"WARMUP_STEPS\": WARMUP_STEPS,\n",
        "        \"SCHEDULER_STEPS\": SCHEDULER_STEPS,\n",
        "        \"GAMMA\": GAMMA,\n",
        "        \"MODEL_UPDATE\": MODEL_UPDATE,\n",
        "        \"LEARNING_RATE\": LEARNING_RATE,\n",
        "        \"MODEL_CHECKPOINT_STEPS\": MODEL_CHECKPOINT_STEPS,\n",
        "        \"TRAIN_STEPS\": TRAIN_STEPS,\n",
        "        \"LOG_INTERVAL\": LOG_INTERVAL,\n",
        "        \"DELTA_CLIP\": DELTA_CLIP\n",
        "    }\n",
        "\n",
        "    hyper_file = os.path.join(model_dir, model_name + '.json')\n",
        "\n",
        "    with open(hyper_file, 'w') as f:\n",
        "        json.dump(hiperparametros, f, indent=4)\n",
        "\n",
        "    print(f\"Hiperparámetros guardados en {hyper_file}\")\n",
        "\n",
        "\n",
        "def load_hyperparams(modelo):\n",
        "    \"\"\"\n",
        "    Actualiza los hiperparámetros definidos en memoria a los del fichero cargado.\n",
        "    \"\"\"\n",
        "    hyper_file = os.path.join(MODELS_DIR, modelo, modelo + '.json')\n",
        "    global MEMORY_SIZE, WARMUP_STEPS, SCHEDULER_STEPS, GAMMA, MODEL_UPDATE, LEARNING_RATE, MODEL_CHECKPOINT_STEPS, TRAIN_STEPS, LOG_INTERVAL, DELTA_CLIP\n",
        "\n",
        "    if not os.path.exists(hyper_file):\n",
        "        # HIPERPARÁMETROS\n",
        "        MEMORY_SIZE = hiperparametros[\"MEMORY_SIZE\"]\n",
        "        WARMUP_STEPS = hiperparametros[\"WARMUP_STEPS\"]\n",
        "        SCHEDULER_STEPS = hiperparametros[\"SCHEDULER_STEPS\"]\n",
        "        GAMMA = hiperparametros[\"GAMMA\"]\n",
        "        MODEL_UPDATE = hiperparametros[\"MODEL_UPDATE\"]\n",
        "        LEARNING_RATE = hiperparametros[\"LEARNING_RATE\"]\n",
        "        MODEL_CHECKPOINT_STEPS = hiperparametros[\"MODEL_CHECKPOINT_STEPS\"]\n",
        "        TRAIN_STEPS = hiperparametros[\"TRAIN_STEPS\"]\n",
        "        LOG_INTERVAL = hiperparametros[\"LOG_INTERVAL\"]\n",
        "        DELTA_CLIP = hiperparametros[\"DELTA_CLIP\"]\n",
        "        print(f\"[INFO] Cargados hiperparámetros por defecto.\")\n",
        "        save_hyperparams(modelo)\n",
        "\n",
        "        return None\n",
        "\n",
        "    with open(hyper_file, 'r') as f:\n",
        "        params = json.load(f)\n",
        "\n",
        "    # HIPERPARÁMETROS\n",
        "    MEMORY_SIZE = params[\"MEMORY_SIZE\"]\n",
        "    WARMUP_STEPS = params[\"WARMUP_STEPS\"]\n",
        "    SCHEDULER_STEPS = params[\"SCHEDULER_STEPS\"]\n",
        "    GAMMA = params[\"GAMMA\"]\n",
        "    MODEL_UPDATE = params[\"MODEL_UPDATE\"]\n",
        "    LEARNING_RATE = params[\"LEARNING_RATE\"]\n",
        "    MODEL_CHECKPOINT_STEPS = params[\"MODEL_CHECKPOINT_STEPS\"]\n",
        "    TRAIN_STEPS = params[\"TRAIN_STEPS\"]\n",
        "    LOG_INTERVAL = params[\"LOG_INTERVAL\"]\n",
        "    DELTA_CLIP = params[\"DELTA_CLIP\"]\n",
        "\n",
        "    print(f\"Hiperparámetros cargados desde {hyper_file}\")"
      ],
      "metadata": {
        "id": "WRL-ixOyPIo7"
      },
      "execution_count": 99,
      "outputs": []
    },
    {
      "cell_type": "code",
      "source": [
        "\n",
        "def graph_training(log_path, model_dir, model_name, variable='mean_q'):\n",
        "  with open(log_path) as f:\n",
        "    data = json.load(f)\n",
        "    print(len(data[variable]))\n",
        "    pd.DataFrame(data[variable]).plot(title=f\"{model_name}: Evolución - {variable}\", legend=False)\n",
        "    plt.xlabel('Steps')\n",
        "    plt.ylabel(str(variable))\n",
        "    plt.savefig(model_dir+\"/\"+ model_name + '_' + variable + '.png')\n",
        "\n",
        "def graph_training_csv(csv_path, model_dir, model_name, variable='episode_reward'):\n",
        "    df = pd.read_csv(csv_path)\n",
        "\n",
        "    if variable not in df.columns:\n",
        "        print(f\" La variable '{variable}' no está en el CSV. Columnas disponibles: {list(df.columns)}\")\n",
        "        return\n",
        "\n",
        "    df[variable].plot(title=f\"{model_name}: Evolución - {variable}\", legend=False)\n",
        "    plt.xlabel('Episodio')\n",
        "    plt.ylabel(variable)\n",
        "    plt.grid(True)\n",
        "    plt.savefig(os.path.join(model_dir, f\"{model_name}_{variable}.png\"))\n",
        "    plt.show()"
      ],
      "metadata": {
        "id": "c9KxgJ090eku"
      },
      "execution_count": 100,
      "outputs": []
    },
    {
      "cell_type": "code",
      "source": [
        "# Clase para poder conservar el log antiguo que se sobreescribe cada vez que reinicia un nuevo training\n",
        "class EpisodeLoggerCSV(Callback):\n",
        "    def __init__(self, filepath):\n",
        "        super().__init__()\n",
        "        self.filepath = filepath\n",
        "        self.fields = ['episode', 'episode_reward', 'nb_steps', 'duration']\n",
        "        self.episode_count = 0\n",
        "\n",
        "        # Crear archivo si no existe, con cabecera\n",
        "        if not os.path.exists(self.filepath):\n",
        "            with open(self.filepath, mode='w', newline='') as f:\n",
        "                writer = csv.DictWriter(f, fieldnames=self.fields)\n",
        "                writer.writeheader()\n",
        "\n",
        "    def on_episode_end(self, episode, logs={}):\n",
        "        self.episode_count += 1\n",
        "        row = {\n",
        "            'episode': self.episode_count,\n",
        "            'episode_reward': logs.get('episode_reward'),\n",
        "            'nb_steps': logs.get('nb_steps'),\n",
        "            'duration': logs.get('duration')\n",
        "        }\n",
        "        with open(self.filepath, mode='a', newline='') as f:\n",
        "            writer = csv.DictWriter(f, fieldnames=self.fields)\n",
        "            writer.writerow(row)\n",
        "        # print(f\"[Log CSV] Episodio {self.episode_count} → Recompensa: {row['episode_reward']}\")"
      ],
      "metadata": {
        "id": "qUOajl31fsW7"
      },
      "execution_count": 115,
      "outputs": []
    },
    {
      "cell_type": "markdown",
      "metadata": {
        "id": "73g2U2Ik5ISA",
        "tags": []
      },
      "source": [
        "# MODELO 1"
      ]
    },
    {
      "cell_type": "markdown",
      "metadata": {
        "id": "lXkQ9km05ISB",
        "tags": []
      },
      "source": [
        "### Red neuronal basada en el paper: https://arxiv.org/pdf/1312.5602"
      ]
    },
    {
      "cell_type": "markdown",
      "metadata": {
        "id": "8uEMcNQ45ISB"
      },
      "source": [
        "En el paper se implementa una red neuronal convolucional que tiene de entrada una pila de cuatro imágenes en escala de grises de 84×84. La red tiene de tres capas convolucionales: la 1ª con 32 filtros de 8×8 y un stride 4, la 2ª con 64 filtros de 4×4 y un stride 2, y la 3ª con 64 filtros de 3×3 y stride 1, todas con activación ReLU. Depués, las salidas se aplanan y se pasan por una una capa densa de 512 neuronas con activación ReLU, seguida de una capa de salida lineal con una neurona por cada acción posible, que son los valores Q predichos."
      ]
    },
    {
      "cell_type": "markdown",
      "metadata": {
        "id": "lD1zn2JI5ISB"
      },
      "source": [
        "#### Con las siguientes modificaciones:\n",
        "Se ha incorporado la normalización de las imágenes al rango 0-1, que como se ha visto en redes neuronales puede estabilizar mejor el entrenamiento. También, se han añadido capas de BatchNormalization porque también se ha estudiado en la misma asgnatura que acelera la convergencia y reduce el riesgo de que exploten los gradientes."
      ]
    },
    {
      "cell_type": "markdown",
      "metadata": {
        "id": "HT45Y6y25ISB"
      },
      "source": [
        "## DQN\n",
        "DQN implementado basándose en el github oficial de keras rl2: https://github.com/inarikami/keras-rl2/tree/master"
      ]
    },
    {
      "cell_type": "markdown",
      "metadata": {
        "id": "7yitXTADGb2b"
      },
      "source": [
        "1. Implementación de la red neuronal"
      ]
    },
    {
      "cell_type": "code",
      "execution_count": 102,
      "metadata": {
        "id": "O4GKrfWSGb2b",
        "outputId": "c4e3ff66-4ad8-42eb-d3cd-9f39c8e54043",
        "tags": [],
        "colab": {
          "base_uri": "https://localhost:8080/"
        }
      },
      "outputs": [
        {
          "output_type": "stream",
          "name": "stdout",
          "text": [
            "Model: \"sequential_2\"\n",
            "_________________________________________________________________\n",
            " Layer (type)                Output Shape              Param #   \n",
            "=================================================================\n",
            " permute_2 (Permute)         (None, 84, 84, 4)         0         \n",
            "                                                                 \n",
            " lambda_2 (Lambda)           (None, 84, 84, 4)         0         \n",
            "                                                                 \n",
            " conv2d_6 (Conv2D)           (None, 20, 20, 32)        8224      \n",
            "                                                                 \n",
            " batch_normalization_6 (Batc  (None, 20, 20, 32)       128       \n",
            " hNormalization)                                                 \n",
            "                                                                 \n",
            " activation_10 (Activation)  (None, 20, 20, 32)        0         \n",
            "                                                                 \n",
            " conv2d_7 (Conv2D)           (None, 9, 9, 64)          32832     \n",
            "                                                                 \n",
            " batch_normalization_7 (Batc  (None, 9, 9, 64)         256       \n",
            " hNormalization)                                                 \n",
            "                                                                 \n",
            " activation_11 (Activation)  (None, 9, 9, 64)          0         \n",
            "                                                                 \n",
            " conv2d_8 (Conv2D)           (None, 7, 7, 64)          36928     \n",
            "                                                                 \n",
            " batch_normalization_8 (Batc  (None, 7, 7, 64)         256       \n",
            " hNormalization)                                                 \n",
            "                                                                 \n",
            " activation_12 (Activation)  (None, 7, 7, 64)          0         \n",
            "                                                                 \n",
            " flatten_2 (Flatten)         (None, 3136)              0         \n",
            "                                                                 \n",
            " dense_4 (Dense)             (None, 512)               1606144   \n",
            "                                                                 \n",
            " activation_13 (Activation)  (None, 512)               0         \n",
            "                                                                 \n",
            " dense_5 (Dense)             (None, 6)                 3078      \n",
            "                                                                 \n",
            " activation_14 (Activation)  (None, 6)                 0         \n",
            "                                                                 \n",
            "=================================================================\n",
            "Total params: 1,687,846\n",
            "Trainable params: 1,687,526\n",
            "Non-trainable params: 320\n",
            "_________________________________________________________________\n"
          ]
        }
      ],
      "source": [
        "model_name=\"modelo1\"\n",
        "\n",
        "model = Sequential()\n",
        "\n",
        "input_shape = (WINDOW_LENGTH,) + INPUT_SHAPE\n",
        "\n",
        "# Rorganizar las imágenes para que el window length quede en la dimensión de los canales\n",
        "if K.image_data_format() == 'channels_last':\n",
        "    model.add(Permute((2, 3, 1), input_shape=input_shape))  # (4, H, W) → (H, W, 4)\n",
        "elif K.image_data_format() == 'channels_first':\n",
        "    model.add(Permute((1, 2, 3), input_shape=input_shape))\n",
        "else:\n",
        "    raise RuntimeError('Unknown image_dim_ordering.')\n",
        "\n",
        "# Normalizar los valores de píxeles\n",
        "model.add(Lambda(lambda x: x / 255.0))\n",
        "\n",
        "# Primera capa convolucional\n",
        "model.add(Convolution2D(32, (8, 8), strides=(4, 4)))\n",
        "model.add(BatchNormalization())\n",
        "model.add(Activation('relu'))\n",
        "\n",
        "# Segunda\n",
        "model.add(Convolution2D(64, (4, 4), strides=(2, 2)))\n",
        "model.add(BatchNormalization())\n",
        "model.add(Activation('relu'))\n",
        "\n",
        "# Tercera\n",
        "model.add(Convolution2D(64, (3, 3), strides=(1, 1)))\n",
        "model.add(BatchNormalization())\n",
        "model.add(Activation('relu'))\n",
        "\n",
        "# Densas\n",
        "model.add(Flatten())\n",
        "model.add(Dense(512))\n",
        "model.add(Activation('relu'))\n",
        "\n",
        "# Salida con el número de acciones\n",
        "model.add(Dense(nb_actions))\n",
        "model.add(Activation('linear'))\n",
        "\n",
        "model.summary()"
      ]
    },
    {
      "cell_type": "markdown",
      "metadata": {
        "id": "OB9-_5HPGb2b"
      },
      "source": [
        "2. Implementación de la solución DQN"
      ]
    },
    {
      "cell_type": "code",
      "source": [
        "# GENERACIÓN O CARGA MODELO\n",
        "MODEL_DIR, WEIGHTS_DIR, CHECKPOINTS_DIR = get_dirs(model_name)\n",
        "# save_hyperparams(HYPERPARAMETERS_DIR, filename=model_name+\".json\")\n",
        "load_hyperparams(model_name)"
      ],
      "metadata": {
        "colab": {
          "base_uri": "https://localhost:8080/"
        },
        "id": "JxBLemXQQam3",
        "outputId": "b47f9f01-88fc-49de-ae5e-bced38d3b66e"
      },
      "execution_count": 116,
      "outputs": [
        {
          "output_type": "stream",
          "name": "stdout",
          "text": [
            "Hiperparámetros cargados desde /content/gdrive/My Drive/08_MIAR/actividades/proyecto practico/models/modelo1/modelo1.json\n"
          ]
        }
      ]
    },
    {
      "cell_type": "code",
      "execution_count": 117,
      "metadata": {
        "id": "foSlxWH1Gb2b",
        "tags": []
      },
      "outputs": [],
      "source": [
        "memory = SequentialMemory(limit=MEMORY_SIZE, window_length=WINDOW_LENGTH)\n",
        "processor = AtariProcessor()\n",
        "policy = LinearAnnealedPolicy(EpsGreedyQPolicy(), attr='eps',\n",
        "                              value_max=1., value_min=.1,\n",
        "                              value_test=.05,\n",
        "                              nb_steps=SCHEDULER_STEPS)"
      ]
    },
    {
      "cell_type": "code",
      "execution_count": 118,
      "metadata": {
        "id": "G6mWUNNi5ISE",
        "tags": []
      },
      "outputs": [],
      "source": [
        "dqn = DQNAgent(model=model,\n",
        "               nb_actions=nb_actions,\n",
        "               policy=policy,\n",
        "               memory=memory,\n",
        "               processor=processor,\n",
        "               nb_steps_warmup=WARMUP_STEPS,\n",
        "               gamma=GAMMA,\n",
        "               target_model_update=MODEL_UPDATE,\n",
        "               train_interval=4,\n",
        "               delta_clip=DELTA_CLIP)\n",
        "\n",
        "if IN_COLAB:\n",
        "    # Parche para evitar el error 'get_updates' que ya no existe\n",
        "    def patched_get_updates(self, loss, params):\n",
        "        return []\n",
        "    Adam.get_updates = patched_get_updates\n",
        "\n",
        "dqn.compile(Adam(learning_rate=LEARNING_RATE), metrics=['mae'])"
      ]
    },
    {
      "cell_type": "code",
      "execution_count": 119,
      "metadata": {
        "tags": [],
        "id": "SimAGVrKB41q"
      },
      "outputs": [],
      "source": [
        "class AccumulatedCheckpoint(Callback):\n",
        "    def __init__(self, base_path, interval, initial_step=0):\n",
        "        super().__init__()\n",
        "        self.base_path = base_path\n",
        "        self.interval = interval\n",
        "        self.total_steps = initial_step\n",
        "        print(f\"Callback iniciado desde paso {self.total_steps}\")\n",
        "\n",
        "    def on_step_end(self, step, logs={}):\n",
        "        self.total_steps += 1\n",
        "        if self.total_steps % self.interval == 0:\n",
        "            filename = self.base_path.format(step=self.total_steps)\n",
        "            self.model.save_weights(filename, overwrite=True)\n",
        "            print(f\"\\n[Checkpoint] Guardado en paso {self.total_steps}: {filename}\")"
      ]
    },
    {
      "cell_type": "code",
      "source": [
        "weights_filename = os.path.join(WEIGHTS_DIR, 'dqn_{}_weights_{}.h5f'.format(env_name, model_name))\n",
        "checkpoint_weights_filename = os.path.join(CHECKPOINTS_DIR, 'dqn_' + env_name + '_weights_{step}.h5f')\n",
        "log_filename =os.path.join(MODEL_DIR, 'dqn_{}_log_{}.json'.format(env_name, model_name))\n",
        "log_csv_path = os.path.join(MODEL_DIR, f'{model_name}_training_log.csv')\n"
      ],
      "metadata": {
        "id": "TxfFDyGzS3_K"
      },
      "execution_count": 120,
      "outputs": []
    },
    {
      "cell_type": "code",
      "execution_count": 121,
      "metadata": {
        "outputId": "145d6c44-fadc-4128-b06b-11b31f74ae1e",
        "tags": [],
        "colab": {
          "base_uri": "https://localhost:8080/"
        },
        "id": "yeYQx8WMTUcY"
      },
      "outputs": [
        {
          "output_type": "stream",
          "name": "stdout",
          "text": [
            "[DQN] Cargando último checkpoint: /content/gdrive/My Drive/08_MIAR/actividades/proyecto practico/models/modelo1/checkpoints/dqn_SpaceInvaders-v0_weights_1600000.h5f\n"
          ]
        }
      ],
      "source": [
        "# Buscar todos los checkpoints por su archivo .index\n",
        "pattern = os.path.join(CHECKPOINTS_DIR, f'dqn_{env_name}_weights_*.h5f.index')\n",
        "checkpoints = glob.glob(pattern)\n",
        "\n",
        "# Valor por defecto si no se encuentra checkpoint\n",
        "last_checkpoint_steps = 0\n",
        "\n",
        "if checkpoints:\n",
        "    # Extraer el número de paso del nombre\n",
        "    def extract_step(filename):\n",
        "        try:\n",
        "            name = os.path.basename(filename)\n",
        "            step_part = name.split('_weights_')[1].replace('.h5f.index', '')\n",
        "            return int(step_part)\n",
        "        except:\n",
        "            return -1\n",
        "\n",
        "    # Seleccionar el checkpoint con mayor número de pasos\n",
        "    latest_index = max(checkpoints, key=extract_step)\n",
        "\n",
        "    # Quitar la extensión .index para obtener el nombre base\n",
        "    latest_checkpoint = latest_index.replace('.index', '')\n",
        "\n",
        "    print(f\"[DQN] Cargando último checkpoint: {latest_checkpoint}\")\n",
        "    dqn.load_weights(latest_checkpoint)\n",
        "\n",
        "    # Aquí extraemos los pasos acumulados\n",
        "    last_checkpoint_steps = extract_step(latest_index)\n",
        "else:\n",
        "    print(\"[DQN] No se encontró ningún checkpoint, entrenamiento desde cero.\")"
      ]
    },
    {
      "cell_type": "code",
      "execution_count": 122,
      "metadata": {
        "tags": [],
        "colab": {
          "base_uri": "https://localhost:8080/"
        },
        "id": "OgEZ4q9OB41r",
        "outputId": "d2c2faff-fdb4-4b70-8fa5-bde3d0ada887"
      },
      "outputs": [
        {
          "output_type": "stream",
          "name": "stdout",
          "text": [
            "Callback iniciado desde paso 1600000\n",
            "Stps que llevaba el modelo entrenado: 1600000\n"
          ]
        }
      ],
      "source": [
        "# Custom callback for checkpoints to restart from the last one\n",
        "checkpoint_callback = AccumulatedCheckpoint(\n",
        "      base_path=checkpoint_weights_filename,\n",
        "      interval=MODEL_CHECKPOINT_STEPS,\n",
        "      initial_step=last_checkpoint_steps\n",
        "  )\n",
        "callbacks = [checkpoint_callback]\n",
        "dqn.step = last_checkpoint_steps\n",
        "print(\"Stps que llevaba el modelo entrenado:\", dqn.step)\n",
        "#callbacks =  [ModelIntervalCheckpoint(checkpoint_weights_filename, interval=MODEL_CHECKPOINT_STEPS)]\n",
        "callbacks += [EpisodeLoggerCSV(log_csv_path)]\n",
        "#callbacks += [FileLogger(log_filename, interval=100)] # Gives some errors"
      ]
    },
    {
      "cell_type": "code",
      "execution_count": 123,
      "metadata": {
        "id": "-BSoqLO65ISF",
        "outputId": "ebb98948-a685-4dcc-dddf-866fc754db58",
        "tags": [],
        "colab": {
          "base_uri": "https://localhost:8080/"
        }
      },
      "outputs": [
        {
          "output_type": "stream",
          "name": "stdout",
          "text": [
            "Training for 150000 steps ...\n",
            "Interval 1 (0 steps performed)\n",
            "10000/10000 [==============================] - 90s 9ms/step - reward: 0.0145\n",
            "13 episodes - episode_reward: 10.231 [6.000, 17.000] - ale.lives: 2.129\n",
            "\n",
            "Interval 2 (10000 steps performed)\n",
            "10000/10000 [==============================] - 91s 9ms/step - reward: 0.0137\n",
            "15 episodes - episode_reward: 9.333 [1.000, 17.000] - ale.lives: 2.104\n",
            "\n",
            "Interval 3 (20000 steps performed)\n",
            " 4996/10000 [=============>................] - ETA: 46s - reward: 0.0146\n",
            "[Checkpoint] Guardado en paso 1625000: /content/gdrive/My Drive/08_MIAR/actividades/proyecto practico/models/modelo1/checkpoints/dqn_SpaceInvaders-v0_weights_1625000.h5f\n",
            "10000/10000 [==============================] - 93s 9ms/step - reward: 0.0174\n",
            "12 episodes - episode_reward: 14.250 [3.000, 34.000] - ale.lives: 2.104\n",
            "\n",
            "Interval 4 (30000 steps performed)\n",
            " 2235/10000 [=====>........................] - ETA: 1:15 - reward: 0.0170done, took 295.222 seconds\n"
          ]
        }
      ],
      "source": [
        "# ENTRENAR DQN\n",
        "if TRAIN_STEPS>0:\n",
        "  dqn.fit(env, callbacks=callbacks, nb_steps=TRAIN_STEPS-last_checkpoint_steps, log_interval=LOG_INTERVAL, visualize=False)\n",
        "  dqn.save_weights(weights_filename, overwrite=True)"
      ]
    },
    {
      "cell_type": "code",
      "execution_count": null,
      "metadata": {
        "id": "OHYryKd1Gb2b",
        "outputId": "9c101f8a-6995-44aa-941e-b10b4eb1ca69",
        "tags": [],
        "colab": {
          "base_uri": "https://localhost:8080/"
        }
      },
      "outputs": [
        {
          "output_type": "stream",
          "name": "stdout",
          "text": [
            "/content/gdrive/My Drive/08_MIAR/actividades/proyecto practico/models/modelo1/checkpoints/dqn_SpaceInvaders-v0_weights_275000.h5f\n",
            "Testing for 10 episodes ...\n",
            "Episode 1: reward: 16.000, steps: 1010\n",
            "Episode 2: reward: 11.000, steps: 881\n",
            "Episode 3: reward: 11.000, steps: 805\n",
            "Episode 4: reward: 23.000, steps: 1452\n",
            "Episode 5: reward: 17.000, steps: 974\n",
            "Episode 6: reward: 15.000, steps: 1015\n",
            "Episode 7: reward: 17.000, steps: 955\n",
            "Episode 8: reward: 23.000, steps: 1492\n",
            "Episode 9: reward: 17.000, steps: 962\n",
            "Episode 10: reward: 12.000, steps: 856\n"
          ]
        },
        {
          "output_type": "execute_result",
          "data": {
            "text/plain": [
              "<keras.callbacks.History at 0x7dcdf2748390>"
            ]
          },
          "metadata": {},
          "execution_count": 19
        }
      ],
      "source": [
        "# Testing part to calculate the mean reward\n",
        "weights_filename =os.path.join(WEIGHTS_DIR, 'dqn_{}_weights_{}.h5f'.format(env_name, model_name))\n",
        "#weights_filename=latest_checkpoint\n",
        "#print(weights_filename)\n",
        "dqn.load_weights(latest_checkpoint)\n",
        "dqn.test(env, nb_episodes=10, visualize=False)"
      ]
    },
    {
      "cell_type": "code",
      "execution_count": null,
      "metadata": {
        "id": "m1ne1WCO5ISG"
      },
      "outputs": [],
      "source": [
        " graph_training_csv(log_csv_path, MODEL_DIR, model_name, 'mean_q')"
      ]
    },
    {
      "cell_type": "markdown",
      "metadata": {
        "id": "-NAlu8b1Gb2b"
      },
      "source": [
        "3. Justificación de los parámetros seleccionados y de los resultados obtenidos"
      ]
    },
    {
      "cell_type": "markdown",
      "metadata": {
        "id": "ANFQiicXK3sO"
      },
      "source": [
        "---"
      ]
    }
  ],
  "metadata": {
    "accelerator": "GPU",
    "colab": {
      "gpuType": "T4",
      "provenance": []
    },
    "kernelspec": {
      "display_name": ".conda-rl-env:Python",
      "language": "python",
      "name": "conda-env-.conda-rl-env-py"
    },
    "language_info": {
      "codemirror_mode": {
        "name": "ipython",
        "version": 3
      },
      "file_extension": ".py",
      "mimetype": "text/x-python",
      "name": "python",
      "nbconvert_exporter": "python",
      "pygments_lexer": "ipython3",
      "version": "3.8.20"
    }
  },
  "nbformat": 4,
  "nbformat_minor": 0
}