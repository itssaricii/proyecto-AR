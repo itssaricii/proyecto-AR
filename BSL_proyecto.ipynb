{
  "cells": [
    {
      "cell_type": "markdown",
      "metadata": {
        "id": "jUehXgCyIRdq"
      },
      "source": [
        "# Actividad - Proyecto práctico\n",
        "\n",
        "\n",
        "> La actividad se desarrollará en grupos pre-definidos de 2-3 alumnos. Se debe indicar los nombres en orden alfabético (de apellidos). Recordad que esta actividad se corresponde con un 30% de la nota final de la asignatura. Se debe entregar entregar el trabajo en la presente notebook.\n",
        "*   Alumno 1: de Antón Santiago, Sara\n",
        "*   Alumno 2: Sánchez La O, Benjamín C.\n",
        "*   Alumno 3:\n",
        "\n",
        "\n",
        "\n",
        "\n"
      ]
    },
    {
      "cell_type": "markdown",
      "metadata": {
        "id": "JwpYlnjWJhS9"
      },
      "source": [
        "---\n",
        "## **PARTE 1** - Instalación y requisitos previos\n",
        "\n",
        "> Las prácticas han sido preparadas para poder realizarse en el entorno de trabajo de Google Colab. Sin embargo, esta plataforma presenta ciertas incompatibilidades a la hora de visualizar la renderización en gym. Por ello, para obtener estas visualizaciones, se deberá trasladar el entorno de trabajo a local. Por ello, el presente dosier presenta instrucciones para poder trabajar en ambos entornos. Siga los siguientes pasos para un correcto funcionamiento:\n",
        "1.   **LOCAL:** Preparar el enviroment, siguiendo las intrucciones detalladas en la sección *1.1.Preparar enviroment*.\n",
        "2.  **AMBOS:** Modificar las variables \"mount\" y \"drive_mount\" a la carpeta de trabajo en drive en el caso de estar en Colab, y ejecturar la celda *1.2.Localizar entorno de trabajo*.\n",
        "3. **COLAB:** se deberá ejecutar las celdas correspondientes al montaje de la carpeta de trabajo en Drive. Esta corresponde a la sección *1.3.Montar carpeta de datos local*.\n",
        "4.  **AMBOS:** Instalar las librerías necesarias, siguiendo la sección *1.4.Instalar librerías necesarias*.\n"
      ]
    },
    {
      "cell_type": "markdown",
      "metadata": {
        "id": "RU2BPrK2JkP0"
      },
      "source": [
        "---\n",
        "### 1.1. Preparar enviroment (solo local)\n",
        "\n",
        "\n",
        "\n",
        "> Para preparar el entorno de trabajo en local, se han seguido los siguientes pasos:\n",
        "1. En Windows, puede ser necesario instalar las C++ Build Tools. Para ello, siga los siguientes pasos: https://towardsdatascience.com/how-to-install-openai-gym-in-a-windows-environment-338969e24d30.\n",
        "2. Instalar Anaconda\n",
        "3. Siguiendo el código que se presenta comentado en la próxima celda: Crear un enviroment, cambiar la ruta de trabajo, e instalar librerías básicas.\n",
        "\n",
        "\n",
        "```\n",
        "conda create --name miar_rl python=3.8\n",
        "conda activate miar_rl\n",
        "cd \"PATH_TO_FOLDER\"\n",
        "conda install git\n",
        "pip install jupyter\n",
        "```\n",
        "\n",
        "\n",
        "4. Abrir la notebook con *jupyter-notebook*.\n",
        "\n",
        "\n",
        "\n",
        "```\n",
        "jupyter-notebook\n",
        "```\n"
      ]
    },
    {
      "cell_type": "markdown",
      "metadata": {
        "id": "w-kixNPiJqTc"
      },
      "source": [
        "---\n",
        "### 1.2. Localizar entorno de trabajo: Google colab o local"
      ]
    },
    {
      "cell_type": "code",
      "execution_count": 21,
      "metadata": {
        "id": "S_YDFwZ-JscI",
        "tags": []
      },
      "outputs": [],
      "source": [
        "# ATENCIÓN!! Modificar ruta relativa a la práctica si es distinta (drive_root)\n",
        "mount='/content/gdrive'\n",
        "drive_root = mount + \"/My Drive/08_MIAR/actividades/proyecto practico\"\n",
        "\n",
        "try:\n",
        "  from google.colab import drive\n",
        "  IN_COLAB=True\n",
        "except:\n",
        "  IN_COLAB=False"
      ]
    },
    {
      "cell_type": "markdown",
      "metadata": {
        "id": "8Dp_a1iBJ0tf"
      },
      "source": [
        "---\n",
        "### 1.3. Montar carpeta de datos local (solo Colab)"
      ]
    },
    {
      "cell_type": "code",
      "execution_count": 22,
      "metadata": {
        "colab": {
          "base_uri": "https://localhost:8080/"
        },
        "id": "I6n7MIefJ21i",
        "outputId": "a4d90ec9-a7cd-4491-a7c8-a784c86cfed2",
        "tags": []
      },
      "outputs": [
        {
          "output_type": "stream",
          "name": "stdout",
          "text": [
            "We're running Colab\n",
            "Colab: mounting Google drive on  /content/gdrive\n",
            "Drive already mounted at /content/gdrive; to attempt to forcibly remount, call drive.mount(\"/content/gdrive\", force_remount=True).\n",
            "\n",
            "Colab: making sure  /content/gdrive/My Drive/08_MIAR/actividades/proyecto practico  exists.\n",
            "\n",
            "Colab: Changing directory to  /content/gdrive/My Drive/08_MIAR/actividades/proyecto practico\n",
            "/content/gdrive/My Drive/08_MIAR/actividades/proyecto practico\n",
            "Archivos en el directorio: \n",
            "['models']\n"
          ]
        }
      ],
      "source": [
        "# Switch to the directory on the Google Drive that you want to use\n",
        "import os\n",
        "if IN_COLAB:\n",
        "  print(\"We're running Colab\")\n",
        "\n",
        "  if IN_COLAB:\n",
        "    # Mount the Google Drive at mount\n",
        "    print(\"Colab: mounting Google drive on \", mount)\n",
        "\n",
        "    drive.mount(mount)\n",
        "\n",
        "    # Create drive_root if it doesn't exist\n",
        "    create_drive_root = True\n",
        "    if create_drive_root:\n",
        "      print(\"\\nColab: making sure \", drive_root, \" exists.\")\n",
        "      os.makedirs(drive_root, exist_ok=True)\n",
        "\n",
        "    # Change to the directory\n",
        "    print(\"\\nColab: Changing directory to \", drive_root)\n",
        "    %cd $drive_root\n",
        "# Verify we're in the correct working directory\n",
        "%pwd\n",
        "print(\"Archivos en el directorio: \")\n",
        "print(os.listdir())"
      ]
    },
    {
      "cell_type": "markdown",
      "metadata": {
        "id": "i1ZSL5bpJ560"
      },
      "source": [
        "---\n",
        "### 1.4. Instalar librerías necesarias"
      ]
    },
    {
      "cell_type": "code",
      "execution_count": 23,
      "metadata": {
        "colab": {
          "base_uri": "https://localhost:8080/"
        },
        "id": "UbVRjvHCJ8UF",
        "outputId": "647f089c-269a-44df-f3e7-582ccd019b41",
        "tags": []
      },
      "outputs": [
        {
          "output_type": "stream",
          "name": "stdout",
          "text": [
            "Requirement already satisfied: gym==0.17.3 in /usr/local/lib/python3.11/dist-packages (0.17.3)\n",
            "Requirement already satisfied: scipy in /usr/local/lib/python3.11/dist-packages (from gym==0.17.3) (1.15.3)\n",
            "Requirement already satisfied: numpy>=1.10.4 in /usr/local/lib/python3.11/dist-packages (from gym==0.17.3) (1.23.5)\n",
            "Requirement already satisfied: pyglet<=1.5.0,>=1.4.0 in /usr/local/lib/python3.11/dist-packages (from gym==0.17.3) (1.5.0)\n",
            "Requirement already satisfied: cloudpickle<1.7.0,>=1.2.0 in /usr/local/lib/python3.11/dist-packages (from gym==0.17.3) (1.6.0)\n",
            "Requirement already satisfied: future in /usr/local/lib/python3.11/dist-packages (from pyglet<=1.5.0,>=1.4.0->gym==0.17.3) (1.0.0)\n",
            "Collecting git+https://github.com/Kojoley/atari-py.git\n",
            "  Cloning https://github.com/Kojoley/atari-py.git to /tmp/pip-req-build-fexoslvk\n",
            "  Running command git clone --filter=blob:none --quiet https://github.com/Kojoley/atari-py.git /tmp/pip-req-build-fexoslvk\n",
            "  Resolved https://github.com/Kojoley/atari-py.git to commit 86a1e05c0a95e9e6233c3a413521fdb34ca8a089\n",
            "  Preparing metadata (setup.py) ... \u001b[?25l\u001b[?25hdone\n",
            "Requirement already satisfied: numpy in /usr/local/lib/python3.11/dist-packages (from atari-py==1.2.2) (1.23.5)\n",
            "Requirement already satisfied: keras-rl2==1.0.5 in /usr/local/lib/python3.11/dist-packages (1.0.5)\n",
            "Requirement already satisfied: tensorflow in /usr/local/lib/python3.11/dist-packages (from keras-rl2==1.0.5) (2.12.0)\n",
            "Requirement already satisfied: absl-py>=1.0.0 in /usr/local/lib/python3.11/dist-packages (from tensorflow->keras-rl2==1.0.5) (1.4.0)\n",
            "Requirement already satisfied: astunparse>=1.6.0 in /usr/local/lib/python3.11/dist-packages (from tensorflow->keras-rl2==1.0.5) (1.6.3)\n",
            "Requirement already satisfied: flatbuffers>=2.0 in /usr/local/lib/python3.11/dist-packages (from tensorflow->keras-rl2==1.0.5) (25.2.10)\n",
            "Requirement already satisfied: gast<=0.4.0,>=0.2.1 in /usr/local/lib/python3.11/dist-packages (from tensorflow->keras-rl2==1.0.5) (0.4.0)\n",
            "Requirement already satisfied: google-pasta>=0.1.1 in /usr/local/lib/python3.11/dist-packages (from tensorflow->keras-rl2==1.0.5) (0.2.0)\n",
            "Requirement already satisfied: grpcio<2.0,>=1.24.3 in /usr/local/lib/python3.11/dist-packages (from tensorflow->keras-rl2==1.0.5) (1.73.0)\n",
            "Requirement already satisfied: h5py>=2.9.0 in /usr/local/lib/python3.11/dist-packages (from tensorflow->keras-rl2==1.0.5) (3.14.0)\n",
            "Requirement already satisfied: jax>=0.3.15 in /usr/local/lib/python3.11/dist-packages (from tensorflow->keras-rl2==1.0.5) (0.4.30)\n",
            "Requirement already satisfied: keras<2.13,>=2.12.0 in /usr/local/lib/python3.11/dist-packages (from tensorflow->keras-rl2==1.0.5) (2.12.0)\n",
            "Requirement already satisfied: libclang>=13.0.0 in /usr/local/lib/python3.11/dist-packages (from tensorflow->keras-rl2==1.0.5) (18.1.1)\n",
            "Requirement already satisfied: numpy<1.24,>=1.22 in /usr/local/lib/python3.11/dist-packages (from tensorflow->keras-rl2==1.0.5) (1.23.5)\n",
            "Requirement already satisfied: opt-einsum>=2.3.2 in /usr/local/lib/python3.11/dist-packages (from tensorflow->keras-rl2==1.0.5) (3.4.0)\n",
            "Requirement already satisfied: packaging in /usr/local/lib/python3.11/dist-packages (from tensorflow->keras-rl2==1.0.5) (24.2)\n",
            "Requirement already satisfied: protobuf!=4.21.0,!=4.21.1,!=4.21.2,!=4.21.3,!=4.21.4,!=4.21.5,<5.0.0dev,>=3.20.3 in /usr/local/lib/python3.11/dist-packages (from tensorflow->keras-rl2==1.0.5) (4.25.8)\n",
            "Requirement already satisfied: setuptools in /usr/local/lib/python3.11/dist-packages (from tensorflow->keras-rl2==1.0.5) (75.2.0)\n",
            "Requirement already satisfied: six>=1.12.0 in /usr/local/lib/python3.11/dist-packages (from tensorflow->keras-rl2==1.0.5) (1.17.0)\n",
            "Requirement already satisfied: tensorboard<2.13,>=2.12 in /usr/local/lib/python3.11/dist-packages (from tensorflow->keras-rl2==1.0.5) (2.12.3)\n",
            "Requirement already satisfied: tensorflow-estimator<2.13,>=2.12.0 in /usr/local/lib/python3.11/dist-packages (from tensorflow->keras-rl2==1.0.5) (2.12.0)\n",
            "Requirement already satisfied: termcolor>=1.1.0 in /usr/local/lib/python3.11/dist-packages (from tensorflow->keras-rl2==1.0.5) (3.1.0)\n",
            "Requirement already satisfied: typing-extensions>=3.6.6 in /usr/local/lib/python3.11/dist-packages (from tensorflow->keras-rl2==1.0.5) (4.14.0)\n",
            "Requirement already satisfied: wrapt<1.15,>=1.11.0 in /usr/local/lib/python3.11/dist-packages (from tensorflow->keras-rl2==1.0.5) (1.14.1)\n",
            "Requirement already satisfied: tensorflow-io-gcs-filesystem>=0.23.1 in /usr/local/lib/python3.11/dist-packages (from tensorflow->keras-rl2==1.0.5) (0.37.1)\n",
            "Requirement already satisfied: wheel<1.0,>=0.23.0 in /usr/local/lib/python3.11/dist-packages (from astunparse>=1.6.0->tensorflow->keras-rl2==1.0.5) (0.45.1)\n",
            "Requirement already satisfied: jaxlib<=0.4.30,>=0.4.27 in /usr/local/lib/python3.11/dist-packages (from jax>=0.3.15->tensorflow->keras-rl2==1.0.5) (0.4.30)\n",
            "Requirement already satisfied: ml-dtypes>=0.2.0 in /usr/local/lib/python3.11/dist-packages (from jax>=0.3.15->tensorflow->keras-rl2==1.0.5) (0.4.1)\n",
            "Requirement already satisfied: scipy>=1.9 in /usr/local/lib/python3.11/dist-packages (from jax>=0.3.15->tensorflow->keras-rl2==1.0.5) (1.15.3)\n",
            "Requirement already satisfied: google-auth<3,>=1.6.3 in /usr/local/lib/python3.11/dist-packages (from tensorboard<2.13,>=2.12->tensorflow->keras-rl2==1.0.5) (2.38.0)\n",
            "Requirement already satisfied: google-auth-oauthlib<1.1,>=0.5 in /usr/local/lib/python3.11/dist-packages (from tensorboard<2.13,>=2.12->tensorflow->keras-rl2==1.0.5) (1.0.0)\n",
            "Requirement already satisfied: markdown>=2.6.8 in /usr/local/lib/python3.11/dist-packages (from tensorboard<2.13,>=2.12->tensorflow->keras-rl2==1.0.5) (3.8)\n",
            "Requirement already satisfied: requests<3,>=2.21.0 in /usr/local/lib/python3.11/dist-packages (from tensorboard<2.13,>=2.12->tensorflow->keras-rl2==1.0.5) (2.32.3)\n",
            "Requirement already satisfied: tensorboard-data-server<0.8.0,>=0.7.0 in /usr/local/lib/python3.11/dist-packages (from tensorboard<2.13,>=2.12->tensorflow->keras-rl2==1.0.5) (0.7.2)\n",
            "Requirement already satisfied: werkzeug>=1.0.1 in /usr/local/lib/python3.11/dist-packages (from tensorboard<2.13,>=2.12->tensorflow->keras-rl2==1.0.5) (3.1.3)\n",
            "Requirement already satisfied: cachetools<6.0,>=2.0.0 in /usr/local/lib/python3.11/dist-packages (from google-auth<3,>=1.6.3->tensorboard<2.13,>=2.12->tensorflow->keras-rl2==1.0.5) (5.5.2)\n",
            "Requirement already satisfied: pyasn1-modules>=0.2.1 in /usr/local/lib/python3.11/dist-packages (from google-auth<3,>=1.6.3->tensorboard<2.13,>=2.12->tensorflow->keras-rl2==1.0.5) (0.4.2)\n",
            "Requirement already satisfied: rsa<5,>=3.1.4 in /usr/local/lib/python3.11/dist-packages (from google-auth<3,>=1.6.3->tensorboard<2.13,>=2.12->tensorflow->keras-rl2==1.0.5) (4.9.1)\n",
            "Requirement already satisfied: requests-oauthlib>=0.7.0 in /usr/local/lib/python3.11/dist-packages (from google-auth-oauthlib<1.1,>=0.5->tensorboard<2.13,>=2.12->tensorflow->keras-rl2==1.0.5) (2.0.0)\n",
            "Requirement already satisfied: charset-normalizer<4,>=2 in /usr/local/lib/python3.11/dist-packages (from requests<3,>=2.21.0->tensorboard<2.13,>=2.12->tensorflow->keras-rl2==1.0.5) (3.4.2)\n",
            "Requirement already satisfied: idna<4,>=2.5 in /usr/local/lib/python3.11/dist-packages (from requests<3,>=2.21.0->tensorboard<2.13,>=2.12->tensorflow->keras-rl2==1.0.5) (3.10)\n",
            "Requirement already satisfied: urllib3<3,>=1.21.1 in /usr/local/lib/python3.11/dist-packages (from requests<3,>=2.21.0->tensorboard<2.13,>=2.12->tensorflow->keras-rl2==1.0.5) (2.4.0)\n",
            "Requirement already satisfied: certifi>=2017.4.17 in /usr/local/lib/python3.11/dist-packages (from requests<3,>=2.21.0->tensorboard<2.13,>=2.12->tensorflow->keras-rl2==1.0.5) (2025.6.15)\n",
            "Requirement already satisfied: MarkupSafe>=2.1.1 in /usr/local/lib/python3.11/dist-packages (from werkzeug>=1.0.1->tensorboard<2.13,>=2.12->tensorflow->keras-rl2==1.0.5) (3.0.2)\n",
            "Requirement already satisfied: pyasn1<0.7.0,>=0.6.1 in /usr/local/lib/python3.11/dist-packages (from pyasn1-modules>=0.2.1->google-auth<3,>=1.6.3->tensorboard<2.13,>=2.12->tensorflow->keras-rl2==1.0.5) (0.6.1)\n",
            "Requirement already satisfied: oauthlib>=3.0.0 in /usr/local/lib/python3.11/dist-packages (from requests-oauthlib>=0.7.0->google-auth-oauthlib<1.1,>=0.5->tensorboard<2.13,>=2.12->tensorflow->keras-rl2==1.0.5) (3.2.2)\n",
            "Requirement already satisfied: tensorflow==2.12 in /usr/local/lib/python3.11/dist-packages (2.12.0)\n",
            "Requirement already satisfied: absl-py>=1.0.0 in /usr/local/lib/python3.11/dist-packages (from tensorflow==2.12) (1.4.0)\n",
            "Requirement already satisfied: astunparse>=1.6.0 in /usr/local/lib/python3.11/dist-packages (from tensorflow==2.12) (1.6.3)\n",
            "Requirement already satisfied: flatbuffers>=2.0 in /usr/local/lib/python3.11/dist-packages (from tensorflow==2.12) (25.2.10)\n",
            "Requirement already satisfied: gast<=0.4.0,>=0.2.1 in /usr/local/lib/python3.11/dist-packages (from tensorflow==2.12) (0.4.0)\n",
            "Requirement already satisfied: google-pasta>=0.1.1 in /usr/local/lib/python3.11/dist-packages (from tensorflow==2.12) (0.2.0)\n",
            "Requirement already satisfied: grpcio<2.0,>=1.24.3 in /usr/local/lib/python3.11/dist-packages (from tensorflow==2.12) (1.73.0)\n",
            "Requirement already satisfied: h5py>=2.9.0 in /usr/local/lib/python3.11/dist-packages (from tensorflow==2.12) (3.14.0)\n",
            "Requirement already satisfied: jax>=0.3.15 in /usr/local/lib/python3.11/dist-packages (from tensorflow==2.12) (0.4.30)\n",
            "Requirement already satisfied: keras<2.13,>=2.12.0 in /usr/local/lib/python3.11/dist-packages (from tensorflow==2.12) (2.12.0)\n",
            "Requirement already satisfied: libclang>=13.0.0 in /usr/local/lib/python3.11/dist-packages (from tensorflow==2.12) (18.1.1)\n",
            "Requirement already satisfied: numpy<1.24,>=1.22 in /usr/local/lib/python3.11/dist-packages (from tensorflow==2.12) (1.23.5)\n",
            "Requirement already satisfied: opt-einsum>=2.3.2 in /usr/local/lib/python3.11/dist-packages (from tensorflow==2.12) (3.4.0)\n",
            "Requirement already satisfied: packaging in /usr/local/lib/python3.11/dist-packages (from tensorflow==2.12) (24.2)\n",
            "Requirement already satisfied: protobuf!=4.21.0,!=4.21.1,!=4.21.2,!=4.21.3,!=4.21.4,!=4.21.5,<5.0.0dev,>=3.20.3 in /usr/local/lib/python3.11/dist-packages (from tensorflow==2.12) (4.25.8)\n",
            "Requirement already satisfied: setuptools in /usr/local/lib/python3.11/dist-packages (from tensorflow==2.12) (75.2.0)\n",
            "Requirement already satisfied: six>=1.12.0 in /usr/local/lib/python3.11/dist-packages (from tensorflow==2.12) (1.17.0)\n",
            "Requirement already satisfied: tensorboard<2.13,>=2.12 in /usr/local/lib/python3.11/dist-packages (from tensorflow==2.12) (2.12.3)\n",
            "Requirement already satisfied: tensorflow-estimator<2.13,>=2.12.0 in /usr/local/lib/python3.11/dist-packages (from tensorflow==2.12) (2.12.0)\n",
            "Requirement already satisfied: termcolor>=1.1.0 in /usr/local/lib/python3.11/dist-packages (from tensorflow==2.12) (3.1.0)\n",
            "Requirement already satisfied: typing-extensions>=3.6.6 in /usr/local/lib/python3.11/dist-packages (from tensorflow==2.12) (4.14.0)\n",
            "Requirement already satisfied: wrapt<1.15,>=1.11.0 in /usr/local/lib/python3.11/dist-packages (from tensorflow==2.12) (1.14.1)\n",
            "Requirement already satisfied: tensorflow-io-gcs-filesystem>=0.23.1 in /usr/local/lib/python3.11/dist-packages (from tensorflow==2.12) (0.37.1)\n",
            "Requirement already satisfied: wheel<1.0,>=0.23.0 in /usr/local/lib/python3.11/dist-packages (from astunparse>=1.6.0->tensorflow==2.12) (0.45.1)\n",
            "Requirement already satisfied: jaxlib<=0.4.30,>=0.4.27 in /usr/local/lib/python3.11/dist-packages (from jax>=0.3.15->tensorflow==2.12) (0.4.30)\n",
            "Requirement already satisfied: ml-dtypes>=0.2.0 in /usr/local/lib/python3.11/dist-packages (from jax>=0.3.15->tensorflow==2.12) (0.4.1)\n",
            "Requirement already satisfied: scipy>=1.9 in /usr/local/lib/python3.11/dist-packages (from jax>=0.3.15->tensorflow==2.12) (1.15.3)\n",
            "Requirement already satisfied: google-auth<3,>=1.6.3 in /usr/local/lib/python3.11/dist-packages (from tensorboard<2.13,>=2.12->tensorflow==2.12) (2.38.0)\n",
            "Requirement already satisfied: google-auth-oauthlib<1.1,>=0.5 in /usr/local/lib/python3.11/dist-packages (from tensorboard<2.13,>=2.12->tensorflow==2.12) (1.0.0)\n",
            "Requirement already satisfied: markdown>=2.6.8 in /usr/local/lib/python3.11/dist-packages (from tensorboard<2.13,>=2.12->tensorflow==2.12) (3.8)\n",
            "Requirement already satisfied: requests<3,>=2.21.0 in /usr/local/lib/python3.11/dist-packages (from tensorboard<2.13,>=2.12->tensorflow==2.12) (2.32.3)\n",
            "Requirement already satisfied: tensorboard-data-server<0.8.0,>=0.7.0 in /usr/local/lib/python3.11/dist-packages (from tensorboard<2.13,>=2.12->tensorflow==2.12) (0.7.2)\n",
            "Requirement already satisfied: werkzeug>=1.0.1 in /usr/local/lib/python3.11/dist-packages (from tensorboard<2.13,>=2.12->tensorflow==2.12) (3.1.3)\n",
            "Requirement already satisfied: cachetools<6.0,>=2.0.0 in /usr/local/lib/python3.11/dist-packages (from google-auth<3,>=1.6.3->tensorboard<2.13,>=2.12->tensorflow==2.12) (5.5.2)\n",
            "Requirement already satisfied: pyasn1-modules>=0.2.1 in /usr/local/lib/python3.11/dist-packages (from google-auth<3,>=1.6.3->tensorboard<2.13,>=2.12->tensorflow==2.12) (0.4.2)\n",
            "Requirement already satisfied: rsa<5,>=3.1.4 in /usr/local/lib/python3.11/dist-packages (from google-auth<3,>=1.6.3->tensorboard<2.13,>=2.12->tensorflow==2.12) (4.9.1)\n",
            "Requirement already satisfied: requests-oauthlib>=0.7.0 in /usr/local/lib/python3.11/dist-packages (from google-auth-oauthlib<1.1,>=0.5->tensorboard<2.13,>=2.12->tensorflow==2.12) (2.0.0)\n",
            "Requirement already satisfied: charset-normalizer<4,>=2 in /usr/local/lib/python3.11/dist-packages (from requests<3,>=2.21.0->tensorboard<2.13,>=2.12->tensorflow==2.12) (3.4.2)\n",
            "Requirement already satisfied: idna<4,>=2.5 in /usr/local/lib/python3.11/dist-packages (from requests<3,>=2.21.0->tensorboard<2.13,>=2.12->tensorflow==2.12) (3.10)\n",
            "Requirement already satisfied: urllib3<3,>=1.21.1 in /usr/local/lib/python3.11/dist-packages (from requests<3,>=2.21.0->tensorboard<2.13,>=2.12->tensorflow==2.12) (2.4.0)\n",
            "Requirement already satisfied: certifi>=2017.4.17 in /usr/local/lib/python3.11/dist-packages (from requests<3,>=2.21.0->tensorboard<2.13,>=2.12->tensorflow==2.12) (2025.6.15)\n",
            "Requirement already satisfied: MarkupSafe>=2.1.1 in /usr/local/lib/python3.11/dist-packages (from werkzeug>=1.0.1->tensorboard<2.13,>=2.12->tensorflow==2.12) (3.0.2)\n",
            "Requirement already satisfied: pyasn1<0.7.0,>=0.6.1 in /usr/local/lib/python3.11/dist-packages (from pyasn1-modules>=0.2.1->google-auth<3,>=1.6.3->tensorboard<2.13,>=2.12->tensorflow==2.12) (0.6.1)\n",
            "Requirement already satisfied: oauthlib>=3.0.0 in /usr/local/lib/python3.11/dist-packages (from requests-oauthlib>=0.7.0->google-auth-oauthlib<1.1,>=0.5->tensorboard<2.13,>=2.12->tensorflow==2.12) (3.2.2)\n"
          ]
        }
      ],
      "source": [
        "# NO EJECUTAR EN SAGEMAKER (MIRAR EL README PARA CONFIGURAR EL ENTORNO)\n",
        "# AUNQUE DE FALLOS DE INSTALACIÓN LOS IMPORTS FUNCIONAN\n",
        "if IN_COLAB:\n",
        "  %pip install gym==0.17.3\n",
        "  %pip install git+https://github.com/Kojoley/atari-py.git\n",
        "  %pip install keras-rl2==1.0.5\n",
        "  %pip install tensorflow==2.12  #2.8\n",
        "else:\n",
        "  %pip install gym==0.17.3\n",
        "  %pip install git+https://github.com/Kojoley/atari-py.git\n",
        "  %pip install pyglet==1.5.0\n",
        "  %pip install h5py==3.1.0\n",
        "  %pip install Pillow==9.5.0\n",
        "  %pip install keras-rl2==1.0.5\n",
        "  %pip install Keras==2.2.4\n",
        "  %pip install tensorflow==2.5.3\n",
        "  %pip install torch==2.0.1\n",
        "  %pip install agents==1.4.0"
      ]
    },
    {
      "cell_type": "markdown",
      "metadata": {
        "id": "4hzP_5ZuGb2X"
      },
      "source": [
        "---\n",
        "## **PARTE 2**. Enunciado\n",
        "\n",
        "Consideraciones a tener en cuenta:\n",
        "\n",
        "- El entorno sobre el que trabajaremos será _SpaceInvaders-v0_ y el algoritmo que usaremos será _DQN_.\n",
        "\n",
        "- Para nuestro ejercicio, el requisito mínimo será alcanzado cuando el agente consiga una **media de recompensa por encima de 20 puntos en modo test**. Por ello, esta media de la recompensa se calculará a partir del código de test en la última celda del notebook.\n",
        "\n",
        "Este proyecto práctico consta de tres partes:\n",
        "\n",
        "1.   Implementar la red neuronal que se usará en la solución\n",
        "2.   Implementar las distintas piezas de la solución DQN\n",
        "3.   Justificar la respuesta en relación a los resultados obtenidos\n",
        "\n",
        "**Rúbrica**: Se valorará la originalidad en la solución aportada, así como la capacidad de discutir los resultados de forma detallada. El requisito mínimo servirá para aprobar la actividad, bajo premisa de que la discusión del resultado sera apropiada.\n",
        "\n",
        "IMPORTANTE:\n",
        "\n",
        "* Si no se consigue una puntuación óptima, responder sobre la mejor puntuación obtenida.\n",
        "* Para entrenamientos largos, recordad que podéis usar checkpoints de vuestros modelos para retomar los entrenamientos. En este caso, recordad cambiar los parámetros adecuadamente (sobre todo los relacionados con el proceso de exploración).\n",
        "* Se deberá entregar unicamente el notebook y los pesos del mejor modelo en un fichero .zip, de forma organizada.\n",
        "* Cada alumno deberá de subir la solución de forma individual."
      ]
    },
    {
      "cell_type": "markdown",
      "metadata": {
        "id": "6_b3mzw8IzJP"
      },
      "source": [
        "---\n",
        "## **PARTE 3**. Desarrollo y preguntas"
      ]
    },
    {
      "cell_type": "code",
      "execution_count": 24,
      "metadata": {
        "tags": [],
        "id": "45BPUdIoB41o"
      },
      "outputs": [],
      "source": [
        "# DEFINIR AL PRINCIPIO\n",
        "try:\n",
        "  from google.colab import drive\n",
        "  IN_COLAB=True\n",
        "except:\n",
        "  IN_COLAB=False"
      ]
    },
    {
      "cell_type": "markdown",
      "metadata": {
        "id": "duPmUNOVGb2a"
      },
      "source": [
        "#### Importar librerías"
      ]
    },
    {
      "cell_type": "code",
      "execution_count": 25,
      "metadata": {
        "id": "j3eRhgI-Gb2a",
        "tags": []
      },
      "outputs": [],
      "source": [
        "from __future__ import division\n",
        "\n",
        "from PIL import Image\n",
        "import numpy as np\n",
        "import gym\n",
        "import os\n",
        "import glob\n",
        "\n",
        "from tensorflow.keras.models import Sequential, Model\n",
        "from tensorflow.keras.layers import Dense, Activation, Flatten, Convolution2D, Permute, Input\n",
        "from tensorflow.keras.optimizers import Adam\n",
        "import tensorflow.keras.backend as K\n",
        "\n",
        "from rl.agents.dqn import DQNAgent\n",
        "from rl.policy import LinearAnnealedPolicy, BoltzmannQPolicy, EpsGreedyQPolicy\n",
        "from rl.memory import SequentialMemory\n",
        "from rl.core import Processor\n",
        "from rl.callbacks import FileLogger, ModelIntervalCheckpoint\n",
        "\n",
        "# AÑADIDO\n",
        "from tensorflow.keras.layers import Lambda, BatchNormalization\n",
        "from tensorflow.keras.callbacks import Callback\n",
        "import json\n",
        "import pandas as pd\n",
        "import matplotlib.pyplot as plt\n",
        "import csv\n",
        "import pickle"
      ]
    },
    {
      "cell_type": "markdown",
      "metadata": {
        "id": "f4jgQjzoGb2a"
      },
      "source": [
        "#### Configuración base"
      ]
    },
    {
      "cell_type": "code",
      "execution_count": 26,
      "metadata": {
        "id": "jwOE6I_KGb2a",
        "tags": []
      },
      "outputs": [],
      "source": [
        "INPUT_SHAPE = (84, 84)\n",
        "WINDOW_LENGTH = 4\n",
        "\n",
        "env_name = 'SpaceInvaders-v0'\n",
        "env = gym.make(env_name)\n",
        "\n",
        "np.random.seed(123)\n",
        "env.seed(123)\n",
        "nb_actions = env.action_space.n"
      ]
    },
    {
      "cell_type": "code",
      "execution_count": 27,
      "metadata": {
        "id": "9jGEZUcpGb2a",
        "tags": []
      },
      "outputs": [],
      "source": [
        "class AtariProcessor(Processor):\n",
        "    def process_observation(self, observation):\n",
        "        assert observation.ndim == 3  # (height, width, channel)\n",
        "        img = Image.fromarray(observation)\n",
        "        img = img.resize(INPUT_SHAPE).convert('L')\n",
        "        processed_observation = np.array(img)\n",
        "        assert processed_observation.shape == INPUT_SHAPE\n",
        "        return processed_observation.astype('uint8')\n",
        "\n",
        "    def process_state_batch(self, batch):\n",
        "        processed_batch = batch.astype('float32') / 255.\n",
        "        return processed_batch\n",
        "\n",
        "    def process_reward(self, reward):\n",
        "        return np.clip(reward, -1., 1.)"
      ]
    },
    {
      "cell_type": "code",
      "source": [
        "# HIPERPARÁMETROS POR DEFECTO\n",
        "hiperparametros = {\n",
        "    \"MEMORY_SIZE\": 1000000,\n",
        "    \"WARMUP_STEPS\": 50000,\n",
        "    \"SCHEDULER_STEPS\": 1000000,\n",
        "    \"GAMMA\": 0.99,\n",
        "    \"MODEL_UPDATE\": 10000,\n",
        "    \"LEARNING_RATE\": 0.00025,\n",
        "    \"MODEL_CHECKPOINT_STEPS\": 25000,\n",
        "    \"TRAIN_STEPS\": 1750000,\n",
        "    \"LOG_INTERVAL\": 10000,\n",
        "    \"DELTA_CLIP\": 1.0\n",
        "}"
      ],
      "metadata": {
        "id": "cZDLvSKdO-B3"
      },
      "execution_count": 28,
      "outputs": []
    },
    {
      "cell_type": "code",
      "source": [
        "# ROOT PATH PARA LOS MODELOS Y SUS PESOS\n",
        "if IN_COLAB:\n",
        "  mount='/content/gdrive'\n",
        "  drive_root = mount + \"/My Drive/08_MIAR/actividades/proyecto practico\"\n",
        "  MODELS_DIR=drive_root+\"/models\"\n",
        "else:\n",
        "  MODELS_DIR=\"./models\"\n",
        "\n",
        "def get_dirs(model_name=\"modelo1\"):\n",
        "    WEIGHTS_DIR = os.path.join(MODELS_DIR, model_name, \"weights\")\n",
        "    CHECKPOINTS_DIR = os.path.join(MODELS_DIR, model_name, \"checkpoints\")\n",
        "    MODEL_DIR = os.path.join(MODELS_DIR, model_name)\n",
        "    os.makedirs(WEIGHTS_DIR, exist_ok=True)\n",
        "    os.makedirs(CHECKPOINTS_DIR, exist_ok=True)\n",
        "    return MODEL_DIR, WEIGHTS_DIR, CHECKPOINTS_DIR\n",
        "\n",
        "def save_hyperparams(modelo):\n",
        "    \"\"\"\n",
        "    Guarda los hiperparámetros actuales en el fichero JSON.\n",
        "    \"\"\"\n",
        "    hyper_file = os.path.join(MODELS_DIR, modelo, modelo + '.json')\n",
        "    with open(hyper_file, 'w') as f:\n",
        "        json.dump(hiperparametros, f, indent=4)\n",
        "    print(f\"[INFO] Hiperparámetros guardados en {hyper_file}\")\n",
        "\n",
        "\n",
        "def load_hyperparams(modelo):\n",
        "    \"\"\"\n",
        "    Actualiza los hiperparámetros definidos en memoria a los del fichero cargado.\n",
        "    Si el fichero no existe, lo crea con los valores por defecto (hiperparametros).\n",
        "    \"\"\"\n",
        "    hyper_file = os.path.join(MODELS_DIR, modelo, modelo + '.json')\n",
        "\n",
        "    # Crear el directorio del modelo si no existe\n",
        "    os.makedirs(os.path.dirname(hyper_file), exist_ok=True)\n",
        "\n",
        "    if not os.path.exists(hyper_file):\n",
        "        # Guardar el fichero con los hiperparámetros por defecto\n",
        "        with open(hyper_file, 'w') as f:\n",
        "            json.dump(hiperparametros, f, indent=4)\n",
        "\n",
        "        print(f\"[INFO] Fichero de hiperparámetros no encontrado. Creado por defecto en: {hyper_file}\")\n",
        "        params = hiperparametros\n",
        "    else:\n",
        "        # El fichero existe: lo leemos\n",
        "        with open(hyper_file, 'r') as f:\n",
        "            params = json.load(f)\n",
        "\n",
        "    # Asignar dinámicamente los valores\n",
        "    for key, value in params.items():\n",
        "        globals()[key] = value\n",
        "        hiperparametros[key] = value  # Actualiza el diccionario en memoria\n",
        "\n",
        "    print(f\"[INFO] Hiperparámetros cargados desde {hyper_file}\")"
      ],
      "metadata": {
        "id": "WRL-ixOyPIo7"
      },
      "execution_count": 29,
      "outputs": []
    },
    {
      "cell_type": "code",
      "source": [
        "# FUNCIÓN PARA PLOTEAR LOGS DEL TRAINING\n",
        "def graph_training_csv(csv_path, model_dir, model_name, save_clean_csv=False):\n",
        "    if not os.path.isfile(csv_path):\n",
        "        print(f\"[ERROR] El archivo '{csv_path}' no existe.\")\n",
        "        return\n",
        "\n",
        "    try:\n",
        "        df = pd.read_csv(csv_path, usecols=[0, 1, 2])  # Usa encabezados del archivo\n",
        "        df.columns = ['episode_jump', 'episode_reward', 'nb_steps']\n",
        "    except Exception as e:\n",
        "        print(f\"[ERROR] No se pudo leer el CSV: {e}\")\n",
        "        return\n",
        "\n",
        "    # Ignorar la primera fila de datos (por ejemplo, episodio 1)\n",
        "    df = df.iloc[1:].reset_index(drop=True)\n",
        "\n",
        "    # Convertir nb_steps a entero seguro\n",
        "    df['nb_steps'] = pd.to_numeric(df['nb_steps'], errors='coerce')\n",
        "    df = df.dropna(subset=['nb_steps'])\n",
        "    df['nb_steps'] = df['nb_steps'].astype(int)\n",
        "\n",
        "    fixed_steps = []\n",
        "    accumulated_steps = 0\n",
        "    previous_step = df['nb_steps'].iloc[0]\n",
        "\n",
        "    for s in df['nb_steps']:\n",
        "      if s < previous_step:\n",
        "          accumulated_steps += previous_step\n",
        "          value= s + accumulated_steps\n",
        "      else:\n",
        "          if accumulated_steps == 0:\n",
        "              value = s\n",
        "          else:\n",
        "              value = s+ accumulated_steps\n",
        "      previous_step = s\n",
        "      fixed_steps.append(value)\n",
        "\n",
        "\n",
        "    df['fixed_steps'] = fixed_steps\n",
        "    print(f\"[INFO] Último valor en 'fixed_steps': {fixed_steps[-1]}\")\n",
        "\n",
        "    # Graficar\n",
        "    plt.figure(figsize=(10, 5))\n",
        "    plt.plot(df['fixed_steps'], df['episode_reward'])\n",
        "    plt.title(f\"{model_name}: Episode Reward vs Steps\")\n",
        "    plt.xlabel(\"Steps\")\n",
        "    plt.ylabel(\"Episode Reward\")\n",
        "    plt.grid(True)\n",
        "\n",
        "    output_path = os.path.join(model_dir, f\"{model_name}_episode_reward_fixed_steps.png\")\n",
        "    plt.savefig(output_path)\n",
        "    print(f\"[INFO] Gráfica guardada en: {output_path}\")\n",
        "    plt.show()\n",
        "\n",
        "    if save_clean_csv:\n",
        "        clean_csv_path = os.path.join(model_dir, f\"{model_name}_cleaned_log_fixed.csv\")\n",
        "        df.to_csv(clean_csv_path, index=False)\n",
        "        print(f\"[INFO] CSV corregido guardado en: {clean_csv_path}\")\n",
        "\n"
      ],
      "metadata": {
        "id": "c9KxgJ090eku"
      },
      "execution_count": 60,
      "outputs": []
    },
    {
      "cell_type": "code",
      "source": [
        "# CALLBACK CUSTOM DEL LOGGER PARA PODER GUARDAR TODA LA INFO EN UN MISMO FICHERO YA QUE ANTES SE SOBREESCRIBÍA\n",
        "class EpisodeLoggerCSV(Callback):\n",
        "    def __init__(self, filepath):\n",
        "        super().__init__()\n",
        "        self.filepath = filepath\n",
        "        self.fields = ['episode', 'episode_reward', 'nb_steps', 'duration']\n",
        "        self.episode_count = 0\n",
        "        self.file = None\n",
        "        self.writer = None\n",
        "\n",
        "    def on_train_begin(self, logs=None):\n",
        "        # Abrir el archivo una vez al inicio del entrenamiento\n",
        "        file_exists = os.path.exists(self.filepath)\n",
        "        self.file = open(self.filepath, mode='a', newline='')\n",
        "        self.writer = csv.DictWriter(self.file, fieldnames=self.fields)\n",
        "        if not file_exists:\n",
        "            self.writer.writeheader()\n",
        "\n",
        "    def on_episode_end(self, episode, logs=None):\n",
        "        self.episode_count += 1\n",
        "        row = {\n",
        "            'episode': self.episode_count,\n",
        "            'episode_reward': logs.get('episode_reward'),\n",
        "            'nb_steps': logs.get('nb_steps'),\n",
        "            'duration': logs.get('duration')\n",
        "        }\n",
        "        self.writer.writerow(row)\n",
        "        self.file.flush()  # Asegura que se escriba en disco\n",
        "        #print(f\"[Log CSV] Episodio {self.episode_count} → Recompensa: {row['episode_reward']}\")\n",
        "\n",
        "    def on_train_end(self, logs=None):\n",
        "        # Cerrar el archivo al final\n",
        "        if self.file:\n",
        "            self.file.close()"
      ],
      "metadata": {
        "id": "qUOajl31fsW7"
      },
      "execution_count": 31,
      "outputs": []
    },
    {
      "cell_type": "code",
      "execution_count": 32,
      "metadata": {
        "tags": [],
        "id": "jqpjeC-6J9xP"
      },
      "outputs": [],
      "source": [
        "# CALLBACK CUSTOM PARA GUARDAR LOS CHECKPOINTS CON EL NOMBRE BIEN CUANDO SE REINICIA EL ENTRENAMIENTO Y LA MEMORIA\n",
        "class AccumulatedCheckpoint(Callback):\n",
        "    def __init__(self, base_path, env_name, interval, initial_step=0):\n",
        "        super().__init__()\n",
        "        self.base_path = base_path\n",
        "        self.weights_path = os.path.join(base_path, f'dqn_{env_name}_weights_{{step}}.h5f')\n",
        "        self.memory_path= os.path.join(base_path,'memory.pkl')\n",
        "        self.policy_state_path = os.path.join(base_path, 'policy.json')\n",
        "        self.interval = interval\n",
        "        self.total_steps = initial_step\n",
        "        print(f\"Callback iniciado desde paso {self.total_steps}\")\n",
        "\n",
        "    def on_step_end(self, step, logs={}):\n",
        "        self.total_steps += 1\n",
        "        if self.total_steps % self.interval == 0:\n",
        "            base = self.base_path.format(step=self.total_steps)\n",
        "\n",
        "            # Guardar pesos del modelo\n",
        "            weights_path = self.weights_path\n",
        "            weights_path = self.weights_path.format(step=self.total_steps)\n",
        "            self.model.save_weights(weights_path, overwrite=True)\n",
        "            print(f\"\\n[Checkpoint] Pesos guardados en: {weights_path}\")\n",
        "\n",
        "            # Guardar memoria de repetición\n",
        "            memory_path = self.memory_path\n",
        "            temp_path = memory_path + \".tmp\"\n",
        "\n",
        "            with open(temp_path, \"wb\") as f:\n",
        "                pickle.dump(self.model.memory, f)\n",
        "\n",
        "            # Solo si guardar ha ido bien\n",
        "            os.replace(temp_path, memory_path)\n",
        "            print(f\"\\n[Checkpoint] Memoria guardada de forma segura en: {memory_path}\")"
      ]
    },
    {
      "cell_type": "code",
      "execution_count": 33,
      "metadata": {
        "tags": [],
        "id": "QEeBZCr1J9xP"
      },
      "outputs": [],
      "source": [
        "# FUNCIÓN PARA CARGAR EL ÚLTMO CHECKPOINT DETECTADO\n",
        "def load_last_checkpoint(dqn):\n",
        "  # Buscar todos los checkpoints por su archivo .index\n",
        "  pattern = os.path.join(CHECKPOINTS_DIR, f'dqn_{env_name}_weights_*.h5f.index')\n",
        "  checkpoints = glob.glob(pattern)\n",
        "\n",
        "  # Valor por defecto si no se encuentra checkpoint\n",
        "  last_checkpoint_steps = 0\n",
        "\n",
        "  if checkpoints:\n",
        "      # Extraer el número de paso del nombre\n",
        "      def extract_step(filename):\n",
        "          try:\n",
        "              name = os.path.basename(filename)\n",
        "              step_part = name.split('_weights_')[1].replace('.h5f.index', '')\n",
        "              return int(step_part)\n",
        "          except:\n",
        "              return -1\n",
        "\n",
        "      # Seleccionar el checkpoint con mayor número de pasos\n",
        "      latest_index = max(checkpoints, key=extract_step)\n",
        "\n",
        "      # Quitar la extensión .index para obtener el nombre base\n",
        "      latest_checkpoint = latest_index.replace('.index', '')\n",
        "\n",
        "      print(f\"[DQN] Cargando último checkpoint: {latest_checkpoint}\")\n",
        "      dqn.load_weights(latest_checkpoint)\n",
        "\n",
        "      # Aquí extraemos los pasos acumulados\n",
        "      last_checkpoint_steps = extract_step(latest_index)\n",
        "  else:\n",
        "      print(\"[DQN] No se encontró ningún checkpoint, entrenamiento desde cero.\")\n",
        "  return dqn, last_checkpoint_steps"
      ]
    },
    {
      "cell_type": "code",
      "source": [
        "# FUNCIÓN QUE PERMITE AJUSTAR LOS PARÁMETROS DE LA POLICY PARA QUE EL ENTRENAMIENTO SE REAUNDE POR DONDE TOCA\n",
        "# SI NO POR DEFECTO COMENZARÍA EN EL VALOR MÁXIMO DE EPSILON\n",
        "def adjust_policy_params(scheduler_steps, train_steps, current_step, value_max=1.0, value_min=0.1):\n",
        "    \"\"\"\n",
        "    Ajusta dinámicamente los parámetros de LinearAnnealedPolicy para reanudar la exploración desde el punto correcto.\n",
        "\n",
        "    Args:\n",
        "        scheduler_steps (int): Número de pasos que define la duración del decaimiento de eps.\n",
        "        train_steps (int): Número total de pasos planeados para el entrenamiento.\n",
        "        current_step (int): Paso actual o recuperado del checkpoint.\n",
        "        value_max (float): Valor inicial deseado de eps.\n",
        "        value_min (float): Valor mínimo deseado de eps.\n",
        "\n",
        "    Returns:\n",
        "        tuple: (value_max_ajustado, value_min, scheduler_steps_restantes)\n",
        "    \"\"\"\n",
        "    if current_step >= scheduler_steps:\n",
        "        # Ya se alcanzó el mínimo, mantenerlo constante\n",
        "        return value_min, value_min, 1  # eps se queda fijo\n",
        "\n",
        "    # Calcular epsilon actual desde el punto alcanzado\n",
        "    frac = current_step / scheduler_steps\n",
        "    current_eps = value_max - (value_max - value_min) * frac\n",
        "\n",
        "    # Pasos restantes para completar el scheduler\n",
        "    steps_remaining = scheduler_steps - current_step\n",
        "    return current_eps, value_min, steps_remaining"
      ],
      "metadata": {
        "id": "o2PywN6Wsef_"
      },
      "execution_count": 34,
      "outputs": []
    },
    {
      "cell_type": "code",
      "source": [
        "# FUNCIÓN PARA CARGAR LA MEMORIA Y EL NÚMERO DE PASOS DEL MODELO\n",
        "def get_memory_and_last_steps():\n",
        "  pattern = os.path.join(CHECKPOINTS_DIR, f'dqn_{env_name}_weights_*.h5f.index')\n",
        "  checkpoints = glob.glob(pattern)\n",
        "  last_checkpoint_steps = 0\n",
        "  memory = None\n",
        "\n",
        "  if checkpoints:\n",
        "      def extract_step(filename):\n",
        "          try:\n",
        "              name = os.path.basename(filename)\n",
        "              step_part = name.split('_weights_')[1].replace('.h5f.index', '')\n",
        "              return int(step_part)\n",
        "          except:\n",
        "              return -1\n",
        "\n",
        "      # Encontrar el último checkpoint\n",
        "      latest_index = max(checkpoints, key=extract_step)\n",
        "      latest_checkpoint = latest_index.replace('.index', '')\n",
        "      last_checkpoint_steps = extract_step(latest_index)\n",
        "      print(f\"Último step de checkpoint: {last_checkpoint_steps}\")\n",
        "\n",
        "      # Cargar memoria\n",
        "      memory_path = os.path.join(CHECKPOINTS_DIR, \"memory.pkl\")\n",
        "      if os.path.exists(memory_path):\n",
        "          with open(memory_path, \"rb\") as f:\n",
        "              memory = pickle.load(f)\n",
        "          print(f\"Memoria cargada desde: {memory_path}\")\n",
        "      else:\n",
        "          print(\"No se encontró memoria para este checkpoint.\")\n",
        "\n",
        "  else:\n",
        "      print(\"No se encontró ningún checkpoint, entrenamiento desde cero.\")\n",
        "  return memory, last_checkpoint_steps"
      ],
      "metadata": {
        "id": "88T-Q17-t1cw"
      },
      "execution_count": 35,
      "outputs": []
    },
    {
      "cell_type": "markdown",
      "metadata": {
        "tags": [],
        "id": "RpVqx7bnJLKg"
      },
      "source": [
        "# MODELO 1"
      ]
    },
    {
      "cell_type": "markdown",
      "metadata": {
        "tags": [],
        "id": "8LLw2c6rJao8"
      },
      "source": [
        "### Red neuronal basada en el paper: https://arxiv.org/pdf/1312.5602"
      ]
    },
    {
      "cell_type": "markdown",
      "metadata": {
        "id": "8uEMcNQ45ISB"
      },
      "source": [
        "En el paper se implementa una red neuronal convolucional que tiene de entrada una pila de cuatro imágenes en escala de grises de 84×84. La red tiene de tres capas convolucionales: la 1ª con 32 filtros de 8×8 y un stride 4, la 2ª con 64 filtros de 4×4 y un stride 2, y la 3ª con 64 filtros de 3×3 y stride 1, todas con activación ReLU. Depués, las salidas se aplanan y se pasan por una una capa densa de 512 neuronas con activación ReLU, seguida de una capa de salida lineal con una neurona por cada acción posible, que son los valores Q predichos."
      ]
    },
    {
      "cell_type": "markdown",
      "metadata": {
        "id": "lD1zn2JI5ISB"
      },
      "source": [
        "#### Con las siguientes modificaciones:\n",
        "Se ha incorporado la normalización de las imágenes al rango 0-1, que como se ha visto en redes neuronales puede estabilizar mejor el entrenamiento. También, se han añadido capas de BatchNormalization porque también se ha estudiado en la misma asgnatura que acelera la convergencia y reduce el riesgo de que exploten los gradientes."
      ]
    },
    {
      "cell_type": "markdown",
      "metadata": {
        "id": "HT45Y6y25ISB"
      },
      "source": [
        "## DQN\n",
        "DQN implementado basándose en el github oficial de keras rl2: https://github.com/inarikami/keras-rl2/tree/master"
      ]
    },
    {
      "cell_type": "markdown",
      "metadata": {
        "id": "7yitXTADGb2b"
      },
      "source": [
        "1. Implementación de la red neuronal"
      ]
    },
    {
      "cell_type": "code",
      "execution_count": 36,
      "metadata": {
        "id": "O4GKrfWSGb2b",
        "outputId": "faa297ce-27b3-42c8-aa1a-16e632048555",
        "tags": [],
        "colab": {
          "base_uri": "https://localhost:8080/"
        }
      },
      "outputs": [
        {
          "output_type": "stream",
          "name": "stdout",
          "text": [
            "Model: \"sequential_1\"\n",
            "_________________________________________________________________\n",
            " Layer (type)                Output Shape              Param #   \n",
            "=================================================================\n",
            " permute_1 (Permute)         (None, 84, 84, 4)         0         \n",
            "                                                                 \n",
            " lambda_1 (Lambda)           (None, 84, 84, 4)         0         \n",
            "                                                                 \n",
            " conv2d_3 (Conv2D)           (None, 20, 20, 32)        8224      \n",
            "                                                                 \n",
            " batch_normalization_3 (Batc  (None, 20, 20, 32)       128       \n",
            " hNormalization)                                                 \n",
            "                                                                 \n",
            " activation_5 (Activation)   (None, 20, 20, 32)        0         \n",
            "                                                                 \n",
            " conv2d_4 (Conv2D)           (None, 9, 9, 64)          32832     \n",
            "                                                                 \n",
            " batch_normalization_4 (Batc  (None, 9, 9, 64)         256       \n",
            " hNormalization)                                                 \n",
            "                                                                 \n",
            " activation_6 (Activation)   (None, 9, 9, 64)          0         \n",
            "                                                                 \n",
            " conv2d_5 (Conv2D)           (None, 7, 7, 64)          36928     \n",
            "                                                                 \n",
            " batch_normalization_5 (Batc  (None, 7, 7, 64)         256       \n",
            " hNormalization)                                                 \n",
            "                                                                 \n",
            " activation_7 (Activation)   (None, 7, 7, 64)          0         \n",
            "                                                                 \n",
            " flatten_1 (Flatten)         (None, 3136)              0         \n",
            "                                                                 \n",
            " dense_2 (Dense)             (None, 512)               1606144   \n",
            "                                                                 \n",
            " activation_8 (Activation)   (None, 512)               0         \n",
            "                                                                 \n",
            " dense_3 (Dense)             (None, 6)                 3078      \n",
            "                                                                 \n",
            " activation_9 (Activation)   (None, 6)                 0         \n",
            "                                                                 \n",
            "=================================================================\n",
            "Total params: 1,687,846\n",
            "Trainable params: 1,687,526\n",
            "Non-trainable params: 320\n",
            "_________________________________________________________________\n"
          ]
        }
      ],
      "source": [
        "# CREACIÓN DEL MODELO\n",
        "model_name=\"modelo1\"\n",
        "\n",
        "model = Sequential()\n",
        "\n",
        "input_shape = (WINDOW_LENGTH,) + INPUT_SHAPE\n",
        "\n",
        "# Rorganizar las imágenes para que el window length quede en la dimensión de los canales\n",
        "if K.image_data_format() == 'channels_last':\n",
        "    model.add(Permute((2, 3, 1), input_shape=input_shape))  # (4, H, W) → (H, W, 4)\n",
        "elif K.image_data_format() == 'channels_first':\n",
        "    model.add(Permute((1, 2, 3), input_shape=input_shape))\n",
        "else:\n",
        "    raise RuntimeError('Unknown image_dim_ordering.')\n",
        "\n",
        "# Normalizar los valores de píxeles\n",
        "model.add(Lambda(lambda x: x / 255.0))\n",
        "\n",
        "# Primera capa convolucional\n",
        "model.add(Convolution2D(32, (8, 8), strides=(4, 4)))\n",
        "model.add(BatchNormalization())\n",
        "model.add(Activation('relu'))\n",
        "\n",
        "# Segunda\n",
        "model.add(Convolution2D(64, (4, 4), strides=(2, 2)))\n",
        "model.add(BatchNormalization())\n",
        "model.add(Activation('relu'))\n",
        "\n",
        "# Tercera\n",
        "model.add(Convolution2D(64, (3, 3), strides=(1, 1)))\n",
        "model.add(BatchNormalization())\n",
        "model.add(Activation('relu'))\n",
        "\n",
        "# Densas\n",
        "model.add(Flatten())\n",
        "model.add(Dense(512))\n",
        "model.add(Activation('relu'))\n",
        "\n",
        "# Salida con el número de acciones\n",
        "model.add(Dense(nb_actions))\n",
        "model.add(Activation('linear'))\n",
        "\n",
        "model.summary()"
      ]
    },
    {
      "cell_type": "markdown",
      "metadata": {
        "id": "OB9-_5HPGb2b"
      },
      "source": [
        "2. Implementación de la solución DQN"
      ]
    },
    {
      "cell_type": "code",
      "source": [
        "# GENERACIÓN O CARGA MODELO\n",
        "MODEL_DIR, WEIGHTS_DIR, CHECKPOINTS_DIR = get_dirs(model_name)\n",
        "# save_hyperparams(HYPERPARAMETERS_DIR, filename=model_name+\".json\")\n",
        "load_hyperparams(model_name)"
      ],
      "metadata": {
        "colab": {
          "base_uri": "https://localhost:8080/"
        },
        "id": "JxBLemXQQam3",
        "outputId": "f235d39b-4dd0-4625-8c8c-adad03bcb21f"
      },
      "execution_count": 37,
      "outputs": [
        {
          "output_type": "stream",
          "name": "stdout",
          "text": [
            "[INFO] Hiperparámetros cargados desde /content/gdrive/My Drive/08_MIAR/actividades/proyecto practico/models/modelo1/modelo1.json\n"
          ]
        }
      ]
    },
    {
      "cell_type": "code",
      "execution_count": 38,
      "metadata": {
        "id": "foSlxWH1Gb2b",
        "tags": [],
        "colab": {
          "base_uri": "https://localhost:8080/"
        },
        "outputId": "291d82a5-d8c4-4c04-836d-a3990887dd20"
      },
      "outputs": [
        {
          "output_type": "stream",
          "name": "stdout",
          "text": [
            "Último step de checkpoint: 1750000\n",
            "Memoria cargada desde: /content/gdrive/My Drive/08_MIAR/actividades/proyecto practico/models/modelo1/checkpoints/memory.pkl\n",
            "Valores de la policy: value_min=0.1, value_max=0.1, scheduler_steps=1\n"
          ]
        }
      ],
      "source": [
        "# DEFINICIÓN DE LA POLICY\n",
        "\n",
        "memory, last_checkpoint_steps=get_memory_and_last_steps()\n",
        "\n",
        "value_max, value_min, new_scheduler_steps = adjust_policy_params(\n",
        "    scheduler_steps=SCHEDULER_STEPS,\n",
        "    train_steps=TRAIN_STEPS,\n",
        "    current_step=last_checkpoint_steps\n",
        ")\n",
        "if not memory:\n",
        "  memory = SequentialMemory(limit=MEMORY_SIZE, window_length=WINDOW_LENGTH)\n",
        "  print(\"Memoria inicializada de 0\")\n",
        "\n",
        "print(f\"Valores de la policy: value_min={value_min}, value_max={value_max}, scheduler_steps={new_scheduler_steps}\")\n",
        "\n",
        "processor = AtariProcessor()\n",
        "\n",
        "policy = LinearAnnealedPolicy(EpsGreedyQPolicy(), attr='eps',\n",
        "                              value_max=value_max, value_min=value_min,\n",
        "                              value_test=.05,\n",
        "                              nb_steps=new_scheduler_steps)\n",
        "#policy = LinearAnnealedPolicy(EpsGreedyQPolicy(), attr='eps',\n",
        "#                              value_max=1., value_min=.1,\n",
        "#                              value_test=.05,\n",
        "#                              nb_steps=SCHEDULER_STEPS)"
      ]
    },
    {
      "cell_type": "code",
      "execution_count": 39,
      "metadata": {
        "id": "G6mWUNNi5ISE",
        "tags": []
      },
      "outputs": [],
      "source": [
        "# CREACIÓN DEL AGENTE DQN\n",
        "dqn = DQNAgent(model=model,\n",
        "               nb_actions=nb_actions,\n",
        "               policy=policy,\n",
        "               memory=memory,\n",
        "               processor=processor,\n",
        "               nb_steps_warmup=WARMUP_STEPS,\n",
        "               gamma=GAMMA,\n",
        "               target_model_update=MODEL_UPDATE,\n",
        "               train_interval=4,\n",
        "               delta_clip=DELTA_CLIP)\n",
        "\n",
        "if IN_COLAB:\n",
        "    # Parche para evitar el error 'get_updates' que ya no existe\n",
        "    def patched_get_updates(self, loss, params):\n",
        "        return []\n",
        "    Adam.get_updates = patched_get_updates\n",
        "\n",
        "dqn.compile(Adam(learning_rate=LEARNING_RATE), metrics=['mae'])"
      ]
    },
    {
      "cell_type": "code",
      "source": [
        "# DEFINICIÓN DE LOS NOMBRES DE FICHEROS DE SALIDA\n",
        "weights_filename = os.path.join(WEIGHTS_DIR, 'dqn_{}_weights_{}.h5f'.format(env_name, model_name))\n",
        "checkpoint_weights_filename = os.path.join(CHECKPOINTS_DIR, 'dqn_' + env_name + '_weights_{step}.h5f')\n",
        "log_filename =os.path.join(MODEL_DIR, 'dqn_{}_log_{}.json'.format(env_name, model_name))\n",
        "log_csv_path = os.path.join(MODEL_DIR, f'{model_name}_training_log.csv')\n"
      ],
      "metadata": {
        "id": "TxfFDyGzS3_K"
      },
      "execution_count": 40,
      "outputs": []
    },
    {
      "cell_type": "code",
      "execution_count": 41,
      "metadata": {
        "tags": [],
        "id": "OgEZ4q9OB41r",
        "outputId": "bbd66ba1-05ba-43e6-e788-a4b2f707b438",
        "colab": {
          "base_uri": "https://localhost:8080/"
        }
      },
      "outputs": [
        {
          "output_type": "stream",
          "name": "stdout",
          "text": [
            "[DQN] Cargando último checkpoint: /content/gdrive/My Drive/08_MIAR/actividades/proyecto practico/models/modelo1/checkpoints/dqn_SpaceInvaders-v0_weights_1750000.h5f\n",
            "Callback iniciado desde paso 1750000\n"
          ]
        }
      ],
      "source": [
        "# CARGAR PESOS DEL ÚLTIMO CHECKPOINT SI EXISTE\n",
        "dqn, last_checkpoint_steps = load_last_checkpoint(dqn)\n",
        "# CREAR CALLBACKS CUSTOMIZADOS QUE GUARDAN BIEN LOS CHECKPOINTS Y LOGS DEL TRAINING\n",
        "checkpoint_callback = AccumulatedCheckpoint(\n",
        "      base_path=CHECKPOINTS_DIR,\n",
        "      env_name=env_name,\n",
        "      interval=MODEL_CHECKPOINT_STEPS,\n",
        "      initial_step=last_checkpoint_steps\n",
        "  )\n",
        "callbacks = [checkpoint_callback]\n",
        "dqn.step = last_checkpoint_steps\n",
        "callbacks += [EpisodeLoggerCSV(log_csv_path)]\n",
        "#callbacks =  [ModelIntervalCheckpoint(checkpoint_weights_filename, interval=MODEL_CHECKPOINT_STEPS)]\n",
        "#callbacks += [FileLogger(log_filename, interval=100)] # Gives some errors"
      ]
    },
    {
      "cell_type": "code",
      "execution_count": 20,
      "metadata": {
        "id": "-BSoqLO65ISF",
        "tags": [],
        "outputId": "43a258ad-f311-4feb-8f23-3ee0b6564c47",
        "colab": {
          "base_uri": "https://localhost:8080/"
        }
      },
      "outputs": [
        {
          "metadata": {
            "tags": null
          },
          "name": "stdout",
          "output_type": "stream",
          "text": [
            "Training for 1000000 steps ...\n",
            "Interval 1 (0 steps performed)\n",
            "   12/10000 [..............................] - ETA: 45s - reward: 0.0000e+00  "
          ]
        },
        {
          "metadata": {
            "tags": null
          },
          "name": "stderr",
          "output_type": "stream",
          "text": [
            "/usr/local/lib/python3.11/dist-packages/keras/engine/training_v1.py:2359: UserWarning: `Model.state_updates` will be removed in a future version. This property should not be used in TensorFlow 2.0, as `updates` are applied automatically.\n",
            "  updates=self.state_updates,\n"
          ]
        },
        {
          "output_type": "stream",
          "name": "stdout",
          "text": [
            "10000/10000 [==============================] - 45s 4ms/step - reward: 0.0190\n",
            "12 episodes - episode_reward: 15.000 [8.000, 21.000] - ale.lives: 1.976\n",
            "\n",
            "Interval 2 (10000 steps performed)\n",
            "10000/10000 [==============================] - 47s 5ms/step - reward: 0.0168\n",
            "11 episodes - episode_reward: 14.727 [6.000, 20.000] - ale.lives: 1.993\n",
            "\n",
            "Interval 3 (20000 steps performed)\n",
            " 4997/10000 [=============>................] - ETA: 23s - reward: 0.0190\n",
            "[Checkpoint] Pesos guardados en: /content/gdrive/My Drive/08_MIAR/actividades/proyecto practico/models/modelo1/checkpoints/dqn_SpaceInvaders-v0_weights_775000.h5f\n",
            "\n",
            "[Checkpoint] Memoria guardada de forma segura en: /content/gdrive/My Drive/08_MIAR/actividades/proyecto practico/models/modelo1/checkpoints/memory.pkl\n",
            "10000/10000 [==============================] - 111s 11ms/step - reward: 0.0194\n",
            "14 episodes - episode_reward: 14.429 [9.000, 22.000] - ale.lives: 1.971\n",
            "\n",
            "Interval 4 (30000 steps performed)\n",
            "10000/10000 [==============================] - 46s 5ms/step - reward: 0.0166\n",
            "11 episodes - episode_reward: 14.545 [6.000, 20.000] - ale.lives: 1.975\n",
            "\n",
            "Interval 5 (40000 steps performed)\n",
            " 9995/10000 [============================>.] - ETA: 0s - reward: 0.0149\n",
            "[Checkpoint] Pesos guardados en: /content/gdrive/My Drive/08_MIAR/actividades/proyecto practico/models/modelo1/checkpoints/dqn_SpaceInvaders-v0_weights_800000.h5f\n",
            "\n",
            "[Checkpoint] Memoria guardada de forma segura en: /content/gdrive/My Drive/08_MIAR/actividades/proyecto practico/models/modelo1/checkpoints/memory.pkl\n",
            "10000/10000 [==============================] - 104s 10ms/step - reward: 0.0150\n",
            "11 episodes - episode_reward: 14.182 [10.000, 19.000] - ale.lives: 1.816\n",
            "\n",
            "Interval 6 (50000 steps performed)\n",
            "10000/10000 [==============================] - 370s 37ms/step - reward: 0.0166\n",
            "10 episodes - episode_reward: 16.700 [11.000, 25.000] - loss: 0.749 - mae: 0.672 - mean_q: 1.665 - mean_eps: 0.276 - ale.lives: 2.012\n",
            "\n",
            "Interval 7 (60000 steps performed)\n",
            "10000/10000 [==============================] - 359s 36ms/step - reward: 0.0224\n",
            "14 episodes - episode_reward: 15.929 [7.000, 23.000] - loss: 0.738 - mae: 0.667 - mean_q: 1.665 - mean_eps: 0.267 - ale.lives: 1.990\n",
            "\n",
            "Interval 8 (70000 steps performed)\n",
            " 4997/10000 [=============>................] - ETA: 2:55 - reward: 0.0184\n",
            "[Checkpoint] Pesos guardados en: /content/gdrive/My Drive/08_MIAR/actividades/proyecto practico/models/modelo1/checkpoints/dqn_SpaceInvaders-v0_weights_825000.h5f\n",
            "\n",
            "[Checkpoint] Memoria guardada de forma segura en: /content/gdrive/My Drive/08_MIAR/actividades/proyecto practico/models/modelo1/checkpoints/memory.pkl\n",
            "10000/10000 [==============================] - 442s 44ms/step - reward: 0.0173\n",
            "10 episodes - episode_reward: 16.900 [14.000, 22.000] - loss: 0.732 - mae: 0.666 - mean_q: 1.668 - mean_eps: 0.258 - ale.lives: 1.943\n",
            "\n",
            "Interval 9 (80000 steps performed)\n",
            "10000/10000 [==============================] - 362s 36ms/step - reward: 0.0189\n",
            "11 episodes - episode_reward: 17.000 [9.000, 24.000] - loss: 0.736 - mae: 0.667 - mean_q: 1.666 - mean_eps: 0.249 - ale.lives: 2.010\n",
            "\n",
            "Interval 10 (90000 steps performed)\n",
            " 9997/10000 [============================>.] - ETA: 0s - reward: 0.0152\n",
            "[Checkpoint] Pesos guardados en: /content/gdrive/My Drive/08_MIAR/actividades/proyecto practico/models/modelo1/checkpoints/dqn_SpaceInvaders-v0_weights_850000.h5f\n",
            "\n",
            "[Checkpoint] Memoria guardada de forma segura en: /content/gdrive/My Drive/08_MIAR/actividades/proyecto practico/models/modelo1/checkpoints/memory.pkl\n",
            "10000/10000 [==============================] - 394s 39ms/step - reward: 0.0152\n",
            "10 episodes - episode_reward: 15.100 [10.000, 21.000] - loss: 0.727 - mae: 0.663 - mean_q: 1.666 - mean_eps: 0.240 - ale.lives: 1.880\n",
            "\n",
            "Interval 11 (100000 steps performed)\n",
            "10000/10000 [==============================] - 387s 39ms/step - reward: 0.0160\n",
            "10 episodes - episode_reward: 16.600 [13.000, 20.000] - loss: 0.717 - mae: 0.661 - mean_q: 1.667 - mean_eps: 0.231 - ale.lives: 2.018\n",
            "\n",
            "Interval 12 (110000 steps performed)\n",
            "10000/10000 [==============================] - 381s 38ms/step - reward: 0.0149\n",
            "9 episodes - episode_reward: 16.222 [7.000, 21.000] - loss: 0.717 - mae: 0.659 - mean_q: 1.670 - mean_eps: 0.222 - ale.lives: 1.938\n",
            "\n",
            "Interval 13 (120000 steps performed)\n",
            " 4997/10000 [=============>................] - ETA: 3:07 - reward: 0.0170\n",
            "[Checkpoint] Pesos guardados en: /content/gdrive/My Drive/08_MIAR/actividades/proyecto practico/models/modelo1/checkpoints/dqn_SpaceInvaders-v0_weights_875000.h5f\n",
            "\n",
            "[Checkpoint] Memoria guardada de forma segura en: /content/gdrive/My Drive/08_MIAR/actividades/proyecto practico/models/modelo1/checkpoints/memory.pkl\n",
            "10000/10000 [==============================] - 418s 42ms/step - reward: 0.0175\n",
            "11 episodes - episode_reward: 15.818 [10.000, 21.000] - loss: 0.709 - mae: 0.656 - mean_q: 1.668 - mean_eps: 0.213 - ale.lives: 1.932\n",
            "\n",
            "Interval 14 (130000 steps performed)\n",
            "10000/10000 [==============================] - 390s 39ms/step - reward: 0.0155\n",
            "11 episodes - episode_reward: 14.455 [8.000, 24.000] - loss: 0.715 - mae: 0.658 - mean_q: 1.669 - mean_eps: 0.204 - ale.lives: 1.926\n",
            "\n",
            "Interval 15 (140000 steps performed)\n",
            " 9997/10000 [============================>.] - ETA: 0s - reward: 0.0155\n",
            "[Checkpoint] Pesos guardados en: /content/gdrive/My Drive/08_MIAR/actividades/proyecto practico/models/modelo1/checkpoints/dqn_SpaceInvaders-v0_weights_900000.h5f\n",
            "\n",
            "[Checkpoint] Memoria guardada de forma segura en: /content/gdrive/My Drive/08_MIAR/actividades/proyecto practico/models/modelo1/checkpoints/memory.pkl\n",
            "10000/10000 [==============================] - 410s 41ms/step - reward: 0.0155\n",
            "8 episodes - episode_reward: 18.375 [14.000, 23.000] - loss: 0.695 - mae: 0.652 - mean_q: 1.666 - mean_eps: 0.195 - ale.lives: 1.892\n",
            "\n",
            "Interval 16 (150000 steps performed)\n",
            "10000/10000 [==============================] - 497s 50ms/step - reward: 0.0156\n",
            "11 episodes - episode_reward: 15.091 [10.000, 19.000] - loss: 0.693 - mae: 0.651 - mean_q: 1.665 - mean_eps: 0.186 - ale.lives: 2.036\n",
            "\n",
            "Interval 17 (160000 steps performed)\n",
            "10000/10000 [==============================] - 397s 40ms/step - reward: 0.0153\n",
            "9 episodes - episode_reward: 16.556 [15.000, 21.000] - loss: 0.693 - mae: 0.651 - mean_q: 1.667 - mean_eps: 0.177 - ale.lives: 1.993\n",
            "\n",
            "Interval 18 (170000 steps performed)\n",
            " 4997/10000 [=============>................] - ETA: 3:16 - reward: 0.0158\n",
            "[Checkpoint] Pesos guardados en: /content/gdrive/My Drive/08_MIAR/actividades/proyecto practico/models/modelo1/checkpoints/dqn_SpaceInvaders-v0_weights_925000.h5f\n",
            "\n",
            "[Checkpoint] Memoria guardada de forma segura en: /content/gdrive/My Drive/08_MIAR/actividades/proyecto practico/models/modelo1/checkpoints/memory.pkl\n",
            "10000/10000 [==============================] - 546s 55ms/step - reward: 0.0143\n",
            "9 episodes - episode_reward: 15.889 [12.000, 19.000] - loss: 0.677 - mae: 0.646 - mean_q: 1.664 - mean_eps: 0.168 - ale.lives: 2.039\n",
            "\n",
            "Interval 19 (180000 steps performed)\n",
            "10000/10000 [==============================] - 413s 41ms/step - reward: 0.0169\n",
            "10 episodes - episode_reward: 17.900 [14.000, 25.000] - loss: 0.677 - mae: 0.645 - mean_q: 1.664 - mean_eps: 0.159 - ale.lives: 1.960\n",
            "\n",
            "Interval 20 (190000 steps performed)\n",
            " 9997/10000 [============================>.] - ETA: 0s - reward: 0.0189\n",
            "[Checkpoint] Pesos guardados en: /content/gdrive/My Drive/08_MIAR/actividades/proyecto practico/models/modelo1/checkpoints/dqn_SpaceInvaders-v0_weights_950000.h5f\n",
            "\n",
            "[Checkpoint] Memoria guardada de forma segura en: /content/gdrive/My Drive/08_MIAR/actividades/proyecto practico/models/modelo1/checkpoints/memory.pkl\n",
            "10000/10000 [==============================] - 438s 44ms/step - reward: 0.0189\n",
            "11 episodes - episode_reward: 16.000 [13.000, 19.000] - loss: 0.675 - mae: 0.643 - mean_q: 1.666 - mean_eps: 0.150 - ale.lives: 2.049\n",
            "\n",
            "Interval 21 (200000 steps performed)\n",
            "10000/10000 [==============================] - 540s 54ms/step - reward: 0.0182\n",
            "10 episodes - episode_reward: 18.500 [11.000, 27.000] - loss: 0.665 - mae: 0.640 - mean_q: 1.667 - mean_eps: 0.141 - ale.lives: 1.838\n",
            "\n",
            "Interval 22 (210000 steps performed)\n",
            "10000/10000 [==============================] - 417s 42ms/step - reward: 0.0180\n",
            "11 episodes - episode_reward: 16.364 [7.000, 23.000] - loss: 0.663 - mae: 0.639 - mean_q: 1.665 - mean_eps: 0.132 - ale.lives: 1.943\n",
            "\n",
            "Interval 23 (220000 steps performed)\n",
            " 4997/10000 [=============>................] - ETA: 3:27 - reward: 0.0174\n",
            "[Checkpoint] Pesos guardados en: /content/gdrive/My Drive/08_MIAR/actividades/proyecto practico/models/modelo1/checkpoints/dqn_SpaceInvaders-v0_weights_975000.h5f\n",
            "\n",
            "[Checkpoint] Memoria guardada de forma segura en: /content/gdrive/My Drive/08_MIAR/actividades/proyecto practico/models/modelo1/checkpoints/memory.pkl\n",
            "10000/10000 [==============================] - 459s 46ms/step - reward: 0.0169\n",
            "10 episodes - episode_reward: 17.100 [13.000, 22.000] - loss: 0.654 - mae: 0.636 - mean_q: 1.663 - mean_eps: 0.123 - ale.lives: 1.990\n",
            "\n",
            "Interval 24 (230000 steps performed)\n",
            "10000/10000 [==============================] - 429s 43ms/step - reward: 0.0162\n",
            "10 episodes - episode_reward: 17.000 [14.000, 20.000] - loss: 0.650 - mae: 0.633 - mean_q: 1.660 - mean_eps: 0.114 - ale.lives: 1.960\n",
            "\n",
            "Interval 25 (240000 steps performed)\n",
            " 9997/10000 [============================>.] - ETA: 0s - reward: 0.0178\n",
            "[Checkpoint] Pesos guardados en: /content/gdrive/My Drive/08_MIAR/actividades/proyecto practico/models/modelo1/checkpoints/dqn_SpaceInvaders-v0_weights_1000000.h5f\n",
            "\n",
            "[Checkpoint] Memoria guardada de forma segura en: /content/gdrive/My Drive/08_MIAR/actividades/proyecto practico/models/modelo1/checkpoints/memory.pkl\n",
            "10000/10000 [==============================] - 455s 45ms/step - reward: 0.0178\n",
            "10 episodes - episode_reward: 16.700 [9.000, 21.000] - loss: 0.643 - mae: 0.632 - mean_q: 1.666 - mean_eps: 0.105 - ale.lives: 1.921\n",
            "\n",
            "Interval 26 (250000 steps performed)\n",
            "10000/10000 [==============================] - 568s 57ms/step - reward: 0.0179\n",
            "11 episodes - episode_reward: 16.545 [13.000, 21.000] - loss: 0.641 - mae: 0.632 - mean_q: 1.666 - mean_eps: 0.100 - ale.lives: 2.042\n",
            "\n",
            "Interval 27 (260000 steps performed)\n",
            "10000/10000 [==============================] - 434s 43ms/step - reward: 0.0160\n",
            "9 episodes - episode_reward: 17.556 [14.000, 22.000] - loss: 0.632 - mae: 0.627 - mean_q: 1.664 - mean_eps: 0.100 - ale.lives: 1.886\n",
            "\n",
            "Interval 28 (270000 steps performed)\n",
            " 4997/10000 [=============>................] - ETA: 3:38 - reward: 0.0190\n",
            "[Checkpoint] Pesos guardados en: /content/gdrive/My Drive/08_MIAR/actividades/proyecto practico/models/modelo1/checkpoints/dqn_SpaceInvaders-v0_weights_1025000.h5f\n",
            "\n",
            "[Checkpoint] Memoria guardada de forma segura en: /content/gdrive/My Drive/08_MIAR/actividades/proyecto practico/models/modelo1/checkpoints/memory.pkl\n",
            "10000/10000 [==============================] - 471s 47ms/step - reward: 0.0189\n",
            "12 episodes - episode_reward: 15.833 [11.000, 21.000] - loss: 0.627 - mae: 0.626 - mean_q: 1.663 - mean_eps: 0.100 - ale.lives: 1.956\n",
            "\n",
            "Interval 29 (280000 steps performed)\n",
            "10000/10000 [==============================] - 458s 46ms/step - reward: 0.0173\n",
            "11 episodes - episode_reward: 16.636 [14.000, 20.000] - loss: 0.625 - mae: 0.625 - mean_q: 1.661 - mean_eps: 0.100 - ale.lives: 1.954\n",
            "\n",
            "Interval 30 (290000 steps performed)\n",
            " 9997/10000 [============================>.] - ETA: 0s - reward: 0.0173\n",
            "[Checkpoint] Pesos guardados en: /content/gdrive/My Drive/08_MIAR/actividades/proyecto practico/models/modelo1/checkpoints/dqn_SpaceInvaders-v0_weights_1050000.h5f\n",
            "\n",
            "[Checkpoint] Memoria guardada de forma segura en: /content/gdrive/My Drive/08_MIAR/actividades/proyecto practico/models/modelo1/checkpoints/memory.pkl\n",
            "10000/10000 [==============================] - 478s 48ms/step - reward: 0.0173\n",
            "10 episodes - episode_reward: 16.500 [12.000, 21.000] - loss: 0.621 - mae: 0.622 - mean_q: 1.664 - mean_eps: 0.100 - ale.lives: 2.082\n",
            "\n",
            "Interval 31 (300000 steps performed)\n",
            "10000/10000 [==============================] - 614s 61ms/step - reward: 0.0171\n",
            "11 episodes - episode_reward: 16.182 [11.000, 27.000] - loss: 0.607 - mae: 0.617 - mean_q: 1.663 - mean_eps: 0.100 - ale.lives: 1.835\n",
            "\n",
            "Interval 32 (310000 steps performed)\n",
            "10000/10000 [==============================] - 439s 44ms/step - reward: 0.0198\n",
            "12 episodes - episode_reward: 15.917 [10.000, 20.000] - loss: 0.600 - mae: 0.615 - mean_q: 1.666 - mean_eps: 0.100 - ale.lives: 2.060\n",
            "\n",
            "Interval 33 (320000 steps performed)\n",
            " 4997/10000 [=============>................] - ETA: 3:39 - reward: 0.0188\n",
            "[Checkpoint] Pesos guardados en: /content/gdrive/My Drive/08_MIAR/actividades/proyecto practico/models/modelo1/checkpoints/dqn_SpaceInvaders-v0_weights_1075000.h5f\n",
            "\n",
            "[Checkpoint] Memoria guardada de forma segura en: /content/gdrive/My Drive/08_MIAR/actividades/proyecto practico/models/modelo1/checkpoints/memory.pkl\n",
            "10000/10000 [==============================] - 560s 56ms/step - reward: 0.0184\n",
            "10 episodes - episode_reward: 17.600 [8.000, 25.000] - loss: 0.593 - mae: 0.612 - mean_q: 1.664 - mean_eps: 0.100 - ale.lives: 1.811\n",
            "\n",
            "Interval 34 (330000 steps performed)\n",
            "10000/10000 [==============================] - 436s 44ms/step - reward: 0.0186\n",
            "12 episodes - episode_reward: 16.083 [9.000, 19.000] - loss: 0.582 - mae: 0.608 - mean_q: 1.662 - mean_eps: 0.100 - ale.lives: 2.035\n",
            "\n",
            "Interval 35 (340000 steps performed)\n",
            " 9997/10000 [============================>.] - ETA: 0s - reward: 0.0192\n",
            "[Checkpoint] Pesos guardados en: /content/gdrive/My Drive/08_MIAR/actividades/proyecto practico/models/modelo1/checkpoints/dqn_SpaceInvaders-v0_weights_1100000.h5f\n",
            "\n",
            "[Checkpoint] Memoria guardada de forma segura en: /content/gdrive/My Drive/08_MIAR/actividades/proyecto practico/models/modelo1/checkpoints/memory.pkl\n",
            "10000/10000 [==============================] - 459s 46ms/step - reward: 0.0192\n",
            "11 episodes - episode_reward: 17.455 [14.000, 21.000] - loss: 0.571 - mae: 0.604 - mean_q: 1.659 - mean_eps: 0.100 - ale.lives: 1.958\n",
            "\n",
            "Interval 36 (350000 steps performed)\n",
            "10000/10000 [==============================] - 462s 46ms/step - reward: 0.0155\n",
            "9 episodes - episode_reward: 16.667 [11.000, 20.000] - loss: 0.564 - mae: 0.600 - mean_q: 1.660 - mean_eps: 0.100 - ale.lives: 1.922\n",
            "\n",
            "Interval 37 (360000 steps performed)\n",
            "10000/10000 [==============================] - 428s 43ms/step - reward: 0.0181\n",
            "13 episodes - episode_reward: 14.923 [10.000, 20.000] - loss: 0.548 - mae: 0.595 - mean_q: 1.663 - mean_eps: 0.100 - ale.lives: 1.988\n",
            "\n",
            "Interval 38 (370000 steps performed)\n",
            " 4997/10000 [=============>................] - ETA: 3:35 - reward: 0.0174\n",
            "[Checkpoint] Pesos guardados en: /content/gdrive/My Drive/08_MIAR/actividades/proyecto practico/models/modelo1/checkpoints/dqn_SpaceInvaders-v0_weights_1125000.h5f\n",
            "\n",
            "[Checkpoint] Memoria guardada de forma segura en: /content/gdrive/My Drive/08_MIAR/actividades/proyecto practico/models/modelo1/checkpoints/memory.pkl\n",
            "10000/10000 [==============================] - 580s 58ms/step - reward: 0.0176\n",
            "11 episodes - episode_reward: 15.364 [13.000, 19.000] - loss: 0.542 - mae: 0.592 - mean_q: 1.661 - mean_eps: 0.100 - ale.lives: 1.899\n",
            "\n",
            "Interval 39 (380000 steps performed)\n",
            "10000/10000 [==============================] - 433s 43ms/step - reward: 0.0184\n",
            "11 episodes - episode_reward: 17.364 [10.000, 24.000] - loss: 0.533 - mae: 0.588 - mean_q: 1.656 - mean_eps: 0.100 - ale.lives: 2.026\n",
            "\n",
            "Interval 40 (390000 steps performed)\n",
            " 9997/10000 [============================>.] - ETA: 0s - reward: 0.0157\n",
            "[Checkpoint] Pesos guardados en: /content/gdrive/My Drive/08_MIAR/actividades/proyecto practico/models/modelo1/checkpoints/dqn_SpaceInvaders-v0_weights_1150000.h5f\n",
            "\n",
            "[Checkpoint] Memoria guardada de forma segura en: /content/gdrive/My Drive/08_MIAR/actividades/proyecto practico/models/modelo1/checkpoints/memory.pkl\n",
            "10000/10000 [==============================] - 459s 46ms/step - reward: 0.0157\n",
            "9 episodes - episode_reward: 16.444 [12.000, 21.000] - loss: 0.524 - mae: 0.585 - mean_q: 1.660 - mean_eps: 0.100 - ale.lives: 1.984\n",
            "\n",
            "Interval 41 (400000 steps performed)\n",
            "10000/10000 [==============================] - 585s 58ms/step - reward: 0.0183\n",
            "11 episodes - episode_reward: 17.273 [15.000, 23.000] - loss: 0.511 - mae: 0.581 - mean_q: 1.659 - mean_eps: 0.100 - ale.lives: 1.972\n",
            "\n",
            "Interval 42 (410000 steps performed)\n",
            "10000/10000 [==============================] - 414s 41ms/step - reward: 0.0192\n",
            "12 episodes - episode_reward: 15.417 [12.000, 20.000] - loss: 0.505 - mae: 0.579 - mean_q: 1.660 - mean_eps: 0.100 - ale.lives: 1.967\n",
            "\n",
            "Interval 43 (420000 steps performed)\n",
            " 4997/10000 [=============>................] - ETA: 3:30 - reward: 0.0192\n",
            "[Checkpoint] Pesos guardados en: /content/gdrive/My Drive/08_MIAR/actividades/proyecto practico/models/modelo1/checkpoints/dqn_SpaceInvaders-v0_weights_1175000.h5f\n",
            "\n",
            "[Checkpoint] Memoria guardada de forma segura en: /content/gdrive/My Drive/08_MIAR/actividades/proyecto practico/models/modelo1/checkpoints/memory.pkl\n",
            "10000/10000 [==============================] - 610s 61ms/step - reward: 0.0209\n",
            "13 episodes - episode_reward: 15.846 [11.000, 20.000] - loss: 0.498 - mae: 0.576 - mean_q: 1.660 - mean_eps: 0.100 - ale.lives: 1.998\n",
            "\n",
            "Interval 44 (430000 steps performed)\n",
            "10000/10000 [==============================] - 421s 42ms/step - reward: 0.0184\n",
            "12 episodes - episode_reward: 16.000 [10.000, 21.000] - loss: 0.487 - mae: 0.571 - mean_q: 1.657 - mean_eps: 0.100 - ale.lives: 1.960\n",
            "\n",
            "Interval 45 (440000 steps performed)\n",
            " 9997/10000 [============================>.] - ETA: 0s - reward: 0.0186\n",
            "[Checkpoint] Pesos guardados en: /content/gdrive/My Drive/08_MIAR/actividades/proyecto practico/models/modelo1/checkpoints/dqn_SpaceInvaders-v0_weights_1200000.h5f\n",
            "\n",
            "[Checkpoint] Memoria guardada de forma segura en: /content/gdrive/My Drive/08_MIAR/actividades/proyecto practico/models/modelo1/checkpoints/memory.pkl\n",
            "10000/10000 [==============================] - 447s 45ms/step - reward: 0.0186\n",
            "11 episodes - episode_reward: 16.455 [13.000, 20.000] - loss: 0.473 - mae: 0.566 - mean_q: 1.656 - mean_eps: 0.100 - ale.lives: 2.017\n",
            "\n",
            "Interval 46 (450000 steps performed)\n",
            "10000/10000 [==============================] - 520s 52ms/step - reward: 0.0170\n",
            "11 episodes - episode_reward: 15.818 [11.000, 21.000] - loss: 0.468 - mae: 0.564 - mean_q: 1.661 - mean_eps: 0.100 - ale.lives: 1.872\n",
            "\n",
            "Interval 47 (460000 steps performed)\n",
            "10000/10000 [==============================] - 412s 41ms/step - reward: 0.0183\n",
            "11 episodes - episode_reward: 16.000 [12.000, 19.000] - loss: 0.461 - mae: 0.562 - mean_q: 1.659 - mean_eps: 0.100 - ale.lives: 1.986\n",
            "\n",
            "Interval 48 (470000 steps performed)\n",
            " 4997/10000 [=============>................] - ETA: 3:25 - reward: 0.0156\n",
            "[Checkpoint] Pesos guardados en: /content/gdrive/My Drive/08_MIAR/actividades/proyecto practico/models/modelo1/checkpoints/dqn_SpaceInvaders-v0_weights_1225000.h5f\n",
            "\n",
            "[Checkpoint] Memoria guardada de forma segura en: /content/gdrive/My Drive/08_MIAR/actividades/proyecto practico/models/modelo1/checkpoints/memory.pkl\n",
            "10000/10000 [==============================] - 457s 46ms/step - reward: 0.0166\n",
            "11 episodes - episode_reward: 15.455 [4.000, 24.000] - loss: 0.455 - mae: 0.558 - mean_q: 1.659 - mean_eps: 0.100 - ale.lives: 1.993\n",
            "\n",
            "Interval 49 (480000 steps performed)\n",
            "10000/10000 [==============================] - 416s 42ms/step - reward: 0.0168\n",
            "10 episodes - episode_reward: 17.000 [12.000, 21.000] - loss: 0.448 - mae: 0.555 - mean_q: 1.655 - mean_eps: 0.100 - ale.lives: 1.838\n",
            "\n",
            "Interval 50 (490000 steps performed)\n",
            " 9997/10000 [============================>.] - ETA: 0s - reward: 0.0183\n",
            "[Checkpoint] Pesos guardados en: /content/gdrive/My Drive/08_MIAR/actividades/proyecto practico/models/modelo1/checkpoints/dqn_SpaceInvaders-v0_weights_1250000.h5f\n",
            "\n",
            "[Checkpoint] Memoria guardada de forma segura en: /content/gdrive/My Drive/08_MIAR/actividades/proyecto practico/models/modelo1/checkpoints/memory.pkl\n",
            "10000/10000 [==============================] - 434s 43ms/step - reward: 0.0183\n",
            "11 episodes - episode_reward: 16.273 [10.000, 22.000] - loss: 0.435 - mae: 0.551 - mean_q: 1.653 - mean_eps: 0.100 - ale.lives: 2.054\n",
            "\n",
            "Interval 51 (500000 steps performed)\n",
            "10000/10000 [==============================] - 497s 50ms/step - reward: 0.0156\n",
            "10 episodes - episode_reward: 16.000 [10.000, 24.000] - loss: 0.427 - mae: 0.548 - mean_q: 1.653 - mean_eps: 0.100 - ale.lives: 1.814\n",
            "\n",
            "Interval 52 (510000 steps performed)\n",
            "10000/10000 [==============================] - 397s 40ms/step - reward: 0.0180\n",
            "10 episodes - episode_reward: 17.400 [11.000, 24.000] - loss: 0.418 - mae: 0.543 - mean_q: 1.654 - mean_eps: 0.100 - ale.lives: 1.994\n",
            "\n",
            "Interval 53 (520000 steps performed)\n",
            " 4997/10000 [=============>................] - ETA: 3:16 - reward: 0.0194\n",
            "[Checkpoint] Pesos guardados en: /content/gdrive/My Drive/08_MIAR/actividades/proyecto practico/models/modelo1/checkpoints/dqn_SpaceInvaders-v0_weights_1275000.h5f\n",
            "\n",
            "[Checkpoint] Memoria guardada de forma segura en: /content/gdrive/My Drive/08_MIAR/actividades/proyecto practico/models/modelo1/checkpoints/memory.pkl\n",
            "10000/10000 [==============================] - 548s 55ms/step - reward: 0.0180\n",
            "10 episodes - episode_reward: 17.800 [14.000, 24.000] - loss: 0.412 - mae: 0.542 - mean_q: 1.653 - mean_eps: 0.100 - ale.lives: 1.849\n",
            "\n",
            "Interval 54 (530000 steps performed)\n",
            "10000/10000 [==============================] - 402s 40ms/step - reward: 0.0186\n",
            "12 episodes - episode_reward: 16.750 [11.000, 23.000] - loss: 0.404 - mae: 0.538 - mean_q: 1.653 - mean_eps: 0.100 - ale.lives: 1.938\n",
            "\n",
            "Interval 55 (540000 steps performed)\n",
            " 9997/10000 [============================>.] - ETA: 0s - reward: 0.0163\n",
            "[Checkpoint] Pesos guardados en: /content/gdrive/My Drive/08_MIAR/actividades/proyecto practico/models/modelo1/checkpoints/dqn_SpaceInvaders-v0_weights_1300000.h5f\n",
            "\n",
            "[Checkpoint] Memoria guardada de forma segura en: /content/gdrive/My Drive/08_MIAR/actividades/proyecto practico/models/modelo1/checkpoints/memory.pkl\n",
            "10000/10000 [==============================] - 426s 43ms/step - reward: 0.0163\n",
            "10 episodes - episode_reward: 16.300 [13.000, 20.000] - loss: 0.395 - mae: 0.536 - mean_q: 1.656 - mean_eps: 0.100 - ale.lives: 1.984\n",
            "\n",
            "Interval 56 (550000 steps performed)\n",
            "10000/10000 [==============================] - 528s 53ms/step - reward: 0.0193\n",
            "12 episodes - episode_reward: 16.000 [12.000, 20.000] - loss: 0.390 - mae: 0.533 - mean_q: 1.655 - mean_eps: 0.100 - ale.lives: 2.053\n",
            "\n",
            "Interval 57 (560000 steps performed)\n",
            "10000/10000 [==============================] - 389s 39ms/step - reward: 0.0209\n",
            "12 episodes - episode_reward: 16.250 [13.000, 22.000] - loss: 0.379 - mae: 0.529 - mean_q: 1.654 - mean_eps: 0.100 - ale.lives: 2.029\n",
            "\n",
            "Interval 58 (570000 steps performed)\n",
            " 4997/10000 [=============>................] - ETA: 3:10 - reward: 0.0180\n",
            "[Checkpoint] Pesos guardados en: /content/gdrive/My Drive/08_MIAR/actividades/proyecto practico/models/modelo1/checkpoints/dqn_SpaceInvaders-v0_weights_1325000.h5f\n",
            "\n",
            "[Checkpoint] Memoria guardada de forma segura en: /content/gdrive/My Drive/08_MIAR/actividades/proyecto practico/models/modelo1/checkpoints/memory.pkl\n",
            "10000/10000 [==============================] - 424s 42ms/step - reward: 0.0160\n",
            "11 episodes - episode_reward: 14.818 [6.000, 23.000] - loss: 0.370 - mae: 0.525 - mean_q: 1.653 - mean_eps: 0.100 - ale.lives: 2.085\n",
            "\n",
            "Interval 59 (580000 steps performed)\n",
            "10000/10000 [==============================] - 399s 40ms/step - reward: 0.0185\n",
            "11 episodes - episode_reward: 16.273 [13.000, 22.000] - loss: 0.364 - mae: 0.523 - mean_q: 1.653 - mean_eps: 0.100 - ale.lives: 1.922\n",
            "\n",
            "Interval 60 (590000 steps performed)\n",
            " 9997/10000 [============================>.] - ETA: 0s - reward: 0.0190\n",
            "[Checkpoint] Pesos guardados en: /content/gdrive/My Drive/08_MIAR/actividades/proyecto practico/models/modelo1/checkpoints/dqn_SpaceInvaders-v0_weights_1350000.h5f\n",
            "\n",
            "[Checkpoint] Memoria guardada de forma segura en: /content/gdrive/My Drive/08_MIAR/actividades/proyecto practico/models/modelo1/checkpoints/memory.pkl\n",
            "10000/10000 [==============================] - 422s 42ms/step - reward: 0.0190\n",
            "12 episodes - episode_reward: 17.167 [12.000, 21.000] - loss: 0.359 - mae: 0.521 - mean_q: 1.652 - mean_eps: 0.100 - ale.lives: 2.014\n",
            "\n",
            "Interval 61 (600000 steps performed)\n",
            "10000/10000 [==============================] - 518s 52ms/step - reward: 0.0189\n",
            "10 episodes - episode_reward: 17.800 [10.000, 23.000] - loss: 0.346 - mae: 0.517 - mean_q: 1.651 - mean_eps: 0.100 - ale.lives: 2.014\n",
            "\n",
            "Interval 62 (610000 steps performed)\n",
            "10000/10000 [==============================] - 378s 38ms/step - reward: 0.0210\n",
            "12 episodes - episode_reward: 17.083 [12.000, 22.000] - loss: 0.343 - mae: 0.514 - mean_q: 1.651 - mean_eps: 0.100 - ale.lives: 1.926\n",
            "\n",
            "Interval 63 (620000 steps performed)\n",
            " 4997/10000 [=============>................] - ETA: 3:12 - reward: 0.0194\n",
            "[Checkpoint] Pesos guardados en: /content/gdrive/My Drive/08_MIAR/actividades/proyecto practico/models/modelo1/checkpoints/dqn_SpaceInvaders-v0_weights_1375000.h5f\n",
            "\n",
            "[Checkpoint] Memoria guardada de forma segura en: /content/gdrive/My Drive/08_MIAR/actividades/proyecto practico/models/modelo1/checkpoints/memory.pkl\n",
            "10000/10000 [==============================] - 425s 43ms/step - reward: 0.0191\n",
            "12 episodes - episode_reward: 16.750 [14.000, 20.000] - loss: 0.339 - mae: 0.513 - mean_q: 1.651 - mean_eps: 0.100 - ale.lives: 2.097\n",
            "\n",
            "Interval 64 (630000 steps performed)\n",
            "10000/10000 [==============================] - 395s 40ms/step - reward: 0.0176\n",
            "11 episodes - episode_reward: 15.545 [10.000, 20.000] - loss: 0.330 - mae: 0.510 - mean_q: 1.650 - mean_eps: 0.100 - ale.lives: 1.981\n",
            "\n",
            "Interval 65 (640000 steps performed)\n",
            " 9997/10000 [============================>.] - ETA: 0s - reward: 0.0212\n",
            "[Checkpoint] Pesos guardados en: /content/gdrive/My Drive/08_MIAR/actividades/proyecto practico/models/modelo1/checkpoints/dqn_SpaceInvaders-v0_weights_1400000.h5f\n",
            "\n",
            "[Checkpoint] Memoria guardada de forma segura en: /content/gdrive/My Drive/08_MIAR/actividades/proyecto practico/models/modelo1/checkpoints/memory.pkl\n",
            "10000/10000 [==============================] - 429s 43ms/step - reward: 0.0212\n",
            "13 episodes - episode_reward: 16.462 [13.000, 21.000] - loss: 0.324 - mae: 0.507 - mean_q: 1.650 - mean_eps: 0.100 - ale.lives: 1.998\n",
            "\n",
            "Interval 66 (650000 steps performed)\n",
            "10000/10000 [==============================] - 516s 52ms/step - reward: 0.0165\n",
            "10 episodes - episode_reward: 16.700 [13.000, 21.000] - loss: 0.315 - mae: 0.505 - mean_q: 1.651 - mean_eps: 0.100 - ale.lives: 2.055\n",
            "\n",
            "Interval 67 (660000 steps performed)\n",
            "10000/10000 [==============================] - 384s 38ms/step - reward: 0.0196\n",
            "12 episodes - episode_reward: 15.750 [11.000, 21.000] - loss: 0.312 - mae: 0.504 - mean_q: 1.651 - mean_eps: 0.100 - ale.lives: 1.984\n",
            "\n",
            "Interval 68 (670000 steps performed)\n",
            " 4997/10000 [=============>................] - ETA: 3:13 - reward: 0.0164\n",
            "[Checkpoint] Pesos guardados en: /content/gdrive/My Drive/08_MIAR/actividades/proyecto practico/models/modelo1/checkpoints/dqn_SpaceInvaders-v0_weights_1425000.h5f\n",
            "\n",
            "[Checkpoint] Memoria guardada de forma segura en: /content/gdrive/My Drive/08_MIAR/actividades/proyecto practico/models/modelo1/checkpoints/memory.pkl\n",
            "10000/10000 [==============================] - 432s 43ms/step - reward: 0.0177\n",
            "11 episodes - episode_reward: 17.545 [10.000, 24.000] - loss: 0.307 - mae: 0.501 - mean_q: 1.652 - mean_eps: 0.100 - ale.lives: 1.780\n",
            "\n",
            "Interval 69 (680000 steps performed)\n",
            "10000/10000 [==============================] - 381s 38ms/step - reward: 0.0166\n",
            "9 episodes - episode_reward: 16.889 [10.000, 21.000] - loss: 0.296 - mae: 0.497 - mean_q: 1.649 - mean_eps: 0.100 - ale.lives: 1.904\n",
            "\n",
            "Interval 70 (690000 steps performed)\n",
            " 9997/10000 [============================>.] - ETA: 0s - reward: 0.0200\n",
            "[Checkpoint] Pesos guardados en: /content/gdrive/My Drive/08_MIAR/actividades/proyecto practico/models/modelo1/checkpoints/dqn_SpaceInvaders-v0_weights_1450000.h5f\n",
            "\n",
            "[Checkpoint] Memoria guardada de forma segura en: /content/gdrive/My Drive/08_MIAR/actividades/proyecto practico/models/modelo1/checkpoints/memory.pkl\n",
            "10000/10000 [==============================] - 546s 55ms/step - reward: 0.0200\n",
            "13 episodes - episode_reward: 15.923 [11.000, 20.000] - loss: 0.294 - mae: 0.497 - mean_q: 1.650 - mean_eps: 0.100 - ale.lives: 1.982\n",
            "\n",
            "Interval 71 (700000 steps performed)\n",
            "10000/10000 [==============================] - 384s 38ms/step - reward: 0.0182\n",
            "10 episodes - episode_reward: 17.200 [12.000, 24.000] - loss: 0.289 - mae: 0.494 - mean_q: 1.651 - mean_eps: 0.100 - ale.lives: 1.952\n",
            "\n",
            "Interval 72 (710000 steps performed)\n",
            "10000/10000 [==============================] - 386s 39ms/step - reward: 0.0167\n",
            "9 episodes - episode_reward: 18.556 [15.000, 23.000] - loss: 0.282 - mae: 0.491 - mean_q: 1.651 - mean_eps: 0.100 - ale.lives: 1.859\n",
            "\n",
            "Interval 73 (720000 steps performed)\n",
            " 4997/10000 [=============>................] - ETA: 6:03 - reward: 0.0178\n",
            "[Checkpoint] Pesos guardados en: /content/gdrive/My Drive/08_MIAR/actividades/proyecto practico/models/modelo1/checkpoints/dqn_SpaceInvaders-v0_weights_1475000.h5f\n",
            "\n",
            "[Checkpoint] Memoria guardada de forma segura en: /content/gdrive/My Drive/08_MIAR/actividades/proyecto practico/models/modelo1/checkpoints/memory.pkl\n",
            "10000/10000 [==============================] - 590s 59ms/step - reward: 0.0175\n",
            "10 episodes - episode_reward: 17.500 [14.000, 24.000] - loss: 0.274 - mae: 0.488 - mean_q: 1.650 - mean_eps: 0.100 - ale.lives: 1.918\n",
            "\n",
            "Interval 74 (730000 steps performed)\n",
            "10000/10000 [==============================] - 420s 42ms/step - reward: 0.0173\n",
            "10 episodes - episode_reward: 18.100 [14.000, 23.000] - loss: 0.270 - mae: 0.488 - mean_q: 1.651 - mean_eps: 0.100 - ale.lives: 1.960\n",
            "\n",
            "Interval 75 (740000 steps performed)\n",
            " 9997/10000 [============================>.] - ETA: 0s - reward: 0.0196\n",
            "[Checkpoint] Pesos guardados en: /content/gdrive/My Drive/08_MIAR/actividades/proyecto practico/models/modelo1/checkpoints/dqn_SpaceInvaders-v0_weights_1500000.h5f\n",
            "\n",
            "[Checkpoint] Memoria guardada de forma segura en: /content/gdrive/My Drive/08_MIAR/actividades/proyecto practico/models/modelo1/checkpoints/memory.pkl\n",
            "10000/10000 [==============================] - 610s 61ms/step - reward: 0.0196\n",
            "12 episodes - episode_reward: 16.167 [11.000, 20.000] - loss: 0.266 - mae: 0.486 - mean_q: 1.649 - mean_eps: 0.100 - ale.lives: 2.041\n",
            "\n",
            "Interval 76 (750000 steps performed)\n",
            "10000/10000 [==============================] - 388s 39ms/step - reward: 0.0171\n",
            "11 episodes - episode_reward: 15.727 [10.000, 21.000] - loss: 0.256 - mae: 0.482 - mean_q: 1.649 - mean_eps: 0.100 - ale.lives: 2.067\n",
            "\n",
            "Interval 77 (760000 steps performed)\n",
            "10000/10000 [==============================] - 576s 58ms/step - reward: 0.0164\n",
            "12 episodes - episode_reward: 13.750 [8.000, 19.000] - loss: 0.253 - mae: 0.481 - mean_q: 1.647 - mean_eps: 0.100 - ale.lives: 2.010\n",
            "\n",
            "Interval 78 (770000 steps performed)\n",
            " 4997/10000 [=============>................] - ETA: 3:18 - reward: 0.0176\n",
            "[Checkpoint] Pesos guardados en: /content/gdrive/My Drive/08_MIAR/actividades/proyecto practico/models/modelo1/checkpoints/dqn_SpaceInvaders-v0_weights_1525000.h5f\n",
            "\n",
            "[Checkpoint] Memoria guardada de forma segura en: /content/gdrive/My Drive/08_MIAR/actividades/proyecto practico/models/modelo1/checkpoints/memory.pkl\n",
            "10000/10000 [==============================] - 438s 44ms/step - reward: 0.0182\n",
            "10 episodes - episode_reward: 17.900 [11.000, 21.000] - loss: 0.246 - mae: 0.478 - mean_q: 1.648 - mean_eps: 0.100 - ale.lives: 2.042\n",
            "\n",
            "Interval 79 (780000 steps performed)\n",
            "10000/10000 [==============================] - 420s 42ms/step - reward: 0.0201\n",
            "13 episodes - episode_reward: 15.615 [10.000, 19.000] - loss: 0.246 - mae: 0.477 - mean_q: 1.648 - mean_eps: 0.100 - ale.lives: 2.012\n",
            "\n",
            "Interval 80 (790000 steps performed)\n",
            " 9997/10000 [============================>.] - ETA: 0s - reward: 0.0155\n",
            "[Checkpoint] Pesos guardados en: /content/gdrive/My Drive/08_MIAR/actividades/proyecto practico/models/modelo1/checkpoints/dqn_SpaceInvaders-v0_weights_1550000.h5f\n",
            "\n",
            "[Checkpoint] Memoria guardada de forma segura en: /content/gdrive/My Drive/08_MIAR/actividades/proyecto practico/models/modelo1/checkpoints/memory.pkl\n",
            "10000/10000 [==============================] - 610s 61ms/step - reward: 0.0155\n",
            "10 episodes - episode_reward: 16.400 [14.000, 20.000] - loss: 0.239 - mae: 0.475 - mean_q: 1.652 - mean_eps: 0.100 - ale.lives: 1.837\n",
            "\n",
            "Interval 81 (800000 steps performed)\n",
            "10000/10000 [==============================] - 414s 41ms/step - reward: 0.0169\n",
            "10 episodes - episode_reward: 16.200 [13.000, 21.000] - loss: 0.234 - mae: 0.473 - mean_q: 1.646 - mean_eps: 0.100 - ale.lives: 1.992\n",
            "\n",
            "Interval 82 (810000 steps performed)\n",
            "10000/10000 [==============================] - 592s 59ms/step - reward: 0.0181\n",
            "10 episodes - episode_reward: 17.700 [14.000, 23.000] - loss: 0.233 - mae: 0.472 - mean_q: 1.648 - mean_eps: 0.100 - ale.lives: 1.812\n",
            "\n",
            "Interval 83 (820000 steps performed)\n",
            " 4997/10000 [=============>................] - ETA: 3:27 - reward: 0.0146\n",
            "[Checkpoint] Pesos guardados en: /content/gdrive/My Drive/08_MIAR/actividades/proyecto practico/models/modelo1/checkpoints/dqn_SpaceInvaders-v0_weights_1575000.h5f\n",
            "\n",
            "[Checkpoint] Memoria guardada de forma segura en: /content/gdrive/My Drive/08_MIAR/actividades/proyecto practico/models/modelo1/checkpoints/memory.pkl\n",
            "10000/10000 [==============================] - 450s 45ms/step - reward: 0.0162\n",
            "10 episodes - episode_reward: 17.000 [12.000, 21.000] - loss: 0.222 - mae: 0.469 - mean_q: 1.648 - mean_eps: 0.100 - ale.lives: 1.881\n",
            "\n",
            "Interval 84 (830000 steps performed)\n",
            "10000/10000 [==============================] - 637s 64ms/step - reward: 0.0169\n",
            "10 episodes - episode_reward: 16.300 [11.000, 20.000] - loss: 0.222 - mae: 0.468 - mean_q: 1.648 - mean_eps: 0.100 - ale.lives: 1.891\n",
            "\n",
            "Interval 85 (840000 steps performed)\n",
            " 9997/10000 [============================>.] - ETA: 0s - reward: 0.0165\n",
            "[Checkpoint] Pesos guardados en: /content/gdrive/My Drive/08_MIAR/actividades/proyecto practico/models/modelo1/checkpoints/dqn_SpaceInvaders-v0_weights_1600000.h5f\n",
            "\n",
            "[Checkpoint] Memoria guardada de forma segura en: /content/gdrive/My Drive/08_MIAR/actividades/proyecto practico/models/modelo1/checkpoints/memory.pkl\n",
            "10000/10000 [==============================] - 455s 46ms/step - reward: 0.0165\n",
            "10 episodes - episode_reward: 16.500 [10.000, 21.000] - loss: 0.216 - mae: 0.467 - mean_q: 1.647 - mean_eps: 0.100 - ale.lives: 2.067\n",
            "\n",
            "Interval 86 (850000 steps performed)\n",
            "10000/10000 [==============================] - 412s 41ms/step - reward: 0.0197\n",
            "12 episodes - episode_reward: 16.500 [13.000, 21.000] - loss: 0.210 - mae: 0.464 - mean_q: 1.647 - mean_eps: 0.100 - ale.lives: 2.015\n",
            "\n",
            "Interval 87 (860000 steps performed)\n",
            "10000/10000 [==============================] - 583s 58ms/step - reward: 0.0172\n",
            "12 episodes - episode_reward: 13.833 [11.000, 20.000] - loss: 0.210 - mae: 0.464 - mean_q: 1.646 - mean_eps: 0.100 - ale.lives: 2.027\n",
            "\n",
            "Interval 88 (870000 steps performed)\n",
            " 4997/10000 [=============>................] - ETA: 3:31 - reward: 0.0192\n",
            "[Checkpoint] Pesos guardados en: /content/gdrive/My Drive/08_MIAR/actividades/proyecto practico/models/modelo1/checkpoints/dqn_SpaceInvaders-v0_weights_1625000.h5f\n",
            "\n",
            "[Checkpoint] Memoria guardada de forma segura en: /content/gdrive/My Drive/08_MIAR/actividades/proyecto practico/models/modelo1/checkpoints/memory.pkl\n",
            "10000/10000 [==============================] - 455s 45ms/step - reward: 0.0183\n",
            "12 episodes - episode_reward: 15.667 [8.000, 24.000] - loss: 0.201 - mae: 0.460 - mean_q: 1.647 - mean_eps: 0.100 - ale.lives: 1.982\n",
            "\n",
            "Interval 89 (880000 steps performed)\n",
            "10000/10000 [==============================] - 420s 42ms/step - reward: 0.0198\n",
            "12 episodes - episode_reward: 16.500 [12.000, 19.000] - loss: 0.200 - mae: 0.460 - mean_q: 1.647 - mean_eps: 0.100 - ale.lives: 2.055\n",
            "\n",
            "Interval 90 (890000 steps performed)\n",
            " 9997/10000 [============================>.] - ETA: 0s - reward: 0.0194\n",
            "[Checkpoint] Pesos guardados en: /content/gdrive/My Drive/08_MIAR/actividades/proyecto practico/models/modelo1/checkpoints/dqn_SpaceInvaders-v0_weights_1650000.h5f\n",
            "\n",
            "[Checkpoint] Memoria guardada de forma segura en: /content/gdrive/My Drive/08_MIAR/actividades/proyecto practico/models/modelo1/checkpoints/memory.pkl\n",
            "10000/10000 [==============================] - 645s 65ms/step - reward: 0.0194\n",
            "12 episodes - episode_reward: 16.417 [11.000, 21.000] - loss: 0.194 - mae: 0.458 - mean_q: 1.648 - mean_eps: 0.100 - ale.lives: 1.975\n",
            "\n",
            "Interval 91 (900000 steps performed)\n",
            "10000/10000 [==============================] - 428s 43ms/step - reward: 0.0170\n",
            "10 episodes - episode_reward: 16.500 [11.000, 22.000] - loss: 0.191 - mae: 0.457 - mean_q: 1.645 - mean_eps: 0.100 - ale.lives: 1.957\n",
            "\n",
            "Interval 92 (910000 steps performed)\n",
            "10000/10000 [==============================] - 620s 62ms/step - reward: 0.0164\n",
            "10 episodes - episode_reward: 17.400 [12.000, 27.000] - loss: 0.187 - mae: 0.456 - mean_q: 1.646 - mean_eps: 0.100 - ale.lives: 1.903\n",
            "\n",
            "Interval 93 (920000 steps performed)\n",
            " 4997/10000 [=============>................] - ETA: 3:35 - reward: 0.0166\n",
            "[Checkpoint] Pesos guardados en: /content/gdrive/My Drive/08_MIAR/actividades/proyecto practico/models/modelo1/checkpoints/dqn_SpaceInvaders-v0_weights_1675000.h5f\n",
            "\n",
            "[Checkpoint] Memoria guardada de forma segura en: /content/gdrive/My Drive/08_MIAR/actividades/proyecto practico/models/modelo1/checkpoints/memory.pkl\n",
            "10000/10000 [==============================] - 476s 48ms/step - reward: 0.0169\n",
            "10 episodes - episode_reward: 16.900 [11.000, 25.000] - loss: 0.183 - mae: 0.454 - mean_q: 1.649 - mean_eps: 0.100 - ale.lives: 1.861\n",
            "\n",
            "Interval 94 (930000 steps performed)\n",
            "10000/10000 [==============================] - 430s 43ms/step - reward: 0.0185\n",
            "11 episodes - episode_reward: 15.545 [10.000, 19.000] - loss: 0.176 - mae: 0.451 - mean_q: 1.646 - mean_eps: 0.100 - ale.lives: 2.010\n",
            "\n",
            "Interval 95 (940000 steps performed)\n",
            " 9997/10000 [============================>.] - ETA: 0s - reward: 0.0167\n",
            "[Checkpoint] Pesos guardados en: /content/gdrive/My Drive/08_MIAR/actividades/proyecto practico/models/modelo1/checkpoints/dqn_SpaceInvaders-v0_weights_1700000.h5f\n",
            "\n",
            "[Checkpoint] Memoria guardada de forma segura en: /content/gdrive/My Drive/08_MIAR/actividades/proyecto practico/models/modelo1/checkpoints/memory.pkl\n",
            "10000/10000 [==============================] - 641s 64ms/step - reward: 0.0167\n",
            "10 episodes - episode_reward: 17.100 [14.000, 22.000] - loss: 0.176 - mae: 0.450 - mean_q: 1.647 - mean_eps: 0.100 - ale.lives: 1.993\n",
            "\n",
            "Interval 96 (950000 steps performed)\n",
            "10000/10000 [==============================] - 452s 45ms/step - reward: 0.0177\n",
            "11 episodes - episode_reward: 17.091 [12.000, 21.000] - loss: 0.173 - mae: 0.448 - mean_q: 1.648 - mean_eps: 0.100 - ale.lives: 1.992\n",
            "\n",
            "Interval 97 (960000 steps performed)\n",
            "10000/10000 [==============================] - 602s 60ms/step - reward: 0.0187\n",
            "11 episodes - episode_reward: 15.818 [10.000, 20.000] - loss: 0.167 - mae: 0.447 - mean_q: 1.649 - mean_eps: 0.100 - ale.lives: 2.014\n",
            "\n",
            "Interval 98 (970000 steps performed)\n",
            " 4997/10000 [=============>................] - ETA: 3:41 - reward: 0.0152\n",
            "[Checkpoint] Pesos guardados en: /content/gdrive/My Drive/08_MIAR/actividades/proyecto practico/models/modelo1/checkpoints/dqn_SpaceInvaders-v0_weights_1725000.h5f\n",
            "\n",
            "[Checkpoint] Memoria guardada de forma segura en: /content/gdrive/My Drive/08_MIAR/actividades/proyecto practico/models/modelo1/checkpoints/memory.pkl\n",
            "10000/10000 [==============================] - 484s 48ms/step - reward: 0.0156\n",
            "10 episodes - episode_reward: 16.100 [13.000, 21.000] - loss: 0.168 - mae: 0.447 - mean_q: 1.649 - mean_eps: 0.100 - ale.lives: 2.009\n",
            "\n",
            "Interval 99 (980000 steps performed)\n",
            "10000/10000 [==============================] - 640s 64ms/step - reward: 0.0222\n",
            "13 episodes - episode_reward: 16.769 [13.000, 20.000] - loss: 0.165 - mae: 0.446 - mean_q: 1.647 - mean_eps: 0.100 - ale.lives: 2.015\n",
            "\n",
            "Interval 100 (990000 steps performed)\n",
            " 9997/10000 [============================>.] - ETA: 0s - reward: 0.0155\n",
            "[Checkpoint] Pesos guardados en: /content/gdrive/My Drive/08_MIAR/actividades/proyecto practico/models/modelo1/checkpoints/dqn_SpaceInvaders-v0_weights_1750000.h5f\n",
            "\n",
            "[Checkpoint] Memoria guardada de forma segura en: /content/gdrive/My Drive/08_MIAR/actividades/proyecto practico/models/modelo1/checkpoints/memory.pkl\n",
            "10000/10000 [==============================] - 495s 50ms/step - reward: 0.0155\n",
            "done, took 44847.468 seconds\n"
          ]
        }
      ],
      "source": [
        "# ENTRENAR DQN\n",
        "if TRAIN_STEPS>0:\n",
        "  dqn.fit(env, callbacks=callbacks, nb_steps=TRAIN_STEPS-last_checkpoint_steps, log_interval=LOG_INTERVAL, visualize=False)\n",
        "  dqn.save_weights(weights_filename, overwrite=True)"
      ]
    },
    {
      "cell_type": "code",
      "execution_count": 44,
      "metadata": {
        "id": "OHYryKd1Gb2b",
        "outputId": "cf7d86ae-ab74-4723-8367-ffadc582e464",
        "tags": [],
        "colab": {
          "base_uri": "https://localhost:8080/"
        }
      },
      "outputs": [
        {
          "output_type": "stream",
          "name": "stdout",
          "text": [
            "Testing for 10 episodes ...\n"
          ]
        },
        {
          "output_type": "stream",
          "name": "stderr",
          "text": [
            "/usr/local/lib/python3.11/dist-packages/keras/engine/training_v1.py:2359: UserWarning: `Model.state_updates` will be removed in a future version. This property should not be used in TensorFlow 2.0, as `updates` are applied automatically.\n",
            "  updates=self.state_updates,\n"
          ]
        },
        {
          "output_type": "stream",
          "name": "stdout",
          "text": [
            "Episode 1: reward: 19.000, steps: 722\n",
            "Episode 2: reward: 19.000, steps: 724\n",
            "Episode 3: reward: 19.000, steps: 717\n",
            "Episode 4: reward: 19.000, steps: 718\n",
            "Episode 5: reward: 19.000, steps: 709\n",
            "Episode 6: reward: 18.000, steps: 721\n",
            "Episode 7: reward: 19.000, steps: 712\n",
            "Episode 8: reward: 19.000, steps: 724\n",
            "Episode 9: reward: 19.000, steps: 729\n",
            "Episode 10: reward: 19.000, steps: 718\n"
          ]
        },
        {
          "output_type": "execute_result",
          "data": {
            "text/plain": [
              "<keras.callbacks.History at 0x7b2928dab2d0>"
            ]
          },
          "metadata": {},
          "execution_count": 44
        }
      ],
      "source": [
        "# Testing part to calculate the mean reward\n",
        "weights_filename =os.path.join(WEIGHTS_DIR, 'dqn_{}_weights_{}.h5f'.format(env_name, model_name))\n",
        "#weights_filename=latest_checkpoint\n",
        "#print(weights_filename)\n",
        "dqn.load_weights(weights_filename)\n",
        "dqn.test(env, nb_episodes=10, visualize=False)"
      ]
    },
    {
      "cell_type": "code",
      "execution_count": 61,
      "metadata": {
        "id": "m1ne1WCO5ISG",
        "colab": {
          "base_uri": "https://localhost:8080/",
          "height": 543
        },
        "outputId": "32b92317-7206-4480-c57f-c9861e3d83ff"
      },
      "outputs": [
        {
          "output_type": "stream",
          "name": "stdout",
          "text": [
            "[INFO] Último valor en 'fixed_steps': 1273947\n",
            "[INFO] Gráfica guardada en: /content/gdrive/My Drive/08_MIAR/actividades/proyecto practico/models/modelo1/modelo1_episode_reward_fixed_steps.png\n"
          ]
        },
        {
          "output_type": "display_data",
          "data": {
            "text/plain": [
              "<Figure size 1000x500 with 1 Axes>"
            ],
            "image/png": "[encoded data removed]"
          },
          "metadata": {}
        }
      ],
      "source": [
        " graph_training_csv(log_csv_path, MODEL_DIR, model_name)"
      ]
    },
    {
      "cell_type": "markdown",
      "metadata": {
        "id": "73g2U2Ik5ISA",
        "tags": []
      },
      "source": [
        "# MODELO 2"
      ]
    },
    {
      "cell_type": "markdown",
      "metadata": {
        "id": "lXkQ9km05ISB",
        "tags": []
      },
      "source": [
        "### Red neuronal basada en el paper: [https://arxiv.org/abs/1511.06581](https://arxiv.org/abs/1511.06581)\n",
        "\n",
        "**Dueling Network Architectures for Deep Reinforcement Learning**\n",
        "**Autores:** Ziyu Wang, Tom Schaul, Matteo Hessel, Hado van Hasselt, Marc Lanctot, Nando de Freitas.\n",
        "**Año de publicación:** 2015"
      ]
    },
    {
      "cell_type": "markdown",
      "source": [
        "El término \"Duel DQN\" o \"Dueling DQN\" (DQN con redes en duelo) se refiere a una arquitectura específica de la red neuronal dentro del marco de DQN (o Double DQN, como estamos discutiendo). No son \"redes separadas\" en el sentido de la red online y la red target, sino una **modificación a la capa de salida de una única red Q** que luego se duplica para formar la red online y la red target.\n",
        "\n",
        "La idea principal de Dueling DQN es que la función Q se puede descomponer en dos componentes:\n",
        "\n",
        "1.  **Valor del estado (V(s))**: Cuánto de bueno es estar en un estado dado, independientemente de la acción.\n",
        "2.  **Ventaja de la acción (A(s, a))**: Cuánto mejor (o peor) es tomar una acción específica en ese estado en comparación con el promedio de las acciones.\n",
        "\n",
        "Así, la función Q se estima como:\n",
        "\n",
        "$Q(s, a; \\theta, \\alpha, \\beta) = V(s; \\theta, \\beta) + (A(s, a; \\theta, \\alpha) - \\frac{1}{|\\mathcal{A}|} \\sum_{a'} A(s, a'; \\theta, \\alpha))$\n",
        "\n",
        "Donde:\n",
        "* $\\theta$: Parámetros de las capas convolucionales (comunes a ambos flujos).\n",
        "* $\\alpha$: Parámetros de la capa densa de ventaja.\n",
        "* $\\beta$: Parámetros de la capa densa de valor.\n",
        "* $|\\mathcal{A}|$: Número de acciones.\n",
        "\n",
        "Esto permite que la red aprenda la importancia de los estados por separado de la importancia de cada acción."
      ],
      "metadata": {
        "id": "_xmRuF8ndGcs"
      }
    },
    {
      "cell_type": "markdown",
      "source": [
        "El paper original donde se introdujo la arquitectura Dueling Network (la base de Dueling DQN) es:\n",
        "\n",
        "**Título:** **Dueling Network Architectures for Deep Reinforcement Learning**\n",
        "**Autores:** Ziyu Wang, Tom Schaul, Matteo Hessel, Hado van Hasselt, Marc Lanctot, Nando de Freitas.\n",
        "**Año de publicación:** 2015\n",
        "**Enlace (arXiv):** [https://arxiv.org/abs/1511.06581](https://arxiv.org/abs/1511.06581)\n",
        "\n",
        "Este es el documento fundamental que describe la idea de descomponer la función de valor Q en un valor de estado ($V(s)$) y una función de ventaja de acción ($A(s,a)$), y cómo combinarlos en una única arquitectura de red neuronal. Es un paper de Google DeepMind y ha sido muy influyente en el campo del Aprendizaje por Refuerzo Profundo.\n",
        "\n",
        "Te recomiendo leerlo para entender a fondo la intuición detrás de la arquitectura y sus beneficios."
      ],
      "metadata": {
        "id": "OhVkW025ccnY"
      }
    },
    {
      "cell_type": "markdown",
      "metadata": {
        "id": "Ibl40JjrJgAV"
      },
      "source": [
        "Describir la NN"
      ]
    },
    {
      "cell_type": "markdown",
      "metadata": {
        "id": "EnKB7Ku-J9xN"
      },
      "source": [
        "#### Con las siguientes modificaciones:\n",
        "\n",
        "Modificaciones..."
      ]
    },
    {
      "cell_type": "markdown",
      "metadata": {
        "id": "9haPoA8_J9xN"
      },
      "source": [
        "## DQN\n",
        "DQN implementado basándose en ..."
      ]
    },
    {
      "cell_type": "markdown",
      "metadata": {
        "id": "np4nwhGdJ9xO"
      },
      "source": [
        "1. Implementación de la red neuronal"
      ]
    },
    {
      "cell_type": "code",
      "execution_count": null,
      "metadata": {
        "outputId": "0c7bd71c-4b90-4729-a1c6-d3c22dc454f2",
        "tags": [],
        "colab": {
          "base_uri": "https://localhost:8080/"
        },
        "id": "3jU5kpR5J9xO"
      },
      "outputs": [
        {
          "output_type": "stream",
          "name": "stdout",
          "text": [
            "\n",
            "Resumen de la Red Dueling DQN: modelo2\n",
            "Model: \"modelo2\"\n",
            "__________________________________________________________________________________________________\n",
            " Layer (type)                   Output Shape         Param #     Connected to                     \n",
            "==================================================================================================\n",
            " Input_Frames (InputLayer)      [(None, 4, 84, 84)]  0           []                               \n",
            "                                                                                                  \n",
            " Permute_Channels (Permute)     (None, 84, 84, 4)    0           ['Input_Frames[0][0]']           \n",
            "                                                                                                  \n",
            " Normalize_Pixels (Lambda)      (None, 84, 84, 4)    0           ['Permute_Channels[0][0]']       \n",
            "                                                                                                  \n",
            " Conv1 (Conv2D)                 (None, 20, 20, 32)   8224        ['Normalize_Pixels[0][0]']       \n",
            "                                                                                                  \n",
            " BN1 (BatchNormalization)       (None, 20, 20, 32)   128         ['Conv1[0][0]']                  \n",
            "                                                                                                  \n",
            " ReLU1 (Activation)             (None, 20, 20, 32)   0           ['BN1[0][0]']                    \n",
            "                                                                                                  \n",
            " Conv2 (Conv2D)                 (None, 9, 9, 64)     32832       ['ReLU1[0][0]']                  \n",
            "                                                                                                  \n",
            " BN2 (BatchNormalization)       (None, 9, 9, 64)     256         ['Conv2[0][0]']                  \n",
            "                                                                                                  \n",
            " ReLU2 (Activation)             (None, 9, 9, 64)     0           ['BN2[0][0]']                    \n",
            "                                                                                                  \n",
            " Conv3 (Conv2D)                 (None, 7, 7, 64)     36928       ['ReLU2[0][0]']                  \n",
            "                                                                                                  \n",
            " BN3 (BatchNormalization)       (None, 7, 7, 64)     256         ['Conv3[0][0]']                  \n",
            "                                                                                                  \n",
            " ReLU3 (Activation)             (None, 7, 7, 64)     0           ['BN3[0][0]']                    \n",
            "                                                                                                  \n",
            " Flatten_Layer (Flatten)        (None, 3136)         0           ['ReLU3[0][0]']                  \n",
            "                                                                                                  \n",
            " Value_Dense (Dense)            (None, 512)          1606144     ['Flatten_Layer[0][0]']          \n",
            "                                                                                                  \n",
            " Advantage_Dense (Dense)        (None, 512)          1606144     ['Flatten_Layer[0][0]']          \n",
            "                                                                                                  \n",
            " Value_ReLU (Activation)        (None, 512)          0           ['Value_Dense[0][0]']            \n",
            "                                                                                                  \n",
            " Advantage_ReLU (Activation)    (None, 512)          0           ['Advantage_Dense[0][0]']        \n",
            "                                                                                                  \n",
            " Value_Output (Dense)           (None, 1)            513         ['Value_ReLU[0][0]']             \n",
            "                                                                                                  \n",
            " Advantage_Output (Dense)       (None, 6)            3078        ['Advantage_ReLU[0][0]']         \n",
            "                                                                                                  \n",
            " Q_Value_Combined (Lambda)      (None, 6)            0           ['Value_Output[0][0]',           \n",
            "                                                                  'Advantage_Output[0][0]']       \n",
            "                                                                                                  \n",
            "==================================================================================================\n",
            "Total params: 3,294,503\n",
            "Trainable params: 3,294,183\n",
            "Non-trainable params: 320\n",
            "__________________________________________________________________________________________________\n"
          ]
        }
      ],
      "source": [
        "model_name = \"modelo2\"\n",
        "\n",
        "# --- 2. Construcción del Modelo Dueling DQN con API Funcional ---\n",
        "\n",
        "# Define la forma de entrada para el modelo\n",
        "input_layer_shape = (WINDOW_LENGTH,) + INPUT_SHAPE\n",
        "\n",
        "# Definimos la capa de entrada del modelo\n",
        "inputs = Input(shape=input_layer_shape, name='Input_Frames')\n",
        "\n",
        "# Reorganizar las imágenes para que el window length quede en la dimensión de los canales\n",
        "if K.image_data_format() == 'channels_last':\n",
        "    x = Permute((2, 3, 1), name='Permute_Channels')(inputs)\n",
        "elif K.image_data_format() == 'channels_first':\n",
        "    # Si ya es (BATCH, CHANNELS, H, W), no necesitamos permutar si INPUT_SHAPE ya incluye el canal.\n",
        "    # Pero si INPUT_SHAPE es solo (H,W) y WINDOW_LENGTH es el canal, Permute es correcto.\n",
        "    # Si la entrada es (WINDOW_LENGTH, H, W) y queremos (WINDOW_LENGTH, H, W), esta línea es redundante\n",
        "    # o puede causar problemas si Keras espera (CHANNELS, H, W)\n",
        "    # Sin embargo, para consistencia con tu original:\n",
        "    x = Permute((1, 2, 3), name='Permute_Channels')(inputs) # Asumiendo que WINDOW_LENGTH es el primer \"canal\"\n",
        "else:\n",
        "    raise RuntimeError('Unknown image_data_format.')\n",
        "\n",
        "# Normalizar los valores de píxeles\n",
        "x = Lambda(lambda x: x / 255.0, name='Normalize_Pixels')(x)\n",
        "\n",
        "# Capas convolucionales\n",
        "# Conv1\n",
        "x = Convolution2D(32, (8, 8), strides=(4, 4), name='Conv1')(x)\n",
        "x = BatchNormalization(name='BN1')(x)\n",
        "x = Activation('relu', name='ReLU1')(x)\n",
        "\n",
        "# Conv2\n",
        "x = Convolution2D(64, (4, 4), strides=(2, 2), name='Conv2')(x)\n",
        "x = BatchNormalization(name='BN2')(x)\n",
        "x = Activation('relu', name='ReLU2')(x)\n",
        "\n",
        "# Conv3\n",
        "x = Convolution2D(64, (3, 3), strides=(1, 1), name='Conv3')(x)\n",
        "x = BatchNormalization(name='BN3')(x)\n",
        "x = Activation('relu', name='ReLU3')(x)\n",
        "\n",
        "# Aplanar la salida de las capas convolucionales antes de las capas densas\n",
        "flattened_output = Flatten(name='Flatten_Layer')(x)\n",
        "\n",
        "# --- Ramificación Dueling DQN ---\n",
        "\n",
        "# 1. Stream para la estimación del Valor (V(s))\n",
        "# Una capa densa seguida de una salida de un solo valor para el estado\n",
        "value_stream = Dense(512, name='Value_Dense')(flattened_output)\n",
        "value_stream = Activation('relu', name='Value_ReLU')(value_stream)\n",
        "value = Dense(1, activation='linear', name='Value_Output')(value_stream) # Salida de valor escalar\n",
        "\n",
        "# 2. Stream para la estimación de la Ventaja (A(s,a))\n",
        "# Una capa densa seguida de salidas para cada acción\n",
        "advantage_stream = Dense(512, name='Advantage_Dense')(flattened_output)\n",
        "advantage_stream = Activation('relu', name='Advantage_ReLU')(advantage_stream)\n",
        "advantage = Dense(nb_actions, activation='linear', name='Advantage_Output')(advantage_stream) # Salida de ventaja para cada acción\n",
        "\n",
        "# Combinación de Valor y Ventaja para obtener Q(s,a)\n",
        "# Q(s,a) = V(s) + (A(s,a) - mean(A(s,a')))\n",
        "# Utilizamos una capa Lambda para esta operación.\n",
        "# K.mean(a[1], axis=1, keepdims=True) calcula el promedio de las ventajas para todas las acciones\n",
        "# `keepdims=True` asegura que la forma se mantenga compatible para la resta\n",
        "output_q_values = Lambda(lambda a: a[0] + (a[1] - K.mean(a[1], axis=1, keepdims=True)),\n",
        "                         output_shape=(nb_actions,), name='Q_Value_Combined')([value, advantage])\n",
        "\n",
        "# Crea el modelo final con las entradas y salidas definidas\n",
        "model = Model(inputs=inputs, outputs=output_q_values, name=model_name)\n",
        "\n",
        "# Muestra un resumen de la arquitectura de la red\n",
        "print(f\"\\nResumen de la Red Dueling DQN: {model_name}\")\n",
        "model.summary()"
      ]
    },
    {
      "cell_type": "markdown",
      "metadata": {
        "id": "wTIIRs1bJ9xO"
      },
      "source": [
        "2. Implementación de la solución DQN"
      ]
    },
    {
      "cell_type": "code",
      "source": [
        "# GENERACIÓN O CARGA MODELO\n",
        "MODEL_DIR, WEIGHTS_DIR, CHECKPOINTS_DIR = get_dirs(model_name)\n",
        "load_hyperparams(model_name)\n",
        "\n",
        "# Añado los hiperparametros para el modelo dueling\n",
        "hiperparametros[\"ENABLE_DOUBLE_DQN\"] = True\n",
        "hiperparametros[\"ENABLE_DUELING_NETWORK\"] = False\n",
        "\n",
        "# Guardar cambios\n",
        "save_hyperparams(model_name)\n",
        "\n",
        "# Volver a cargar para crear las variables globales nuevas\n",
        "load_hyperparams(model_name)"
      ],
      "metadata": {
        "id": "8aYOJ-MCYy_X",
        "outputId": "eedfee92-ac86-4358-d46f-09e57191fc01",
        "colab": {
          "base_uri": "https://localhost:8080/"
        }
      },
      "execution_count": null,
      "outputs": [
        {
          "output_type": "stream",
          "name": "stdout",
          "text": [
            "[INFO] Hiperparámetros cargados desde /content/gdrive/My Drive/08_MIAR/actividades/proyecto practico/models/modelo2/modelo2.json\n",
            "[INFO] Hiperparámetros guardados en /content/gdrive/My Drive/08_MIAR/actividades/proyecto practico/models/modelo2/modelo2.json\n",
            "[INFO] Hiperparámetros cargados desde /content/gdrive/My Drive/08_MIAR/actividades/proyecto practico/models/modelo2/modelo2.json\n"
          ]
        }
      ]
    },
    {
      "cell_type": "code",
      "execution_count": null,
      "metadata": {
        "tags": [],
        "id": "Xjm2NtxkJ9xP"
      },
      "outputs": [],
      "source": [
        "memory = SequentialMemory(limit=MEMORY_SIZE, window_length=WINDOW_LENGTH)\n",
        "processor = AtariProcessor()\n",
        "policy = LinearAnnealedPolicy(EpsGreedyQPolicy(), attr='eps',\n",
        "                              value_max=1., value_min=.1,\n",
        "                              value_test=.05,\n",
        "                              nb_steps=SCHEDULER_STEPS)"
      ]
    },
    {
      "cell_type": "code",
      "execution_count": null,
      "metadata": {
        "tags": [],
        "id": "E9mNDvVvJ9xP"
      },
      "outputs": [],
      "source": [
        "dqn = DQNAgent(model=model,\n",
        "                     nb_actions=nb_actions,\n",
        "                     policy=policy,\n",
        "                     memory=memory,\n",
        "                     processor=processor,\n",
        "                     nb_steps_warmup=WARMUP_STEPS,\n",
        "                     gamma=GAMMA,\n",
        "                     target_model_update=MODEL_UPDATE,\n",
        "                     train_interval=4,          # Entrena cada 4 pasos de entorno\n",
        "                     delta_clip=DELTA_CLIP,            # Clipping del error para mejorar la estabilidad\n",
        "                     enable_double_dqn=True,    # Activa Double DQN\n",
        "                     enable_dueling_network=False) # Deja esto en False porque ya la construimos manualmente\n",
        "\n",
        "if IN_COLAB:\n",
        "    # Parche para evitar el error 'get_updates' que ya no existe\n",
        "    def patched_get_updates(self, loss, params):\n",
        "        return []\n",
        "    Adam.get_updates = patched_get_updates\n",
        "\n",
        "# Compilo con el agente el modelo\n",
        "dqn.compile(Adam(learning_rate=LEARNING_RATE), metrics=['mae'])"
      ]
    },
    {
      "cell_type": "code",
      "source": [
        "weights_filename = os.path.join(WEIGHTS_DIR, 'dqn_{}_weights_{}.h5f'.format(env_name, model_name))\n",
        "checkpoint_weights_filename = os.path.join(CHECKPOINTS_DIR, 'dqn_' + env_name + '_weights_{step}.h5f')\n",
        "log_filename =os.path.join(MODEL_DIR, 'dqn_{}_log_{}.json'.format(env_name, model_name))\n",
        "log_csv_path = os.path.join(MODEL_DIR, f'{model_name}_training_log.csv')\n"
      ],
      "metadata": {
        "id": "vY5KFvrgJ9xP"
      },
      "execution_count": null,
      "outputs": []
    },
    {
      "cell_type": "code",
      "execution_count": null,
      "metadata": {
        "tags": [],
        "colab": {
          "base_uri": "https://localhost:8080/"
        },
        "outputId": "3562ca53-af7f-4030-97a5-d9ce50923be5",
        "id": "uQe1Y5n5J9xP"
      },
      "outputs": [
        {
          "output_type": "stream",
          "name": "stdout",
          "text": [
            "[DQN] Cargando último checkpoint: /content/gdrive/My Drive/08_MIAR/actividades/proyecto practico/models/modelo2/checkpoints/dqn_SpaceInvaders-v0_weights_50000.h5f\n",
            "Callback iniciado desde paso 50000\n",
            "Steps que llevaba el modelo entrenado: 50000\n"
          ]
        }
      ],
      "source": [
        "last_checkpoint_steps = load_last_checkpoint()\n",
        "\n",
        "# Custom callback for checkpoints to restart from the last one\n",
        "checkpoint_callback = AccumulatedCheckpoint(\n",
        "      base_path=checkpoint_weights_filename,\n",
        "      interval=MODEL_CHECKPOINT_STEPS,\n",
        "      initial_step=last_checkpoint_steps\n",
        "  )\n",
        "callbacks = [checkpoint_callback]\n",
        "dqn.step = last_checkpoint_steps\n",
        "print(\"Steps que llevaba el modelo entrenado:\", dqn.step)\n",
        "callbacks += [EpisodeLoggerCSV(log_csv_path)]"
      ]
    },
    {
      "cell_type": "code",
      "execution_count": null,
      "metadata": {
        "outputId": "75a86243-7a4b-4f39-e6b9-b3523010e7d2",
        "tags": [],
        "colab": {
          "base_uri": "https://localhost:8080/"
        },
        "id": "A4dLJryCJ9xP"
      },
      "outputs": [
        {
          "output_type": "stream",
          "name": "stdout",
          "text": [
            "Training for 1700000 steps ...\n",
            "Interval 1 (0 steps performed)\n",
            "10000/10000 [==============================] - 71s 7ms/step - reward: 0.0141\n",
            "14 episodes - episode_reward: 9.500 [6.000, 15.000] - ale.lives: 2.090\n",
            "\n",
            "Interval 2 (10000 steps performed)\n",
            "10000/10000 [==============================] - 70s 7ms/step - reward: 0.0130\n",
            "15 episodes - episode_reward: 8.600 [4.000, 17.000] - ale.lives: 2.098\n",
            "\n",
            "Interval 3 (20000 steps performed)\n",
            " 4999/10000 [=============>................] - ETA: 27s - reward: 0.0120\n",
            "[Checkpoint] Guardado en paso 75000: /content/gdrive/My Drive/08_MIAR/actividades/proyecto practico/models/modelo2/checkpoints/dqn_SpaceInvaders-v0_weights_75000.h5f\n",
            "10000/10000 [==============================] - 56s 6ms/step - reward: 0.0138\n",
            "14 episodes - episode_reward: 10.000 [5.000, 16.000] - ale.lives: 2.037\n",
            "\n",
            "Interval 4 (30000 steps performed)\n",
            "10000/10000 [==============================] - 59s 6ms/step - reward: 0.0142\n",
            "14 episodes - episode_reward: 10.643 [3.000, 27.000] - ale.lives: 2.117\n",
            "\n",
            "Interval 5 (40000 steps performed)\n",
            " 9989/10000 [============================>.] - ETA: 0s - reward: 0.0134\n",
            "[Checkpoint] Guardado en paso 100000: /content/gdrive/My Drive/08_MIAR/actividades/proyecto practico/models/modelo2/checkpoints/dqn_SpaceInvaders-v0_weights_100000.h5f\n",
            "10000/10000 [==============================] - 64s 6ms/step - reward: 0.0134\n",
            "16 episodes - episode_reward: 8.062 [4.000, 12.000] - ale.lives: 2.103\n",
            "\n",
            "Interval 6 (50000 steps performed)\n",
            "10000/10000 [==============================] - 485s 49ms/step - reward: 0.0131\n",
            "15 episodes - episode_reward: 8.933 [2.000, 19.000] - loss: 0.316 - mae: 0.670 - mean_q: 1.080 - mean_eps: 0.951 - ale.lives: 2.218\n",
            "\n",
            "Interval 7 (60000 steps performed)\n",
            "10000/10000 [==============================] - 491s 49ms/step - reward: 0.0148\n",
            "14 episodes - episode_reward: 10.500 [4.000, 19.000] - loss: 0.502 - mae: 0.701 - mean_q: 1.078 - mean_eps: 0.942 - ale.lives: 2.264\n",
            "\n",
            "Interval 8 (70000 steps performed)\n",
            " 4901/10000 [=============>................] - ETA: 4:10 - reward: 0.0131"
          ]
        }
      ],
      "source": [
        "# ENTRENAR DUEL DQN\n",
        "if TRAIN_STEPS>0:\n",
        "  dqn.fit(env, callbacks=callbacks, nb_steps=TRAIN_STEPS-last_checkpoint_steps, log_interval=LOG_INTERVAL, visualize=False)\n",
        "  dqn.save_weights(weights_filename, overwrite=True)"
      ]
    },
    {
      "cell_type": "code",
      "execution_count": null,
      "metadata": {
        "outputId": "9c101f8a-6995-44aa-941e-b10b4eb1ca69",
        "tags": [],
        "colab": {
          "base_uri": "https://localhost:8080/"
        },
        "id": "jUqvHLz6J9xP"
      },
      "outputs": [
        {
          "output_type": "stream",
          "name": "stdout",
          "text": [
            "/content/gdrive/My Drive/08_MIAR/actividades/proyecto practico/models/modelo1/checkpoints/dqn_SpaceInvaders-v0_weights_275000.h5f\n",
            "Testing for 10 episodes ...\n",
            "Episode 1: reward: 16.000, steps: 1010\n",
            "Episode 2: reward: 11.000, steps: 881\n",
            "Episode 3: reward: 11.000, steps: 805\n",
            "Episode 4: reward: 23.000, steps: 1452\n",
            "Episode 5: reward: 17.000, steps: 974\n",
            "Episode 6: reward: 15.000, steps: 1015\n",
            "Episode 7: reward: 17.000, steps: 955\n",
            "Episode 8: reward: 23.000, steps: 1492\n",
            "Episode 9: reward: 17.000, steps: 962\n",
            "Episode 10: reward: 12.000, steps: 856\n"
          ]
        },
        {
          "output_type": "execute_result",
          "data": {
            "text/plain": [
              "<keras.callbacks.History at 0x7dcdf2748390>"
            ]
          },
          "metadata": {},
          "execution_count": 19
        }
      ],
      "source": [
        "# Testing part to calculate the mean reward\n",
        "weights_filename =os.path.join(WEIGHTS_DIR, 'dqn_{}_weights_{}.h5f'.format(env_name, model_name))\n",
        "dqn.load_weights(latest_checkpoint)\n",
        "dqn.test(env, nb_episodes=10, visualize=False)"
      ]
    },
    {
      "cell_type": "code",
      "execution_count": null,
      "metadata": {
        "id": "XKN06jPeJ9xP",
        "colab": {
          "base_uri": "https://localhost:8080/"
        },
        "outputId": "96fa1245-6f7f-4d86-9b57-30f355df90df"
      },
      "outputs": [
        {
          "output_type": "stream",
          "name": "stdout",
          "text": [
            " La variable 'mean_q' no está en el CSV. Columnas disponibles: ['1', '6.0', '420', 'Unnamed: 3']\n"
          ]
        }
      ],
      "source": [
        " graph_training_csv(log_csv_path, MODEL_DIR, model_name, 'mean_q')"
      ]
    },
    {
      "cell_type": "code",
      "source": [],
      "metadata": {
        "id": "zx74265OJpy0"
      },
      "execution_count": null,
      "outputs": []
    },
    {
      "cell_type": "markdown",
      "metadata": {
        "id": "-NAlu8b1Gb2b"
      },
      "source": [
        "3. Justificación de los parámetros seleccionados y de los resultados obtenidos"
      ]
    },
    {
      "cell_type": "markdown",
      "metadata": {
        "id": "ANFQiicXK3sO"
      },
      "source": [
        "---"
      ]
    }
  ],
  "metadata": {
    "accelerator": "GPU",
    "colab": {
      "gpuType": "T4",
      "provenance": [],
      "machine_shape": "hm"
    },
    "kernelspec": {
      "display_name": ".conda-rl-env:Python",
      "language": "python",
      "name": "conda-env-.conda-rl-env-py"
    },
    "language_info": {
      "codemirror_mode": {
        "name": "ipython",
        "version": 3
      },
      "file_extension": ".py",
      "mimetype": "text/x-python",
      "name": "python",
      "nbconvert_exporter": "python",
      "pygments_lexer": "ipython3",
      "version": "3.8.20"
    }
  },
  "nbformat": 4,
  "nbformat_minor": 0
}